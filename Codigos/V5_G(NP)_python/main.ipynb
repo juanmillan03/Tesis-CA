{
 "cells": [
  {
   "cell_type": "code",
   "execution_count": 26,
   "metadata": {},
   "outputs": [],
   "source": [
    "import numpy as np\n",
    "import matplotlib.pyplot as plt\n",
    "import subprocess\n",
    "import seaborn as sns\n",
    "from scipy.signal import butter,filtfilt,welch\n",
    "from scipy import signal\n",
    "import optuna\n",
    "import numpy as np  \n",
    "import optuna.visualization as vis\n",
    "import plotly"
   ]
  },
  {
   "cell_type": "code",
   "execution_count": 27,
   "metadata": {},
   "outputs": [],
   "source": [
    "def Regular_1(L,Inh):\n",
    "    L2=L*L\n",
    "    Matrix=np.zeros((L2,L2),int)\n",
    "    rng=np.random.default_rng(seed=1)\n",
    "    for i in range(L):\n",
    "        for j in range(L):\n",
    "            ia=i\n",
    "            ji=j\n",
    "            id=i\n",
    "            jd=j\n",
    "            if ia+1==L:\n",
    "                ia=-1\n",
    "            if id==0:\n",
    "                id=L\n",
    "            if jd+1==L:\n",
    "                jd=-1\n",
    "            if ji==0:\n",
    "                ji=L\n",
    "            I=rng.uniform(0.0, 1.0)\n",
    "            if I<Inh:\n",
    "                I=0\n",
    "            else :\n",
    "                I=1\n",
    "            Matrix[i*L+j][i*L+jd+1]=1*(2*I-1)## derecha I=0 -1,I=1 1\n",
    "            I=rng.uniform(0.0, 1.0)\n",
    "            if I<Inh:\n",
    "                I=0\n",
    "            else:\n",
    "                I=1\n",
    "            Matrix[i*L+j][i*L+ji-1]=-1*(2*I-1)## izquieda\n",
    "            I=rng.uniform(0.0, 1.0)\n",
    "            if I<Inh:\n",
    "                I=0\n",
    "            else:\n",
    "                I=1\n",
    "            Matrix[i*L+j][(ia+1)*L+j]=-1*(2*I-1)## arriba \n",
    "            I=rng.uniform(0.0, 1.0)\n",
    "            if I<Inh:\n",
    "                I=0\n",
    "            else: \n",
    "                I=1\n",
    "            Matrix[i*L+j][(id-1)*L+j]=-1*(2*I-1)# Abajo\n",
    "    return Matrix\n",
    "\n",
    "def small_word_Bi(L,P,Inh):\n",
    "    Matrix=Regular_1(L,Inh)\n",
    "    rng=np.random.default_rng(seed=1)\n",
    "    for i in range(L*L):\n",
    "        for j in range(L*L):\n",
    "            if Matrix[i][j]==1 and rng.uniform(0.0, 1.0)<P:\n",
    "                Matrix[i][j]==0\n",
    "                Matrix[j][i]==0\n",
    "                jj=rng.integers(0,L*L-1)\n",
    "                if jj==i or jj==j:\n",
    "                    jj=rng.integers(0,L*L-1)\n",
    "                    Matrix[jj][i]=2\n",
    "                    Matrix[i][jj]=2\n",
    "                else:\n",
    "                    Matrix[jj][i]=2\n",
    "                    Matrix[i][jj]=2\n",
    "            elif Matrix[i][j]==-1 and rng.uniform(0.0, 1.0)<P:\n",
    "                Matrix[i][j]==0\n",
    "                Matrix[j][i]==0\n",
    "                jj=rng.integers(0,L*L-1)\n",
    "                if jj==i or jj==j:\n",
    "                    jj=rng.integers(0,L*L-1)\n",
    "                    Matrix[jj][i]=-2\n",
    "                    Matrix[i][jj]=-2\n",
    "                else:\n",
    "                    Matrix[jj][i]=-2\n",
    "                    Matrix[i][jj]=-2\n",
    "    for i in range(L*L):\n",
    "        for j in range(L*L):\n",
    "            if Matrix[i][j]==2:\n",
    "                Matrix[i][j]=1\n",
    "                Matrix[j][i]=1\n",
    "            elif Matrix[i][j]==-2:\n",
    "                Matrix[i][j]=-1\n",
    "                Matrix[j][i]=-1\n",
    "    return Matrix\n",
    "\n",
    "def Random_bi(L,  P,  Inh):\n",
    "    matrix=np.zeros((L*L,L*L),int)\n",
    "    rng=np.random.default_rng(seed=1)\n",
    "    for i in range(L*L):\n",
    "        for j in range(L*L):\n",
    "            I=rng.uniform(0.0,1.0)\n",
    "            if I<Inh:\n",
    "                I=0\n",
    "            else:\n",
    "                I=1\n",
    "            if (matrix[i][j]!=1 or matrix[i][j]!=-1) and rng.uniform(0.0,1.0)<P:\n",
    "            \n",
    "                matrix[i][j]=-1*(2*I-1)\n",
    "                matrix[j][i]=-1*(2*I-1)\n",
    "    return matrix   \n",
    "    "
   ]
  },
  {
   "cell_type": "code",
   "execution_count": 28,
   "metadata": {},
   "outputs": [],
   "source": [
    "low_cutoff = 0.01  # Low cut-off frequency (Hz)\n",
    "high_cutoff = 100.0  # High cut-off frequency (Hz)\n",
    "order = 4  # Order of the filter\n",
    "sampling_rate_equipo= 500 \n",
    "b, a = signal.butter(order, [low_cutoff / (0.5 * sampling_rate_equipo), high_cutoff / (0.5 * sampling_rate_equipo)], btype='band')"
   ]
  },
  {
   "cell_type": "code",
   "execution_count": 48,
   "metadata": {},
   "outputs": [],
   "source": [
    "\n",
    "fs = 500  # Sampling rate\n",
    "nperseg = 256  # Segment length\n",
    "noverlap = 128 # Overlap between segments\n",
    "sampling_rate = 2000 ### simulacion \n",
    "\n",
    "def Simulado_EGG(params):\n",
    "    L, P, inhibidoras, trest, trelative, alpha, tmax, type_matrix = params\n",
    "    # Compilación del programa\n",
    "    resultado_compilacion = subprocess.run(\"g++ -O3 main.cpp Matrix_conect.cpp -o main\", shell=True, stdout=subprocess.PIPE, stderr=subprocess.PIPE, text=True)\n",
    "    if resultado_compilacion.returncode != 0:\n",
    "        print(\"Error durante la compilación:\")\n",
    "        print(resultado_compilacion.stderr)\n",
    "        return None\n",
    "    \n",
    "    # Ejecución del programa\n",
    "    resultado_ejecucion = subprocess.run(f\"./main {L} {P} {inhibidoras} {trest} {trelative} {alpha} {tmax} {type_matrix}\", shell=True, stdout=subprocess.PIPE, stderr=subprocess.PIPE, text=True)\n",
    "    if resultado_ejecucion.returncode != 0:\n",
    "        print(\"Error durante la ejecución:\")\n",
    "        print(resultado_ejecucion.stderr)\n",
    "        return None\n",
    "    \n",
    "    # Procesamiento de los datos\n",
    "    lines = resultado_ejecucion.stdout.strip().split('\\n')\n",
    "    data_list = [[float(num) for num in line.split()] for line in lines]\n",
    "    data = np.array(data_list)[30:,1]\n",
    "    data=(data - np.mean(data)) / np.std(data)\n",
    "    n_samples_resampled = int(len(data) * (fs/sampling_rate))\n",
    "    data_resampled = signal.resample(data, n_samples_resampled)\n",
    "    butter = signal.filtfilt(b, a,data_resampled)\n",
    "    frequencies, psd = signal.welch(butter, fs, nperseg=nperseg, noverlap=noverlap)\n",
    "    frequencies=np.array(frequencies)\n",
    "    welch_data = np.array([10 * np.log10(psd[i]+ 1e-10) for i in range(len(frequencies))])\n",
    "    \n",
    "    delta = welch_data[np.logical_and(frequencies >= 1, frequencies <= 3)]\n",
    "    theta = welch_data[np.logical_and(frequencies >= 4, frequencies <= 7)]\n",
    "    alpha = welch_data[np.logical_and(frequencies >= 7, frequencies <= 13)]\n",
    "    beta = welch_data[np.logical_and(frequencies >= 14, frequencies <= 30)]\n",
    "\n",
    "    return {\n",
    "        'data': data,\"data_resample\":data_resampled,\"butter\": butter,\"welch_data\":welch_data,\n",
    "        \"frequencies\": frequencies,\n",
    "        'delta':[delta.mean(),delta.std()],\n",
    "        'theta':[theta.mean(), theta.std()],\n",
    "        'alpha':[ alpha.mean(),alpha.std()],\n",
    "        'beta': [beta.mean(), beta.std()]\n",
    "    }\n",
    "\n"
   ]
  },
  {
   "cell_type": "markdown",
   "metadata": {},
   "source": [
    "# Datos Reales\n",
    "\n",
    " Tanto como los datos reales como lo simulados pueden ser normlaizados(por su maximo), los valores real estan en microvoltios, en la simulacion estan con 0.00070 microvoltios reposo "
   ]
  },
  {
   "cell_type": "code",
   "execution_count": 30,
   "metadata": {},
   "outputs": [],
   "source": [
    "def Datos_reales(nombres):\n",
    "    Datos = np.empty(len(nombres), dtype=object)\n",
    "    welch_datos = np.empty(len(nombres), dtype=object)\n",
    "    Delta = np.empty(len(nombres), dtype=object)\n",
    "    Theta = np.empty(len(nombres), dtype=object)\n",
    "    Alpha = np.empty(len(nombres), dtype=object)\n",
    "    Beta = np.empty(len(nombres), dtype=object)\n",
    "    Nombres=np.empty(len(nombres), dtype=\"U100\")\n",
    "\n",
    "    # Inicialización de arrays para promedios de bandas\n",
    "    main_Delta = np.zeros(2)\n",
    "    main_Theta = np.zeros(2)\n",
    "    main_Alpha = np.zeros(2)\n",
    "    main_Beta = np.zeros(2)\n",
    "    for i, nombre in enumerate(nombres):  \n",
    "        Nombres[i]=nombre  \n",
    "        data = np.loadtxt(nombre)*1e6\n",
    "        data=(data - np.mean(data)) / np.std(data)\n",
    "        Datos[i]=data\n",
    "\n",
    "\n",
    "        frequencies, psd = signal.welch(data, fs, nperseg=nperseg, noverlap=noverlap)\n",
    "\n",
    "\n",
    "        frequencies=np.array(frequencies)\n",
    "\n",
    "        welch_data = np.array([10 * np.log10(psd[i]+ 1e-10) for i in range(len(frequencies))])\n",
    "        welch_datos[i]=welch_data\n",
    "\n",
    "        delta = welch_data[np.logical_and(frequencies >= 1, frequencies <= 3)]\n",
    "        theta = welch_data[np.logical_and(frequencies >= 4, frequencies <= 7)]\n",
    "        alpha = welch_data[np.logical_and(frequencies >= 7, frequencies <= 13)]\n",
    "        beta = welch_data[np.logical_and(frequencies >= 14, frequencies <= 30)]\n",
    "\n",
    "        Delta[i]=[delta.mean(),delta.std()]\n",
    "        Theta[i]=[theta.mean(),theta.std()]\n",
    "        Alpha[i]=[alpha.mean(),alpha.std()]\n",
    "        Beta[i]=[beta.mean(),beta.std()]\n",
    "\n",
    "        main_Delta += np.array([delta.mean(), delta.std()]) / len(nombres)\n",
    "        main_Theta += np.array([theta.mean(), theta.std()]) / len(nombres)\n",
    "        main_Alpha += np.array([alpha.mean(), alpha.std()]) / len(nombres)\n",
    "        main_Beta += np.array([beta.mean(), beta.std()]) / len(nombres)\n",
    "\n",
    "    return {\n",
    "        \"Nombres\":Nombres,\n",
    "        'datos': Datos,   \"welch_data\":welch_datos,\n",
    "        'delta':Delta,'theta':Theta,'alpha':Alpha,'beta':Beta,\n",
    "        'main_Delta': main_Delta,'main_Theta':main_Theta,\"main_Alpha\":main_Alpha,\"main_Beta\":main_Beta\n",
    "    }\n"
   ]
  },
  {
   "cell_type": "code",
   "execution_count": 40,
   "metadata": {},
   "outputs": [],
   "source": [
    "Params={'L': 57, 'P': 0.4965416953500361, 'Inh': 0.1840042178063965, 'Trest': -1.3321936159428258, 'Trelative': 1.8722523128821265, 'C_h': 9.984838343562668, 'Tipo_red': 0}\n",
    "\n",
    "initial_params = [Params[\"L\"], Params[\"P\"],Params[\"Inh\"], Params[\"Trest\"],Params[\"Trelative\"], Params[\"C_h\"] ,8030, Params[\"Tipo_red\"]]\n",
    "generated_data = Simulado_EGG(initial_params)\n",
    "reales_total = Datos_reales([\"P3_MNE.txt\",\"Pz_MNE.txt\",\"P4_MNE.txt\"])"
   ]
  },
  {
   "cell_type": "code",
   "execution_count": 41,
   "metadata": {},
   "outputs": [
    {
     "name": "stdout",
     "output_type": "stream",
     "text": [
      "['P3_MNE.txt' 'Pz_MNE.txt' 'P4_MNE.txt']\n"
     ]
    },
    {
     "data": {
      "image/png": "[encoded data removed]",
      "text/plain": [
       "<Figure size 1200x500 with 1 Axes>"
      ]
     },
     "metadata": {},
     "output_type": "display_data"
    }
   ],
   "source": [
    "fig, ax = plt.subplots(figsize=[12, 5])\n",
    "\n",
    "print(reales_total[\"Nombres\"])\n",
    "ax.plot(generated_data[\"butter\"])\n",
    "for i in range(3):\n",
    "    ax.plot(reales_total[\"datos\"][i], label=reales_total[\"Nombres\"][i])\n",
    "\n",
    "\n",
    "plt.xlabel(\"Pasos de 0.002 segundos\")\n",
    "plt.ylabel(r\"$\\mu V$\")\n",
    "plt.legend()  # Esto añade una leyenda para identificar cada línea\n",
    "plt.grid()\n",
    "plt.show()  # Mostrar todos los gráficos en la misma figura\n"
   ]
  },
  {
   "cell_type": "code",
   "execution_count": 47,
   "metadata": {},
   "outputs": [
    {
     "name": "stdout",
     "output_type": "stream",
     "text": [
      "['P3_MNE.txt' 'Pz_MNE.txt' 'P4_MNE.txt']\n"
     ]
    },
    {
     "data": {
      "image/png": "[encoded data removed]",
      "text/plain": [
       "<Figure size 1200x500 with 1 Axes>"
      ]
     },
     "metadata": {},
     "output_type": "display_data"
    }
   ],
   "source": [
    "fig, ax = plt.subplots(figsize=[12, 5])\n",
    "\n",
    "print(reales_total[\"Nombres\"])\n",
    "ax.plot(generated_data[\"welch_data\"])\n",
    "for i in range(3):\n",
    "    ax.plot(reales_total[\"welch_data\"][i], label=reales_total[\"Nombres\"][i])\n",
    "\n",
    "\n",
    "plt.xlabel(\"Frecuencia\")\n",
    "plt.ylabel(\"psd dB \")\n",
    "plt.legend()  # Esto añade una leyenda para identificar cada línea\n",
    "plt.show()  # Mostrar todos los gráficos en la misma figura\n"
   ]
  },
  {
   "cell_type": "code",
   "execution_count": 34,
   "metadata": {},
   "outputs": [
    {
     "name": "stderr",
     "output_type": "stream",
     "text": [
      "[I 2024-09-25 22:23:39,775] A new study created in RDB with name: 4bandas_full_Normal_z_score\n",
      "/tmp/ipykernel_34001/1570236376.py:27: RuntimeWarning: invalid value encountered in divide\n",
      "  data=(data - np.mean(data)) / np.std(data)\n",
      "[I 2024-09-25 22:23:47,191] Trial 0 finished with value: inf and parameters: {'L': 34, 'P': 0.4172826744438556, 'Inh': 0.19251068764182122, 'Trest': 3.5478424176227854, 'Trelative': 3.6345983740226977, 'C_h': 6.9471584248926375, 'Tipo_red': 1}. Best is trial 0 with value: inf.\n",
      "[I 2024-09-25 22:24:15,798] Trial 1 finished with value: 34.9730268386261 and parameters: {'L': 33, 'P': 0.14047636029783728, 'Inh': 0.41234526055294185, 'Trest': -4.132377679782223, 'Trelative': 2.847781970446155, 'C_h': 1.1956441415683028, 'Tipo_red': 2}. Best is trial 1 with value: 34.9730268386261.\n",
      "[I 2024-09-25 22:24:18,227] Trial 2 finished with value: 33.66870648134443 and parameters: {'L': 22, 'P': 0.9909335706632214, 'Inh': 0.060080928588430615, 'Trest': 1.585829671287911, 'Trelative': 1.755747428076249, 'C_h': 8.657880090590181, 'Tipo_red': 1}. Best is trial 2 with value: 33.66870648134443.\n",
      "[I 2024-09-25 22:24:19,954] Trial 3 finished with value: 31.841984126238508 and parameters: {'L': 13, 'P': 0.2007662976207899, 'Inh': 0.750630854107836, 'Trest': -13.518157515167285, 'Trelative': -9.323635226075186, 'C_h': 3.3517306871912433, 'Tipo_red': 2}. Best is trial 3 with value: 31.841984126238508.\n",
      "[I 2024-09-25 22:24:22,704] Trial 4 finished with value: 30.354923199721696 and parameters: {'L': 25, 'P': 0.09673322135214746, 'Inh': 0.2645115649410571, 'Trest': -0.5284010000200272, 'Trelative': 5.90505064240092, 'C_h': 6.408636965092152, 'Tipo_red': 0}. Best is trial 4 with value: 30.354923199721696.\n",
      "[I 2024-09-25 22:24:47,793] Trial 5 finished with value: 33.66870648134443 and parameters: {'L': 38, 'P': 0.7339887156463342, 'Inh': 0.15730860132706426, 'Trest': 3.2627129991880395, 'Trelative': 4.91512154384367, 'C_h': 4.033298360740494, 'Tipo_red': 2}. Best is trial 4 with value: 30.354923199721696.\n",
      "[I 2024-09-25 22:25:06,692] Trial 6 finished with value: inf and parameters: {'L': 27, 'P': 0.25525815488152903, 'Inh': 0.07985103035098673, 'Trest': 2.107970960590837, 'Trelative': 6.338891789600389, 'C_h': 0.8644371018865371, 'Tipo_red': 2}. Best is trial 4 with value: 30.354923199721696.\n",
      "[I 2024-09-25 22:25:09,763] Trial 7 finished with value: inf and parameters: {'L': 25, 'P': 0.15606306048211116, 'Inh': 0.12969890076869195, 'Trest': 11.716955568323499, 'Trelative': 14.677247614425909, 'C_h': 0.09667776875944334, 'Tipo_red': 1}. Best is trial 4 with value: 30.354923199721696.\n",
      "[I 2024-09-25 22:26:33,161] Trial 8 finished with value: 33.66870648134443 and parameters: {'L': 47, 'P': 0.0867743051021258, 'Inh': 0.5695122954410023, 'Trest': 9.722404995924812, 'Trelative': 11.995416196761775, 'C_h': 1.8068876355226504, 'Tipo_red': 2}. Best is trial 4 with value: 30.354923199721696.\n",
      "[I 2024-09-25 22:26:37,398] Trial 9 finished with value: 29.0728022640791 and parameters: {'L': 34, 'P': 0.7780087576036142, 'Inh': 0.6568224922435576, 'Trest': -10.553466432533927, 'Trelative': -2.5308913563838704, 'C_h': 4.948267864226743, 'Tipo_red': 2}. Best is trial 9 with value: 29.0728022640791.\n",
      "[I 2024-09-25 22:26:46,834] Trial 10 finished with value: 3.1569444962644857 and parameters: {'L': 57, 'P': 0.7341867408876788, 'Inh': 0.9653338731480521, 'Trest': -14.219065519449911, 'Trelative': -12.40750909211986, 'C_h': 9.994863429217624, 'Tipo_red': 0}. Best is trial 10 with value: 3.1569444962644857.\n",
      "[I 2024-09-25 22:26:55,039] Trial 11 finished with value: 3.099122789609992 and parameters: {'L': 55, 'P': 0.7115012807960953, 'Inh': 0.9641301910862582, 'Trest': -14.576955205816937, 'Trelative': -13.025847194752668, 'C_h': 9.648843941023745, 'Tipo_red': 0}. Best is trial 11 with value: 3.099122789609992.\n",
      "[I 2024-09-25 22:27:12,124] Trial 12 finished with value: 45.979447876600666 and parameters: {'L': 60, 'P': 0.6652873549044476, 'Inh': 0.9675814811549209, 'Trest': -7.557190127007782, 'Trelative': -7.520188539606102, 'C_h': 9.406052046837464, 'Tipo_red': 0}. Best is trial 11 with value: 3.099122789609992.\n",
      "[I 2024-09-25 22:27:22,043] Trial 13 finished with value: 7.5405736280612095 and parameters: {'L': 58, 'P': 0.5267195473310871, 'Inh': 0.992431346244452, 'Trest': -14.967472312158336, 'Trelative': -14.321674035433947, 'C_h': 9.913888933868023, 'Tipo_red': 0}. Best is trial 11 with value: 3.099122789609992.\n",
      "[I 2024-09-25 22:27:28,871] Trial 14 finished with value: 9.741743616265346 and parameters: {'L': 51, 'P': 0.9135360780124447, 'Inh': 0.8266975254174872, 'Trest': -8.637821261847872, 'Trelative': -8.629480902773903, 'C_h': 7.857328749798255, 'Tipo_red': 0}. Best is trial 11 with value: 3.099122789609992.\n",
      "[I 2024-09-25 22:27:34,343] Trial 15 finished with value: 35.25283827641953 and parameters: {'L': 48, 'P': 0.5702630541605542, 'Inh': 0.8665233339312328, 'Trest': -4.597453849499276, 'Trelative': -3.7785259361070302, 'C_h': 7.963446589301198, 'Tipo_red': 0}. Best is trial 11 with value: 3.099122789609992.\n",
      "[I 2024-09-25 22:27:41,827] Trial 16 finished with value: 3.004228247268542 and parameters: {'L': 53, 'P': 0.8388971480143348, 'Inh': 0.41896370223463386, 'Trest': -11.139258403656115, 'Trelative': -11.117219386285335, 'C_h': 6.310476606028846, 'Tipo_red': 0}. Best is trial 16 with value: 3.004228247268542.\n",
      "[I 2024-09-25 22:27:46,552] Trial 17 finished with value: 4.253998833154141 and parameters: {'L': 45, 'P': 0.8541162168350328, 'Inh': 0.38518672625270706, 'Trest': -11.552623561736805, 'Trelative': -10.572852459544748, 'C_h': 6.1541776888328945, 'Tipo_red': 1}. Best is trial 16 with value: 3.004228247268542.\n",
      "[I 2024-09-25 22:27:57,097] Trial 18 finished with value: 49.29397669077573 and parameters: {'L': 53, 'P': 0.3903139285157453, 'Inh': 0.5200110282707915, 'Trest': -5.284776503703057, 'Trelative': -3.6602714706568236, 'C_h': 5.509638243401697, 'Tipo_red': 0}. Best is trial 16 with value: 3.004228247268542.\n",
      "[I 2024-09-25 22:28:01,271] Trial 19 finished with value: 14.255038675162709 and parameters: {'L': 43, 'P': 0.6301064709583007, 'Inh': 0.35281127677428403, 'Trest': -10.93014062307207, 'Trelative': -10.440954323487471, 'C_h': 3.1963367668563243, 'Tipo_red': 1}. Best is trial 16 with value: 3.004228247268542.\n",
      "[I 2024-09-25 22:28:12,425] Trial 20 finished with value: 33.66870648134443 and parameters: {'L': 40, 'P': 0.8343824402470378, 'Inh': 0.681049721057543, 'Trest': 8.112811102580503, 'Trelative': 17.40559306389203, 'C_h': 7.451224463553842, 'Tipo_red': 0}. Best is trial 16 with value: 3.004228247268542.\n",
      "[I 2024-09-25 22:28:20,102] Trial 21 finished with value: 3.5590051622772867 and parameters: {'L': 54, 'P': 0.7115288687364961, 'Inh': 0.8736731474886869, 'Trest': -14.060884263381844, 'Trelative': -13.162726482783974, 'C_h': 8.980390083556696, 'Tipo_red': 0}. Best is trial 16 with value: 3.004228247268542.\n",
      "[I 2024-09-25 22:28:28,712] Trial 22 finished with value: 34.08629651408553 and parameters: {'L': 56, 'P': 0.9551960814347817, 'Inh': 0.5836368894206883, 'Trest': -8.206795630414785, 'Trelative': -7.298624638922776, 'C_h': 9.996410120179746, 'Tipo_red': 0}. Best is trial 16 with value: 3.004228247268542.\n",
      "[I 2024-09-25 22:28:35,320] Trial 23 finished with value: 14.056632265451185 and parameters: {'L': 50, 'P': 0.8053932810377376, 'Inh': 0.7826416116135332, 'Trest': -12.159290302947872, 'Trelative': -11.411389961985691, 'C_h': 8.497181456348567, 'Tipo_red': 0}. Best is trial 16 with value: 3.004228247268542.\n",
      "[I 2024-09-25 22:28:46,550] Trial 24 finished with value: 5.165121726579044 and parameters: {'L': 60, 'P': 0.6385072642305762, 'Inh': 0.9345747365417995, 'Trest': -14.518764387940719, 'Trelative': -12.349977351581622, 'C_h': 9.195062530261975, 'Tipo_red': 0}. Best is trial 16 with value: 3.004228247268542.\n",
      "[I 2024-09-25 22:28:54,808] Trial 25 finished with value: 7.432613208991596 and parameters: {'L': 55, 'P': 0.889172286594808, 'Inh': 0.44480665125340146, 'Trest': -9.485773460634258, 'Trelative': -8.125018642340923, 'C_h': 7.145124242632358, 'Tipo_red': 1}. Best is trial 16 with value: 3.004228247268542.\n",
      "[I 2024-09-25 22:28:59,044] Trial 26 finished with value: 27.469725025574157 and parameters: {'L': 43, 'P': 0.44656586666258163, 'Inh': 0.2828035731319175, 'Trest': -6.325978371743909, 'Trelative': -5.112831085156113, 'C_h': 8.197596764611884, 'Tipo_red': 0}. Best is trial 16 with value: 3.004228247268542.\n",
      "[I 2024-09-25 22:29:06,094] Trial 27 finished with value: 40.27913314067305 and parameters: {'L': 51, 'P': 0.7421797036252522, 'Inh': 0.7049000420027438, 'Trest': -2.4407280057512146, 'Trelative': -1.9518434475634017, 'C_h': 4.928045016192609, 'Tipo_red': 1}. Best is trial 16 with value: 3.004228247268542.\n",
      "[I 2024-09-25 22:29:15,109] Trial 28 finished with value: 3.100852980502153 and parameters: {'L': 57, 'P': 0.5920855853929762, 'Inh': 0.9029450430562243, 'Trest': -12.662839711603024, 'Trelative': -11.160862603594763, 'C_h': 9.407620466349991, 'Tipo_red': 0}. Best is trial 16 with value: 3.004228247268542.\n",
      "[I 2024-09-25 22:29:25,228] Trial 29 finished with value: inf and parameters: {'L': 39, 'P': 0.3180234424862306, 'Inh': 0.8873855664037675, 'Trest': 5.757612610739149, 'Trelative': 10.377881546077523, 'C_h': 6.522196904546862, 'Tipo_red': 1}. Best is trial 16 with value: 3.004228247268542.\n",
      "[I 2024-09-25 22:29:31,373] Trial 30 finished with value: 14.089418694493844 and parameters: {'L': 49, 'P': 0.5703454201236653, 'Inh': 0.49464060814386607, 'Trest': -12.509605688856741, 'Trelative': -10.214514200970681, 'C_h': 7.235873814461195, 'Tipo_red': 0}. Best is trial 16 with value: 3.004228247268542.\n",
      "[I 2024-09-25 22:29:41,083] Trial 31 finished with value: 3.2327235827115848 and parameters: {'L': 57, 'P': 0.6756247250632164, 'Inh': 0.9250474698423937, 'Trest': -12.377084118818875, 'Trelative': -11.37043632817612, 'C_h': 9.423724449360995, 'Tipo_red': 0}. Best is trial 16 with value: 3.004228247268542.\n",
      "/tmp/ipykernel_34001/1440277169.py:21: DeprecationWarning: This function is deprecated. Please call randint(0, 2 + 1) instead\n",
      "  params[7] = np.random.random_integers(0, 2)\n",
      "[I 2024-09-25 22:29:51,752] Trial 32 finished with value: 48.9338444136181 and parameters: {'L': 53, 'P': 0.5981591363240826, 'Inh': 0.9994922954753461, 'Trest': -9.925764920020317, 'Trelative': -8.98097505686421, 'C_h': 9.872596891894835, 'Tipo_red': 0}. Best is trial 16 with value: 3.004228247268542.\n",
      "[I 2024-09-25 22:30:32,575] Trial 33 finished with value: 33.66870648134443 and parameters: {'L': 57, 'P': 0.48919096827699815, 'Inh': 0.8254492328317796, 'Trest': 14.709078911552124, 'Trelative': 21.40797883202979, 'C_h': 8.733479417011843, 'Tipo_red': 0}. Best is trial 16 with value: 3.004228247268542.\n",
      "[I 2024-09-25 22:30:34,130] Trial 34 finished with value: 3.666043423363077 and parameters: {'L': 12, 'P': 0.7844526540953952, 'Inh': 0.7620790361584664, 'Trest': -14.96392566724529, 'Trelative': -12.930312926041607, 'C_h': 9.31021382060951, 'Tipo_red': 0}. Best is trial 16 with value: 3.004228247268542.\n",
      "[I 2024-09-25 22:30:44,697] Trial 35 finished with value: 5.165121726579044 and parameters: {'L': 60, 'P': 0.6990575445087054, 'Inh': 0.93788956501574, 'Trest': -12.885691097756304, 'Trelative': -11.821321495792954, 'C_h': 8.496998709725647, 'Tipo_red': 0}. Best is trial 16 with value: 3.004228247268542.\n",
      "[I 2024-09-25 22:30:47,416] Trial 36 finished with value: 44.102900839484576 and parameters: {'L': 30, 'P': 0.9539934592934728, 'Inh': 0.6173418203395995, 'Trest': -2.332812844624163, 'Trelative': -1.991946141908782, 'C_h': 7.7900081863502875, 'Tipo_red': 0}. Best is trial 16 with value: 3.004228247268542.\n",
      "[I 2024-09-25 22:30:55,078] Trial 37 finished with value: 10.19097082790698 and parameters: {'L': 53, 'P': 0.7665336140380982, 'Inh': 0.8361091356777629, 'Trest': -7.435906278484209, 'Trelative': -6.484437517553526, 'C_h': 5.682512188147798, 'Tipo_red': 1}. Best is trial 16 with value: 3.004228247268542.\n",
      "[I 2024-09-25 22:30:56,711] Trial 38 finished with value: 15.17418815025762 and parameters: {'L': 18, 'P': 0.8585973867840148, 'Inh': 0.27197798276472573, 'Trest': -10.408037846166705, 'Trelative': -9.60174674220154, 'C_h': 4.095840395715653, 'Tipo_red': 0}. Best is trial 16 with value: 3.004228247268542.\n",
      "[I 2024-09-25 22:31:01,693] Trial 39 finished with value: 16.46596030560061 and parameters: {'L': 46, 'P': 0.5197554519932585, 'Inh': 0.3433327262082671, 'Trest': -12.799853666200654, 'Trelative': -11.028837886173482, 'C_h': 2.173019779719043, 'Tipo_red': 1}. Best is trial 16 with value: 3.004228247268542.\n",
      "[I 2024-09-25 22:31:11,297] Trial 40 finished with value: 36.684880545305276 and parameters: {'L': 57, 'P': 0.7300191910441212, 'Inh': 0.22448051085177553, 'Trest': -6.4883367421119456, 'Trelative': -5.687369374646142, 'C_h': 6.885817615138695, 'Tipo_red': 0}. Best is trial 16 with value: 3.004228247268542.\n",
      "[I 2024-09-25 22:31:20,822] Trial 41 finished with value: 7.5405736280612095 and parameters: {'L': 58, 'P': 0.6728621123925508, 'Inh': 0.9137086741529211, 'Trest': -13.509222392866679, 'Trelative': -11.993339611357136, 'C_h': 9.204996420344521, 'Tipo_red': 0}. Best is trial 16 with value: 3.004228247268542.\n",
      "[I 2024-09-25 22:31:29,096] Trial 42 finished with value: 18.948725515050917 and parameters: {'L': 55, 'P': 0.6077258995486134, 'Inh': 0.0064436723008652885, 'Trest': -11.271973394662577, 'Trelative': -9.925968253643642, 'C_h': 9.589492828228618, 'Tipo_red': 0}. Best is trial 16 with value: 3.004228247268542.\n",
      "[I 2024-09-25 22:31:36,295] Trial 43 finished with value: 3.7893549542114746 and parameters: {'L': 52, 'P': 0.6803688897666321, 'Inh': 0.9450906737666769, 'Trest': -13.223108622910093, 'Trelative': -12.687057793909245, 'C_h': 8.733582925143205, 'Tipo_red': 0}. Best is trial 16 with value: 3.004228247268542.\n",
      "[I 2024-09-25 22:31:45,544] Trial 44 finished with value: 15.904142448524972 and parameters: {'L': 57, 'P': 0.8236479022264365, 'Inh': 0.9093381550557502, 'Trest': -9.514583812319337, 'Trelative': -8.83541563056599, 'C_h': 9.582059508473758, 'Tipo_red': 0}. Best is trial 16 with value: 3.004228247268542.\n",
      "[I 2024-09-25 22:31:56,523] Trial 45 finished with value: 5.473178000442998 and parameters: {'L': 60, 'P': 0.9962596598853456, 'Inh': 0.7917001299738085, 'Trest': -11.777353771450912, 'Trelative': -10.999707851959492, 'C_h': 8.274176145673412, 'Tipo_red': 0}. Best is trial 16 with value: 3.004228247268542.\n",
      "[I 2024-09-25 22:32:02,306] Trial 46 finished with value: 12.371708370325962 and parameters: {'L': 49, 'P': 0.5516073344360894, 'Inh': 0.7201434188241735, 'Trest': -14.890646244524843, 'Trelative': -13.510585176326423, 'C_h': 7.604003403545853, 'Tipo_red': 0}. Best is trial 16 with value: 3.004228247268542.\n",
      "[I 2024-09-25 22:32:17,971] Trial 47 finished with value: 33.66870648134443 and parameters: {'L': 44, 'P': 0.4829016817865531, 'Inh': 0.969388601596257, 'Trest': 1.1820472616705704, 'Trelative': 1.4081198244445794, 'C_h': 9.073462602108302, 'Tipo_red': 0}. Best is trial 16 with value: 3.004228247268542.\n",
      "[I 2024-09-25 22:32:26,026] Trial 48 finished with value: 11.04705068954317 and parameters: {'L': 55, 'P': 0.6515371151639233, 'Inh': 0.4678600884037517, 'Trest': -13.579600185160668, 'Trelative': -11.449553384692408, 'C_h': 9.672701228526874, 'Tipo_red': 0}. Best is trial 16 with value: 3.004228247268542.\n",
      "[I 2024-09-25 22:32:29,001] Trial 49 finished with value: 7.63698756998454 and parameters: {'L': 37, 'P': 0.9067143900011099, 'Inh': 0.8264071196949433, 'Trest': -9.003268489893753, 'Trelative': -8.352984324236964, 'C_h': 4.341683217706498, 'Tipo_red': 1}. Best is trial 16 with value: 3.004228247268542.\n",
      "[I 2024-09-25 22:32:34,525] Trial 50 finished with value: 15.703650539607672 and parameters: {'L': 47, 'P': 0.026504577855275047, 'Inh': 0.8603074823229903, 'Trest': -11.030426984086828, 'Trelative': -10.003216355811384, 'C_h': 3.176883856557165, 'Tipo_red': 0}. Best is trial 16 with value: 3.004228247268542.\n",
      "[I 2024-09-25 22:32:42,322] Trial 51 finished with value: 3.5590051622772867 and parameters: {'L': 54, 'P': 0.7148850130482104, 'Inh': 0.8833590006450266, 'Trest': -14.101878875710907, 'Trelative': -13.39850836040173, 'C_h': 8.905668786681604, 'Tipo_red': 0}. Best is trial 16 with value: 3.004228247268542.\n",
      "[I 2024-09-25 22:32:48,788] Trial 52 finished with value: 6.18498266329729 and parameters: {'L': 51, 'P': 0.7300632795101656, 'Inh': 0.9538973340489997, 'Trest': -12.611610329445456, 'Trelative': -11.87465255533, 'C_h': 8.946713950579966, 'Tipo_red': 0}. Best is trial 16 with value: 3.004228247268542.\n",
      "[I 2024-09-25 22:33:16,566] Trial 53 finished with value: 29.07298678849699 and parameters: {'L': 58, 'P': 0.7719878315799699, 'Inh': 0.9971275473976244, 'Trest': -13.921049939654761, 'Trelative': -13.877939025404572, 'C_h': 9.427946582490387, 'Tipo_red': 2}. Best is trial 16 with value: 3.004228247268542.\n",
      "[I 2024-09-25 22:33:24,562] Trial 54 finished with value: 6.803210098511825 and parameters: {'L': 54, 'P': 0.608393492658251, 'Inh': 0.8998374382104316, 'Trest': -11.198493643872371, 'Trelative': -10.645431830325325, 'C_h': 9.984629432605105, 'Tipo_red': 0}. Best is trial 16 with value: 3.004228247268542.\n",
      "[I 2024-09-25 22:33:35,186] Trial 55 finished with value: 5.905883124076964 and parameters: {'L': 59, 'P': 0.7014965907536421, 'Inh': 0.8656361783264925, 'Trest': -11.963486116916698, 'Trelative': -11.170807955054359, 'C_h': 8.154714472939057, 'Tipo_red': 0}. Best is trial 16 with value: 3.004228247268542.\n",
      "[I 2024-09-25 22:33:44,699] Trial 56 finished with value: 31.8388407767022 and parameters: {'L': 56, 'P': 0.8612862355005906, 'Inh': 0.40240425151999326, 'Trest': -7.98062319477236, 'Trelative': -7.623085307702157, 'C_h': 8.467573893710863, 'Tipo_red': 0}. Best is trial 16 with value: 3.004228247268542.\n",
      "[I 2024-09-25 22:33:48,704] Trial 57 finished with value: 19.61148458768094 and parameters: {'L': 41, 'P': 0.8082138248987447, 'Inh': 0.782131807408387, 'Trest': -9.903880670187503, 'Trelative': -9.394313404574877, 'C_h': 9.518730383037056, 'Tipo_red': 0}. Best is trial 16 with value: 3.004228247268542.\n",
      "[I 2024-09-25 22:33:54,650] Trial 58 finished with value: 13.917453604829745 and parameters: {'L': 49, 'P': 0.3889215376908194, 'Inh': 0.5325753216349259, 'Trest': -13.79543030457489, 'Trelative': -12.652750665266257, 'C_h': 9.026086296013407, 'Tipo_red': 0}. Best is trial 16 with value: 3.004228247268542.\n",
      "[I 2024-09-25 22:34:02,097] Trial 59 finished with value: 4.011116148054568 and parameters: {'L': 53, 'P': 0.6481849230681604, 'Inh': 0.6472989406507519, 'Trest': -14.812899483582932, 'Trelative': -14.725058970231922, 'C_h': 8.056748480908254, 'Tipo_red': 0}. Best is trial 16 with value: 3.004228247268542.\n",
      "[I 2024-09-25 22:34:04,291] Trial 60 finished with value: 33.66870648134443 and parameters: {'L': 19, 'P': 0.7605328522282977, 'Inh': 0.923409915045021, 'Trest': 4.678597957099473, 'Trelative': 4.821056183291859, 'C_h': 6.285725602288713, 'Tipo_red': 0}. Best is trial 16 with value: 3.004228247268542.\n",
      "[I 2024-09-25 22:34:12,747] Trial 61 finished with value: 3.099122789609992 and parameters: {'L': 55, 'P': 0.7095507491052685, 'Inh': 0.8642282731237976, 'Trest': -13.79991659649191, 'Trelative': -13.317776333173338, 'C_h': 8.916132611471026, 'Tipo_red': 0}. Best is trial 16 with value: 3.004228247268542.\n",
      "[I 2024-09-25 22:34:19,480] Trial 62 finished with value: 6.897895589772985 and parameters: {'L': 51, 'P': 0.5708098144070799, 'Inh': 0.9697245928847247, 'Trest': -12.115785258481228, 'Trelative': -11.52460232550064, 'C_h': 9.676661141610587, 'Tipo_red': 0}. Best is trial 16 with value: 3.004228247268542.\n",
      "[I 2024-09-25 22:34:28,388] Trial 63 finished with value: 4.478285135936061 and parameters: {'L': 56, 'P': 0.6873901615034395, 'Inh': 0.8536405069791363, 'Trest': -13.519759562543998, 'Trelative': -12.49745685464291, 'C_h': 8.76696160507548, 'Tipo_red': 0}. Best is trial 16 with value: 3.004228247268542.\n",
      "[I 2024-09-25 22:34:38,208] Trial 64 finished with value: 12.236483511887599 and parameters: {'L': 58, 'P': 0.800090266793993, 'Inh': 0.9734702995909127, 'Trest': -10.769949621533554, 'Trelative': -10.317078228591, 'C_h': 9.975451857606428, 'Tipo_red': 0}. Best is trial 16 with value: 3.004228247268542.\n",
      "[I 2024-09-25 22:34:46,710] Trial 65 finished with value: 3.5574289805453096 and parameters: {'L': 55, 'P': 0.6260196908349948, 'Inh': 0.8007479062546684, 'Trest': -12.727337762570766, 'Trelative': -12.137308039691584, 'C_h': 9.274112142169722, 'Tipo_red': 0}. Best is trial 16 with value: 3.004228247268542.\n",
      "[I 2024-09-25 22:34:49,155] Trial 66 finished with value: 4.458787122550034 and parameters: {'L': 32, 'P': 0.6210998852893508, 'Inh': 0.8041860462452225, 'Trest': -12.667077219854082, 'Trelative': -12.246978605983033, 'C_h': 9.306570948602925, 'Tipo_red': 0}. Best is trial 16 with value: 3.004228247268542.\n",
      "[I 2024-09-25 22:34:59,408] Trial 67 finished with value: 17.240286428275688 and parameters: {'L': 59, 'P': 0.5835570899412063, 'Inh': 0.7297507110517447, 'Trest': -8.973583961985724, 'Trelative': -8.59046003578246, 'C_h': 0.18143341988766348, 'Tipo_red': 0}. Best is trial 16 with value: 3.004228247268542.\n",
      "[I 2024-09-25 22:35:06,255] Trial 68 finished with value: 4.13700784087571 and parameters: {'L': 52, 'P': 0.7425557071266329, 'Inh': 0.7588117759270331, 'Trest': -10.034432136908881, 'Trelative': -9.626177109367848, 'C_h': 8.410447961719338, 'Tipo_red': 0}. Best is trial 16 with value: 3.004228247268542.\n",
      "[I 2024-09-25 22:35:14,868] Trial 69 finished with value: 6.556754205040646 and parameters: {'L': 55, 'P': 0.6531602281264658, 'Inh': 0.9240699338618935, 'Trest': -7.0576929746661206, 'Trelative': -6.814848192595845, 'C_h': 5.849312833692725, 'Tipo_red': 1}. Best is trial 16 with value: 3.004228247268542.\n",
      "[I 2024-09-25 22:35:19,838] Trial 70 finished with value: 39.25268973619489 and parameters: {'L': 47, 'P': 0.8346264490702375, 'Inh': 0.35845190198904553, 'Trest': -4.963147798983361, 'Trelative': -4.717702274345873, 'C_h': 7.641156607303492, 'Tipo_red': 0}. Best is trial 16 with value: 3.004228247268542.\n",
      "[I 2024-09-25 22:35:27,702] Trial 71 finished with value: 3.5590051622772867 and parameters: {'L': 54, 'P': 0.5483924639297221, 'Inh': 0.8756310644837403, 'Trest': -14.126431775435071, 'Trelative': -13.01230292707967, 'C_h': 9.103893356069502, 'Tipo_red': 0}. Best is trial 16 with value: 3.004228247268542.\n",
      "[I 2024-09-25 22:35:36,720] Trial 72 finished with value: 4.452554932565561 and parameters: {'L': 56, 'P': 0.7004615357491628, 'Inh': 0.899863991732976, 'Trest': -11.840491192005297, 'Trelative': -11.279420524300999, 'C_h': 9.696516289137158, 'Tipo_red': 0}. Best is trial 16 with value: 3.004228247268542.\n",
      "[I 2024-09-25 22:35:42,805] Trial 73 finished with value: 11.732706075974207 and parameters: {'L': 50, 'P': 0.7559035878506681, 'Inh': 0.8391327850261282, 'Trest': -14.955563653856046, 'Trelative': -13.274599950515615, 'C_h': 5.2568444554848845, 'Tipo_red': 0}. Best is trial 16 with value: 3.004228247268542.\n",
      "[I 2024-09-25 22:35:49,709] Trial 74 finished with value: 5.1035449045208585 and parameters: {'L': 52, 'P': 0.6286115130990162, 'Inh': 0.439791334395932, 'Trest': -12.966358913239535, 'Trelative': -12.194593106707654, 'C_h': 6.695964256444956, 'Tipo_red': 0}. Best is trial 16 with value: 3.004228247268542.\n",
      "[I 2024-09-25 22:36:00,258] Trial 75 finished with value: 5.905883124076964 and parameters: {'L': 59, 'P': 0.669740668241042, 'Inh': 0.9438871591739217, 'Trest': -11.332517446093092, 'Trelative': -10.782922242138403, 'C_h': 8.682758625336769, 'Tipo_red': 0}. Best is trial 16 with value: 3.004228247268542.\n",
      "[I 2024-09-25 22:36:09,292] Trial 76 finished with value: 24.834981292099208 and parameters: {'L': 57, 'P': 0.7156874869879514, 'Inh': 0.8145300531461614, 'Trest': -3.4769619538919594, 'Trelative': -3.302483622558171, 'C_h': 9.450162120951486, 'Tipo_red': 0}. Best is trial 16 with value: 3.004228247268542.\n",
      "[I 2024-09-25 22:36:17,202] Trial 77 finished with value: 6.384353098370936 and parameters: {'L': 54, 'P': 0.5886656407119166, 'Inh': 0.9736892270529958, 'Trest': -14.123706844612538, 'Trelative': -12.960235465713245, 'C_h': 7.241977563752572, 'Tipo_red': 0}. Best is trial 16 with value: 3.004228247268542.\n",
      "[I 2024-09-25 22:36:28,384] Trial 78 finished with value: 5.513397131696265 and parameters: {'L': 60, 'P': 0.5147746017930751, 'Inh': 0.3180835550742703, 'Trest': -12.494642999906386, 'Trelative': -11.659517291754032, 'C_h': 9.219904789805813, 'Tipo_red': 0}. Best is trial 16 with value: 3.004228247268542.\n",
      "[I 2024-09-25 22:36:36,894] Trial 79 finished with value: 3.196744072614165 and parameters: {'L': 56, 'P': 0.8868179663473754, 'Inh': 0.8900310745770483, 'Trest': -10.464252581437549, 'Trelative': -10.086219414963903, 'C_h': 9.734300476448787, 'Tipo_red': 0}. Best is trial 16 with value: 3.004228247268542.\n",
      "[I 2024-09-25 22:36:46,815] Trial 80 finished with value: 10.58609151556692 and parameters: {'L': 58, 'P': 0.962354910703718, 'Inh': 0.9021876353542225, 'Trest': -10.440679998718808, 'Trelative': -10.105283861494485, 'C_h': 9.765166442152763, 'Tipo_red': 1}. Best is trial 16 with value: 3.004228247268542.\n",
      "[I 2024-09-25 22:36:55,476] Trial 81 finished with value: 4.478285135936061 and parameters: {'L': 56, 'P': 0.9264084107286816, 'Inh': 0.9280757862883211, 'Trest': -12.901739904446355, 'Trelative': -11.986165764188764, 'C_h': 9.324806910584737, 'Tipo_red': 0}. Best is trial 16 with value: 3.004228247268542.\n",
      "[I 2024-09-25 22:37:03,925] Trial 82 finished with value: 3.099122789609992 and parameters: {'L': 55, 'P': 0.7801876383443389, 'Inh': 0.8588333659307121, 'Trest': -13.446136519063737, 'Trelative': -12.479111499153097, 'C_h': 8.815021482704243, 'Tipo_red': 0}. Best is trial 16 with value: 3.004228247268542.\n",
      "[I 2024-09-25 22:37:10,797] Trial 83 finished with value: 3.415264935619077 and parameters: {'L': 52, 'P': 0.8779800867507167, 'Inh': 0.8391571858017677, 'Trest': -11.815557326232897, 'Trelative': -10.855889324561515, 'C_h': 8.561336074963025, 'Tipo_red': 0}. Best is trial 16 with value: 3.004228247268542.\n",
      "[I 2024-09-25 22:37:12,433] Trial 84 finished with value: 15.548574035329366 and parameters: {'L': 10, 'P': 0.8849693907371814, 'Inh': 0.8486821817888633, 'Trest': -8.402091041810731, 'Trelative': -8.01245835770279, 'C_h': 8.580848284871934, 'Tipo_red': 0}. Best is trial 16 with value: 3.004228247268542.\n",
      "[I 2024-09-25 22:37:19,694] Trial 85 finished with value: 6.693156157906713 and parameters: {'L': 53, 'P': 0.7885558046145678, 'Inh': 0.8845557939419115, 'Trest': -11.83934588900549, 'Trelative': -10.857673776058064, 'C_h': 7.842823621754269, 'Tipo_red': 0}. Best is trial 16 with value: 3.004228247268542.\n",
      "[I 2024-09-25 22:37:26,198] Trial 86 finished with value: 14.035623694799057 and parameters: {'L': 50, 'P': 0.878440216587382, 'Inh': 0.9497145266661823, 'Trest': -10.615805494679229, 'Trelative': -10.417306524847062, 'C_h': 8.817583264618747, 'Tipo_red': 0}. Best is trial 16 with value: 3.004228247268542.\n",
      "[I 2024-09-25 22:37:28,220] Trial 87 finished with value: 17.95412077338178 and parameters: {'L': 26, 'P': 0.8354452357833481, 'Inh': 0.7764554437904889, 'Trest': -9.305134117503961, 'Trelative': -9.013537065084275, 'C_h': 9.802318377161468, 'Tipo_red': 0}. Best is trial 16 with value: 3.004228247268542.\n",
      "[I 2024-09-25 22:37:37,283] Trial 88 finished with value: 3.0833145796809154 and parameters: {'L': 57, 'P': 0.934883420143129, 'Inh': 0.9966982244148586, 'Trest': -13.47151967925074, 'Trelative': -12.696279847536081, 'C_h': 8.386388699504147, 'Tipo_red': 0}. Best is trial 16 with value: 3.004228247268542.\n",
      "[I 2024-09-25 22:37:46,792] Trial 89 finished with value: 3.0833145796809154 and parameters: {'L': 57, 'P': 0.9248010895967126, 'Inh': 0.9995215784809582, 'Trest': -14.343882999880982, 'Trelative': -13.68655022704126, 'C_h': 8.266494592503799, 'Tipo_red': 0}. Best is trial 16 with value: 3.004228247268542.\n",
      "[I 2024-09-25 22:38:05,687] Trial 90 finished with value: 10.953134599286294 and parameters: {'L': 59, 'P': 0.9483951339720056, 'Inh': 0.9760820647766806, 'Trest': -14.421021538403078, 'Trelative': -13.768506487102986, 'C_h': 8.116994696011794, 'Tipo_red': 2}. Best is trial 16 with value: 3.004228247268542.\n",
      "[I 2024-09-25 22:38:15,670] Trial 91 finished with value: 7.5405736280612095 and parameters: {'L': 58, 'P': 0.9259139048769431, 'Inh': 0.9927611120058463, 'Trest': -13.310151825365647, 'Trelative': -12.700768227199967, 'C_h': 8.975009997462067, 'Tipo_red': 0}. Best is trial 16 with value: 3.004228247268542.\n",
      "[I 2024-09-25 22:38:25,210] Trial 92 finished with value: 3.0833145796809154 and parameters: {'L': 57, 'P': 0.9836851663522442, 'Inh': 0.9486879766552248, 'Trest': -13.43933711447678, 'Trelative': -12.465711316624695, 'C_h': 8.36044001238274, 'Tipo_red': 0}. Best is trial 16 with value: 3.004228247268542.\n",
      "[I 2024-09-25 22:38:34,279] Trial 93 finished with value: 3.0833145796809154 and parameters: {'L': 57, 'P': 0.9840932994539473, 'Inh': 0.9559232476209608, 'Trest': -13.580701816521252, 'Trelative': -12.54104695296651, 'C_h': 8.220421197303484, 'Tipo_red': 0}. Best is trial 16 with value: 3.004228247268542.\n",
      "[I 2024-09-25 22:38:45,628] Trial 94 finished with value: 7.383800908995396 and parameters: {'L': 60, 'P': 0.9730220769034988, 'Inh': 0.9552501928723024, 'Trest': -14.297862836057357, 'Trelative': -13.610437287653642, 'C_h': 7.499201658049027, 'Tipo_red': 0}. Best is trial 16 with value: 3.004228247268542.\n",
      "[I 2024-09-25 22:38:54,893] Trial 95 finished with value: 3.0833145796809154 and parameters: {'L': 57, 'P': 0.9765849843685228, 'Inh': 0.9926579462154199, 'Trest': -13.610019157027892, 'Trelative': -12.42686084743673, 'C_h': 8.37600421451197, 'Tipo_red': 0}. Best is trial 16 with value: 3.004228247268542.\n",
      "[I 2024-09-25 22:39:03,516] Trial 96 finished with value: 3.099122789609992 and parameters: {'L': 55, 'P': 0.9959025044545862, 'Inh': 0.9981273184167709, 'Trest': -13.308722168232885, 'Trelative': -12.526544610573202, 'C_h': 7.9003337298727425, 'Tipo_red': 0}. Best is trial 16 with value: 3.004228247268542.\n",
      "[I 2024-09-25 22:39:10,681] Trial 97 finished with value: 3.5590051622772867 and parameters: {'L': 54, 'P': 0.9810155162273758, 'Inh': 0.9973231878965553, 'Trest': -13.367135371691202, 'Trelative': -12.432509970817229, 'C_h': 7.89787118361884, 'Tipo_red': 0}. Best is trial 16 with value: 3.004228247268542.\n",
      "[I 2024-09-25 22:39:18,637] Trial 98 finished with value: 3.099122789609992 and parameters: {'L': 55, 'P': 0.9415370658940273, 'Inh': 0.9999542222231658, 'Trest': -14.540009981803877, 'Trelative': -14.17312897813419, 'C_h': 8.325680626542749, 'Tipo_red': 0}. Best is trial 16 with value: 3.004228247268542.\n",
      "[I 2024-09-25 22:39:57,633] Trial 99 finished with value: 33.66870648134443 and parameters: {'L': 57, 'P': 0.9960945276779378, 'Inh': 0.9385311039323814, 'Trest': 8.498655291421617, 'Trelative': 8.544258978302103, 'C_h': 6.952405034523993, 'Tipo_red': 0}. Best is trial 16 with value: 3.004228247268542.\n"
     ]
    }
   ],
   "source": [
    "\n",
    "reales=reales_total[\"main_Delta\"]+reales_total[\"main_Theta\"]+reales_total[\"main_Alpha\"]+reales_total[\"main_Beta\"]\n",
    "\n",
    "def objective(trial):\n",
    "    params = np.zeros(8)\n",
    "    params[0] = trial.suggest_int('L',10,60)\n",
    "    params[1] = trial.suggest_float('P', 0.0, 1.0)\n",
    "    params[2] = trial.suggest_float('Inh', 0.0, 1.0)\n",
    "    params[3] = trial.suggest_float('Trest', -15.0, 15.0)###, step=0.05 difernecia entre datos \n",
    "    params[4] = trial.suggest_float('Trelative',params[3],params[3]+10)  \n",
    "    params[5] = trial.suggest_float('C_h', 0, 10.0)\n",
    "    params[6] = 8030\n",
    "    params[7] = trial.suggest_int('Tipo_red',0,2)\n",
    "\n",
    "    \n",
    "    generated_data_total = Simulado_EGG(params)\n",
    "    if generated_data_total[\"delta\"][1]-generated_data_total[\"delta\"][1]==0:\n",
    "        generated_data = generated_data_total[\"delta\"] + generated_data_total[\"theta\"] + generated_data_total[\"alpha\"] + generated_data_total[\"beta\"]\n",
    "        difference = sum(abs(gd - rd) for gd, rd in zip(generated_data, reales))\n",
    "\n",
    "        if trial.number > 30 and np.random.rand() < 0.3:  \n",
    "            params[7] = np.random.random_integers(0, 2) \n",
    "            params[2] = np.random.uniform(0,1)  \n",
    "            params[1] = np.random.uniform(0,1)  \n",
    "\n",
    "        trial.report(difference, step=trial.number)\n",
    "        \n",
    "        \n",
    "        return difference\n",
    "    else:\n",
    "        return float('inf') \n",
    "    \n",
    "\n",
    "# Create and optimize the study\n",
    "study = optuna.create_study(study_name='4bandas_full_Normal_z_score', storage='sqlite:///Estudios/4bandas_full_Normal_z_score.db')\n",
    "\n",
    "# Continúa con la optimización del estudio\n",
    "study.optimize(objective, n_trials=100)\n"
   ]
  },
  {
   "cell_type": "code",
   "execution_count": null,
   "metadata": {},
   "outputs": [],
   "source": []
  },
  {
   "cell_type": "code",
   "execution_count": 35,
   "metadata": {},
   "outputs": [
    {
     "name": "stderr",
     "output_type": "stream",
     "text": [
      "[I 2024-09-25 22:40:14,312] Trial 51 finished with value: 36.07248528520608 and parameters: {'L': 52, 'P': 0.3024813900299425, 'Inh': 0.3360716898827794, 'Trest': -1.4771892426796271, 'Trelative': 1.2823526847143696, 'C_h': 6.765744957354155, 'Tipo_red': 0}. Best is trial 46 with value: 2.9517714347405306.\n"
     ]
    }
   ],
   "source": [
    "study = optuna.load_study(study_name='4bandas_full_Normal_max', storage='sqlite:///Estudios/4bandas_full_Normal_max.db')\n",
    "study.optimize(objective, n_trials=1)\n"
   ]
  },
  {
   "cell_type": "code",
   "execution_count": 43,
   "metadata": {},
   "outputs": [
    {
     "name": "stdout",
     "output_type": "stream",
     "text": [
      "4bandas_full_Normal_max\n",
      "\n",
      "Trial 1:\n",
      "Params: {'L': 57, 'P': 0.4965416953500361, 'Inh': 0.1840042178063965, 'Trest': -1.3321936159428258, 'Trelative': 1.8722523128821265, 'C_h': 9.984838343562668, 'Tipo_red': 0}\n",
      "Value: 2.9517714347405306\n",
      "\n",
      "Trial 2:\n",
      "Params: {'L': 48, 'P': 0.41275786715345764, 'Inh': 0.007238683161631676, 'Trest': 0.47758296641983994, 'Trelative': 3.0359217762286224, 'C_h': 7.835237327505056, 'Tipo_red': 0}\n",
      "Value: 4.759819105781498\n",
      "\n",
      "Trial 3:\n",
      "Params: {'L': 58, 'P': 0.3149894577501925, 'Inh': 0.19133400845699558, 'Trest': -1.7162094423228702, 'Trelative': 1.2608121263643377, 'C_h': 8.107626995684006, 'Tipo_red': 0}\n",
      "Value: 4.994678405050701\n",
      "\n",
      "Trial 4:\n",
      "Params: {'L': 37, 'P': 0.5706544587027408, 'Inh': 0.22901828788209316, 'Trest': -1.0284432257837375, 'Trelative': 2.8342032944957807, 'C_h': 8.705999864286925, 'Tipo_red': 0}\n",
      "Value: 6.522936833344611\n",
      "\n",
      "Trial 5:\n",
      "Params: {'L': 56, 'P': 0.4020347579149772, 'Inh': 0.28894148056360036, 'Trest': 0.06630754023195418, 'Trelative': 1.3632773835161125, 'C_h': 6.919627929078819, 'Tipo_red': 0}\n",
      "Value: 7.25217170982908\n",
      "--------------------------------------- \n",
      "\n",
      "Best Result: 2.9517714347405306\n"
     ]
    },
    {
     "data": {
      "application/vnd.plotly.v1+json": {
       "config": {
        "plotlyServerURL": "https://plot.ly"
       },
       "data": [
        {
         "mode": "markers",
         "name": "Objective Value",
         "type": "scatter",
         "x": [
          0,
          1,
          2,
          3,
          4,
          5,
          6,
          7,
          8,
          9,
          10,
          11,
          12,
          13,
          14,
          15,
          16,
          17,
          18,
          19,
          20,
          21,
          22,
          23,
          24,
          25,
          26,
          27,
          28,
          29,
          30,
          31,
          32,
          33,
          34,
          35,
          36,
          37,
          38,
          39,
          40,
          41,
          42,
          43,
          44,
          45,
          46,
          47,
          48,
          49,
          50,
          51
         ],
         "y": [
          20.12131171668669,
          26.146446245102247,
          38.241100614868756,
          38.240917598164565,
          28.947670130158805,
          28.947670130158805,
          10.78421687733218,
          33.40370363264214,
          28.947670130158805,
          28.947670130158805,
          24.3514913807539,
          30.416195067767767,
          28.947670130158805,
          28.947670130158805,
          18.235748504206903,
          29.31946337093914,
          20.58167413032627,
          28.947670130158805,
          26.122123591365536,
          33.96448072528556,
          28.53410693501077,
          19.878049360079565,
          20.12075619210937,
          38.66875614992213,
          28.947670130158805,
          41.91182959187298,
          22.527237878197205,
          38.240917598164565,
          18.555228278765505,
          19.986804802056106,
          18.359293622732245,
          17.685700670839232,
          6.522936833344611,
          28.947670130158805,
          9.67737423312044,
          9.764424071466744,
          28.947670130158805,
          28.947670130158805,
          4.759819105781498,
          28.947670130158805,
          28.947670130158805,
          10.132632787515144,
          10.043386538792825,
          10.312809914340642,
          13.52326901035975,
          28.947670130158805,
          2.9517714347405306,
          7.25217170982908,
          28.947670130158805,
          4.994678405050701,
          13.304505709944928,
          36.07248528520608
         ]
        },
        {
         "mode": "lines",
         "name": "Best Value",
         "type": "scatter",
         "x": [
          0,
          1,
          2,
          3,
          4,
          5,
          6,
          7,
          8,
          9,
          10,
          11,
          12,
          13,
          14,
          15,
          16,
          17,
          18,
          19,
          20,
          21,
          22,
          23,
          24,
          25,
          26,
          27,
          28,
          29,
          30,
          31,
          32,
          33,
          34,
          35,
          36,
          37,
          38,
          39,
          40,
          41,
          42,
          43,
          44,
          45,
          46,
          47,
          48,
          49,
          50,
          51
         ],
         "y": [
          20.12131171668669,
          20.12131171668669,
          20.12131171668669,
          20.12131171668669,
          20.12131171668669,
          20.12131171668669,
          10.78421687733218,
          10.78421687733218,
          10.78421687733218,
          10.78421687733218,
          10.78421687733218,
          10.78421687733218,
          10.78421687733218,
          10.78421687733218,
          10.78421687733218,
          10.78421687733218,
          10.78421687733218,
          10.78421687733218,
          10.78421687733218,
          10.78421687733218,
          10.78421687733218,
          10.78421687733218,
          10.78421687733218,
          10.78421687733218,
          10.78421687733218,
          10.78421687733218,
          10.78421687733218,
          10.78421687733218,
          10.78421687733218,
          10.78421687733218,
          10.78421687733218,
          10.78421687733218,
          6.522936833344611,
          6.522936833344611,
          6.522936833344611,
          6.522936833344611,
          6.522936833344611,
          6.522936833344611,
          4.759819105781498,
          4.759819105781498,
          4.759819105781498,
          4.759819105781498,
          4.759819105781498,
          4.759819105781498,
          4.759819105781498,
          4.759819105781498,
          2.9517714347405306,
          2.9517714347405306,
          2.9517714347405306,
          2.9517714347405306,
          2.9517714347405306,
          2.9517714347405306
         ]
        },
        {
         "marker": {
          "color": "#cccccc"
         },
         "mode": "markers",
         "name": "Infeasible Trial",
         "showlegend": false,
         "type": "scatter",
         "x": [],
         "y": []
        }
       ],
       "layout": {
        "template": {
         "data": {
          "bar": [
           {
            "error_x": {
             "color": "#2a3f5f"
            },
            "error_y": {
             "color": "#2a3f5f"
            },
            "marker": {
             "line": {
              "color": "#E5ECF6",
              "width": 0.5
             },
             "pattern": {
              "fillmode": "overlay",
              "size": 10,
              "solidity": 0.2
             }
            },
            "type": "bar"
           }
          ],
          "barpolar": [
           {
            "marker": {
             "line": {
              "color": "#E5ECF6",
              "width": 0.5
             },
             "pattern": {
              "fillmode": "overlay",
              "size": 10,
              "solidity": 0.2
             }
            },
            "type": "barpolar"
           }
          ],
          "carpet": [
           {
            "aaxis": {
             "endlinecolor": "#2a3f5f",
             "gridcolor": "white",
             "linecolor": "white",
             "minorgridcolor": "white",
             "startlinecolor": "#2a3f5f"
            },
            "baxis": {
             "endlinecolor": "#2a3f5f",
             "gridcolor": "white",
             "linecolor": "white",
             "minorgridcolor": "white",
             "startlinecolor": "#2a3f5f"
            },
            "type": "carpet"
           }
          ],
          "choropleth": [
           {
            "colorbar": {
             "outlinewidth": 0,
             "ticks": ""
            },
            "type": "choropleth"
           }
          ],
          "contour": [
           {
            "colorbar": {
             "outlinewidth": 0,
             "ticks": ""
            },
            "colorscale": [
             [
              0,
              "#0d0887"
             ],
             [
              0.1111111111111111,
              "#46039f"
             ],
             [
              0.2222222222222222,
              "#7201a8"
             ],
             [
              0.3333333333333333,
              "#9c179e"
             ],
             [
              0.4444444444444444,
              "#bd3786"
             ],
             [
              0.5555555555555556,
              "#d8576b"
             ],
             [
              0.6666666666666666,
              "#ed7953"
             ],
             [
              0.7777777777777778,
              "#fb9f3a"
             ],
             [
              0.8888888888888888,
              "#fdca26"
             ],
             [
              1,
              "#f0f921"
             ]
            ],
            "type": "contour"
           }
          ],
          "contourcarpet": [
           {
            "colorbar": {
             "outlinewidth": 0,
             "ticks": ""
            },
            "type": "contourcarpet"
           }
          ],
          "heatmap": [
           {
            "colorbar": {
             "outlinewidth": 0,
             "ticks": ""
            },
            "colorscale": [
             [
              0,
              "#0d0887"
             ],
             [
              0.1111111111111111,
              "#46039f"
             ],
             [
              0.2222222222222222,
              "#7201a8"
             ],
             [
              0.3333333333333333,
              "#9c179e"
             ],
             [
              0.4444444444444444,
              "#bd3786"
             ],
             [
              0.5555555555555556,
              "#d8576b"
             ],
             [
              0.6666666666666666,
              "#ed7953"
             ],
             [
              0.7777777777777778,
              "#fb9f3a"
             ],
             [
              0.8888888888888888,
              "#fdca26"
             ],
             [
              1,
              "#f0f921"
             ]
            ],
            "type": "heatmap"
           }
          ],
          "heatmapgl": [
           {
            "colorbar": {
             "outlinewidth": 0,
             "ticks": ""
            },
            "colorscale": [
             [
              0,
              "#0d0887"
             ],
             [
              0.1111111111111111,
              "#46039f"
             ],
             [
              0.2222222222222222,
              "#7201a8"
             ],
             [
              0.3333333333333333,
              "#9c179e"
             ],
             [
              0.4444444444444444,
              "#bd3786"
             ],
             [
              0.5555555555555556,
              "#d8576b"
             ],
             [
              0.6666666666666666,
              "#ed7953"
             ],
             [
              0.7777777777777778,
              "#fb9f3a"
             ],
             [
              0.8888888888888888,
              "#fdca26"
             ],
             [
              1,
              "#f0f921"
             ]
            ],
            "type": "heatmapgl"
           }
          ],
          "histogram": [
           {
            "marker": {
             "pattern": {
              "fillmode": "overlay",
              "size": 10,
              "solidity": 0.2
             }
            },
            "type": "histogram"
           }
          ],
          "histogram2d": [
           {
            "colorbar": {
             "outlinewidth": 0,
             "ticks": ""
            },
            "colorscale": [
             [
              0,
              "#0d0887"
             ],
             [
              0.1111111111111111,
              "#46039f"
             ],
             [
              0.2222222222222222,
              "#7201a8"
             ],
             [
              0.3333333333333333,
              "#9c179e"
             ],
             [
              0.4444444444444444,
              "#bd3786"
             ],
             [
              0.5555555555555556,
              "#d8576b"
             ],
             [
              0.6666666666666666,
              "#ed7953"
             ],
             [
              0.7777777777777778,
              "#fb9f3a"
             ],
             [
              0.8888888888888888,
              "#fdca26"
             ],
             [
              1,
              "#f0f921"
             ]
            ],
            "type": "histogram2d"
           }
          ],
          "histogram2dcontour": [
           {
            "colorbar": {
             "outlinewidth": 0,
             "ticks": ""
            },
            "colorscale": [
             [
              0,
              "#0d0887"
             ],
             [
              0.1111111111111111,
              "#46039f"
             ],
             [
              0.2222222222222222,
              "#7201a8"
             ],
             [
              0.3333333333333333,
              "#9c179e"
             ],
             [
              0.4444444444444444,
              "#bd3786"
             ],
             [
              0.5555555555555556,
              "#d8576b"
             ],
             [
              0.6666666666666666,
              "#ed7953"
             ],
             [
              0.7777777777777778,
              "#fb9f3a"
             ],
             [
              0.8888888888888888,
              "#fdca26"
             ],
             [
              1,
              "#f0f921"
             ]
            ],
            "type": "histogram2dcontour"
           }
          ],
          "mesh3d": [
           {
            "colorbar": {
             "outlinewidth": 0,
             "ticks": ""
            },
            "type": "mesh3d"
           }
          ],
          "parcoords": [
           {
            "line": {
             "colorbar": {
              "outlinewidth": 0,
              "ticks": ""
             }
            },
            "type": "parcoords"
           }
          ],
          "pie": [
           {
            "automargin": true,
            "type": "pie"
           }
          ],
          "scatter": [
           {
            "fillpattern": {
             "fillmode": "overlay",
             "size": 10,
             "solidity": 0.2
            },
            "type": "scatter"
           }
          ],
          "scatter3d": [
           {
            "line": {
             "colorbar": {
              "outlinewidth": 0,
              "ticks": ""
             }
            },
            "marker": {
             "colorbar": {
              "outlinewidth": 0,
              "ticks": ""
             }
            },
            "type": "scatter3d"
           }
          ],
          "scattercarpet": [
           {
            "marker": {
             "colorbar": {
              "outlinewidth": 0,
              "ticks": ""
             }
            },
            "type": "scattercarpet"
           }
          ],
          "scattergeo": [
           {
            "marker": {
             "colorbar": {
              "outlinewidth": 0,
              "ticks": ""
             }
            },
            "type": "scattergeo"
           }
          ],
          "scattergl": [
           {
            "marker": {
             "colorbar": {
              "outlinewidth": 0,
              "ticks": ""
             }
            },
            "type": "scattergl"
           }
          ],
          "scattermapbox": [
           {
            "marker": {
             "colorbar": {
              "outlinewidth": 0,
              "ticks": ""
             }
            },
            "type": "scattermapbox"
           }
          ],
          "scatterpolar": [
           {
            "marker": {
             "colorbar": {
              "outlinewidth": 0,
              "ticks": ""
             }
            },
            "type": "scatterpolar"
           }
          ],
          "scatterpolargl": [
           {
            "marker": {
             "colorbar": {
              "outlinewidth": 0,
              "ticks": ""
             }
            },
            "type": "scatterpolargl"
           }
          ],
          "scatterternary": [
           {
            "marker": {
             "colorbar": {
              "outlinewidth": 0,
              "ticks": ""
             }
            },
            "type": "scatterternary"
           }
          ],
          "surface": [
           {
            "colorbar": {
             "outlinewidth": 0,
             "ticks": ""
            },
            "colorscale": [
             [
              0,
              "#0d0887"
             ],
             [
              0.1111111111111111,
              "#46039f"
             ],
             [
              0.2222222222222222,
              "#7201a8"
             ],
             [
              0.3333333333333333,
              "#9c179e"
             ],
             [
              0.4444444444444444,
              "#bd3786"
             ],
             [
              0.5555555555555556,
              "#d8576b"
             ],
             [
              0.6666666666666666,
              "#ed7953"
             ],
             [
              0.7777777777777778,
              "#fb9f3a"
             ],
             [
              0.8888888888888888,
              "#fdca26"
             ],
             [
              1,
              "#f0f921"
             ]
            ],
            "type": "surface"
           }
          ],
          "table": [
           {
            "cells": {
             "fill": {
              "color": "#EBF0F8"
             },
             "line": {
              "color": "white"
             }
            },
            "header": {
             "fill": {
              "color": "#C8D4E3"
             },
             "line": {
              "color": "white"
             }
            },
            "type": "table"
           }
          ]
         },
         "layout": {
          "annotationdefaults": {
           "arrowcolor": "#2a3f5f",
           "arrowhead": 0,
           "arrowwidth": 1
          },
          "autotypenumbers": "strict",
          "coloraxis": {
           "colorbar": {
            "outlinewidth": 0,
            "ticks": ""
           }
          },
          "colorscale": {
           "diverging": [
            [
             0,
             "#8e0152"
            ],
            [
             0.1,
             "#c51b7d"
            ],
            [
             0.2,
             "#de77ae"
            ],
            [
             0.3,
             "#f1b6da"
            ],
            [
             0.4,
             "#fde0ef"
            ],
            [
             0.5,
             "#f7f7f7"
            ],
            [
             0.6,
             "#e6f5d0"
            ],
            [
             0.7,
             "#b8e186"
            ],
            [
             0.8,
             "#7fbc41"
            ],
            [
             0.9,
             "#4d9221"
            ],
            [
             1,
             "#276419"
            ]
           ],
           "sequential": [
            [
             0,
             "#0d0887"
            ],
            [
             0.1111111111111111,
             "#46039f"
            ],
            [
             0.2222222222222222,
             "#7201a8"
            ],
            [
             0.3333333333333333,
             "#9c179e"
            ],
            [
             0.4444444444444444,
             "#bd3786"
            ],
            [
             0.5555555555555556,
             "#d8576b"
            ],
            [
             0.6666666666666666,
             "#ed7953"
            ],
            [
             0.7777777777777778,
             "#fb9f3a"
            ],
            [
             0.8888888888888888,
             "#fdca26"
            ],
            [
             1,
             "#f0f921"
            ]
           ],
           "sequentialminus": [
            [
             0,
             "#0d0887"
            ],
            [
             0.1111111111111111,
             "#46039f"
            ],
            [
             0.2222222222222222,
             "#7201a8"
            ],
            [
             0.3333333333333333,
             "#9c179e"
            ],
            [
             0.4444444444444444,
             "#bd3786"
            ],
            [
             0.5555555555555556,
             "#d8576b"
            ],
            [
             0.6666666666666666,
             "#ed7953"
            ],
            [
             0.7777777777777778,
             "#fb9f3a"
            ],
            [
             0.8888888888888888,
             "#fdca26"
            ],
            [
             1,
             "#f0f921"
            ]
           ]
          },
          "colorway": [
           "#636efa",
           "#EF553B",
           "#00cc96",
           "#ab63fa",
           "#FFA15A",
           "#19d3f3",
           "#FF6692",
           "#B6E880",
           "#FF97FF",
           "#FECB52"
          ],
          "font": {
           "color": "#2a3f5f"
          },
          "geo": {
           "bgcolor": "white",
           "lakecolor": "white",
           "landcolor": "#E5ECF6",
           "showlakes": true,
           "showland": true,
           "subunitcolor": "white"
          },
          "hoverlabel": {
           "align": "left"
          },
          "hovermode": "closest",
          "mapbox": {
           "style": "light"
          },
          "paper_bgcolor": "white",
          "plot_bgcolor": "#E5ECF6",
          "polar": {
           "angularaxis": {
            "gridcolor": "white",
            "linecolor": "white",
            "ticks": ""
           },
           "bgcolor": "#E5ECF6",
           "radialaxis": {
            "gridcolor": "white",
            "linecolor": "white",
            "ticks": ""
           }
          },
          "scene": {
           "xaxis": {
            "backgroundcolor": "#E5ECF6",
            "gridcolor": "white",
            "gridwidth": 2,
            "linecolor": "white",
            "showbackground": true,
            "ticks": "",
            "zerolinecolor": "white"
           },
           "yaxis": {
            "backgroundcolor": "#E5ECF6",
            "gridcolor": "white",
            "gridwidth": 2,
            "linecolor": "white",
            "showbackground": true,
            "ticks": "",
            "zerolinecolor": "white"
           },
           "zaxis": {
            "backgroundcolor": "#E5ECF6",
            "gridcolor": "white",
            "gridwidth": 2,
            "linecolor": "white",
            "showbackground": true,
            "ticks": "",
            "zerolinecolor": "white"
           }
          },
          "shapedefaults": {
           "line": {
            "color": "#2a3f5f"
           }
          },
          "ternary": {
           "aaxis": {
            "gridcolor": "white",
            "linecolor": "white",
            "ticks": ""
           },
           "baxis": {
            "gridcolor": "white",
            "linecolor": "white",
            "ticks": ""
           },
           "bgcolor": "#E5ECF6",
           "caxis": {
            "gridcolor": "white",
            "linecolor": "white",
            "ticks": ""
           }
          },
          "title": {
           "x": 0.05
          },
          "xaxis": {
           "automargin": true,
           "gridcolor": "white",
           "linecolor": "white",
           "ticks": "",
           "title": {
            "standoff": 15
           },
           "zerolinecolor": "white",
           "zerolinewidth": 2
          },
          "yaxis": {
           "automargin": true,
           "gridcolor": "white",
           "linecolor": "white",
           "ticks": "",
           "title": {
            "standoff": 15
           },
           "zerolinecolor": "white",
           "zerolinewidth": 2
          }
         }
        },
        "title": {
         "text": "Optimization History Plot"
        },
        "xaxis": {
         "title": {
          "text": "Trial"
         }
        },
        "yaxis": {
         "title": {
          "text": "Objective Value"
         }
        }
       }
      }
     },
     "metadata": {},
     "output_type": "display_data"
    }
   ],
   "source": [
    "print(study.study_name)\n",
    "valid_trials = [t for t in study.trials if t.value is not None]\n",
    "top_3_trials = sorted(valid_trials, key=lambda t: t.value)[:5]\n",
    "for i, trial in enumerate(top_3_trials):\n",
    "    print(f\"\\nTrial {i+1}:\")\n",
    "    print(\"Params:\", trial.params)\n",
    "    print(\"Value:\", trial.value)\n",
    "print(\"---------------------------------------\",\"\\n\")\n",
    "print(\"Best Result:\", study.best_value)\n",
    "\n",
    "vis.plot_optimization_history(study)\n"
   ]
  },
  {
   "cell_type": "code",
   "execution_count": 44,
   "metadata": {},
   "outputs": [
    {
     "data": {
      "application/vnd.plotly.v1+json": {
       "config": {
        "plotlyServerURL": "https://plot.ly"
       },
       "data": [
        {
         "cliponaxis": false,
         "hovertemplate": [
          "Tipo_red (IntDistribution): 0.03042837058666371<extra></extra>",
          "L (IntDistribution): 0.129410292215568<extra></extra>",
          "P (FloatDistribution): 0.16731557378031622<extra></extra>",
          "C_h (FloatDistribution): 0.18503116697565186<extra></extra>",
          "Inh (FloatDistribution): 0.2273631762263657<extra></extra>",
          "Trest (FloatDistribution): 0.2604514202154345<extra></extra>"
         ],
         "name": "Objective Value",
         "orientation": "h",
         "text": [
          "0.03",
          "0.13",
          "0.17",
          "0.19",
          "0.23",
          "0.26"
         ],
         "textposition": "outside",
         "type": "bar",
         "x": [
          0.03042837058666371,
          0.129410292215568,
          0.16731557378031622,
          0.18503116697565186,
          0.2273631762263657,
          0.2604514202154345
         ],
         "y": [
          "Tipo_red",
          "L",
          "P",
          "C_h",
          "Inh",
          "Trest"
         ]
        }
       ],
       "layout": {
        "template": {
         "data": {
          "bar": [
           {
            "error_x": {
             "color": "#2a3f5f"
            },
            "error_y": {
             "color": "#2a3f5f"
            },
            "marker": {
             "line": {
              "color": "#E5ECF6",
              "width": 0.5
             },
             "pattern": {
              "fillmode": "overlay",
              "size": 10,
              "solidity": 0.2
             }
            },
            "type": "bar"
           }
          ],
          "barpolar": [
           {
            "marker": {
             "line": {
              "color": "#E5ECF6",
              "width": 0.5
             },
             "pattern": {
              "fillmode": "overlay",
              "size": 10,
              "solidity": 0.2
             }
            },
            "type": "barpolar"
           }
          ],
          "carpet": [
           {
            "aaxis": {
             "endlinecolor": "#2a3f5f",
             "gridcolor": "white",
             "linecolor": "white",
             "minorgridcolor": "white",
             "startlinecolor": "#2a3f5f"
            },
            "baxis": {
             "endlinecolor": "#2a3f5f",
             "gridcolor": "white",
             "linecolor": "white",
             "minorgridcolor": "white",
             "startlinecolor": "#2a3f5f"
            },
            "type": "carpet"
           }
          ],
          "choropleth": [
           {
            "colorbar": {
             "outlinewidth": 0,
             "ticks": ""
            },
            "type": "choropleth"
           }
          ],
          "contour": [
           {
            "colorbar": {
             "outlinewidth": 0,
             "ticks": ""
            },
            "colorscale": [
             [
              0,
              "#0d0887"
             ],
             [
              0.1111111111111111,
              "#46039f"
             ],
             [
              0.2222222222222222,
              "#7201a8"
             ],
             [
              0.3333333333333333,
              "#9c179e"
             ],
             [
              0.4444444444444444,
              "#bd3786"
             ],
             [
              0.5555555555555556,
              "#d8576b"
             ],
             [
              0.6666666666666666,
              "#ed7953"
             ],
             [
              0.7777777777777778,
              "#fb9f3a"
             ],
             [
              0.8888888888888888,
              "#fdca26"
             ],
             [
              1,
              "#f0f921"
             ]
            ],
            "type": "contour"
           }
          ],
          "contourcarpet": [
           {
            "colorbar": {
             "outlinewidth": 0,
             "ticks": ""
            },
            "type": "contourcarpet"
           }
          ],
          "heatmap": [
           {
            "colorbar": {
             "outlinewidth": 0,
             "ticks": ""
            },
            "colorscale": [
             [
              0,
              "#0d0887"
             ],
             [
              0.1111111111111111,
              "#46039f"
             ],
             [
              0.2222222222222222,
              "#7201a8"
             ],
             [
              0.3333333333333333,
              "#9c179e"
             ],
             [
              0.4444444444444444,
              "#bd3786"
             ],
             [
              0.5555555555555556,
              "#d8576b"
             ],
             [
              0.6666666666666666,
              "#ed7953"
             ],
             [
              0.7777777777777778,
              "#fb9f3a"
             ],
             [
              0.8888888888888888,
              "#fdca26"
             ],
             [
              1,
              "#f0f921"
             ]
            ],
            "type": "heatmap"
           }
          ],
          "heatmapgl": [
           {
            "colorbar": {
             "outlinewidth": 0,
             "ticks": ""
            },
            "colorscale": [
             [
              0,
              "#0d0887"
             ],
             [
              0.1111111111111111,
              "#46039f"
             ],
             [
              0.2222222222222222,
              "#7201a8"
             ],
             [
              0.3333333333333333,
              "#9c179e"
             ],
             [
              0.4444444444444444,
              "#bd3786"
             ],
             [
              0.5555555555555556,
              "#d8576b"
             ],
             [
              0.6666666666666666,
              "#ed7953"
             ],
             [
              0.7777777777777778,
              "#fb9f3a"
             ],
             [
              0.8888888888888888,
              "#fdca26"
             ],
             [
              1,
              "#f0f921"
             ]
            ],
            "type": "heatmapgl"
           }
          ],
          "histogram": [
           {
            "marker": {
             "pattern": {
              "fillmode": "overlay",
              "size": 10,
              "solidity": 0.2
             }
            },
            "type": "histogram"
           }
          ],
          "histogram2d": [
           {
            "colorbar": {
             "outlinewidth": 0,
             "ticks": ""
            },
            "colorscale": [
             [
              0,
              "#0d0887"
             ],
             [
              0.1111111111111111,
              "#46039f"
             ],
             [
              0.2222222222222222,
              "#7201a8"
             ],
             [
              0.3333333333333333,
              "#9c179e"
             ],
             [
              0.4444444444444444,
              "#bd3786"
             ],
             [
              0.5555555555555556,
              "#d8576b"
             ],
             [
              0.6666666666666666,
              "#ed7953"
             ],
             [
              0.7777777777777778,
              "#fb9f3a"
             ],
             [
              0.8888888888888888,
              "#fdca26"
             ],
             [
              1,
              "#f0f921"
             ]
            ],
            "type": "histogram2d"
           }
          ],
          "histogram2dcontour": [
           {
            "colorbar": {
             "outlinewidth": 0,
             "ticks": ""
            },
            "colorscale": [
             [
              0,
              "#0d0887"
             ],
             [
              0.1111111111111111,
              "#46039f"
             ],
             [
              0.2222222222222222,
              "#7201a8"
             ],
             [
              0.3333333333333333,
              "#9c179e"
             ],
             [
              0.4444444444444444,
              "#bd3786"
             ],
             [
              0.5555555555555556,
              "#d8576b"
             ],
             [
              0.6666666666666666,
              "#ed7953"
             ],
             [
              0.7777777777777778,
              "#fb9f3a"
             ],
             [
              0.8888888888888888,
              "#fdca26"
             ],
             [
              1,
              "#f0f921"
             ]
            ],
            "type": "histogram2dcontour"
           }
          ],
          "mesh3d": [
           {
            "colorbar": {
             "outlinewidth": 0,
             "ticks": ""
            },
            "type": "mesh3d"
           }
          ],
          "parcoords": [
           {
            "line": {
             "colorbar": {
              "outlinewidth": 0,
              "ticks": ""
             }
            },
            "type": "parcoords"
           }
          ],
          "pie": [
           {
            "automargin": true,
            "type": "pie"
           }
          ],
          "scatter": [
           {
            "fillpattern": {
             "fillmode": "overlay",
             "size": 10,
             "solidity": 0.2
            },
            "type": "scatter"
           }
          ],
          "scatter3d": [
           {
            "line": {
             "colorbar": {
              "outlinewidth": 0,
              "ticks": ""
             }
            },
            "marker": {
             "colorbar": {
              "outlinewidth": 0,
              "ticks": ""
             }
            },
            "type": "scatter3d"
           }
          ],
          "scattercarpet": [
           {
            "marker": {
             "colorbar": {
              "outlinewidth": 0,
              "ticks": ""
             }
            },
            "type": "scattercarpet"
           }
          ],
          "scattergeo": [
           {
            "marker": {
             "colorbar": {
              "outlinewidth": 0,
              "ticks": ""
             }
            },
            "type": "scattergeo"
           }
          ],
          "scattergl": [
           {
            "marker": {
             "colorbar": {
              "outlinewidth": 0,
              "ticks": ""
             }
            },
            "type": "scattergl"
           }
          ],
          "scattermapbox": [
           {
            "marker": {
             "colorbar": {
              "outlinewidth": 0,
              "ticks": ""
             }
            },
            "type": "scattermapbox"
           }
          ],
          "scatterpolar": [
           {
            "marker": {
             "colorbar": {
              "outlinewidth": 0,
              "ticks": ""
             }
            },
            "type": "scatterpolar"
           }
          ],
          "scatterpolargl": [
           {
            "marker": {
             "colorbar": {
              "outlinewidth": 0,
              "ticks": ""
             }
            },
            "type": "scatterpolargl"
           }
          ],
          "scatterternary": [
           {
            "marker": {
             "colorbar": {
              "outlinewidth": 0,
              "ticks": ""
             }
            },
            "type": "scatterternary"
           }
          ],
          "surface": [
           {
            "colorbar": {
             "outlinewidth": 0,
             "ticks": ""
            },
            "colorscale": [
             [
              0,
              "#0d0887"
             ],
             [
              0.1111111111111111,
              "#46039f"
             ],
             [
              0.2222222222222222,
              "#7201a8"
             ],
             [
              0.3333333333333333,
              "#9c179e"
             ],
             [
              0.4444444444444444,
              "#bd3786"
             ],
             [
              0.5555555555555556,
              "#d8576b"
             ],
             [
              0.6666666666666666,
              "#ed7953"
             ],
             [
              0.7777777777777778,
              "#fb9f3a"
             ],
             [
              0.8888888888888888,
              "#fdca26"
             ],
             [
              1,
              "#f0f921"
             ]
            ],
            "type": "surface"
           }
          ],
          "table": [
           {
            "cells": {
             "fill": {
              "color": "#EBF0F8"
             },
             "line": {
              "color": "white"
             }
            },
            "header": {
             "fill": {
              "color": "#C8D4E3"
             },
             "line": {
              "color": "white"
             }
            },
            "type": "table"
           }
          ]
         },
         "layout": {
          "annotationdefaults": {
           "arrowcolor": "#2a3f5f",
           "arrowhead": 0,
           "arrowwidth": 1
          },
          "autotypenumbers": "strict",
          "coloraxis": {
           "colorbar": {
            "outlinewidth": 0,
            "ticks": ""
           }
          },
          "colorscale": {
           "diverging": [
            [
             0,
             "#8e0152"
            ],
            [
             0.1,
             "#c51b7d"
            ],
            [
             0.2,
             "#de77ae"
            ],
            [
             0.3,
             "#f1b6da"
            ],
            [
             0.4,
             "#fde0ef"
            ],
            [
             0.5,
             "#f7f7f7"
            ],
            [
             0.6,
             "#e6f5d0"
            ],
            [
             0.7,
             "#b8e186"
            ],
            [
             0.8,
             "#7fbc41"
            ],
            [
             0.9,
             "#4d9221"
            ],
            [
             1,
             "#276419"
            ]
           ],
           "sequential": [
            [
             0,
             "#0d0887"
            ],
            [
             0.1111111111111111,
             "#46039f"
            ],
            [
             0.2222222222222222,
             "#7201a8"
            ],
            [
             0.3333333333333333,
             "#9c179e"
            ],
            [
             0.4444444444444444,
             "#bd3786"
            ],
            [
             0.5555555555555556,
             "#d8576b"
            ],
            [
             0.6666666666666666,
             "#ed7953"
            ],
            [
             0.7777777777777778,
             "#fb9f3a"
            ],
            [
             0.8888888888888888,
             "#fdca26"
            ],
            [
             1,
             "#f0f921"
            ]
           ],
           "sequentialminus": [
            [
             0,
             "#0d0887"
            ],
            [
             0.1111111111111111,
             "#46039f"
            ],
            [
             0.2222222222222222,
             "#7201a8"
            ],
            [
             0.3333333333333333,
             "#9c179e"
            ],
            [
             0.4444444444444444,
             "#bd3786"
            ],
            [
             0.5555555555555556,
             "#d8576b"
            ],
            [
             0.6666666666666666,
             "#ed7953"
            ],
            [
             0.7777777777777778,
             "#fb9f3a"
            ],
            [
             0.8888888888888888,
             "#fdca26"
            ],
            [
             1,
             "#f0f921"
            ]
           ]
          },
          "colorway": [
           "#636efa",
           "#EF553B",
           "#00cc96",
           "#ab63fa",
           "#FFA15A",
           "#19d3f3",
           "#FF6692",
           "#B6E880",
           "#FF97FF",
           "#FECB52"
          ],
          "font": {
           "color": "#2a3f5f"
          },
          "geo": {
           "bgcolor": "white",
           "lakecolor": "white",
           "landcolor": "#E5ECF6",
           "showlakes": true,
           "showland": true,
           "subunitcolor": "white"
          },
          "hoverlabel": {
           "align": "left"
          },
          "hovermode": "closest",
          "mapbox": {
           "style": "light"
          },
          "paper_bgcolor": "white",
          "plot_bgcolor": "#E5ECF6",
          "polar": {
           "angularaxis": {
            "gridcolor": "white",
            "linecolor": "white",
            "ticks": ""
           },
           "bgcolor": "#E5ECF6",
           "radialaxis": {
            "gridcolor": "white",
            "linecolor": "white",
            "ticks": ""
           }
          },
          "scene": {
           "xaxis": {
            "backgroundcolor": "#E5ECF6",
            "gridcolor": "white",
            "gridwidth": 2,
            "linecolor": "white",
            "showbackground": true,
            "ticks": "",
            "zerolinecolor": "white"
           },
           "yaxis": {
            "backgroundcolor": "#E5ECF6",
            "gridcolor": "white",
            "gridwidth": 2,
            "linecolor": "white",
            "showbackground": true,
            "ticks": "",
            "zerolinecolor": "white"
           },
           "zaxis": {
            "backgroundcolor": "#E5ECF6",
            "gridcolor": "white",
            "gridwidth": 2,
            "linecolor": "white",
            "showbackground": true,
            "ticks": "",
            "zerolinecolor": "white"
           }
          },
          "shapedefaults": {
           "line": {
            "color": "#2a3f5f"
           }
          },
          "ternary": {
           "aaxis": {
            "gridcolor": "white",
            "linecolor": "white",
            "ticks": ""
           },
           "baxis": {
            "gridcolor": "white",
            "linecolor": "white",
            "ticks": ""
           },
           "bgcolor": "#E5ECF6",
           "caxis": {
            "gridcolor": "white",
            "linecolor": "white",
            "ticks": ""
           }
          },
          "title": {
           "x": 0.05
          },
          "xaxis": {
           "automargin": true,
           "gridcolor": "white",
           "linecolor": "white",
           "ticks": "",
           "title": {
            "standoff": 15
           },
           "zerolinecolor": "white",
           "zerolinewidth": 2
          },
          "yaxis": {
           "automargin": true,
           "gridcolor": "white",
           "linecolor": "white",
           "ticks": "",
           "title": {
            "standoff": 15
           },
           "zerolinecolor": "white",
           "zerolinewidth": 2
          }
         }
        },
        "title": {
         "text": "Hyperparameter Importances"
        },
        "xaxis": {
         "title": {
          "text": "Hyperparameter Importance"
         }
        },
        "yaxis": {
         "title": {
          "text": "Hyperparameter"
         }
        }
       }
      }
     },
     "metadata": {},
     "output_type": "display_data"
    }
   ],
   "source": [
    "vis.plot_param_importances(study)"
   ]
  },
  {
   "cell_type": "code",
   "execution_count": 45,
   "metadata": {},
   "outputs": [
    {
     "data": {
      "application/vnd.plotly.v1+json": {
       "config": {
        "plotlyServerURL": "https://plot.ly"
       },
       "data": [
        {
         "dimensions": [
          {
           "label": "Objective Value",
           "range": [
            2.9517714347405306,
            41.91182959187298
           ],
           "values": [
            20.12131171668669,
            26.146446245102247,
            38.241100614868756,
            38.240917598164565,
            28.947670130158805,
            28.947670130158805,
            10.78421687733218,
            33.40370363264214,
            28.947670130158805,
            28.947670130158805,
            24.3514913807539,
            30.416195067767767,
            28.947670130158805,
            28.947670130158805,
            18.235748504206903,
            29.31946337093914,
            20.58167413032627,
            28.947670130158805,
            26.122123591365536,
            33.96448072528556,
            28.53410693501077,
            19.878049360079565,
            20.12075619210937,
            38.66875614992213,
            28.947670130158805,
            41.91182959187298,
            22.527237878197205,
            38.240917598164565,
            18.555228278765505,
            19.986804802056106,
            18.359293622732245,
            17.685700670839232,
            6.522936833344611,
            28.947670130158805,
            9.67737423312044,
            9.764424071466744,
            28.947670130158805,
            28.947670130158805,
            4.759819105781498,
            28.947670130158805,
            28.947670130158805,
            10.132632787515144,
            10.043386538792825,
            10.312809914340642,
            13.52326901035975,
            28.947670130158805,
            2.9517714347405306,
            7.25217170982908,
            28.947670130158805,
            4.994678405050701,
            13.304505709944928,
            36.07248528520608
           ]
          },
          {
           "label": "C_h",
           "range": [
            0.2745973184984729,
            9.984838343562668
           ],
           "values": [
            9.310506348565106,
            3.151363343594827,
            9.107371714532611,
            1.7378844261430815,
            8.32098279452653,
            6.295947178169161,
            5.452482808269159,
            0.2745973184984729,
            4.734777746674873,
            1.3029776980426755,
            6.313114424071676,
            9.696973538884556,
            7.375560984870905,
            4.603550433807721,
            3.399690683253117,
            3.194551158417165,
            3.4171643954105386,
            5.8309472389399,
            4.047195272451004,
            1.8740525090570768,
            7.451375835613604,
            5.641030439283789,
            5.237673779732441,
            7.161943660367653,
            5.610300347482892,
            4.021737716561586,
            2.58173361897569,
            4.036941462547752,
            6.228154851402751,
            6.4436441832322116,
            8.32695742811838,
            8.539595344955252,
            8.705999864286925,
            8.593991437295806,
            9.094795746812432,
            9.937761756870723,
            9.979787902636216,
            9.235292180598618,
            7.835237327505056,
            7.766922742240403,
            9.0435553718523,
            9.423500472760836,
            9.652670975591862,
            7.942186844914785,
            8.910015782217851,
            9.692441819337224,
            9.984838343562668,
            6.919627929078819,
            7.053409877186616,
            8.107626995684006,
            7.964844903196592,
            6.765744957354155
           ]
          },
          {
           "label": "Inh",
           "range": [
            0.002147651547974922,
            0.9981466599838109
           ],
           "values": [
            0.9077433692292862,
            0.04537954954703227,
            0.6086349898381556,
            0.5154652555726227,
            0.14194603136716255,
            0.7067944220648641,
            0.16269549781659054,
            0.37772200999631733,
            0.5542976911412416,
            0.18317903971987326,
            0.30408001979752763,
            0.9262564683934461,
            0.9981466599838109,
            0.7855090808015354,
            0.3723630329140958,
            0.36436669765416374,
            0.2463997038266651,
            0.016308256085318384,
            0.41944067235943444,
            0.1934452551182324,
            0.11571031365765982,
            0.7752586957009018,
            0.6572512348470132,
            0.7794870295645242,
            0.45025199543919836,
            0.2913488133100428,
            0.4931308984554883,
            0.3247666097487253,
            0.23842785222273316,
            0.09668106769759263,
            0.23787688594534107,
            0.23040009183747323,
            0.22901828788209316,
            0.052451765167982445,
            0.14549808649908474,
            0.14414580515587438,
            0.06987204646500131,
            0.16432417701921267,
            0.007238683161631676,
            0.026430363848048977,
            0.13596678891210817,
            0.006979185892606682,
            0.002147651547974922,
            0.08777042571984586,
            0.0587922199251838,
            0.13562170890256314,
            0.1840042178063965,
            0.28894148056360036,
            0.28377989722704805,
            0.19133400845699558,
            0.2008852766571381,
            0.3360716898827794
           ]
          },
          {
           "label": "L",
           "range": [
            10,
            60
           ],
           "values": [
            16,
            43,
            26,
            39,
            25,
            51,
            52,
            22,
            51,
            50,
            58,
            17,
            15,
            34,
            32,
            33,
            59,
            44,
            30,
            40,
            10,
            17,
            23,
            29,
            10,
            46,
            38,
            18,
            31,
            30,
            37,
            37,
            37,
            42,
            55,
            55,
            55,
            54,
            48,
            49,
            56,
            53,
            47,
            48,
            46,
            60,
            57,
            56,
            57,
            58,
            60,
            52
           ]
          },
          {
           "label": "P",
           "range": [
            0.056420289836734305,
            0.9944264047603146
           ],
           "values": [
            0.8906719818025445,
            0.6256770858896528,
            0.594900446844645,
            0.4603691574911317,
            0.3413608381055634,
            0.11025703956630462,
            0.8341899007753375,
            0.056420289836734305,
            0.3490430366351449,
            0.5320788027793142,
            0.9944264047603146,
            0.9142542734745118,
            0.7967114777777948,
            0.7734721781992677,
            0.7754447058923842,
            0.7081462893126897,
            0.7180444586747569,
            0.8462655431272728,
            0.9642000474648146,
            0.6616497032323305,
            0.39198835994372605,
            0.8689076806592964,
            0.8269091932737945,
            0.7509162748983431,
            0.8869420099266179,
            0.23326354310747188,
            0.5271204280381316,
            0.9368547830707822,
            0.6769371424398023,
            0.6712107927497933,
            0.5713239629586652,
            0.6012410443892346,
            0.5706544587027408,
            0.4545639387325573,
            0.6161180476940409,
            0.607949518699383,
            0.4611061485882704,
            0.6087546871374868,
            0.41275786715345764,
            0.25909698953430127,
            0.4238493813574249,
            0.5564227251525422,
            0.5605849746663933,
            0.4982937100090457,
            0.6304837505023265,
            0.3229997012617003,
            0.4965416953500361,
            0.4020347579149772,
            0.3692626064641717,
            0.3149894577501925,
            0.2084900595203994,
            0.3024813900299425
           ]
          },
          {
           "label": "Tipo_red",
           "range": [
            0,
            2
           ],
           "values": [
            2,
            1,
            2,
            2,
            2,
            0,
            0,
            1,
            1,
            2,
            0,
            0,
            1,
            0,
            1,
            0,
            1,
            0,
            1,
            0,
            1,
            2,
            2,
            1,
            2,
            1,
            1,
            2,
            0,
            0,
            0,
            0,
            0,
            0,
            0,
            0,
            0,
            0,
            0,
            0,
            0,
            0,
            0,
            0,
            0,
            0,
            0,
            0,
            0,
            0,
            0,
            0
           ]
          },
          {
           "label": "Trelative",
           "range": [
            -13.741359450185692,
            23.146608019176462
           ],
           "values": [
            -7.715585433636003,
            -5.548006279979034,
            -11.079125387247412,
            -9.041752626651688,
            8.12373901951004,
            12.668361597252098,
            5.789949661336402,
            -2.1149432701225317,
            13.160911849233111,
            18.346912008935995,
            -0.6005907555073268,
            -4.182481256386569,
            7.7266467643803125,
            23.146608019176462,
            -5.297957250207697,
            2.8893122098948196,
            -5.0293370775464075,
            4.725660356753238,
            0.4926559245126647,
            -6.177914634751232,
            4.285936660227701,
            -7.831609684117645,
            -2.7368470917275447,
            -6.962506531028349,
            9.805594573361601,
            -2.730492485265102,
            -4.188710583975226,
            -13.741359450185692,
            -8.483585078414958,
            -9.117791533527106,
            0.9066624976580249,
            2.692779811913044,
            2.8342032944957807,
            6.077923416837452,
            2.245429274783483,
            2.7031457021384693,
            10.641076438475526,
            4.747909447983011,
            3.0359217762286224,
            2.790267084519764,
            7.737851399076705,
            2.034596983575826,
            2.0445441092353596,
            1.939059615178534,
            3.3987742018790543,
            3.664799110423486,
            1.8722523128821265,
            1.3632773835161125,
            5.650885901239482,
            1.2608121263643377,
            3.4191311388544166,
            1.2823526847143696
           ]
          },
          {
           "label": "Trest",
           "range": [
            -14.27973942714311,
            14.37291473062728
           ],
           "values": [
            -11.149371728268953,
            -13.134950141881571,
            -12.835224102572498,
            -13.144654953326672,
            1.04799289120524,
            8.770329258969294,
            -0.2651479016154994,
            -2.9400847331954196,
            4.089804460663029,
            10.291186390869356,
            -5.841745789484823,
            -7.189472300104963,
            4.52879618432717,
            14.37291473062728,
            -7.603162911912339,
            -2.2213022941160463,
            -8.530563692681826,
            1.3010999567202504,
            -4.179327670941716,
            -9.62385561721992,
            -0.6098875507107122,
            -10.32697144469088,
            -6.126271409637553,
            -9.919943543428557,
            4.945734992830058,
            -4.745040579553551,
            -7.781370120088008,
            -14.27973942714311,
            -11.17714483297671,
            -11.33497846206511,
            -2.3644903007641456,
            -0.8475029041430191,
            -1.0284432257837375,
            2.695656748402782,
            -1.21231514095127,
            -0.30983186886962194,
            6.992442514926446,
            2.8398760589326146,
            0.47758296641983994,
            1.000537570111394,
            6.49032795783512,
            -0.665935160249856,
            -3.6246950052969433,
            -3.644071675407766,
            -2.3389692157230644,
            1.7642883688297792,
            -1.3321936159428258,
            0.06630754023195418,
            3.208881864800638,
            -1.7162094423228702,
            0.9636589421710282,
            -1.4771892426796271
           ]
          }
         ],
         "labelangle": 30,
         "labelside": "bottom",
         "line": {
          "color": [
           20.12131171668669,
           26.146446245102247,
           38.241100614868756,
           38.240917598164565,
           28.947670130158805,
           28.947670130158805,
           10.78421687733218,
           33.40370363264214,
           28.947670130158805,
           28.947670130158805,
           24.3514913807539,
           30.416195067767767,
           28.947670130158805,
           28.947670130158805,
           18.235748504206903,
           29.31946337093914,
           20.58167413032627,
           28.947670130158805,
           26.122123591365536,
           33.96448072528556,
           28.53410693501077,
           19.878049360079565,
           20.12075619210937,
           38.66875614992213,
           28.947670130158805,
           41.91182959187298,
           22.527237878197205,
           38.240917598164565,
           18.555228278765505,
           19.986804802056106,
           18.359293622732245,
           17.685700670839232,
           6.522936833344611,
           28.947670130158805,
           9.67737423312044,
           9.764424071466744,
           28.947670130158805,
           28.947670130158805,
           4.759819105781498,
           28.947670130158805,
           28.947670130158805,
           10.132632787515144,
           10.043386538792825,
           10.312809914340642,
           13.52326901035975,
           28.947670130158805,
           2.9517714347405306,
           7.25217170982908,
           28.947670130158805,
           4.994678405050701,
           13.304505709944928,
           36.07248528520608
          ],
          "colorbar": {
           "title": {
            "text": "Objective Value"
           }
          },
          "colorscale": [
           [
            0,
            "rgb(247,251,255)"
           ],
           [
            0.125,
            "rgb(222,235,247)"
           ],
           [
            0.25,
            "rgb(198,219,239)"
           ],
           [
            0.375,
            "rgb(158,202,225)"
           ],
           [
            0.5,
            "rgb(107,174,214)"
           ],
           [
            0.625,
            "rgb(66,146,198)"
           ],
           [
            0.75,
            "rgb(33,113,181)"
           ],
           [
            0.875,
            "rgb(8,81,156)"
           ],
           [
            1,
            "rgb(8,48,107)"
           ]
          ],
          "reversescale": true,
          "showscale": true
         },
         "type": "parcoords"
        }
       ],
       "layout": {
        "template": {
         "data": {
          "bar": [
           {
            "error_x": {
             "color": "#2a3f5f"
            },
            "error_y": {
             "color": "#2a3f5f"
            },
            "marker": {
             "line": {
              "color": "#E5ECF6",
              "width": 0.5
             },
             "pattern": {
              "fillmode": "overlay",
              "size": 10,
              "solidity": 0.2
             }
            },
            "type": "bar"
           }
          ],
          "barpolar": [
           {
            "marker": {
             "line": {
              "color": "#E5ECF6",
              "width": 0.5
             },
             "pattern": {
              "fillmode": "overlay",
              "size": 10,
              "solidity": 0.2
             }
            },
            "type": "barpolar"
           }
          ],
          "carpet": [
           {
            "aaxis": {
             "endlinecolor": "#2a3f5f",
             "gridcolor": "white",
             "linecolor": "white",
             "minorgridcolor": "white",
             "startlinecolor": "#2a3f5f"
            },
            "baxis": {
             "endlinecolor": "#2a3f5f",
             "gridcolor": "white",
             "linecolor": "white",
             "minorgridcolor": "white",
             "startlinecolor": "#2a3f5f"
            },
            "type": "carpet"
           }
          ],
          "choropleth": [
           {
            "colorbar": {
             "outlinewidth": 0,
             "ticks": ""
            },
            "type": "choropleth"
           }
          ],
          "contour": [
           {
            "colorbar": {
             "outlinewidth": 0,
             "ticks": ""
            },
            "colorscale": [
             [
              0,
              "#0d0887"
             ],
             [
              0.1111111111111111,
              "#46039f"
             ],
             [
              0.2222222222222222,
              "#7201a8"
             ],
             [
              0.3333333333333333,
              "#9c179e"
             ],
             [
              0.4444444444444444,
              "#bd3786"
             ],
             [
              0.5555555555555556,
              "#d8576b"
             ],
             [
              0.6666666666666666,
              "#ed7953"
             ],
             [
              0.7777777777777778,
              "#fb9f3a"
             ],
             [
              0.8888888888888888,
              "#fdca26"
             ],
             [
              1,
              "#f0f921"
             ]
            ],
            "type": "contour"
           }
          ],
          "contourcarpet": [
           {
            "colorbar": {
             "outlinewidth": 0,
             "ticks": ""
            },
            "type": "contourcarpet"
           }
          ],
          "heatmap": [
           {
            "colorbar": {
             "outlinewidth": 0,
             "ticks": ""
            },
            "colorscale": [
             [
              0,
              "#0d0887"
             ],
             [
              0.1111111111111111,
              "#46039f"
             ],
             [
              0.2222222222222222,
              "#7201a8"
             ],
             [
              0.3333333333333333,
              "#9c179e"
             ],
             [
              0.4444444444444444,
              "#bd3786"
             ],
             [
              0.5555555555555556,
              "#d8576b"
             ],
             [
              0.6666666666666666,
              "#ed7953"
             ],
             [
              0.7777777777777778,
              "#fb9f3a"
             ],
             [
              0.8888888888888888,
              "#fdca26"
             ],
             [
              1,
              "#f0f921"
             ]
            ],
            "type": "heatmap"
           }
          ],
          "heatmapgl": [
           {
            "colorbar": {
             "outlinewidth": 0,
             "ticks": ""
            },
            "colorscale": [
             [
              0,
              "#0d0887"
             ],
             [
              0.1111111111111111,
              "#46039f"
             ],
             [
              0.2222222222222222,
              "#7201a8"
             ],
             [
              0.3333333333333333,
              "#9c179e"
             ],
             [
              0.4444444444444444,
              "#bd3786"
             ],
             [
              0.5555555555555556,
              "#d8576b"
             ],
             [
              0.6666666666666666,
              "#ed7953"
             ],
             [
              0.7777777777777778,
              "#fb9f3a"
             ],
             [
              0.8888888888888888,
              "#fdca26"
             ],
             [
              1,
              "#f0f921"
             ]
            ],
            "type": "heatmapgl"
           }
          ],
          "histogram": [
           {
            "marker": {
             "pattern": {
              "fillmode": "overlay",
              "size": 10,
              "solidity": 0.2
             }
            },
            "type": "histogram"
           }
          ],
          "histogram2d": [
           {
            "colorbar": {
             "outlinewidth": 0,
             "ticks": ""
            },
            "colorscale": [
             [
              0,
              "#0d0887"
             ],
             [
              0.1111111111111111,
              "#46039f"
             ],
             [
              0.2222222222222222,
              "#7201a8"
             ],
             [
              0.3333333333333333,
              "#9c179e"
             ],
             [
              0.4444444444444444,
              "#bd3786"
             ],
             [
              0.5555555555555556,
              "#d8576b"
             ],
             [
              0.6666666666666666,
              "#ed7953"
             ],
             [
              0.7777777777777778,
              "#fb9f3a"
             ],
             [
              0.8888888888888888,
              "#fdca26"
             ],
             [
              1,
              "#f0f921"
             ]
            ],
            "type": "histogram2d"
           }
          ],
          "histogram2dcontour": [
           {
            "colorbar": {
             "outlinewidth": 0,
             "ticks": ""
            },
            "colorscale": [
             [
              0,
              "#0d0887"
             ],
             [
              0.1111111111111111,
              "#46039f"
             ],
             [
              0.2222222222222222,
              "#7201a8"
             ],
             [
              0.3333333333333333,
              "#9c179e"
             ],
             [
              0.4444444444444444,
              "#bd3786"
             ],
             [
              0.5555555555555556,
              "#d8576b"
             ],
             [
              0.6666666666666666,
              "#ed7953"
             ],
             [
              0.7777777777777778,
              "#fb9f3a"
             ],
             [
              0.8888888888888888,
              "#fdca26"
             ],
             [
              1,
              "#f0f921"
             ]
            ],
            "type": "histogram2dcontour"
           }
          ],
          "mesh3d": [
           {
            "colorbar": {
             "outlinewidth": 0,
             "ticks": ""
            },
            "type": "mesh3d"
           }
          ],
          "parcoords": [
           {
            "line": {
             "colorbar": {
              "outlinewidth": 0,
              "ticks": ""
             }
            },
            "type": "parcoords"
           }
          ],
          "pie": [
           {
            "automargin": true,
            "type": "pie"
           }
          ],
          "scatter": [
           {
            "fillpattern": {
             "fillmode": "overlay",
             "size": 10,
             "solidity": 0.2
            },
            "type": "scatter"
           }
          ],
          "scatter3d": [
           {
            "line": {
             "colorbar": {
              "outlinewidth": 0,
              "ticks": ""
             }
            },
            "marker": {
             "colorbar": {
              "outlinewidth": 0,
              "ticks": ""
             }
            },
            "type": "scatter3d"
           }
          ],
          "scattercarpet": [
           {
            "marker": {
             "colorbar": {
              "outlinewidth": 0,
              "ticks": ""
             }
            },
            "type": "scattercarpet"
           }
          ],
          "scattergeo": [
           {
            "marker": {
             "colorbar": {
              "outlinewidth": 0,
              "ticks": ""
             }
            },
            "type": "scattergeo"
           }
          ],
          "scattergl": [
           {
            "marker": {
             "colorbar": {
              "outlinewidth": 0,
              "ticks": ""
             }
            },
            "type": "scattergl"
           }
          ],
          "scattermapbox": [
           {
            "marker": {
             "colorbar": {
              "outlinewidth": 0,
              "ticks": ""
             }
            },
            "type": "scattermapbox"
           }
          ],
          "scatterpolar": [
           {
            "marker": {
             "colorbar": {
              "outlinewidth": 0,
              "ticks": ""
             }
            },
            "type": "scatterpolar"
           }
          ],
          "scatterpolargl": [
           {
            "marker": {
             "colorbar": {
              "outlinewidth": 0,
              "ticks": ""
             }
            },
            "type": "scatterpolargl"
           }
          ],
          "scatterternary": [
           {
            "marker": {
             "colorbar": {
              "outlinewidth": 0,
              "ticks": ""
             }
            },
            "type": "scatterternary"
           }
          ],
          "surface": [
           {
            "colorbar": {
             "outlinewidth": 0,
             "ticks": ""
            },
            "colorscale": [
             [
              0,
              "#0d0887"
             ],
             [
              0.1111111111111111,
              "#46039f"
             ],
             [
              0.2222222222222222,
              "#7201a8"
             ],
             [
              0.3333333333333333,
              "#9c179e"
             ],
             [
              0.4444444444444444,
              "#bd3786"
             ],
             [
              0.5555555555555556,
              "#d8576b"
             ],
             [
              0.6666666666666666,
              "#ed7953"
             ],
             [
              0.7777777777777778,
              "#fb9f3a"
             ],
             [
              0.8888888888888888,
              "#fdca26"
             ],
             [
              1,
              "#f0f921"
             ]
            ],
            "type": "surface"
           }
          ],
          "table": [
           {
            "cells": {
             "fill": {
              "color": "#EBF0F8"
             },
             "line": {
              "color": "white"
             }
            },
            "header": {
             "fill": {
              "color": "#C8D4E3"
             },
             "line": {
              "color": "white"
             }
            },
            "type": "table"
           }
          ]
         },
         "layout": {
          "annotationdefaults": {
           "arrowcolor": "#2a3f5f",
           "arrowhead": 0,
           "arrowwidth": 1
          },
          "autotypenumbers": "strict",
          "coloraxis": {
           "colorbar": {
            "outlinewidth": 0,
            "ticks": ""
           }
          },
          "colorscale": {
           "diverging": [
            [
             0,
             "#8e0152"
            ],
            [
             0.1,
             "#c51b7d"
            ],
            [
             0.2,
             "#de77ae"
            ],
            [
             0.3,
             "#f1b6da"
            ],
            [
             0.4,
             "#fde0ef"
            ],
            [
             0.5,
             "#f7f7f7"
            ],
            [
             0.6,
             "#e6f5d0"
            ],
            [
             0.7,
             "#b8e186"
            ],
            [
             0.8,
             "#7fbc41"
            ],
            [
             0.9,
             "#4d9221"
            ],
            [
             1,
             "#276419"
            ]
           ],
           "sequential": [
            [
             0,
             "#0d0887"
            ],
            [
             0.1111111111111111,
             "#46039f"
            ],
            [
             0.2222222222222222,
             "#7201a8"
            ],
            [
             0.3333333333333333,
             "#9c179e"
            ],
            [
             0.4444444444444444,
             "#bd3786"
            ],
            [
             0.5555555555555556,
             "#d8576b"
            ],
            [
             0.6666666666666666,
             "#ed7953"
            ],
            [
             0.7777777777777778,
             "#fb9f3a"
            ],
            [
             0.8888888888888888,
             "#fdca26"
            ],
            [
             1,
             "#f0f921"
            ]
           ],
           "sequentialminus": [
            [
             0,
             "#0d0887"
            ],
            [
             0.1111111111111111,
             "#46039f"
            ],
            [
             0.2222222222222222,
             "#7201a8"
            ],
            [
             0.3333333333333333,
             "#9c179e"
            ],
            [
             0.4444444444444444,
             "#bd3786"
            ],
            [
             0.5555555555555556,
             "#d8576b"
            ],
            [
             0.6666666666666666,
             "#ed7953"
            ],
            [
             0.7777777777777778,
             "#fb9f3a"
            ],
            [
             0.8888888888888888,
             "#fdca26"
            ],
            [
             1,
             "#f0f921"
            ]
           ]
          },
          "colorway": [
           "#636efa",
           "#EF553B",
           "#00cc96",
           "#ab63fa",
           "#FFA15A",
           "#19d3f3",
           "#FF6692",
           "#B6E880",
           "#FF97FF",
           "#FECB52"
          ],
          "font": {
           "color": "#2a3f5f"
          },
          "geo": {
           "bgcolor": "white",
           "lakecolor": "white",
           "landcolor": "#E5ECF6",
           "showlakes": true,
           "showland": true,
           "subunitcolor": "white"
          },
          "hoverlabel": {
           "align": "left"
          },
          "hovermode": "closest",
          "mapbox": {
           "style": "light"
          },
          "paper_bgcolor": "white",
          "plot_bgcolor": "#E5ECF6",
          "polar": {
           "angularaxis": {
            "gridcolor": "white",
            "linecolor": "white",
            "ticks": ""
           },
           "bgcolor": "#E5ECF6",
           "radialaxis": {
            "gridcolor": "white",
            "linecolor": "white",
            "ticks": ""
           }
          },
          "scene": {
           "xaxis": {
            "backgroundcolor": "#E5ECF6",
            "gridcolor": "white",
            "gridwidth": 2,
            "linecolor": "white",
            "showbackground": true,
            "ticks": "",
            "zerolinecolor": "white"
           },
           "yaxis": {
            "backgroundcolor": "#E5ECF6",
            "gridcolor": "white",
            "gridwidth": 2,
            "linecolor": "white",
            "showbackground": true,
            "ticks": "",
            "zerolinecolor": "white"
           },
           "zaxis": {
            "backgroundcolor": "#E5ECF6",
            "gridcolor": "white",
            "gridwidth": 2,
            "linecolor": "white",
            "showbackground": true,
            "ticks": "",
            "zerolinecolor": "white"
           }
          },
          "shapedefaults": {
           "line": {
            "color": "#2a3f5f"
           }
          },
          "ternary": {
           "aaxis": {
            "gridcolor": "white",
            "linecolor": "white",
            "ticks": ""
           },
           "baxis": {
            "gridcolor": "white",
            "linecolor": "white",
            "ticks": ""
           },
           "bgcolor": "#E5ECF6",
           "caxis": {
            "gridcolor": "white",
            "linecolor": "white",
            "ticks": ""
           }
          },
          "title": {
           "x": 0.05
          },
          "xaxis": {
           "automargin": true,
           "gridcolor": "white",
           "linecolor": "white",
           "ticks": "",
           "title": {
            "standoff": 15
           },
           "zerolinecolor": "white",
           "zerolinewidth": 2
          },
          "yaxis": {
           "automargin": true,
           "gridcolor": "white",
           "linecolor": "white",
           "ticks": "",
           "title": {
            "standoff": 15
           },
           "zerolinecolor": "white",
           "zerolinewidth": 2
          }
         }
        },
        "title": {
         "text": "Parallel Coordinate Plot"
        }
       }
      }
     },
     "metadata": {},
     "output_type": "display_data"
    }
   ],
   "source": [
    "vis.plot_parallel_coordinate(study)"
   ]
  },
  {
   "cell_type": "code",
   "execution_count": 46,
   "metadata": {},
   "outputs": [
    {
     "data": {
      "application/vnd.plotly.v1+json": {
       "config": {
        "plotlyServerURL": "https://plot.ly"
       },
       "data": [
        {
         "marker": {
          "color": [
           0,
           1,
           2,
           3,
           4,
           5,
           6,
           7,
           8,
           9,
           10,
           11,
           12,
           13,
           14,
           15,
           16,
           17,
           18,
           19,
           20,
           21,
           22,
           23,
           24,
           25,
           26,
           27,
           28,
           29,
           30,
           31,
           32,
           33,
           34,
           35,
           36,
           37,
           38,
           39,
           40,
           41,
           42,
           43,
           44,
           45,
           46,
           47,
           48,
           49,
           50,
           51
          ],
          "colorbar": {
           "title": {
            "text": "Trial"
           },
           "x": 1,
           "xpad": 40
          },
          "colorscale": [
           [
            0,
            "rgb(247,251,255)"
           ],
           [
            0.125,
            "rgb(222,235,247)"
           ],
           [
            0.25,
            "rgb(198,219,239)"
           ],
           [
            0.375,
            "rgb(158,202,225)"
           ],
           [
            0.5,
            "rgb(107,174,214)"
           ],
           [
            0.625,
            "rgb(66,146,198)"
           ],
           [
            0.75,
            "rgb(33,113,181)"
           ],
           [
            0.875,
            "rgb(8,81,156)"
           ],
           [
            1,
            "rgb(8,48,107)"
           ]
          ],
          "line": {
           "color": "Grey",
           "width": 0.5
          },
          "showscale": true
         },
         "mode": "markers",
         "name": "Feasible Trial",
         "showlegend": false,
         "type": "scatter",
         "x": [
          9.310506348565106,
          3.151363343594827,
          9.107371714532611,
          1.7378844261430815,
          8.32098279452653,
          6.295947178169161,
          5.452482808269159,
          0.2745973184984729,
          4.734777746674873,
          1.3029776980426755,
          6.313114424071676,
          9.696973538884556,
          7.375560984870905,
          4.603550433807721,
          3.399690683253117,
          3.194551158417165,
          3.4171643954105386,
          5.8309472389399,
          4.047195272451004,
          1.8740525090570768,
          7.451375835613604,
          5.641030439283789,
          5.237673779732441,
          7.161943660367653,
          5.610300347482892,
          4.021737716561586,
          2.58173361897569,
          4.036941462547752,
          6.228154851402751,
          6.4436441832322116,
          8.32695742811838,
          8.539595344955252,
          8.705999864286925,
          8.593991437295806,
          9.094795746812432,
          9.937761756870723,
          9.979787902636216,
          9.235292180598618,
          7.835237327505056,
          7.766922742240403,
          9.0435553718523,
          9.423500472760836,
          9.652670975591862,
          7.942186844914785,
          8.910015782217851,
          9.692441819337224,
          9.984838343562668,
          6.919627929078819,
          7.053409877186616,
          8.107626995684006,
          7.964844903196592,
          6.765744957354155
         ],
         "xaxis": "x",
         "y": [
          20.12131171668669,
          26.146446245102247,
          38.241100614868756,
          38.240917598164565,
          28.947670130158805,
          28.947670130158805,
          10.78421687733218,
          33.40370363264214,
          28.947670130158805,
          28.947670130158805,
          24.3514913807539,
          30.416195067767767,
          28.947670130158805,
          28.947670130158805,
          18.235748504206903,
          29.31946337093914,
          20.58167413032627,
          28.947670130158805,
          26.122123591365536,
          33.96448072528556,
          28.53410693501077,
          19.878049360079565,
          20.12075619210937,
          38.66875614992213,
          28.947670130158805,
          41.91182959187298,
          22.527237878197205,
          38.240917598164565,
          18.555228278765505,
          19.986804802056106,
          18.359293622732245,
          17.685700670839232,
          6.522936833344611,
          28.947670130158805,
          9.67737423312044,
          9.764424071466744,
          28.947670130158805,
          28.947670130158805,
          4.759819105781498,
          28.947670130158805,
          28.947670130158805,
          10.132632787515144,
          10.043386538792825,
          10.312809914340642,
          13.52326901035975,
          28.947670130158805,
          2.9517714347405306,
          7.25217170982908,
          28.947670130158805,
          4.994678405050701,
          13.304505709944928,
          36.07248528520608
         ],
         "yaxis": "y"
        },
        {
         "marker": {
          "color": [
           0,
           1,
           2,
           3,
           4,
           5,
           6,
           7,
           8,
           9,
           10,
           11,
           12,
           13,
           14,
           15,
           16,
           17,
           18,
           19,
           20,
           21,
           22,
           23,
           24,
           25,
           26,
           27,
           28,
           29,
           30,
           31,
           32,
           33,
           34,
           35,
           36,
           37,
           38,
           39,
           40,
           41,
           42,
           43,
           44,
           45,
           46,
           47,
           48,
           49,
           50,
           51
          ],
          "colorbar": {
           "title": {
            "text": "Trial"
           },
           "x": 1,
           "xpad": 40
          },
          "colorscale": [
           [
            0,
            "rgb(247,251,255)"
           ],
           [
            0.125,
            "rgb(222,235,247)"
           ],
           [
            0.25,
            "rgb(198,219,239)"
           ],
           [
            0.375,
            "rgb(158,202,225)"
           ],
           [
            0.5,
            "rgb(107,174,214)"
           ],
           [
            0.625,
            "rgb(66,146,198)"
           ],
           [
            0.75,
            "rgb(33,113,181)"
           ],
           [
            0.875,
            "rgb(8,81,156)"
           ],
           [
            1,
            "rgb(8,48,107)"
           ]
          ],
          "line": {
           "color": "Grey",
           "width": 0.5
          },
          "showscale": false
         },
         "mode": "markers",
         "name": "Feasible Trial",
         "showlegend": false,
         "type": "scatter",
         "x": [
          0.9077433692292862,
          0.04537954954703227,
          0.6086349898381556,
          0.5154652555726227,
          0.14194603136716255,
          0.7067944220648641,
          0.16269549781659054,
          0.37772200999631733,
          0.5542976911412416,
          0.18317903971987326,
          0.30408001979752763,
          0.9262564683934461,
          0.9981466599838109,
          0.7855090808015354,
          0.3723630329140958,
          0.36436669765416374,
          0.2463997038266651,
          0.016308256085318384,
          0.41944067235943444,
          0.1934452551182324,
          0.11571031365765982,
          0.7752586957009018,
          0.6572512348470132,
          0.7794870295645242,
          0.45025199543919836,
          0.2913488133100428,
          0.4931308984554883,
          0.3247666097487253,
          0.23842785222273316,
          0.09668106769759263,
          0.23787688594534107,
          0.23040009183747323,
          0.22901828788209316,
          0.052451765167982445,
          0.14549808649908474,
          0.14414580515587438,
          0.06987204646500131,
          0.16432417701921267,
          0.007238683161631676,
          0.026430363848048977,
          0.13596678891210817,
          0.006979185892606682,
          0.002147651547974922,
          0.08777042571984586,
          0.0587922199251838,
          0.13562170890256314,
          0.1840042178063965,
          0.28894148056360036,
          0.28377989722704805,
          0.19133400845699558,
          0.2008852766571381,
          0.3360716898827794
         ],
         "xaxis": "x2",
         "y": [
          20.12131171668669,
          26.146446245102247,
          38.241100614868756,
          38.240917598164565,
          28.947670130158805,
          28.947670130158805,
          10.78421687733218,
          33.40370363264214,
          28.947670130158805,
          28.947670130158805,
          24.3514913807539,
          30.416195067767767,
          28.947670130158805,
          28.947670130158805,
          18.235748504206903,
          29.31946337093914,
          20.58167413032627,
          28.947670130158805,
          26.122123591365536,
          33.96448072528556,
          28.53410693501077,
          19.878049360079565,
          20.12075619210937,
          38.66875614992213,
          28.947670130158805,
          41.91182959187298,
          22.527237878197205,
          38.240917598164565,
          18.555228278765505,
          19.986804802056106,
          18.359293622732245,
          17.685700670839232,
          6.522936833344611,
          28.947670130158805,
          9.67737423312044,
          9.764424071466744,
          28.947670130158805,
          28.947670130158805,
          4.759819105781498,
          28.947670130158805,
          28.947670130158805,
          10.132632787515144,
          10.043386538792825,
          10.312809914340642,
          13.52326901035975,
          28.947670130158805,
          2.9517714347405306,
          7.25217170982908,
          28.947670130158805,
          4.994678405050701,
          13.304505709944928,
          36.07248528520608
         ],
         "yaxis": "y2"
        },
        {
         "marker": {
          "color": [
           0,
           1,
           2,
           3,
           4,
           5,
           6,
           7,
           8,
           9,
           10,
           11,
           12,
           13,
           14,
           15,
           16,
           17,
           18,
           19,
           20,
           21,
           22,
           23,
           24,
           25,
           26,
           27,
           28,
           29,
           30,
           31,
           32,
           33,
           34,
           35,
           36,
           37,
           38,
           39,
           40,
           41,
           42,
           43,
           44,
           45,
           46,
           47,
           48,
           49,
           50,
           51
          ],
          "colorbar": {
           "title": {
            "text": "Trial"
           },
           "x": 1,
           "xpad": 40
          },
          "colorscale": [
           [
            0,
            "rgb(247,251,255)"
           ],
           [
            0.125,
            "rgb(222,235,247)"
           ],
           [
            0.25,
            "rgb(198,219,239)"
           ],
           [
            0.375,
            "rgb(158,202,225)"
           ],
           [
            0.5,
            "rgb(107,174,214)"
           ],
           [
            0.625,
            "rgb(66,146,198)"
           ],
           [
            0.75,
            "rgb(33,113,181)"
           ],
           [
            0.875,
            "rgb(8,81,156)"
           ],
           [
            1,
            "rgb(8,48,107)"
           ]
          ],
          "line": {
           "color": "Grey",
           "width": 0.5
          },
          "showscale": false
         },
         "mode": "markers",
         "name": "Feasible Trial",
         "showlegend": false,
         "type": "scatter",
         "x": [
          16,
          43,
          26,
          39,
          25,
          51,
          52,
          22,
          51,
          50,
          58,
          17,
          15,
          34,
          32,
          33,
          59,
          44,
          30,
          40,
          10,
          17,
          23,
          29,
          10,
          46,
          38,
          18,
          31,
          30,
          37,
          37,
          37,
          42,
          55,
          55,
          55,
          54,
          48,
          49,
          56,
          53,
          47,
          48,
          46,
          60,
          57,
          56,
          57,
          58,
          60,
          52
         ],
         "xaxis": "x3",
         "y": [
          20.12131171668669,
          26.146446245102247,
          38.241100614868756,
          38.240917598164565,
          28.947670130158805,
          28.947670130158805,
          10.78421687733218,
          33.40370363264214,
          28.947670130158805,
          28.947670130158805,
          24.3514913807539,
          30.416195067767767,
          28.947670130158805,
          28.947670130158805,
          18.235748504206903,
          29.31946337093914,
          20.58167413032627,
          28.947670130158805,
          26.122123591365536,
          33.96448072528556,
          28.53410693501077,
          19.878049360079565,
          20.12075619210937,
          38.66875614992213,
          28.947670130158805,
          41.91182959187298,
          22.527237878197205,
          38.240917598164565,
          18.555228278765505,
          19.986804802056106,
          18.359293622732245,
          17.685700670839232,
          6.522936833344611,
          28.947670130158805,
          9.67737423312044,
          9.764424071466744,
          28.947670130158805,
          28.947670130158805,
          4.759819105781498,
          28.947670130158805,
          28.947670130158805,
          10.132632787515144,
          10.043386538792825,
          10.312809914340642,
          13.52326901035975,
          28.947670130158805,
          2.9517714347405306,
          7.25217170982908,
          28.947670130158805,
          4.994678405050701,
          13.304505709944928,
          36.07248528520608
         ],
         "yaxis": "y3"
        },
        {
         "marker": {
          "color": [
           0,
           1,
           2,
           3,
           4,
           5,
           6,
           7,
           8,
           9,
           10,
           11,
           12,
           13,
           14,
           15,
           16,
           17,
           18,
           19,
           20,
           21,
           22,
           23,
           24,
           25,
           26,
           27,
           28,
           29,
           30,
           31,
           32,
           33,
           34,
           35,
           36,
           37,
           38,
           39,
           40,
           41,
           42,
           43,
           44,
           45,
           46,
           47,
           48,
           49,
           50,
           51
          ],
          "colorbar": {
           "title": {
            "text": "Trial"
           },
           "x": 1,
           "xpad": 40
          },
          "colorscale": [
           [
            0,
            "rgb(247,251,255)"
           ],
           [
            0.125,
            "rgb(222,235,247)"
           ],
           [
            0.25,
            "rgb(198,219,239)"
           ],
           [
            0.375,
            "rgb(158,202,225)"
           ],
           [
            0.5,
            "rgb(107,174,214)"
           ],
           [
            0.625,
            "rgb(66,146,198)"
           ],
           [
            0.75,
            "rgb(33,113,181)"
           ],
           [
            0.875,
            "rgb(8,81,156)"
           ],
           [
            1,
            "rgb(8,48,107)"
           ]
          ],
          "line": {
           "color": "Grey",
           "width": 0.5
          },
          "showscale": false
         },
         "mode": "markers",
         "name": "Feasible Trial",
         "showlegend": false,
         "type": "scatter",
         "x": [
          0.8906719818025445,
          0.6256770858896528,
          0.594900446844645,
          0.4603691574911317,
          0.3413608381055634,
          0.11025703956630462,
          0.8341899007753375,
          0.056420289836734305,
          0.3490430366351449,
          0.5320788027793142,
          0.9944264047603146,
          0.9142542734745118,
          0.7967114777777948,
          0.7734721781992677,
          0.7754447058923842,
          0.7081462893126897,
          0.7180444586747569,
          0.8462655431272728,
          0.9642000474648146,
          0.6616497032323305,
          0.39198835994372605,
          0.8689076806592964,
          0.8269091932737945,
          0.7509162748983431,
          0.8869420099266179,
          0.23326354310747188,
          0.5271204280381316,
          0.9368547830707822,
          0.6769371424398023,
          0.6712107927497933,
          0.5713239629586652,
          0.6012410443892346,
          0.5706544587027408,
          0.4545639387325573,
          0.6161180476940409,
          0.607949518699383,
          0.4611061485882704,
          0.6087546871374868,
          0.41275786715345764,
          0.25909698953430127,
          0.4238493813574249,
          0.5564227251525422,
          0.5605849746663933,
          0.4982937100090457,
          0.6304837505023265,
          0.3229997012617003,
          0.4965416953500361,
          0.4020347579149772,
          0.3692626064641717,
          0.3149894577501925,
          0.2084900595203994,
          0.3024813900299425
         ],
         "xaxis": "x4",
         "y": [
          20.12131171668669,
          26.146446245102247,
          38.241100614868756,
          38.240917598164565,
          28.947670130158805,
          28.947670130158805,
          10.78421687733218,
          33.40370363264214,
          28.947670130158805,
          28.947670130158805,
          24.3514913807539,
          30.416195067767767,
          28.947670130158805,
          28.947670130158805,
          18.235748504206903,
          29.31946337093914,
          20.58167413032627,
          28.947670130158805,
          26.122123591365536,
          33.96448072528556,
          28.53410693501077,
          19.878049360079565,
          20.12075619210937,
          38.66875614992213,
          28.947670130158805,
          41.91182959187298,
          22.527237878197205,
          38.240917598164565,
          18.555228278765505,
          19.986804802056106,
          18.359293622732245,
          17.685700670839232,
          6.522936833344611,
          28.947670130158805,
          9.67737423312044,
          9.764424071466744,
          28.947670130158805,
          28.947670130158805,
          4.759819105781498,
          28.947670130158805,
          28.947670130158805,
          10.132632787515144,
          10.043386538792825,
          10.312809914340642,
          13.52326901035975,
          28.947670130158805,
          2.9517714347405306,
          7.25217170982908,
          28.947670130158805,
          4.994678405050701,
          13.304505709944928,
          36.07248528520608
         ],
         "yaxis": "y4"
        },
        {
         "marker": {
          "color": [
           0,
           1,
           2,
           3,
           4,
           5,
           6,
           7,
           8,
           9,
           10,
           11,
           12,
           13,
           14,
           15,
           16,
           17,
           18,
           19,
           20,
           21,
           22,
           23,
           24,
           25,
           26,
           27,
           28,
           29,
           30,
           31,
           32,
           33,
           34,
           35,
           36,
           37,
           38,
           39,
           40,
           41,
           42,
           43,
           44,
           45,
           46,
           47,
           48,
           49,
           50,
           51
          ],
          "colorbar": {
           "title": {
            "text": "Trial"
           },
           "x": 1,
           "xpad": 40
          },
          "colorscale": [
           [
            0,
            "rgb(247,251,255)"
           ],
           [
            0.125,
            "rgb(222,235,247)"
           ],
           [
            0.25,
            "rgb(198,219,239)"
           ],
           [
            0.375,
            "rgb(158,202,225)"
           ],
           [
            0.5,
            "rgb(107,174,214)"
           ],
           [
            0.625,
            "rgb(66,146,198)"
           ],
           [
            0.75,
            "rgb(33,113,181)"
           ],
           [
            0.875,
            "rgb(8,81,156)"
           ],
           [
            1,
            "rgb(8,48,107)"
           ]
          ],
          "line": {
           "color": "Grey",
           "width": 0.5
          },
          "showscale": false
         },
         "mode": "markers",
         "name": "Feasible Trial",
         "showlegend": false,
         "type": "scatter",
         "x": [
          2,
          1,
          2,
          2,
          2,
          0,
          0,
          1,
          1,
          2,
          0,
          0,
          1,
          0,
          1,
          0,
          1,
          0,
          1,
          0,
          1,
          2,
          2,
          1,
          2,
          1,
          1,
          2,
          0,
          0,
          0,
          0,
          0,
          0,
          0,
          0,
          0,
          0,
          0,
          0,
          0,
          0,
          0,
          0,
          0,
          0,
          0,
          0,
          0,
          0,
          0,
          0
         ],
         "xaxis": "x5",
         "y": [
          20.12131171668669,
          26.146446245102247,
          38.241100614868756,
          38.240917598164565,
          28.947670130158805,
          28.947670130158805,
          10.78421687733218,
          33.40370363264214,
          28.947670130158805,
          28.947670130158805,
          24.3514913807539,
          30.416195067767767,
          28.947670130158805,
          28.947670130158805,
          18.235748504206903,
          29.31946337093914,
          20.58167413032627,
          28.947670130158805,
          26.122123591365536,
          33.96448072528556,
          28.53410693501077,
          19.878049360079565,
          20.12075619210937,
          38.66875614992213,
          28.947670130158805,
          41.91182959187298,
          22.527237878197205,
          38.240917598164565,
          18.555228278765505,
          19.986804802056106,
          18.359293622732245,
          17.685700670839232,
          6.522936833344611,
          28.947670130158805,
          9.67737423312044,
          9.764424071466744,
          28.947670130158805,
          28.947670130158805,
          4.759819105781498,
          28.947670130158805,
          28.947670130158805,
          10.132632787515144,
          10.043386538792825,
          10.312809914340642,
          13.52326901035975,
          28.947670130158805,
          2.9517714347405306,
          7.25217170982908,
          28.947670130158805,
          4.994678405050701,
          13.304505709944928,
          36.07248528520608
         ],
         "yaxis": "y5"
        },
        {
         "marker": {
          "color": [
           0,
           1,
           2,
           3,
           4,
           5,
           6,
           7,
           8,
           9,
           10,
           11,
           12,
           13,
           14,
           15,
           16,
           17,
           18,
           19,
           20,
           21,
           22,
           23,
           24,
           25,
           26,
           27,
           28,
           29,
           30,
           31,
           32,
           33,
           34,
           35,
           36,
           37,
           38,
           39,
           40,
           41,
           42,
           43,
           44,
           45,
           46,
           47,
           48,
           49,
           50,
           51
          ],
          "colorbar": {
           "title": {
            "text": "Trial"
           },
           "x": 1,
           "xpad": 40
          },
          "colorscale": [
           [
            0,
            "rgb(247,251,255)"
           ],
           [
            0.125,
            "rgb(222,235,247)"
           ],
           [
            0.25,
            "rgb(198,219,239)"
           ],
           [
            0.375,
            "rgb(158,202,225)"
           ],
           [
            0.5,
            "rgb(107,174,214)"
           ],
           [
            0.625,
            "rgb(66,146,198)"
           ],
           [
            0.75,
            "rgb(33,113,181)"
           ],
           [
            0.875,
            "rgb(8,81,156)"
           ],
           [
            1,
            "rgb(8,48,107)"
           ]
          ],
          "line": {
           "color": "Grey",
           "width": 0.5
          },
          "showscale": false
         },
         "mode": "markers",
         "name": "Feasible Trial",
         "showlegend": false,
         "type": "scatter",
         "x": [
          -7.715585433636003,
          -5.548006279979034,
          -11.079125387247412,
          -9.041752626651688,
          8.12373901951004,
          12.668361597252098,
          5.789949661336402,
          -2.1149432701225317,
          13.160911849233111,
          18.346912008935995,
          -0.6005907555073268,
          -4.182481256386569,
          7.7266467643803125,
          23.146608019176462,
          -5.297957250207697,
          2.8893122098948196,
          -5.0293370775464075,
          4.725660356753238,
          0.4926559245126647,
          -6.177914634751232,
          4.285936660227701,
          -7.831609684117645,
          -2.7368470917275447,
          -6.962506531028349,
          9.805594573361601,
          -2.730492485265102,
          -4.188710583975226,
          -13.741359450185692,
          -8.483585078414958,
          -9.117791533527106,
          0.9066624976580249,
          2.692779811913044,
          2.8342032944957807,
          6.077923416837452,
          2.245429274783483,
          2.7031457021384693,
          10.641076438475526,
          4.747909447983011,
          3.0359217762286224,
          2.790267084519764,
          7.737851399076705,
          2.034596983575826,
          2.0445441092353596,
          1.939059615178534,
          3.3987742018790543,
          3.664799110423486,
          1.8722523128821265,
          1.3632773835161125,
          5.650885901239482,
          1.2608121263643377,
          3.4191311388544166,
          1.2823526847143696
         ],
         "xaxis": "x6",
         "y": [
          20.12131171668669,
          26.146446245102247,
          38.241100614868756,
          38.240917598164565,
          28.947670130158805,
          28.947670130158805,
          10.78421687733218,
          33.40370363264214,
          28.947670130158805,
          28.947670130158805,
          24.3514913807539,
          30.416195067767767,
          28.947670130158805,
          28.947670130158805,
          18.235748504206903,
          29.31946337093914,
          20.58167413032627,
          28.947670130158805,
          26.122123591365536,
          33.96448072528556,
          28.53410693501077,
          19.878049360079565,
          20.12075619210937,
          38.66875614992213,
          28.947670130158805,
          41.91182959187298,
          22.527237878197205,
          38.240917598164565,
          18.555228278765505,
          19.986804802056106,
          18.359293622732245,
          17.685700670839232,
          6.522936833344611,
          28.947670130158805,
          9.67737423312044,
          9.764424071466744,
          28.947670130158805,
          28.947670130158805,
          4.759819105781498,
          28.947670130158805,
          28.947670130158805,
          10.132632787515144,
          10.043386538792825,
          10.312809914340642,
          13.52326901035975,
          28.947670130158805,
          2.9517714347405306,
          7.25217170982908,
          28.947670130158805,
          4.994678405050701,
          13.304505709944928,
          36.07248528520608
         ],
         "yaxis": "y6"
        },
        {
         "marker": {
          "color": [
           0,
           1,
           2,
           3,
           4,
           5,
           6,
           7,
           8,
           9,
           10,
           11,
           12,
           13,
           14,
           15,
           16,
           17,
           18,
           19,
           20,
           21,
           22,
           23,
           24,
           25,
           26,
           27,
           28,
           29,
           30,
           31,
           32,
           33,
           34,
           35,
           36,
           37,
           38,
           39,
           40,
           41,
           42,
           43,
           44,
           45,
           46,
           47,
           48,
           49,
           50,
           51
          ],
          "colorbar": {
           "title": {
            "text": "Trial"
           },
           "x": 1,
           "xpad": 40
          },
          "colorscale": [
           [
            0,
            "rgb(247,251,255)"
           ],
           [
            0.125,
            "rgb(222,235,247)"
           ],
           [
            0.25,
            "rgb(198,219,239)"
           ],
           [
            0.375,
            "rgb(158,202,225)"
           ],
           [
            0.5,
            "rgb(107,174,214)"
           ],
           [
            0.625,
            "rgb(66,146,198)"
           ],
           [
            0.75,
            "rgb(33,113,181)"
           ],
           [
            0.875,
            "rgb(8,81,156)"
           ],
           [
            1,
            "rgb(8,48,107)"
           ]
          ],
          "line": {
           "color": "Grey",
           "width": 0.5
          },
          "showscale": false
         },
         "mode": "markers",
         "name": "Feasible Trial",
         "showlegend": false,
         "type": "scatter",
         "x": [
          -11.149371728268953,
          -13.134950141881571,
          -12.835224102572498,
          -13.144654953326672,
          1.04799289120524,
          8.770329258969294,
          -0.2651479016154994,
          -2.9400847331954196,
          4.089804460663029,
          10.291186390869356,
          -5.841745789484823,
          -7.189472300104963,
          4.52879618432717,
          14.37291473062728,
          -7.603162911912339,
          -2.2213022941160463,
          -8.530563692681826,
          1.3010999567202504,
          -4.179327670941716,
          -9.62385561721992,
          -0.6098875507107122,
          -10.32697144469088,
          -6.126271409637553,
          -9.919943543428557,
          4.945734992830058,
          -4.745040579553551,
          -7.781370120088008,
          -14.27973942714311,
          -11.17714483297671,
          -11.33497846206511,
          -2.3644903007641456,
          -0.8475029041430191,
          -1.0284432257837375,
          2.695656748402782,
          -1.21231514095127,
          -0.30983186886962194,
          6.992442514926446,
          2.8398760589326146,
          0.47758296641983994,
          1.000537570111394,
          6.49032795783512,
          -0.665935160249856,
          -3.6246950052969433,
          -3.644071675407766,
          -2.3389692157230644,
          1.7642883688297792,
          -1.3321936159428258,
          0.06630754023195418,
          3.208881864800638,
          -1.7162094423228702,
          0.9636589421710282,
          -1.4771892426796271
         ],
         "xaxis": "x7",
         "y": [
          20.12131171668669,
          26.146446245102247,
          38.241100614868756,
          38.240917598164565,
          28.947670130158805,
          28.947670130158805,
          10.78421687733218,
          33.40370363264214,
          28.947670130158805,
          28.947670130158805,
          24.3514913807539,
          30.416195067767767,
          28.947670130158805,
          28.947670130158805,
          18.235748504206903,
          29.31946337093914,
          20.58167413032627,
          28.947670130158805,
          26.122123591365536,
          33.96448072528556,
          28.53410693501077,
          19.878049360079565,
          20.12075619210937,
          38.66875614992213,
          28.947670130158805,
          41.91182959187298,
          22.527237878197205,
          38.240917598164565,
          18.555228278765505,
          19.986804802056106,
          18.359293622732245,
          17.685700670839232,
          6.522936833344611,
          28.947670130158805,
          9.67737423312044,
          9.764424071466744,
          28.947670130158805,
          28.947670130158805,
          4.759819105781498,
          28.947670130158805,
          28.947670130158805,
          10.132632787515144,
          10.043386538792825,
          10.312809914340642,
          13.52326901035975,
          28.947670130158805,
          2.9517714347405306,
          7.25217170982908,
          28.947670130158805,
          4.994678405050701,
          13.304505709944928,
          36.07248528520608
         ],
         "yaxis": "y7"
        }
       ],
       "layout": {
        "template": {
         "data": {
          "bar": [
           {
            "error_x": {
             "color": "#2a3f5f"
            },
            "error_y": {
             "color": "#2a3f5f"
            },
            "marker": {
             "line": {
              "color": "#E5ECF6",
              "width": 0.5
             },
             "pattern": {
              "fillmode": "overlay",
              "size": 10,
              "solidity": 0.2
             }
            },
            "type": "bar"
           }
          ],
          "barpolar": [
           {
            "marker": {
             "line": {
              "color": "#E5ECF6",
              "width": 0.5
             },
             "pattern": {
              "fillmode": "overlay",
              "size": 10,
              "solidity": 0.2
             }
            },
            "type": "barpolar"
           }
          ],
          "carpet": [
           {
            "aaxis": {
             "endlinecolor": "#2a3f5f",
             "gridcolor": "white",
             "linecolor": "white",
             "minorgridcolor": "white",
             "startlinecolor": "#2a3f5f"
            },
            "baxis": {
             "endlinecolor": "#2a3f5f",
             "gridcolor": "white",
             "linecolor": "white",
             "minorgridcolor": "white",
             "startlinecolor": "#2a3f5f"
            },
            "type": "carpet"
           }
          ],
          "choropleth": [
           {
            "colorbar": {
             "outlinewidth": 0,
             "ticks": ""
            },
            "type": "choropleth"
           }
          ],
          "contour": [
           {
            "colorbar": {
             "outlinewidth": 0,
             "ticks": ""
            },
            "colorscale": [
             [
              0,
              "#0d0887"
             ],
             [
              0.1111111111111111,
              "#46039f"
             ],
             [
              0.2222222222222222,
              "#7201a8"
             ],
             [
              0.3333333333333333,
              "#9c179e"
             ],
             [
              0.4444444444444444,
              "#bd3786"
             ],
             [
              0.5555555555555556,
              "#d8576b"
             ],
             [
              0.6666666666666666,
              "#ed7953"
             ],
             [
              0.7777777777777778,
              "#fb9f3a"
             ],
             [
              0.8888888888888888,
              "#fdca26"
             ],
             [
              1,
              "#f0f921"
             ]
            ],
            "type": "contour"
           }
          ],
          "contourcarpet": [
           {
            "colorbar": {
             "outlinewidth": 0,
             "ticks": ""
            },
            "type": "contourcarpet"
           }
          ],
          "heatmap": [
           {
            "colorbar": {
             "outlinewidth": 0,
             "ticks": ""
            },
            "colorscale": [
             [
              0,
              "#0d0887"
             ],
             [
              0.1111111111111111,
              "#46039f"
             ],
             [
              0.2222222222222222,
              "#7201a8"
             ],
             [
              0.3333333333333333,
              "#9c179e"
             ],
             [
              0.4444444444444444,
              "#bd3786"
             ],
             [
              0.5555555555555556,
              "#d8576b"
             ],
             [
              0.6666666666666666,
              "#ed7953"
             ],
             [
              0.7777777777777778,
              "#fb9f3a"
             ],
             [
              0.8888888888888888,
              "#fdca26"
             ],
             [
              1,
              "#f0f921"
             ]
            ],
            "type": "heatmap"
           }
          ],
          "heatmapgl": [
           {
            "colorbar": {
             "outlinewidth": 0,
             "ticks": ""
            },
            "colorscale": [
             [
              0,
              "#0d0887"
             ],
             [
              0.1111111111111111,
              "#46039f"
             ],
             [
              0.2222222222222222,
              "#7201a8"
             ],
             [
              0.3333333333333333,
              "#9c179e"
             ],
             [
              0.4444444444444444,
              "#bd3786"
             ],
             [
              0.5555555555555556,
              "#d8576b"
             ],
             [
              0.6666666666666666,
              "#ed7953"
             ],
             [
              0.7777777777777778,
              "#fb9f3a"
             ],
             [
              0.8888888888888888,
              "#fdca26"
             ],
             [
              1,
              "#f0f921"
             ]
            ],
            "type": "heatmapgl"
           }
          ],
          "histogram": [
           {
            "marker": {
             "pattern": {
              "fillmode": "overlay",
              "size": 10,
              "solidity": 0.2
             }
            },
            "type": "histogram"
           }
          ],
          "histogram2d": [
           {
            "colorbar": {
             "outlinewidth": 0,
             "ticks": ""
            },
            "colorscale": [
             [
              0,
              "#0d0887"
             ],
             [
              0.1111111111111111,
              "#46039f"
             ],
             [
              0.2222222222222222,
              "#7201a8"
             ],
             [
              0.3333333333333333,
              "#9c179e"
             ],
             [
              0.4444444444444444,
              "#bd3786"
             ],
             [
              0.5555555555555556,
              "#d8576b"
             ],
             [
              0.6666666666666666,
              "#ed7953"
             ],
             [
              0.7777777777777778,
              "#fb9f3a"
             ],
             [
              0.8888888888888888,
              "#fdca26"
             ],
             [
              1,
              "#f0f921"
             ]
            ],
            "type": "histogram2d"
           }
          ],
          "histogram2dcontour": [
           {
            "colorbar": {
             "outlinewidth": 0,
             "ticks": ""
            },
            "colorscale": [
             [
              0,
              "#0d0887"
             ],
             [
              0.1111111111111111,
              "#46039f"
             ],
             [
              0.2222222222222222,
              "#7201a8"
             ],
             [
              0.3333333333333333,
              "#9c179e"
             ],
             [
              0.4444444444444444,
              "#bd3786"
             ],
             [
              0.5555555555555556,
              "#d8576b"
             ],
             [
              0.6666666666666666,
              "#ed7953"
             ],
             [
              0.7777777777777778,
              "#fb9f3a"
             ],
             [
              0.8888888888888888,
              "#fdca26"
             ],
             [
              1,
              "#f0f921"
             ]
            ],
            "type": "histogram2dcontour"
           }
          ],
          "mesh3d": [
           {
            "colorbar": {
             "outlinewidth": 0,
             "ticks": ""
            },
            "type": "mesh3d"
           }
          ],
          "parcoords": [
           {
            "line": {
             "colorbar": {
              "outlinewidth": 0,
              "ticks": ""
             }
            },
            "type": "parcoords"
           }
          ],
          "pie": [
           {
            "automargin": true,
            "type": "pie"
           }
          ],
          "scatter": [
           {
            "fillpattern": {
             "fillmode": "overlay",
             "size": 10,
             "solidity": 0.2
            },
            "type": "scatter"
           }
          ],
          "scatter3d": [
           {
            "line": {
             "colorbar": {
              "outlinewidth": 0,
              "ticks": ""
             }
            },
            "marker": {
             "colorbar": {
              "outlinewidth": 0,
              "ticks": ""
             }
            },
            "type": "scatter3d"
           }
          ],
          "scattercarpet": [
           {
            "marker": {
             "colorbar": {
              "outlinewidth": 0,
              "ticks": ""
             }
            },
            "type": "scattercarpet"
           }
          ],
          "scattergeo": [
           {
            "marker": {
             "colorbar": {
              "outlinewidth": 0,
              "ticks": ""
             }
            },
            "type": "scattergeo"
           }
          ],
          "scattergl": [
           {
            "marker": {
             "colorbar": {
              "outlinewidth": 0,
              "ticks": ""
             }
            },
            "type": "scattergl"
           }
          ],
          "scattermapbox": [
           {
            "marker": {
             "colorbar": {
              "outlinewidth": 0,
              "ticks": ""
             }
            },
            "type": "scattermapbox"
           }
          ],
          "scatterpolar": [
           {
            "marker": {
             "colorbar": {
              "outlinewidth": 0,
              "ticks": ""
             }
            },
            "type": "scatterpolar"
           }
          ],
          "scatterpolargl": [
           {
            "marker": {
             "colorbar": {
              "outlinewidth": 0,
              "ticks": ""
             }
            },
            "type": "scatterpolargl"
           }
          ],
          "scatterternary": [
           {
            "marker": {
             "colorbar": {
              "outlinewidth": 0,
              "ticks": ""
             }
            },
            "type": "scatterternary"
           }
          ],
          "surface": [
           {
            "colorbar": {
             "outlinewidth": 0,
             "ticks": ""
            },
            "colorscale": [
             [
              0,
              "#0d0887"
             ],
             [
              0.1111111111111111,
              "#46039f"
             ],
             [
              0.2222222222222222,
              "#7201a8"
             ],
             [
              0.3333333333333333,
              "#9c179e"
             ],
             [
              0.4444444444444444,
              "#bd3786"
             ],
             [
              0.5555555555555556,
              "#d8576b"
             ],
             [
              0.6666666666666666,
              "#ed7953"
             ],
             [
              0.7777777777777778,
              "#fb9f3a"
             ],
             [
              0.8888888888888888,
              "#fdca26"
             ],
             [
              1,
              "#f0f921"
             ]
            ],
            "type": "surface"
           }
          ],
          "table": [
           {
            "cells": {
             "fill": {
              "color": "#EBF0F8"
             },
             "line": {
              "color": "white"
             }
            },
            "header": {
             "fill": {
              "color": "#C8D4E3"
             },
             "line": {
              "color": "white"
             }
            },
            "type": "table"
           }
          ]
         },
         "layout": {
          "annotationdefaults": {
           "arrowcolor": "#2a3f5f",
           "arrowhead": 0,
           "arrowwidth": 1
          },
          "autotypenumbers": "strict",
          "coloraxis": {
           "colorbar": {
            "outlinewidth": 0,
            "ticks": ""
           }
          },
          "colorscale": {
           "diverging": [
            [
             0,
             "#8e0152"
            ],
            [
             0.1,
             "#c51b7d"
            ],
            [
             0.2,
             "#de77ae"
            ],
            [
             0.3,
             "#f1b6da"
            ],
            [
             0.4,
             "#fde0ef"
            ],
            [
             0.5,
             "#f7f7f7"
            ],
            [
             0.6,
             "#e6f5d0"
            ],
            [
             0.7,
             "#b8e186"
            ],
            [
             0.8,
             "#7fbc41"
            ],
            [
             0.9,
             "#4d9221"
            ],
            [
             1,
             "#276419"
            ]
           ],
           "sequential": [
            [
             0,
             "#0d0887"
            ],
            [
             0.1111111111111111,
             "#46039f"
            ],
            [
             0.2222222222222222,
             "#7201a8"
            ],
            [
             0.3333333333333333,
             "#9c179e"
            ],
            [
             0.4444444444444444,
             "#bd3786"
            ],
            [
             0.5555555555555556,
             "#d8576b"
            ],
            [
             0.6666666666666666,
             "#ed7953"
            ],
            [
             0.7777777777777778,
             "#fb9f3a"
            ],
            [
             0.8888888888888888,
             "#fdca26"
            ],
            [
             1,
             "#f0f921"
            ]
           ],
           "sequentialminus": [
            [
             0,
             "#0d0887"
            ],
            [
             0.1111111111111111,
             "#46039f"
            ],
            [
             0.2222222222222222,
             "#7201a8"
            ],
            [
             0.3333333333333333,
             "#9c179e"
            ],
            [
             0.4444444444444444,
             "#bd3786"
            ],
            [
             0.5555555555555556,
             "#d8576b"
            ],
            [
             0.6666666666666666,
             "#ed7953"
            ],
            [
             0.7777777777777778,
             "#fb9f3a"
            ],
            [
             0.8888888888888888,
             "#fdca26"
            ],
            [
             1,
             "#f0f921"
            ]
           ]
          },
          "colorway": [
           "#636efa",
           "#EF553B",
           "#00cc96",
           "#ab63fa",
           "#FFA15A",
           "#19d3f3",
           "#FF6692",
           "#B6E880",
           "#FF97FF",
           "#FECB52"
          ],
          "font": {
           "color": "#2a3f5f"
          },
          "geo": {
           "bgcolor": "white",
           "lakecolor": "white",
           "landcolor": "#E5ECF6",
           "showlakes": true,
           "showland": true,
           "subunitcolor": "white"
          },
          "hoverlabel": {
           "align": "left"
          },
          "hovermode": "closest",
          "mapbox": {
           "style": "light"
          },
          "paper_bgcolor": "white",
          "plot_bgcolor": "#E5ECF6",
          "polar": {
           "angularaxis": {
            "gridcolor": "white",
            "linecolor": "white",
            "ticks": ""
           },
           "bgcolor": "#E5ECF6",
           "radialaxis": {
            "gridcolor": "white",
            "linecolor": "white",
            "ticks": ""
           }
          },
          "scene": {
           "xaxis": {
            "backgroundcolor": "#E5ECF6",
            "gridcolor": "white",
            "gridwidth": 2,
            "linecolor": "white",
            "showbackground": true,
            "ticks": "",
            "zerolinecolor": "white"
           },
           "yaxis": {
            "backgroundcolor": "#E5ECF6",
            "gridcolor": "white",
            "gridwidth": 2,
            "linecolor": "white",
            "showbackground": true,
            "ticks": "",
            "zerolinecolor": "white"
           },
           "zaxis": {
            "backgroundcolor": "#E5ECF6",
            "gridcolor": "white",
            "gridwidth": 2,
            "linecolor": "white",
            "showbackground": true,
            "ticks": "",
            "zerolinecolor": "white"
           }
          },
          "shapedefaults": {
           "line": {
            "color": "#2a3f5f"
           }
          },
          "ternary": {
           "aaxis": {
            "gridcolor": "white",
            "linecolor": "white",
            "ticks": ""
           },
           "baxis": {
            "gridcolor": "white",
            "linecolor": "white",
            "ticks": ""
           },
           "bgcolor": "#E5ECF6",
           "caxis": {
            "gridcolor": "white",
            "linecolor": "white",
            "ticks": ""
           }
          },
          "title": {
           "x": 0.05
          },
          "xaxis": {
           "automargin": true,
           "gridcolor": "white",
           "linecolor": "white",
           "ticks": "",
           "title": {
            "standoff": 15
           },
           "zerolinecolor": "white",
           "zerolinewidth": 2
          },
          "yaxis": {
           "automargin": true,
           "gridcolor": "white",
           "linecolor": "white",
           "ticks": "",
           "title": {
            "standoff": 15
           },
           "zerolinecolor": "white",
           "zerolinewidth": 2
          }
         }
        },
        "title": {
         "text": "Slice Plot"
        },
        "width": 2100,
        "xaxis": {
         "anchor": "y",
         "domain": [
          0,
          0.1183673469387755
         ],
         "title": {
          "text": "C_h"
         }
        },
        "xaxis2": {
         "anchor": "y2",
         "domain": [
          0.14693877551020407,
          0.26530612244897955
         ],
         "title": {
          "text": "Inh"
         }
        },
        "xaxis3": {
         "anchor": "y3",
         "domain": [
          0.29387755102040813,
          0.4122448979591836
         ],
         "title": {
          "text": "L"
         }
        },
        "xaxis4": {
         "anchor": "y4",
         "domain": [
          0.4408163265306122,
          0.5591836734693877
         ],
         "title": {
          "text": "P"
         }
        },
        "xaxis5": {
         "anchor": "y5",
         "domain": [
          0.5877551020408163,
          0.7061224489795918
         ],
         "title": {
          "text": "Tipo_red"
         }
        },
        "xaxis6": {
         "anchor": "y6",
         "domain": [
          0.7346938775510204,
          0.8530612244897959
         ],
         "title": {
          "text": "Trelative"
         }
        },
        "xaxis7": {
         "anchor": "y7",
         "domain": [
          0.8816326530612244,
          0.9999999999999999
         ],
         "title": {
          "text": "Trest"
         }
        },
        "yaxis": {
         "anchor": "x",
         "domain": [
          0,
          1
         ],
         "title": {
          "text": "Objective Value"
         }
        },
        "yaxis2": {
         "anchor": "x2",
         "domain": [
          0,
          1
         ],
         "matches": "y",
         "showticklabels": false
        },
        "yaxis3": {
         "anchor": "x3",
         "domain": [
          0,
          1
         ],
         "matches": "y",
         "showticklabels": false
        },
        "yaxis4": {
         "anchor": "x4",
         "domain": [
          0,
          1
         ],
         "matches": "y",
         "showticklabels": false
        },
        "yaxis5": {
         "anchor": "x5",
         "domain": [
          0,
          1
         ],
         "matches": "y",
         "showticklabels": false
        },
        "yaxis6": {
         "anchor": "x6",
         "domain": [
          0,
          1
         ],
         "matches": "y",
         "showticklabels": false
        },
        "yaxis7": {
         "anchor": "x7",
         "domain": [
          0,
          1
         ],
         "matches": "y",
         "showticklabels": false
        }
       }
      }
     },
     "metadata": {},
     "output_type": "display_data"
    }
   ],
   "source": [
    "optuna.visualization.plot_slice(study)"
   ]
  },
  {
   "cell_type": "code",
   "execution_count": null,
   "metadata": {},
   "outputs": [],
   "source": []
  }
 ],
 "metadata": {
  "kernelspec": {
   "display_name": "Python 3",
   "language": "python",
   "name": "python3"
  },
  "language_info": {
   "codemirror_mode": {
    "name": "ipython",
    "version": 3
   },
   "file_extension": ".py",
   "mimetype": "text/x-python",
   "name": "python",
   "nbconvert_exporter": "python",
   "pygments_lexer": "ipython3",
   "version": "3.12.3"
  }
 },
 "nbformat": 4,
 "nbformat_minor": 2
}
