{
 "cells": [
  {
   "cell_type": "code",
   "execution_count": 3,
   "metadata": {},
   "outputs": [],
   "source": [
    "import numpy as np\n",
    "import matplotlib.pyplot as plt\n",
    "import subprocess\n",
    "import sys\n",
    "import heapq\n",
    "from scipy.stats import poisson \n",
    "import seaborn as sns\n",
    "from scipy.signal import butter, filtfilt,welch\n",
    "from scipy import signal\n"
   ]
  },
  {
   "cell_type": "code",
   "execution_count": 4,
   "metadata": {},
   "outputs": [],
   "source": [
    "def Regular_1(L,Inh):\n",
    "    L2=L*L\n",
    "    Matrix=np.zeros((L2,L2),int)\n",
    "    rng=np.random.default_rng(seed=1)\n",
    "    for i in range(L):\n",
    "        for j in range(L):\n",
    "            ia=i\n",
    "            ji=j\n",
    "            id=i\n",
    "            jd=j\n",
    "            if ia+1==L:\n",
    "                ia=-1\n",
    "            if id==0:\n",
    "                id=L\n",
    "            if jd+1==L:\n",
    "                jd=-1\n",
    "            if ji==0:\n",
    "                ji=L\n",
    "            I=rng.uniform(0.0, 1.0)\n",
    "            if I<Inh:\n",
    "                I=0\n",
    "            else :\n",
    "                I=1\n",
    "            Matrix[i*L+j][i*L+jd+1]=1*(2*I-1)## derecha I=0 -1,I=1 1\n",
    "            I=rng.uniform(0.0, 1.0)\n",
    "            if I<Inh:\n",
    "                I=0\n",
    "            else:\n",
    "                I=1\n",
    "            Matrix[i*L+j][i*L+ji-1]=-1*(2*I-1)## izquieda\n",
    "            I=rng.uniform(0.0, 1.0)\n",
    "            if I<Inh:\n",
    "                I=0\n",
    "            else:\n",
    "                I=1\n",
    "            Matrix[i*L+j][(ia+1)*L+j]=-1*(2*I-1)## arriba \n",
    "            I=rng.uniform(0.0, 1.0)\n",
    "            if I<Inh:\n",
    "                I=0\n",
    "            else: \n",
    "                I=1\n",
    "            Matrix[i*L+j][(id-1)*L+j]=-1*(2*I-1)# Abajo\n",
    "    return Matrix\n",
    "\n",
    "def small_word_Bi(L,P,Inh):\n",
    "    Matrix=Regular_1(L,Inh)\n",
    "    rng=np.random.default_rng(seed=1)\n",
    "    for i in range(L*L):\n",
    "        for j in range(L*L):\n",
    "            if Matrix[i][j]==1 and rng.uniform(0.0, 1.0)<P:\n",
    "                Matrix[i][j]==0\n",
    "                Matrix[j][i]==0\n",
    "                jj=rng.integers(0,L*L-1)\n",
    "                if jj==i or jj==j:\n",
    "                    jj=rng.integers(0,L*L-1)\n",
    "                    Matrix[jj][i]=2\n",
    "                    Matrix[i][jj]=2\n",
    "                else:\n",
    "                    Matrix[jj][i]=2\n",
    "                    Matrix[i][jj]=2\n",
    "            elif Matrix[i][j]==-1 and rng.uniform(0.0, 1.0)<P:\n",
    "                Matrix[i][j]==0\n",
    "                Matrix[j][i]==0\n",
    "                jj=rng.integers(0,L*L-1)\n",
    "                if jj==i or jj==j:\n",
    "                    jj=rng.integers(0,L*L-1)\n",
    "                    Matrix[jj][i]=-2\n",
    "                    Matrix[i][jj]=-2\n",
    "                else:\n",
    "                    Matrix[jj][i]=-2\n",
    "                    Matrix[i][jj]=-2\n",
    "    for i in range(L*L):\n",
    "        for j in range(L*L):\n",
    "            if Matrix[i][j]==2:\n",
    "                Matrix[i][j]=1\n",
    "                Matrix[j][i]=1\n",
    "            elif Matrix[i][j]==-2:\n",
    "                Matrix[i][j]=-1\n",
    "                Matrix[j][i]=-1\n",
    "    return Matrix\n",
    "\n",
    "def Random_bi(L,  P,  Inh):\n",
    "    matrix=np.zeros((L*L,L*L),int)\n",
    "    rng=np.random.default_rng(seed=1)\n",
    "    for i in range(L*L):\n",
    "        for j in range(L*L):\n",
    "            I=rng.uniform(0.0,1.0)\n",
    "            if I<Inh:\n",
    "                I=0\n",
    "            else:\n",
    "                I=1\n",
    "            if (matrix[i][j]!=1 or matrix[i][j]!=-1) and rng.uniform(0.0,1.0)<P:\n",
    "            \n",
    "                matrix[i][j]=-1*(2*I-1)\n",
    "                matrix[j][i]=-1*(2*I-1)\n",
    "    return matrix   \n",
    "    "
   ]
  },
  {
   "cell_type": "code",
   "execution_count": 5,
   "metadata": {},
   "outputs": [
    {
     "name": "stdout",
     "output_type": "stream",
     "text": [
      "a10 10\n"
     ]
    }
   ],
   "source": [
    "print(f\"a{10} { 10}\")"
   ]
  },
  {
   "cell_type": "code",
   "execution_count": 6,
   "metadata": {},
   "outputs": [],
   "source": [
    "class EGG:\n",
    "    def __init__(self, L, P, inhibidoras,  trest, trelative,  alpha, tmax, type_matrix):\n",
    "        self.L=L\n",
    "        self.P=P\n",
    "        self.inh=inhibidoras\n",
    "        self.Trest = trest\n",
    "        self.Trelative = trelative  \n",
    "        self.tmax=tmax\n",
    "        self.Alpha = alpha  # Velocity in y direction\n",
    "        self.L2 = L * L  # Distribution functions\n",
    "        self.t_matrix=type_matrix\n",
    "    def cpp(self):\n",
    "        # Compilación del programa\n",
    "        resultado_compilacion = subprocess.run(\"g++ -O3 main.cpp Matrix_conect.cpp -o main\", shell=True, stdout=subprocess.PIPE, stderr=subprocess.PIPE, text=True)\n",
    "        \n",
    "        if resultado_compilacion.returncode != 0:\n",
    "            print(\"Error durante la compilación:\")\n",
    "            print(resultado_compilacion.stderr)\n",
    "            return\n",
    "        \n",
    "        # Ejecución del programa compilado y redirección de salida\n",
    "        resultado_ejecucion = subprocess.run(f\"./main {self.L} {self.P} {self.inh} {self.Trest} {self.Trelative} {self.Alpha} {self.tmax} {self.t_matrix} > data.dat\", shell=True, stdout=subprocess.PIPE, stderr=subprocess.PIPE, text=True)\n",
    "        \n",
    "        if resultado_ejecucion.returncode != 0:\n",
    "            print(\"Error durante la ejecución:\")\n",
    "            print(resultado_ejecucion.stderr)\n",
    "        else:\n",
    "            print(\"Datos guardados correctamente en data.dat.\")\n",
    "\n"
   ]
  },
  {
   "cell_type": "code",
   "execution_count": 13,
   "metadata": {},
   "outputs": [],
   "source": [
    "#######L,P,inh,trest,trelative,Ch, Time, type\n",
    "F1=EGG(400,0.01,0.5,2,3,0.1,100,1)\n",
    "F1.cpp()\n"
   ]
  },
  {
   "cell_type": "code",
   "execution_count": 12,
   "metadata": {},
   "outputs": [
    {
     "name": "stderr",
     "output_type": "stream",
     "text": [
      "/home/juanmillan/.local/lib/python3.10/site-packages/scipy/signal/_spectral_py.py:600: UserWarning: nperseg = 800 is greater than input length  = 70, using nperseg = 70\n",
      "  freqs, _, Pxy = _spectral_helper(x, y, fs, window, nperseg, noverlap,\n"
     ]
    },
    {
     "ename": "ValueError",
     "evalue": "noverlap must be less than nperseg.",
     "output_type": "error",
     "traceback": [
      "\u001b[0;31m---------------------------------------------------------------------------\u001b[0m",
      "\u001b[0;31mValueError\u001b[0m                                Traceback (most recent call last)",
      "Cell \u001b[0;32mIn[12], line 27\u001b[0m\n\u001b[1;32m     24\u001b[0m noverlap \u001b[38;5;241m=\u001b[39m \u001b[38;5;28mint\u001b[39m(fs \u001b[38;5;241m*\u001b[39m \u001b[38;5;241m1\u001b[39m)  \u001b[38;5;66;03m# Overlap between segments\u001b[39;00m\n\u001b[1;32m     26\u001b[0m \u001b[38;5;66;03m# Cálculo de la PSD usando el método de Welch\u001b[39;00m\n\u001b[0;32m---> 27\u001b[0m frequencies_a, psd_a \u001b[38;5;241m=\u001b[39m \u001b[43msignal\u001b[49m\u001b[38;5;241;43m.\u001b[39;49m\u001b[43mwelch\u001b[49m\u001b[43m(\u001b[49m\u001b[43mfiltered_data_a\u001b[49m\u001b[43m,\u001b[49m\u001b[43m \u001b[49m\u001b[43mfs\u001b[49m\u001b[43m,\u001b[49m\u001b[43m \u001b[49m\u001b[43mnperseg\u001b[49m\u001b[38;5;241;43m=\u001b[39;49m\u001b[43mnperseg\u001b[49m\u001b[43m,\u001b[49m\u001b[43m \u001b[49m\u001b[43mnoverlap\u001b[49m\u001b[38;5;241;43m=\u001b[39;49m\u001b[43mnoverlap\u001b[49m\u001b[43m)\u001b[49m\n\u001b[1;32m     28\u001b[0m alplitud_a \u001b[38;5;241m=\u001b[39m np\u001b[38;5;241m.\u001b[39mzeros_like(psd_a)\n\u001b[1;32m     29\u001b[0m \u001b[38;5;66;03m# Conversion a decibelios\u001b[39;00m\n",
      "File \u001b[0;32m~/.local/lib/python3.10/site-packages/scipy/signal/_spectral_py.py:462\u001b[0m, in \u001b[0;36mwelch\u001b[0;34m(x, fs, window, nperseg, noverlap, nfft, detrend, return_onesided, scaling, axis, average)\u001b[0m\n\u001b[1;32m    300\u001b[0m \u001b[38;5;28;01mdef\u001b[39;00m \u001b[38;5;21mwelch\u001b[39m(x, fs\u001b[38;5;241m=\u001b[39m\u001b[38;5;241m1.0\u001b[39m, window\u001b[38;5;241m=\u001b[39m\u001b[38;5;124m'\u001b[39m\u001b[38;5;124mhann\u001b[39m\u001b[38;5;124m'\u001b[39m, nperseg\u001b[38;5;241m=\u001b[39m\u001b[38;5;28;01mNone\u001b[39;00m, noverlap\u001b[38;5;241m=\u001b[39m\u001b[38;5;28;01mNone\u001b[39;00m, nfft\u001b[38;5;241m=\u001b[39m\u001b[38;5;28;01mNone\u001b[39;00m,\n\u001b[1;32m    301\u001b[0m           detrend\u001b[38;5;241m=\u001b[39m\u001b[38;5;124m'\u001b[39m\u001b[38;5;124mconstant\u001b[39m\u001b[38;5;124m'\u001b[39m, return_onesided\u001b[38;5;241m=\u001b[39m\u001b[38;5;28;01mTrue\u001b[39;00m, scaling\u001b[38;5;241m=\u001b[39m\u001b[38;5;124m'\u001b[39m\u001b[38;5;124mdensity\u001b[39m\u001b[38;5;124m'\u001b[39m,\n\u001b[1;32m    302\u001b[0m           axis\u001b[38;5;241m=\u001b[39m\u001b[38;5;241m-\u001b[39m\u001b[38;5;241m1\u001b[39m, average\u001b[38;5;241m=\u001b[39m\u001b[38;5;124m'\u001b[39m\u001b[38;5;124mmean\u001b[39m\u001b[38;5;124m'\u001b[39m):\n\u001b[1;32m    303\u001b[0m \u001b[38;5;250m    \u001b[39m\u001b[38;5;124mr\u001b[39m\u001b[38;5;124;03m\"\"\"\u001b[39;00m\n\u001b[1;32m    304\u001b[0m \u001b[38;5;124;03m    Estimate power spectral density using Welch's method.\u001b[39;00m\n\u001b[1;32m    305\u001b[0m \n\u001b[0;32m   (...)\u001b[0m\n\u001b[1;32m    460\u001b[0m \n\u001b[1;32m    461\u001b[0m \u001b[38;5;124;03m    \"\"\"\u001b[39;00m\n\u001b[0;32m--> 462\u001b[0m     freqs, Pxx \u001b[38;5;241m=\u001b[39m \u001b[43mcsd\u001b[49m\u001b[43m(\u001b[49m\u001b[43mx\u001b[49m\u001b[43m,\u001b[49m\u001b[43m \u001b[49m\u001b[43mx\u001b[49m\u001b[43m,\u001b[49m\u001b[43m \u001b[49m\u001b[43mfs\u001b[49m\u001b[38;5;241;43m=\u001b[39;49m\u001b[43mfs\u001b[49m\u001b[43m,\u001b[49m\u001b[43m \u001b[49m\u001b[43mwindow\u001b[49m\u001b[38;5;241;43m=\u001b[39;49m\u001b[43mwindow\u001b[49m\u001b[43m,\u001b[49m\u001b[43m \u001b[49m\u001b[43mnperseg\u001b[49m\u001b[38;5;241;43m=\u001b[39;49m\u001b[43mnperseg\u001b[49m\u001b[43m,\u001b[49m\n\u001b[1;32m    463\u001b[0m \u001b[43m                     \u001b[49m\u001b[43mnoverlap\u001b[49m\u001b[38;5;241;43m=\u001b[39;49m\u001b[43mnoverlap\u001b[49m\u001b[43m,\u001b[49m\u001b[43m \u001b[49m\u001b[43mnfft\u001b[49m\u001b[38;5;241;43m=\u001b[39;49m\u001b[43mnfft\u001b[49m\u001b[43m,\u001b[49m\u001b[43m \u001b[49m\u001b[43mdetrend\u001b[49m\u001b[38;5;241;43m=\u001b[39;49m\u001b[43mdetrend\u001b[49m\u001b[43m,\u001b[49m\n\u001b[1;32m    464\u001b[0m \u001b[43m                     \u001b[49m\u001b[43mreturn_onesided\u001b[49m\u001b[38;5;241;43m=\u001b[39;49m\u001b[43mreturn_onesided\u001b[49m\u001b[43m,\u001b[49m\u001b[43m \u001b[49m\u001b[43mscaling\u001b[49m\u001b[38;5;241;43m=\u001b[39;49m\u001b[43mscaling\u001b[49m\u001b[43m,\u001b[49m\n\u001b[1;32m    465\u001b[0m \u001b[43m                     \u001b[49m\u001b[43maxis\u001b[49m\u001b[38;5;241;43m=\u001b[39;49m\u001b[43maxis\u001b[49m\u001b[43m,\u001b[49m\u001b[43m \u001b[49m\u001b[43maverage\u001b[49m\u001b[38;5;241;43m=\u001b[39;49m\u001b[43maverage\u001b[49m\u001b[43m)\u001b[49m\n\u001b[1;32m    467\u001b[0m     \u001b[38;5;28;01mreturn\u001b[39;00m freqs, Pxx\u001b[38;5;241m.\u001b[39mreal\n",
      "File \u001b[0;32m~/.local/lib/python3.10/site-packages/scipy/signal/_spectral_py.py:600\u001b[0m, in \u001b[0;36mcsd\u001b[0;34m(x, y, fs, window, nperseg, noverlap, nfft, detrend, return_onesided, scaling, axis, average)\u001b[0m\n\u001b[1;32m    470\u001b[0m \u001b[38;5;28;01mdef\u001b[39;00m \u001b[38;5;21mcsd\u001b[39m(x, y, fs\u001b[38;5;241m=\u001b[39m\u001b[38;5;241m1.0\u001b[39m, window\u001b[38;5;241m=\u001b[39m\u001b[38;5;124m'\u001b[39m\u001b[38;5;124mhann\u001b[39m\u001b[38;5;124m'\u001b[39m, nperseg\u001b[38;5;241m=\u001b[39m\u001b[38;5;28;01mNone\u001b[39;00m, noverlap\u001b[38;5;241m=\u001b[39m\u001b[38;5;28;01mNone\u001b[39;00m, nfft\u001b[38;5;241m=\u001b[39m\u001b[38;5;28;01mNone\u001b[39;00m,\n\u001b[1;32m    471\u001b[0m         detrend\u001b[38;5;241m=\u001b[39m\u001b[38;5;124m'\u001b[39m\u001b[38;5;124mconstant\u001b[39m\u001b[38;5;124m'\u001b[39m, return_onesided\u001b[38;5;241m=\u001b[39m\u001b[38;5;28;01mTrue\u001b[39;00m, scaling\u001b[38;5;241m=\u001b[39m\u001b[38;5;124m'\u001b[39m\u001b[38;5;124mdensity\u001b[39m\u001b[38;5;124m'\u001b[39m,\n\u001b[1;32m    472\u001b[0m         axis\u001b[38;5;241m=\u001b[39m\u001b[38;5;241m-\u001b[39m\u001b[38;5;241m1\u001b[39m, average\u001b[38;5;241m=\u001b[39m\u001b[38;5;124m'\u001b[39m\u001b[38;5;124mmean\u001b[39m\u001b[38;5;124m'\u001b[39m):\n\u001b[1;32m    473\u001b[0m \u001b[38;5;250m    \u001b[39m\u001b[38;5;124mr\u001b[39m\u001b[38;5;124;03m\"\"\"\u001b[39;00m\n\u001b[1;32m    474\u001b[0m \u001b[38;5;124;03m    Estimate the cross power spectral density, Pxy, using Welch's method.\u001b[39;00m\n\u001b[1;32m    475\u001b[0m \n\u001b[0;32m   (...)\u001b[0m\n\u001b[1;32m    598\u001b[0m \n\u001b[1;32m    599\u001b[0m \u001b[38;5;124;03m    \"\"\"\u001b[39;00m\n\u001b[0;32m--> 600\u001b[0m     freqs, _, Pxy \u001b[38;5;241m=\u001b[39m \u001b[43m_spectral_helper\u001b[49m\u001b[43m(\u001b[49m\u001b[43mx\u001b[49m\u001b[43m,\u001b[49m\u001b[43m \u001b[49m\u001b[43my\u001b[49m\u001b[43m,\u001b[49m\u001b[43m \u001b[49m\u001b[43mfs\u001b[49m\u001b[43m,\u001b[49m\u001b[43m \u001b[49m\u001b[43mwindow\u001b[49m\u001b[43m,\u001b[49m\u001b[43m \u001b[49m\u001b[43mnperseg\u001b[49m\u001b[43m,\u001b[49m\u001b[43m \u001b[49m\u001b[43mnoverlap\u001b[49m\u001b[43m,\u001b[49m\n\u001b[1;32m    601\u001b[0m \u001b[43m                                     \u001b[49m\u001b[43mnfft\u001b[49m\u001b[43m,\u001b[49m\u001b[43m \u001b[49m\u001b[43mdetrend\u001b[49m\u001b[43m,\u001b[49m\u001b[43m \u001b[49m\u001b[43mreturn_onesided\u001b[49m\u001b[43m,\u001b[49m\u001b[43m \u001b[49m\u001b[43mscaling\u001b[49m\u001b[43m,\u001b[49m\n\u001b[1;32m    602\u001b[0m \u001b[43m                                     \u001b[49m\u001b[43maxis\u001b[49m\u001b[43m,\u001b[49m\u001b[43m \u001b[49m\u001b[43mmode\u001b[49m\u001b[38;5;241;43m=\u001b[39;49m\u001b[38;5;124;43m'\u001b[39;49m\u001b[38;5;124;43mpsd\u001b[39;49m\u001b[38;5;124;43m'\u001b[39;49m\u001b[43m)\u001b[49m\n\u001b[1;32m    604\u001b[0m     \u001b[38;5;66;03m# Average over windows.\u001b[39;00m\n\u001b[1;32m    605\u001b[0m     \u001b[38;5;28;01mif\u001b[39;00m \u001b[38;5;28mlen\u001b[39m(Pxy\u001b[38;5;241m.\u001b[39mshape) \u001b[38;5;241m>\u001b[39m\u001b[38;5;241m=\u001b[39m \u001b[38;5;241m2\u001b[39m \u001b[38;5;129;01mand\u001b[39;00m Pxy\u001b[38;5;241m.\u001b[39msize \u001b[38;5;241m>\u001b[39m \u001b[38;5;241m0\u001b[39m:\n",
      "File \u001b[0;32m~/.local/lib/python3.10/site-packages/scipy/signal/_spectral_py.py:1851\u001b[0m, in \u001b[0;36m_spectral_helper\u001b[0;34m(x, y, fs, window, nperseg, noverlap, nfft, detrend, return_onesided, scaling, axis, mode, boundary, padded)\u001b[0m\n\u001b[1;32m   1849\u001b[0m     noverlap \u001b[38;5;241m=\u001b[39m \u001b[38;5;28mint\u001b[39m(noverlap)\n\u001b[1;32m   1850\u001b[0m \u001b[38;5;28;01mif\u001b[39;00m noverlap \u001b[38;5;241m>\u001b[39m\u001b[38;5;241m=\u001b[39m nperseg:\n\u001b[0;32m-> 1851\u001b[0m     \u001b[38;5;28;01mraise\u001b[39;00m \u001b[38;5;167;01mValueError\u001b[39;00m(\u001b[38;5;124m'\u001b[39m\u001b[38;5;124mnoverlap must be less than nperseg.\u001b[39m\u001b[38;5;124m'\u001b[39m)\n\u001b[1;32m   1852\u001b[0m nstep \u001b[38;5;241m=\u001b[39m nperseg \u001b[38;5;241m-\u001b[39m noverlap\n\u001b[1;32m   1854\u001b[0m \u001b[38;5;66;03m# Padding occurs after boundary extension, so that the extended signal ends\u001b[39;00m\n\u001b[1;32m   1855\u001b[0m \u001b[38;5;66;03m# in zeros, instead of introducing an impulse at the end.\u001b[39;00m\n\u001b[1;32m   1856\u001b[0m \u001b[38;5;66;03m# I.e. if x = [..., 3, 2]\u001b[39;00m\n\u001b[1;32m   1857\u001b[0m \u001b[38;5;66;03m# extend then pad -> [..., 3, 2, 2, 3, 0, 0, 0]\u001b[39;00m\n\u001b[1;32m   1858\u001b[0m \u001b[38;5;66;03m# pad then extend -> [..., 3, 2, 0, 0, 0, 2, 3]\u001b[39;00m\n",
      "\u001b[0;31mValueError\u001b[0m: noverlap must be less than nperseg."
     ]
    },
    {
     "data": {
      "image/png": "[encoded data removed]",
      "text/plain": [
       "<Figure size 640x480 with 1 Axes>"
      ]
     },
     "metadata": {},
     "output_type": "display_data"
    }
   ],
   "source": [
    "import numpy as np\n",
    "from scipy import signal, stats\n",
    "\n",
    "# Carga de datos\n",
    "\n",
    "# Parámetros del filtro\n",
    "low_cutoff = 0.01  # Low cut-off frequency (Hz)\n",
    "high_cutoff = 80.0  # High cut-off frequency (Hz)\n",
    "order = 4  # Order of the filter\n",
    "sampling_rate = 500  # Example sampling rate in Hz\n",
    "\n",
    "# Creación del filtro Butterworth de banda\n",
    "b, a = signal.butter(order, [low_cutoff / (0.5 * sampling_rate), high_cutoff / (0.5 * sampling_rate)], btype='band')\n",
    "\n",
    "# Carga de datos adicionales\n",
    "data = np.loadtxt(\"data.dat\")[30:, :]\n",
    "plt.plot(data[:,0])\n",
    "filtered_data_a = signal.filtfilt(b, a, data[:, 0])\n",
    "filtered_data_b = signal.filtfilt(b, a, data[:, 1])\n",
    "\n",
    "# Parámetros para el método de Welch\n",
    "fs = 200  # Sampling rate\n",
    "nperseg = int(fs * 4)  # Segment length\n",
    "noverlap = int(fs * 1)  # Overlap between segments\n",
    "\n",
    "# Cálculo de la PSD usando el método de Welch\n",
    "frequencies_a, psd_a = signal.welch(filtered_data_a, fs, nperseg=nperseg, noverlap=noverlap)\n",
    "alplitud_a = np.zeros_like(psd_a)\n",
    "# Conversion a decibelios\n",
    "for i in range(len(frequencies_a)):\n",
    "    alplitud_a[i] = 10 * np.log10(psd_a[i])\n",
    "\n",
    "frequencies_b, psd_b = signal.welch(filtered_data_b, fs, nperseg=nperseg, noverlap=noverlap)\n",
    "alplitud_b = np.zeros_like(psd_b)\n",
    "# Conversion a decibelios\n",
    "for i in range(len(frequencies_b)):\n",
    "    alplitud_b[i] = 10 * np.log10(psd_b[i])\n"
   ]
  },
  {
   "cell_type": "code",
   "execution_count": 15,
   "metadata": {},
   "outputs": [
    {
     "data": {
      "text/plain": [
       "[<matplotlib.lines.Line2D at 0x71048305b7f0>]"
      ]
     },
     "execution_count": 15,
     "metadata": {},
     "output_type": "execute_result"
    },
    {
     "data": {
      "image/png": "[encoded data removed]",
      "text/plain": [
       "<Figure size 640x480 with 1 Axes>"
      ]
     },
     "metadata": {},
     "output_type": "display_data"
    }
   ],
   "source": [
    "\n",
    "plt.plot(F1.datos[:,0])\n",
    "\n"
   ]
  },
  {
   "cell_type": "code",
   "execution_count": null,
   "metadata": {},
   "outputs": [],
   "source": []
  },
  {
   "cell_type": "code",
   "execution_count": null,
   "metadata": {},
   "outputs": [],
   "source": []
  }
 ],
 "metadata": {
  "kernelspec": {
   "display_name": "Python 3",
   "language": "python",
   "name": "python3"
  },
  "language_info": {
   "codemirror_mode": {
    "name": "ipython",
    "version": 3
   },
   "file_extension": ".py",
   "mimetype": "text/x-python",
   "name": "python",
   "nbconvert_exporter": "python",
   "pygments_lexer": "ipython3",
   "version": "3.10.12"
  }
 },
 "nbformat": 4,
 "nbformat_minor": 2
}
