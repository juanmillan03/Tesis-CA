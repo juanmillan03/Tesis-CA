{
 "cells": [
  {
   "cell_type": "code",
   "execution_count": 21,
   "metadata": {},
   "outputs": [],
   "source": [
    "import numpy as np\n",
    "import matplotlib.pyplot as plt\n",
    "import subprocess\n",
    "import seaborn as sns\n",
    "from scipy.signal import butter,filtfilt,welch\n",
    "from scipy import signal\n",
    "import optuna\n",
    "import numpy as np  \n",
    "import optuna.visualization as vis\n",
    "import plotly"
   ]
  },
  {
   "cell_type": "code",
   "execution_count": 40,
   "metadata": {},
   "outputs": [],
   "source": [
    "def Regular_1(L,Inh):\n",
    "    L2=L*L\n",
    "    Matrix=np.zeros((L2,L2),int)\n",
    "    rng=np.random.default_rng(seed=1)\n",
    "    for i in range(L):\n",
    "        for j in range(L):\n",
    "            ia=i\n",
    "            ji=j\n",
    "            id=i\n",
    "            jd=j\n",
    "            if ia+1==L:\n",
    "                ia=-1\n",
    "            if id==0:\n",
    "                id=L\n",
    "            if jd+1==L:\n",
    "                jd=-1\n",
    "            if ji==0:\n",
    "                ji=L\n",
    "            I=rng.uniform(0.0, 1.0)\n",
    "            if I<Inh:\n",
    "                I=0\n",
    "            else :\n",
    "                I=1\n",
    "            Matrix[i*L+j][i*L+jd+1]=1*(2*I-1)## derecha I=0 -1,I=1 1\n",
    "            I=rng.uniform(0.0, 1.0)\n",
    "            if I<Inh:\n",
    "                I=0\n",
    "            else:\n",
    "                I=1\n",
    "            Matrix[i*L+j][i*L+ji-1]=-1*(2*I-1)## izquieda\n",
    "            I=rng.uniform(0.0, 1.0)\n",
    "            if I<Inh:\n",
    "                I=0\n",
    "            else:\n",
    "                I=1\n",
    "            Matrix[i*L+j][(ia+1)*L+j]=-1*(2*I-1)## arriba \n",
    "            I=rng.uniform(0.0, 1.0)\n",
    "            if I<Inh:\n",
    "                I=0\n",
    "            else: \n",
    "                I=1\n",
    "            Matrix[i*L+j][(id-1)*L+j]=-1*(2*I-1)# Abajo\n",
    "    return Matrix\n",
    "\n",
    "def small_word_Bi(L,P,Inh):\n",
    "    Matrix=Regular_1(L,Inh)\n",
    "    rng=np.random.default_rng(seed=1)\n",
    "    for i in range(L*L):\n",
    "        for j in range(L*L):\n",
    "            if Matrix[i][j]==1 and rng.uniform(0.0, 1.0)<P:\n",
    "                Matrix[i][j]==0\n",
    "                Matrix[j][i]==0\n",
    "                jj=rng.integers(0,L*L-1)\n",
    "                if jj==i or jj==j:\n",
    "                    jj=rng.integers(0,L*L-1)\n",
    "                    Matrix[jj][i]=2\n",
    "                    Matrix[i][jj]=2\n",
    "                else:\n",
    "                    Matrix[jj][i]=2\n",
    "                    Matrix[i][jj]=2\n",
    "            elif Matrix[i][j]==-1 and rng.uniform(0.0, 1.0)<P:\n",
    "                Matrix[i][j]==0\n",
    "                Matrix[j][i]==0\n",
    "                jj=rng.integers(0,L*L-1)\n",
    "                if jj==i or jj==j:\n",
    "                    jj=rng.integers(0,L*L-1)\n",
    "                    Matrix[jj][i]=-2\n",
    "                    Matrix[i][jj]=-2\n",
    "                else:\n",
    "                    Matrix[jj][i]=-2\n",
    "                    Matrix[i][jj]=-2\n",
    "    for i in range(L*L):\n",
    "        for j in range(L*L):\n",
    "            if Matrix[i][j]==2:\n",
    "                Matrix[i][j]=1\n",
    "                Matrix[j][i]=1\n",
    "            elif Matrix[i][j]==-2:\n",
    "                Matrix[i][j]=-1\n",
    "                Matrix[j][i]=-1\n",
    "    return Matrix\n",
    "\n",
    "def Random_bi(L,  P,  Inh):\n",
    "    matrix=np.zeros((L*L,L*L),int)\n",
    "    rng=np.random.default_rng(seed=1)\n",
    "    for i in range(L*L):\n",
    "        for j in range(L*L):\n",
    "            I=rng.uniform(0.0,1.0)\n",
    "            if I<Inh:\n",
    "                I=0\n",
    "            else:\n",
    "                I=1\n",
    "            if (matrix[i][j]!=1 or matrix[i][j]!=-1) and rng.uniform(0.0,1.0)<P:\n",
    "            \n",
    "                matrix[i][j]=-1*(2*I-1)\n",
    "                matrix[j][i]=-1*(2*I-1)\n",
    "    return matrix   \n",
    "    "
   ]
  },
  {
   "cell_type": "code",
   "execution_count": 41,
   "metadata": {},
   "outputs": [],
   "source": [
    "low_cutoff = 0.01  # Low cut-off frequency (Hz)\n",
    "high_cutoff = 80.0  # High cut-off frequency (Hz)\n",
    "order = 4  # Order of the filter\n",
    "sampling_rate_equipo= 500 \n",
    "b, a = signal.butter(order, [low_cutoff / (0.5 * sampling_rate_equipo), high_cutoff / (0.5 * sampling_rate_equipo)], btype='band')"
   ]
  },
  {
   "cell_type": "code",
   "execution_count": 42,
   "metadata": {},
   "outputs": [],
   "source": [
    "\n",
    "fs = 500  # Sampling rate\n",
    "nperseg = 256  # Segment length\n",
    "noverlap = 128 # Overlap between segments\n",
    "sampling_rate = 2000 ### simulacion \n",
    "\n",
    "def Simulado_EGG(params):\n",
    "    L, P, inhibidoras, trest, trelative, alpha, tmax, type_matrix = params\n",
    "    # Compilación del programa\n",
    "    resultado_compilacion = subprocess.run(\"g++ -O3 main.cpp Matrix_conect.cpp -o main\", shell=True, stdout=subprocess.PIPE, stderr=subprocess.PIPE, text=True)\n",
    "    if resultado_compilacion.returncode != 0:\n",
    "        print(\"Error durante la compilación:\")\n",
    "        print(resultado_compilacion.stderr)\n",
    "        return None\n",
    "    \n",
    "    # Ejecución del programa\n",
    "    resultado_ejecucion = subprocess.run(f\"./main {L} {P} {inhibidoras} {trest} {trelative} {alpha} {tmax} {type_matrix}\", shell=True, stdout=subprocess.PIPE, stderr=subprocess.PIPE, text=True)\n",
    "    if resultado_ejecucion.returncode != 0:\n",
    "        print(\"Error durante la ejecución:\")\n",
    "        print(resultado_ejecucion.stderr)\n",
    "        return None\n",
    "    \n",
    "    # Procesamiento de los datos\n",
    "    lines = resultado_ejecucion.stdout.strip().split('\\n')\n",
    "    data_list = [[float(num) for num in line.split()] for line in lines]\n",
    "    data = np.array(data_list)[30:,1]\n",
    "\n",
    "    data=(data - np.mean(data)) / np.std(data)\n",
    "    \n",
    "    n_samples_resampled = int(len(data) * (fs/sampling_rate))\n",
    "    data_resampled = signal.resample(data, n_samples_resampled)\n",
    "\n",
    "    butter = signal.filtfilt(b, a,data_resampled)\n",
    "\n",
    "    frequencies, psd = signal.welch(butter, fs, nperseg=nperseg, noverlap=noverlap)\n",
    "    frequencies=np.array(frequencies)\n",
    "\n",
    "\n",
    "    welch_data = np.array([10 * np.log10(psd[i]+ 1e-10) for i in range(len(frequencies))])\n",
    "    \n",
    "    delta = welch_data[np.logical_and(frequencies >= 1, frequencies <= 3)]\n",
    "    theta = welch_data[np.logical_and(frequencies >= 4, frequencies <= 7)]\n",
    "    alpha = welch_data[np.logical_and(frequencies >= 7, frequencies <= 13)]\n",
    "    beta = welch_data[np.logical_and(frequencies >= 14, frequencies <= 30)]\n",
    "\n",
    "    return {\n",
    "        'data': data,\"data_resample\":data_resampled,\"butter\": butter,\n",
    "        \"frequencies\": frequencies,\"welch_data\":welch_data,\n",
    "        'delta':[delta.mean(),delta.std()],\n",
    "        'theta':[theta.mean(), theta.std()],\n",
    "        'alpha':[ alpha.mean(),alpha.std()],\n",
    "        'beta': [beta.mean(), beta.std()]\n",
    "    }\n",
    "\n"
   ]
  },
  {
   "cell_type": "markdown",
   "metadata": {},
   "source": [
    "# Datos Reales\n",
    "\n",
    " Tanto como los datos reales como lo simulados pueden ser normlaizados(por su maximo), los valores real estan en microvoltios, en la simulacion estan con 0.00070 microvoltios reposo "
   ]
  },
  {
   "cell_type": "code",
   "execution_count": 43,
   "metadata": {},
   "outputs": [],
   "source": [
    "def Datos_reales(nombres):\n",
    "    Datos = np.empty(len(nombres), dtype=object)\n",
    "    welch_datos = np.empty(len(nombres), dtype=object)\n",
    "    Frequencies = np.empty(len(nombres), dtype=object)\n",
    "    Delta = np.empty(len(nombres), dtype=object)\n",
    "    Theta = np.empty(len(nombres), dtype=object)\n",
    "    Alpha = np.empty(len(nombres), dtype=object)\n",
    "    Beta = np.empty(len(nombres), dtype=object)\n",
    "    Nombres=np.empty(len(nombres), dtype=\"U100\")\n",
    "\n",
    "    # Inicialización de arrays para promedios de bandas\n",
    "    main_Delta = np.zeros(2)\n",
    "    main_Theta = np.zeros(2)\n",
    "    main_Alpha = np.zeros(2)\n",
    "    main_Beta = np.zeros(2)\n",
    "    for i, nombre in enumerate(nombres):  \n",
    "        Nombres[i]=nombre \n",
    "\n",
    "\n",
    "\n",
    "        data = np.loadtxt(nombre)*1e6\n",
    "        data=(data - np.mean(data)) / np.std(data)\n",
    "        Datos[i]=data\n",
    "\n",
    "\n",
    "        frequencies, psd = signal.welch(data, fs, nperseg=nperseg, noverlap=noverlap)\n",
    "        Frequencies[i]=frequencies=np.array(frequencies)\n",
    "\n",
    "        welch_data = np.array([10 * np.log10(psd[i]+ 1e-10) for i in range(len(frequencies))])\n",
    "        welch_datos[i]=welch_data\n",
    "\n",
    "        delta = welch_data[np.logical_and(frequencies >= 1, frequencies <= 3)]\n",
    "        theta = welch_data[np.logical_and(frequencies >= 4, frequencies <= 7)]\n",
    "        alpha = welch_data[np.logical_and(frequencies >= 7, frequencies <= 13)]\n",
    "        beta = welch_data[np.logical_and(frequencies >= 14, frequencies <= 30)]\n",
    "\n",
    "        Delta[i]=[delta.mean(),delta.std()]\n",
    "        Theta[i]=[theta.mean(),theta.std()]\n",
    "        Alpha[i]=[alpha.mean(),alpha.std()]\n",
    "        Beta[i]=[beta.mean(),beta.std()]\n",
    "\n",
    "        main_Delta += np.array([delta.mean(), delta.std()]) / len(nombres)\n",
    "        main_Theta += np.array([theta.mean(), theta.std()]) / len(nombres)\n",
    "        main_Alpha += np.array([alpha.mean(), alpha.std()]) / len(nombres)\n",
    "        main_Beta += np.array([beta.mean(), beta.std()]) / len(nombres)\n",
    "\n",
    "    return {\n",
    "        \"Nombres\":Nombres,\n",
    "        'datos': Datos, \"frequencies\": Frequencies,  \"welch_data\":welch_datos,\n",
    "        'delta':Delta,'theta':Theta,'alpha':Alpha,'beta':Beta,\n",
    "        'main_Delta': main_Delta,'main_Theta':main_Theta,\"main_Alpha\":main_Alpha,\"main_Beta\":main_Beta\n",
    "    }\n"
   ]
  },
  {
   "cell_type": "code",
   "execution_count": 44,
   "metadata": {},
   "outputs": [],
   "source": [
    "Params={'L': 57, 'P': 0.4965416953500361, 'Inh': 0.1840042178063965, 'Trest': -1.3321936159428258, 'Trelative': 1.8722523128821265, 'C_h': 9.984838343562668, 'Tipo_red': 0}\n",
    "\n",
    "initial_params = [Params[\"L\"], Params[\"P\"],Params[\"Inh\"], Params[\"Trest\"],Params[\"Trelative\"], Params[\"C_h\"] ,8030, Params[\"Tipo_red\"]]\n",
    "generated_data = Simulado_EGG(initial_params)\n",
    "reales_total = Datos_reales([\"P3_MNE.txt\",\"Pz_MNE.txt\",\"P4_MNE.txt\"])"
   ]
  },
  {
   "cell_type": "code",
   "execution_count": 45,
   "metadata": {},
   "outputs": [
    {
     "name": "stdout",
     "output_type": "stream",
     "text": [
      "['P3_MNE.txt' 'Pz_MNE.txt' 'P4_MNE.txt']\n"
     ]
    },
    {
     "data": {
      "image/png": "[encoded data removed]",
      "text/plain": [
       "<Figure size 1200x500 with 1 Axes>"
      ]
     },
     "metadata": {},
     "output_type": "display_data"
    }
   ],
   "source": [
    "fig, ax = plt.subplots(figsize=[12, 5])\n",
    "\n",
    "print(reales_total[\"Nombres\"])\n",
    "ax.plot(generated_data[\"data_resample\"],label=\"Simulado\")\n",
    "ax.plot(generated_data[\"butter\"],label=\"Simulado con filtro butter\")\n",
    "for i in range(3):\n",
    "    ax.plot(reales_total[\"datos\"][i],\"-.\", label=reales_total[\"Nombres\"][i],alpha=0.8)\n",
    "\n",
    "\n",
    "plt.xlabel(\"Pasos de 0.002 segundos\")\n",
    "plt.ylabel(r\"$\\mu V$\")\n",
    "plt.legend()  # Esto añade una leyenda para identificar cada línea\n",
    "plt.grid()\n",
    "plt.show()  # Mostrar todos los gráficos en la misma figura\n"
   ]
  },
  {
   "cell_type": "code",
   "execution_count": 49,
   "metadata": {},
   "outputs": [
    {
     "name": "stdout",
     "output_type": "stream",
     "text": [
      "['P3_MNE.txt' 'Pz_MNE.txt' 'P4_MNE.txt']\n"
     ]
    },
    {
     "data": {
      "image/png": "[encoded data removed]",
      "text/plain": [
       "<Figure size 1200x500 with 1 Axes>"
      ]
     },
     "metadata": {},
     "output_type": "display_data"
    }
   ],
   "source": [
    "fig, ax = plt.subplots(figsize=[12, 5])\n",
    "\n",
    "print(reales_total[\"Nombres\"])\n",
    "ax.plot(generated_data[\"frequencies\"],generated_data[\"welch_data\"],label=\"Simulacion\")\n",
    "for i in range(3):\n",
    "    ax.plot(reales_total[\"frequencies\"][i],reales_total[\"welch_data\"][i], label=reales_total[\"Nombres\"][i])\n",
    "\n",
    "plt.xlabel(\"Frecuencia\")\n",
    "plt.ylabel(\"psd dB \")\n",
    "plt.grid()\n",
    "plt.legend()  # Esto añade una leyenda para identificar cada línea\n",
    "plt.show()  # Mostrar todos los gráficos en la misma figura\n"
   ]
  },
  {
   "cell_type": "code",
   "execution_count": 11,
   "metadata": {},
   "outputs": [
    {
     "name": "stderr",
     "output_type": "stream",
     "text": [
      "[I 2024-09-26 10:58:09,390] Using an existing study with name '4bandas_L100_Normal_z_score' instead of creating a new one.\n",
      "[I 2024-09-26 10:59:15,222] Trial 4 finished with value: 6.116551170306464 and parameters: {'P': 0.8665391287824346, 'Inh': 0.3840308840809885, 'Trest': -14.815169468915775, 'Trelative': -8.274963099025085, 'C_h': 4.1746824295755935, 'Tipo_red': 0}. Best is trial 4 with value: 6.116551170306464.\n",
      "[I 2024-09-26 11:33:01,097] Trial 5 finished with value: 37.77716545703078 and parameters: {'P': 0.24364281209818506, 'Inh': 0.8781575915986047, 'Trest': -8.532145203588083, 'Trelative': 1.2684929859288534, 'C_h': 7.002897825004814, 'Tipo_red': 2}. Best is trial 4 with value: 6.116551170306464.\n",
      "[I 2024-09-26 11:36:14,293] Trial 6 finished with value: 45.31168231314032 and parameters: {'P': 0.6097137977224961, 'Inh': 0.5475772238891539, 'Trest': -5.051188278044892, 'Trelative': 3.1333865575088318, 'C_h': 7.970900731659693, 'Tipo_red': 1}. Best is trial 4 with value: 6.116551170306464.\n",
      "[I 2024-09-26 11:41:27,541] Trial 7 finished with value: inf and parameters: {'P': 0.5654357541436736, 'Inh': 0.2853889306842037, 'Trest': 3.8935834682146613, 'Trelative': 9.866452151638645, 'C_h': 7.13564950243764, 'Tipo_red': 1}. Best is trial 4 with value: 6.116551170306464.\n",
      "[I 2024-09-26 11:48:30,447] Trial 8 finished with value: 29.416482725280858 and parameters: {'P': 0.15227820028458583, 'Inh': 0.5860544910947189, 'Trest': -10.485315843194666, 'Trelative': -4.2994918282617025, 'C_h': 6.845753788499196, 'Tipo_red': 2}. Best is trial 4 with value: 6.116551170306464.\n",
      "[I 2024-09-26 12:08:54,855] Trial 9 finished with value: 28.530965053050807 and parameters: {'P': 0.1171500403888841, 'Inh': 0.744187135091856, 'Trest': -0.45071637082627625, 'Trelative': 1.3550423755623486, 'C_h': 7.402202624252283, 'Tipo_red': 2}. Best is trial 4 with value: 6.116551170306464.\n",
      "[I 2024-09-26 12:11:59,813] Trial 10 finished with value: 45.88532041985019 and parameters: {'P': 0.44181054223911853, 'Inh': 0.06372490923629204, 'Trest': -6.95024578488643, 'Trelative': 0.8095278580656462, 'C_h': 9.627610839932823, 'Tipo_red': 0}. Best is trial 4 with value: 6.116551170306464.\n",
      "[I 2024-09-26 12:17:19,199] Trial 11 finished with value: 29.416482725280858 and parameters: {'P': 0.10575511438893215, 'Inh': 0.5631056212759963, 'Trest': -12.180233206688872, 'Trelative': -9.656172777794671, 'C_h': 9.559780231876346, 'Tipo_red': 2}. Best is trial 4 with value: 6.116551170306464.\n",
      "[I 2024-09-26 12:22:28,825] Trial 12 finished with value: inf and parameters: {'P': 0.9552804885235907, 'Inh': 0.26698024452891733, 'Trest': 12.750513793603949, 'Trelative': 22.530089621049708, 'C_h': 3.032878153851344, 'Tipo_red': 0}. Best is trial 4 with value: 6.116551170306464.\n",
      "[I 2024-09-26 12:23:27,388] Trial 13 finished with value: 10.029797544341797 and parameters: {'P': 0.9138825687295707, 'Inh': 0.9510290630209295, 'Trest': -14.352347064333825, 'Trelative': -14.211416613900639, 'C_h': 0.409000768937966, 'Tipo_red': 0}. Best is trial 4 with value: 6.116551170306464.\n",
      "[I 2024-09-26 12:24:26,807] Trial 14 finished with value: 6.534199564820425 and parameters: {'P': 0.7475475408836015, 'Inh': 0.36120482117352243, 'Trest': -14.543734516610131, 'Trelative': -8.935981679350192, 'C_h': 2.440050298622638, 'Tipo_red': 1}. Best is trial 4 with value: 6.116551170306464.\n",
      "[I 2024-09-26 12:25:29,836] Trial 15 finished with value: 43.9241356203591 and parameters: {'P': 0.7444758023397247, 'Inh': 0.33758214617365045, 'Trest': -2.6177429289082035, 'Trelative': -2.6161469022121606, 'C_h': 3.6037658387950415, 'Tipo_red': 1}. Best is trial 4 with value: 6.116551170306464.\n",
      "[I 2024-09-26 12:30:36,765] Trial 16 finished with value: inf and parameters: {'P': 0.7021657652970539, 'Inh': 0.3818450204945979, 'Trest': 4.565444912759288, 'Trelative': 9.667381146847914, 'C_h': 2.1635531195894995, 'Tipo_red': 0}. Best is trial 4 with value: 6.116551170306464.\n",
      "[I 2024-09-26 12:31:33,466] Trial 17 finished with value: 7.239879288696556 and parameters: {'P': 0.7898588086140723, 'Inh': 0.14226111950929177, 'Trest': -9.701579360450316, 'Trelative': -8.855670561139824, 'C_h': 4.611982480090331, 'Tipo_red': 0}. Best is trial 4 with value: 6.116551170306464.\n",
      "[I 2024-09-26 12:32:31,796] Trial 18 finished with value: 9.65119677181741 and parameters: {'P': 0.8889109160045301, 'Inh': 0.43747497738893026, 'Trest': -5.110046715151556, 'Trelative': -4.956769819111888, 'C_h': 2.1594459058409927, 'Tipo_red': 1}. Best is trial 4 with value: 6.116551170306464.\n",
      "[I 2024-09-26 12:33:29,382] Trial 19 finished with value: 6.945462686320794 and parameters: {'P': 0.6499444130358323, 'Inh': 0.18346621955580333, 'Trest': -14.430105359224346, 'Trelative': -10.408391772450909, 'C_h': 5.271861671261298, 'Tipo_red': 0}. Best is trial 4 with value: 6.116551170306464.\n",
      "[I 2024-09-26 12:38:43,207] Trial 20 finished with value: inf and parameters: {'P': 0.328023890850912, 'Inh': 0.6606531191611004, 'Trest': 3.074929358094204, 'Trelative': 6.742646123903287, 'C_h': 5.219057291800362, 'Tipo_red': 1}. Best is trial 4 with value: 6.116551170306464.\n",
      "[I 2024-09-26 12:39:40,666] Trial 21 finished with value: 10.029797544341797 and parameters: {'P': 0.9699915429843844, 'Inh': 0.4510073338312893, 'Trest': -11.338472821223112, 'Trelative': -8.011654013779134, 'C_h': 1.5766161170260407, 'Tipo_red': 0}. Best is trial 4 with value: 6.116551170306464.\n",
      "[I 2024-09-26 12:44:50,206] Trial 22 finished with value: inf and parameters: {'P': 0.5323013535677577, 'Inh': 0.188634936090264, 'Trest': 7.1747207762059775, 'Trelative': 14.047900139745362, 'C_h': 3.836850630971684, 'Tipo_red': 1}. Best is trial 4 with value: 6.116551170306464.\n",
      "[I 2024-09-26 12:45:48,455] Trial 23 finished with value: 5.465702594153256 and parameters: {'P': 0.68032009098605, 'Inh': 0.1754757671907252, 'Trest': -14.924236383865601, 'Trelative': -11.577112909617316, 'C_h': 5.551358916923084, 'Tipo_red': 0}. Best is trial 23 with value: 5.465702594153256.\n",
      "[I 2024-09-26 12:46:46,838] Trial 24 finished with value: 6.629423408984336 and parameters: {'P': 0.6888402338680956, 'Inh': 0.2637410204463384, 'Trest': -14.818409170353252, 'Trelative': -11.802535359475392, 'C_h': 5.893446207811239, 'Tipo_red': 0}. Best is trial 23 with value: 5.465702594153256.\n",
      "[I 2024-09-26 12:47:43,518] Trial 25 finished with value: 6.203758955279127 and parameters: {'P': 0.8249398615170229, 'Inh': 0.3745521540353479, 'Trest': -11.865063445275263, 'Trelative': -7.665406538795915, 'C_h': 4.216059074235826, 'Tipo_red': 0}. Best is trial 23 with value: 5.465702594153256.\n",
      "[I 2024-09-26 12:48:41,471] Trial 26 finished with value: 11.151210405070614 and parameters: {'P': 0.8541856764056301, 'Inh': 0.11617684492777686, 'Trest': -7.98006737937275, 'Trelative': -5.75932093100543, 'C_h': 4.169278432842802, 'Tipo_red': 0}. Best is trial 23 with value: 5.465702594153256.\n",
      "[I 2024-09-26 12:49:38,896] Trial 27 finished with value: 10.807341524580295 and parameters: {'P': 0.809796742689285, 'Inh': 0.4583255798321162, 'Trest': -12.018760156638333, 'Trelative': -7.1068804010734015, 'C_h': 5.831650629060714, 'Tipo_red': 0}. Best is trial 23 with value: 5.465702594153256.\n",
      "[I 2024-09-26 12:50:37,086] Trial 28 finished with value: 40.42803893826145 and parameters: {'P': 0.003302635456829628, 'Inh': 0.2097509963241638, 'Trest': -5.960777723505914, 'Trelative': -3.13098518757476, 'C_h': 6.122287981480773, 'Tipo_red': 0}. Best is trial 23 with value: 5.465702594153256.\n",
      "[I 2024-09-26 12:52:28,216] Trial 29 finished with value: 45.357839852628736 and parameters: {'P': 0.6164665917182435, 'Inh': 0.3275205937571546, 'Trest': -2.8907460500846103, 'Trelative': -0.9024741421440785, 'C_h': 4.757309969353359, 'Tipo_red': 0}. Best is trial 23 with value: 5.465702594153256.\n",
      "[I 2024-09-26 12:53:26,834] Trial 30 finished with value: 9.324914860368885 and parameters: {'P': 0.9878402153963121, 'Inh': 0.39684734827204704, 'Trest': -12.0239994437649, 'Trelative': -11.169003035446762, 'C_h': 8.568300374839303, 'Tipo_red': 0}. Best is trial 23 with value: 5.465702594153256.\n",
      "[I 2024-09-26 12:54:24,509] Trial 31 finished with value: 8.32151230305734 and parameters: {'P': 0.47284121988870365, 'Inh': 0.007495266952982388, 'Trest': -8.661042367602434, 'Trelative': -6.642211774212047, 'C_h': 3.557424044545284, 'Tipo_red': 0}. Best is trial 23 with value: 5.465702594153256.\n",
      "[I 2024-09-26 12:59:34,035] Trial 32 finished with value: inf and parameters: {'P': 0.7479696201973965, 'Inh': 0.5178340405476212, 'Trest': 14.40898029791332, 'Trelative': 20.524101105222776, 'C_h': 2.9816443513871445, 'Tipo_red': 0}. Best is trial 23 with value: 5.465702594153256.\n",
      "[I 2024-09-26 13:00:34,391] Trial 33 finished with value: 9.992977373413574 and parameters: {'P': 0.7730546441151049, 'Inh': 0.35890422494278457, 'Trest': -13.118819259518062, 'Trelative': -8.221940054378699, 'C_h': 1.0418456798117406, 'Tipo_red': 1}. Best is trial 23 with value: 5.465702594153256.\n",
      "/tmp/ipykernel_4588/82082284.py:21: DeprecationWarning: This function is deprecated. Please call randint(0, 2 + 1) instead\n",
      "  params[7] = np.random.random_integers(0, 2)\n",
      "[I 2024-09-26 13:01:34,626] Trial 34 finished with value: 8.31996401529289 and parameters: {'P': 0.8621558941576497, 'Inh': 0.2387113384175676, 'Trest': -14.990082343806524, 'Trelative': -12.22733972571314, 'C_h': 2.8377917818938765, 'Tipo_red': 1}. Best is trial 23 with value: 5.465702594153256.\n",
      "[I 2024-09-26 13:02:32,889] Trial 35 finished with value: 7.321783005742247 and parameters: {'P': 0.701928271561586, 'Inh': 0.6617972199403441, 'Trest': -10.318311973651845, 'Trelative': -8.008813653808007, 'C_h': 4.538690945966074, 'Tipo_red': 0}. Best is trial 23 with value: 5.465702594153256.\n",
      "[I 2024-09-26 13:03:31,916] Trial 36 finished with value: 7.347752588620394 and parameters: {'P': 0.8296739115634251, 'Inh': 0.4939451589765364, 'Trest': -13.089932536567192, 'Trelative': -9.28844218027486, 'C_h': 5.347317045955636, 'Tipo_red': 1}. Best is trial 23 with value: 5.465702594153256.\n",
      "[I 2024-09-26 13:09:29,797] Trial 37 finished with value: 29.416482725280858 and parameters: {'P': 0.5673348030859012, 'Inh': 0.30593509125248236, 'Trest': -9.33920027083278, 'Trelative': -7.348635564001382, 'C_h': 6.379824199024007, 'Tipo_red': 2}. Best is trial 23 with value: 5.465702594153256.\n",
      "[I 2024-09-26 13:10:26,623] Trial 38 finished with value: 10.029797544341797 and parameters: {'P': 0.9169228900448386, 'Inh': 0.4136947932048918, 'Trest': -12.99797227280088, 'Trelative': -10.110781297272592, 'C_h': 2.44025951960813, 'Tipo_red': 0}. Best is trial 23 with value: 5.465702594153256.\n",
      "[I 2024-09-26 13:11:24,788] Trial 39 finished with value: 5.601529324641731 and parameters: {'P': 0.3793266795712211, 'Inh': 0.09717327919715901, 'Trest': -11.033949075762369, 'Trelative': -8.655703821470572, 'C_h': 4.121419954026943, 'Tipo_red': 1}. Best is trial 23 with value: 5.465702594153256.\n",
      "[I 2024-09-26 13:12:22,972] Trial 40 finished with value: 11.417669782985982 and parameters: {'P': 0.2199482872999503, 'Inh': 0.07768841084520037, 'Trest': -10.76435232111307, 'Trelative': -5.795514657258019, 'C_h': 4.085977755304539, 'Tipo_red': 0}. Best is trial 23 with value: 5.465702594153256.\n",
      "[I 2024-09-26 13:21:05,399] Trial 41 finished with value: 29.416482725280858 and parameters: {'P': 0.42292083082071247, 'Inh': 0.040207382171582484, 'Trest': -3.428061972229539, 'Trelative': -2.2363472479623567, 'C_h': 7.866886032446101, 'Tipo_red': 2}. Best is trial 23 with value: 5.465702594153256.\n",
      "[I 2024-09-26 13:24:12,704] Trial 42 finished with value: 44.79282339489166 and parameters: {'P': 0.3750896101712146, 'Inh': 0.1327926656567297, 'Trest': -0.26031062935323845, 'Trelative': 0.6436960662263385, 'C_h': 5.409668296848055, 'Tipo_red': 1}. Best is trial 23 with value: 5.465702594153256.\n",
      "[I 2024-09-26 13:25:10,631] Trial 43 finished with value: 4.54117323834724 and parameters: {'P': 0.3276588660370954, 'Inh': 0.3018670317461549, 'Trest': -7.585091026839205, 'Trelative': -5.993134928443169, 'C_h': 3.3637223156727645, 'Tipo_red': 1}. Best is trial 43 with value: 4.54117323834724.\n",
      "[I 2024-09-26 13:26:10,077] Trial 44 finished with value: 8.786713138758373 and parameters: {'P': 0.2848222915764321, 'Inh': 0.2931301296934345, 'Trest': -7.393759592589201, 'Trelative': -5.594619890522794, 'C_h': 3.4289349441671355, 'Tipo_red': 1}. Best is trial 43 with value: 4.54117323834724.\n",
      "[I 2024-09-26 13:27:07,500] Trial 45 finished with value: 6.339385291013101 and parameters: {'P': 0.34060669050738335, 'Inh': 0.2317719683065607, 'Trest': -11.06239404081794, 'Trelative': -6.365283989093787, 'C_h': 4.363762578369444, 'Tipo_red': 1}. Best is trial 43 with value: 4.54117323834724.\n",
      "[I 2024-09-26 13:34:51,383] Trial 46 finished with value: 29.416482725280858 and parameters: {'P': 0.4840836409762358, 'Inh': 0.16575161028034524, 'Trest': -12.690526310753306, 'Trelative': -8.52330693181893, 'C_h': 6.526009035059179, 'Tipo_red': 2}. Best is trial 43 with value: 4.54117323834724.\n",
      "[I 2024-09-26 13:36:12,465] Trial 47 finished with value: 28.136779341634266 and parameters: {'P': 0.22140044806637507, 'Inh': 0.09129728012061551, 'Trest': -6.388947335086916, 'Trelative': -4.093931030051227, 'C_h': 4.877757120386361, 'Tipo_red': 1}. Best is trial 43 with value: 4.54117323834724.\n",
      "[I 2024-09-26 13:37:11,978] Trial 48 finished with value: 6.676910183267522 and parameters: {'P': 0.27702097772015644, 'Inh': 0.27403831597970707, 'Trest': -8.742827059715918, 'Trelative': -7.510167376949171, 'C_h': 3.363158384057884, 'Tipo_red': 0}. Best is trial 43 with value: 4.54117323834724.\n",
      "[I 2024-09-26 13:38:13,898] Trial 49 finished with value: 7.842127477739225 and parameters: {'P': 0.5346137642110514, 'Inh': 0.600637442437038, 'Trest': -10.02530032944207, 'Trelative': -6.747564321282445, 'C_h': 3.9643958197752585, 'Tipo_red': 1}. Best is trial 43 with value: 4.54117323834724.\n",
      "[I 2024-09-26 13:39:14,692] Trial 50 finished with value: 12.63615542203928 and parameters: {'P': 0.3643059269522075, 'Inh': 0.3253611989361441, 'Trest': -12.978058672682375, 'Trelative': -12.480887587614825, 'C_h': 5.602553509163144, 'Tipo_red': 0}. Best is trial 43 with value: 4.54117323834724.\n",
      "[I 2024-09-26 13:47:11,294] Trial 51 finished with value: inf and parameters: {'P': 0.9240797779305255, 'Inh': 0.019503824922827165, 'Trest': 1.1599365212249193, 'Trelative': 1.9417731127973372, 'C_h': 4.922025617507273, 'Tipo_red': 2}. Best is trial 43 with value: 4.54117323834724.\n",
      "[I 2024-09-26 13:48:13,850] Trial 52 finished with value: 5.379868895289504 and parameters: {'P': 0.3942666259497422, 'Inh': 0.8536136306649983, 'Trest': -13.680634367594806, 'Trelative': -9.451873481793381, 'C_h': 3.088481498972041, 'Tipo_red': 1}. Best is trial 43 with value: 4.54117323834724.\n",
      "[I 2024-09-26 13:49:15,244] Trial 53 finished with value: 6.555883639923478 and parameters: {'P': 0.40522118486414593, 'Inh': 0.9473094929202958, 'Trest': -13.863912937724422, 'Trelative': -9.701742761592929, 'C_h': 2.715693438041372, 'Tipo_red': 1}. Best is trial 43 with value: 4.54117323834724.\n",
      "[I 2024-09-26 13:50:17,620] Trial 54 finished with value: 11.114956643199818 and parameters: {'P': 0.4513440777569556, 'Inh': 0.8919503728999078, 'Trest': -11.342886325791621, 'Trelative': -7.707228418381695, 'C_h': 3.222198005153326, 'Tipo_red': 1}. Best is trial 43 with value: 4.54117323834724.\n",
      "[I 2024-09-26 13:51:19,629] Trial 55 finished with value: 10.029797544341797 and parameters: {'P': 0.29323897051923403, 'Inh': 0.7410299778129796, 'Trest': -13.806579703341958, 'Trelative': -13.482446519482005, 'C_h': 1.9087497012610428, 'Tipo_red': 1}. Best is trial 43 with value: 4.54117323834724.\n",
      "[I 2024-09-26 13:52:21,544] Trial 56 finished with value: 11.950775411027053 and parameters: {'P': 0.6330790897019895, 'Inh': 0.9947349371888281, 'Trest': -11.661238364884937, 'Trelative': -9.059865133395078, 'C_h': 3.770108008480124, 'Tipo_red': 1}. Best is trial 43 with value: 4.54117323834724.\n",
      "[I 2024-09-26 13:53:19,553] Trial 57 finished with value: 4.868920975489259 and parameters: {'P': 0.3851677681951075, 'Inh': 0.37266831503656755, 'Trest': -9.656688442676128, 'Trelative': -8.491898968879084, 'C_h': 4.423068129261946, 'Tipo_red': 1}. Best is trial 43 with value: 4.54117323834724.\n",
      "[I 2024-09-26 13:54:50,607] Trial 58 finished with value: 33.56675544203059 and parameters: {'P': 0.15649271181963847, 'Inh': 0.15661113296627657, 'Trest': -4.265648926509273, 'Trelative': -3.6375493882319923, 'C_h': 4.502232594244753, 'Tipo_red': 1}. Best is trial 43 with value: 4.54117323834724.\n",
      "[I 2024-09-26 13:55:50,657] Trial 59 finished with value: 9.990668743093984 and parameters: {'P': 0.3905294475055206, 'Inh': 0.7928230657901422, 'Trest': -9.445913455199536, 'Trelative': -8.486598300416723, 'C_h': 1.2389072680729516, 'Tipo_red': 1}. Best is trial 43 with value: 4.54117323834724.\n",
      "[I 2024-09-26 13:56:49,476] Trial 60 finished with value: 7.345201487421547 and parameters: {'P': 0.3206954897555382, 'Inh': 0.43503912008493767, 'Trest': -14.969782704318826, 'Trelative': -10.640417987733517, 'C_h': 6.89666402718205, 'Tipo_red': 1}. Best is trial 43 with value: 4.54117323834724.\n",
      "[I 2024-09-26 13:57:49,678] Trial 61 finished with value: 10.685748242946289 and parameters: {'P': 0.581413208045792, 'Inh': 0.21637565964136535, 'Trest': -7.797316051116386, 'Trelative': -6.900610325078967, 'C_h': 2.544425175116995, 'Tipo_red': 1}. Best is trial 43 with value: 4.54117323834724.\n",
      "[I 2024-09-26 13:58:49,457] Trial 62 finished with value: 8.21902020848296 and parameters: {'P': 0.5269961003826065, 'Inh': 0.11202521485836693, 'Trest': -5.336314125027581, 'Trelative': -4.809721798206425, 'C_h': 3.1928639528566745, 'Tipo_red': 1}. Best is trial 43 with value: 4.54117323834724.\n",
      "[I 2024-09-26 13:59:48,155] Trial 63 finished with value: 12.620926804270596 and parameters: {'P': 0.42627299456997975, 'Inh': 0.36812797465689934, 'Trest': -13.896020537686706, 'Trelative': -9.593666878161399, 'C_h': 4.025328188433765, 'Tipo_red': 0}. Best is trial 43 with value: 4.54117323834724.\n",
      "[I 2024-09-26 14:00:47,292] Trial 64 finished with value: 8.47608523821907 and parameters: {'P': 0.25097833596936736, 'Inh': 0.48433668238245015, 'Trest': -12.205530560326915, 'Trelative': -8.684910015150429, 'C_h': 4.302675661176342, 'Tipo_red': 0}. Best is trial 43 with value: 4.54117323834724.\n",
      "[I 2024-09-26 14:01:44,612] Trial 65 finished with value: 11.14089520222565 and parameters: {'P': 0.34386720564033, 'Inh': 0.4079445219304368, 'Trest': -10.670612053267508, 'Trelative': -9.217044887108154, 'C_h': 3.5196127384448417, 'Tipo_red': 0}. Best is trial 43 with value: 4.54117323834724.\n",
      "[I 2024-09-26 14:02:43,048] Trial 66 finished with value: 9.491894650408085 and parameters: {'P': 0.660857210535205, 'Inh': 0.36000061543360473, 'Trest': -13.639048115320414, 'Trelative': -8.068135949011811, 'C_h': 5.099981614880653, 'Tipo_red': 1}. Best is trial 43 with value: 4.54117323834724.\n",
      "[I 2024-09-26 14:07:57,241] Trial 67 finished with value: inf and parameters: {'P': 0.46038045637089586, 'Inh': 0.2506886663958188, 'Trest': 10.604056070667184, 'Trelative': 10.753012325750653, 'C_h': 3.7124323394856047, 'Tipo_red': 0}. Best is trial 43 with value: 4.54117323834724.\n",
      "[I 2024-09-26 14:08:57,412] Trial 68 finished with value: 6.002287751232671 and parameters: {'P': 0.8867436554504129, 'Inh': 0.5387166728645422, 'Trest': -8.663611720227557, 'Trelative': -7.724245522605002, 'C_h': 4.769380674359894, 'Tipo_red': 1}. Best is trial 43 with value: 4.54117323834724.\n",
      "[I 2024-09-26 14:10:04,460] Trial 69 finished with value: 42.56138406674658 and parameters: {'P': 0.9468048174558481, 'Inh': 0.5755404939745861, 'Trest': -1.729243562087678, 'Trelative': -1.0918883615178583, 'C_h': 5.716928705550524, 'Tipo_red': 1}. Best is trial 43 with value: 4.54117323834724.\n",
      "[I 2024-09-26 14:11:04,519] Trial 70 finished with value: 9.107406551949879 and parameters: {'P': 0.5013660150746524, 'Inh': 0.7668929242961049, 'Trest': -6.814225334876024, 'Trelative': -6.228679697259393, 'C_h': 4.644825597259088, 'Tipo_red': 1}. Best is trial 43 with value: 4.54117323834724.\n",
      "[I 2024-09-26 14:12:02,984] Trial 71 finished with value: 7.171785486102194 and parameters: {'P': 0.8812866639871271, 'Inh': 0.6141825424858731, 'Trest': -8.620510512010323, 'Trelative': -7.1676006455567975, 'C_h': 5.039496453715657, 'Tipo_red': 1}. Best is trial 43 with value: 4.54117323834724.\n",
      "[I 2024-09-26 14:13:03,374] Trial 72 finished with value: 7.630252876423227 and parameters: {'P': 0.7281620281236618, 'Inh': 0.18479462278049957, 'Trest': -9.903992608506558, 'Trelative': -8.320531706490142, 'C_h': 1.985587178181969, 'Tipo_red': 1}. Best is trial 43 with value: 4.54117323834724.\n",
      "[I 2024-09-26 14:14:03,609] Trial 73 finished with value: 4.26001476696372 and parameters: {'P': 0.8141031427315317, 'Inh': 0.529523562950577, 'Trest': -11.977110073580747, 'Trelative': -7.716828415374087, 'C_h': 4.295892610967506, 'Tipo_red': 1}. Best is trial 73 with value: 4.26001476696372.\n",
      "[I 2024-09-26 14:15:03,276] Trial 74 finished with value: 9.511361588741487 and parameters: {'P': 0.7822887002610261, 'Inh': 0.5203859581666621, 'Trest': -12.28559347004623, 'Trelative': -7.773376811103107, 'C_h': 6.16957479451024, 'Tipo_red': 1}. Best is trial 73 with value: 4.26001476696372.\n",
      "[I 2024-09-26 14:16:01,930] Trial 75 finished with value: 4.347955603630196 and parameters: {'P': 0.8874488172662596, 'Inh': 0.47276739299945436, 'Trest': -14.093739737731429, 'Trelative': -8.770365439694626, 'C_h': 4.672178877269312, 'Tipo_red': 1}. Best is trial 73 with value: 4.26001476696372.\n",
      "[I 2024-09-26 14:16:59,709] Trial 76 finished with value: 6.524944866569753 and parameters: {'P': 0.8673404323974211, 'Inh': 0.5454210609207123, 'Trest': -9.233040527915474, 'Trelative': -7.926037771729241, 'C_h': 4.764538832958095, 'Tipo_red': 1}. Best is trial 73 with value: 4.26001476696372.\n",
      "[I 2024-09-26 14:17:59,987] Trial 77 finished with value: 4.719419095994922 and parameters: {'P': 0.8962659012340641, 'Inh': 0.6412162299089619, 'Trest': -14.242471433357796, 'Trelative': -10.054445832352174, 'C_h': 5.398408093848298, 'Tipo_red': 1}. Best is trial 73 with value: 4.26001476696372.\n",
      "[I 2024-09-26 14:19:00,156] Trial 78 finished with value: 4.254613988536092 and parameters: {'P': 0.9979511358709385, 'Inh': 0.6483649316197584, 'Trest': -14.496602331787482, 'Trelative': -10.28894567132864, 'C_h': 5.220457140178462, 'Tipo_red': 1}. Best is trial 78 with value: 4.254613988536092.\n",
      "[I 2024-09-26 14:19:58,225] Trial 79 finished with value: 4.006319318732692 and parameters: {'P': 0.9943375416539542, 'Inh': 0.6474183178704626, 'Trest': -14.332712727776157, 'Trelative': -11.037211673729793, 'C_h': 6.002744110411841, 'Tipo_red': 1}. Best is trial 79 with value: 4.006319318732692.\n",
      "[I 2024-09-26 14:20:58,063] Trial 80 finished with value: 7.909653323341259 and parameters: {'P': 0.9928865629963177, 'Inh': 0.6530337162640188, 'Trest': -14.189442333230723, 'Trelative': -10.809985428030199, 'C_h': 7.3632150677917, 'Tipo_red': 1}. Best is trial 79 with value: 4.006319318732692.\n",
      "[I 2024-09-26 14:21:56,031] Trial 81 finished with value: 7.929025899044134 and parameters: {'P': 0.9593708250008517, 'Inh': 0.6936759218934562, 'Trest': -13.374351285631729, 'Trelative': -10.181837790830166, 'C_h': 5.950460991382605, 'Tipo_red': 1}. Best is trial 79 with value: 4.006319318732692.\n",
      "[I 2024-09-26 14:22:55,337] Trial 82 finished with value: 4.3349704955066946 and parameters: {'P': 0.9303357774098553, 'Inh': 0.6299628891120448, 'Trest': -12.421918665451253, 'Trelative': -9.972546220421611, 'C_h': 5.191816458269797, 'Tipo_red': 1}. Best is trial 79 with value: 4.006319318732692.\n",
      "[I 2024-09-26 14:23:55,063] Trial 83 finished with value: 7.381943871432624 and parameters: {'P': 0.936538454408801, 'Inh': 0.6342558917155161, 'Trest': -12.629585494518105, 'Trelative': -9.612751780476971, 'C_h': 6.011950936973382, 'Tipo_red': 1}. Best is trial 79 with value: 4.006319318732692.\n",
      "[I 2024-09-26 14:24:53,542] Trial 84 finished with value: 8.239033566976808 and parameters: {'P': 0.9760539973570912, 'Inh': 0.6851662601930141, 'Trest': -14.430920574518751, 'Trelative': -9.948955555799786, 'C_h': 6.588124849355327, 'Tipo_red': 1}. Best is trial 79 with value: 4.006319318732692.\n",
      "[I 2024-09-26 14:25:53,064] Trial 85 finished with value: 4.437319229531851 and parameters: {'P': 0.9117189942270899, 'Inh': 0.4686988507243429, 'Trest': -11.32999337631143, 'Trelative': -10.462465366527796, 'C_h': 5.2355643429218865, 'Tipo_red': 1}. Best is trial 79 with value: 4.006319318732692.\n",
      "[I 2024-09-26 14:26:50,861] Trial 86 finished with value: 4.623773354380261 and parameters: {'P': 0.9004182506881893, 'Inh': 0.4753459438307565, 'Trest': -11.473052058006667, 'Trelative': -10.54762520119124, 'C_h': 5.308275212848251, 'Tipo_red': 1}. Best is trial 79 with value: 4.006319318732692.\n",
      "[I 2024-09-26 14:27:50,051] Trial 87 finished with value: 10.239055167896453 and parameters: {'P': 0.90160425470365, 'Inh': 0.4758371067066139, 'Trest': -11.64082915187762, 'Trelative': -10.881797643041809, 'C_h': 5.416129779427019, 'Tipo_red': 1}. Best is trial 79 with value: 4.006319318732692.\n",
      "[I 2024-09-26 14:28:50,055] Trial 88 finished with value: 8.095044582359819 and parameters: {'P': 0.8455998650417662, 'Inh': 0.5867024857898904, 'Trest': -12.604002414236446, 'Trelative': -11.39945670678138, 'C_h': 5.220711886752676, 'Tipo_red': 1}. Best is trial 79 with value: 4.006319318732692.\n",
      "[I 2024-09-26 14:29:48,555] Trial 89 finished with value: 7.045443601904878 and parameters: {'P': 0.8031792266669944, 'Inh': 0.728808560877324, 'Trest': -10.866202227558786, 'Trelative': -9.946977066323509, 'C_h': 5.713994952033086, 'Tipo_red': 1}. Best is trial 79 with value: 4.006319318732692.\n",
      "[I 2024-09-26 14:30:48,570] Trial 90 finished with value: 7.094422014523416 and parameters: {'P': 0.9958984497826373, 'Inh': 0.6276729523776965, 'Trest': -13.23412716500556, 'Trelative': -10.389231460496822, 'C_h': 6.204716553420363, 'Tipo_red': 1}. Best is trial 79 with value: 4.006319318732692.\n",
      "[I 2024-09-26 14:31:46,616] Trial 91 finished with value: 8.01387922095752 and parameters: {'P': 0.9126393237167482, 'Inh': 0.5107163849509111, 'Trest': -14.280863675983698, 'Trelative': -11.168960756671098, 'C_h': 5.112108346561866, 'Tipo_red': 1}. Best is trial 79 with value: 4.006319318732692.\n",
      "[I 2024-09-26 14:32:46,798] Trial 92 finished with value: 7.37987065321937 and parameters: {'P': 0.9625551676692009, 'Inh': 0.5612173569025881, 'Trest': -10.414013324009126, 'Trelative': -9.728080781964712, 'C_h': 5.4622043844570385, 'Tipo_red': 1}. Best is trial 79 with value: 4.006319318732692.\n",
      "[I 2024-09-26 14:33:44,664] Trial 93 finished with value: 12.38075327729321 and parameters: {'P': 0.9359077355648087, 'Inh': 0.44921682580376343, 'Trest': -11.74884477333261, 'Trelative': -10.349630185860304, 'C_h': 4.521076838775351, 'Tipo_red': 1}. Best is trial 79 with value: 4.006319318732692.\n",
      "[I 2024-09-26 14:38:54,050] Trial 94 finished with value: inf and parameters: {'P': 0.8697644507008541, 'Inh': 0.7051203064072674, 'Trest': 5.10088537472183, 'Trelative': 5.203493813859131, 'C_h': 4.9397308671822175, 'Tipo_red': 1}. Best is trial 79 with value: 4.006319318732692.\n",
      "[I 2024-09-26 14:39:51,957] Trial 95 finished with value: 4.467914672021961 and parameters: {'P': 0.8381152683394915, 'Inh': 0.42483233033033446, 'Trest': -12.740107173534813, 'Trelative': -10.971854489064828, 'C_h': 5.59359762892767, 'Tipo_red': 1}. Best is trial 79 with value: 4.006319318732692.\n",
      "[I 2024-09-26 14:40:50,193] Trial 96 finished with value: 8.071676979674422 and parameters: {'P': 0.8964157326916428, 'Inh': 0.471816571230107, 'Trest': -12.433552541694139, 'Trelative': -10.687928400042294, 'C_h': 6.356666884567295, 'Tipo_red': 1}. Best is trial 79 with value: 4.006319318732692.\n",
      "[I 2024-09-26 14:41:48,811] Trial 97 finished with value: 6.4390016011286795 and parameters: {'P': 0.8242030413196202, 'Inh': 0.5293431803140094, 'Trest': -14.434556281364268, 'Trelative': -11.894927346898722, 'C_h': 6.707196931433493, 'Tipo_red': 1}. Best is trial 79 with value: 4.006319318732692.\n",
      "[I 2024-09-26 14:42:47,927] Trial 98 finished with value: 4.82364919812312 and parameters: {'P': 0.9281043195982218, 'Inh': 0.4176195151785282, 'Trest': -12.965185655324856, 'Trelative': -11.005814861170395, 'C_h': 5.570133308727574, 'Tipo_red': 1}. Best is trial 79 with value: 4.006319318732692.\n",
      "[I 2024-09-26 14:43:46,340] Trial 99 finished with value: 10.57875871197632 and parameters: {'P': 0.9736929342279774, 'Inh': 0.6728622655525482, 'Trest': -11.223924008504522, 'Trelative': -10.62460550566998, 'C_h': 5.215131535485089, 'Tipo_red': 1}. Best is trial 79 with value: 4.006319318732692.\n",
      "[I 2024-09-26 14:44:45,504] Trial 100 finished with value: 3.021395582445833 and parameters: {'P': 0.9528485534158788, 'Inh': 0.4979720127327373, 'Trest': -14.927805276394833, 'Trelative': -11.402714454513857, 'C_h': 5.812750711882416, 'Tipo_red': 1}. Best is trial 100 with value: 3.021395582445833.\n",
      "[I 2024-09-26 14:45:45,180] Trial 101 finished with value: 3.7292767615620184 and parameters: {'P': 0.9451673916576799, 'Inh': 0.5038639563938254, 'Trest': -13.442404572313757, 'Trelative': -11.632375030848724, 'C_h': 5.835169411791222, 'Tipo_red': 1}. Best is trial 100 with value: 3.021395582445833.\n",
      "[I 2024-09-26 14:46:45,408] Trial 102 finished with value: 7.514811291135742 and parameters: {'P': 0.8506899023376743, 'Inh': 0.4985022881120566, 'Trest': -14.95732368840891, 'Trelative': -11.782753552609915, 'C_h': 5.799611205294299, 'Tipo_red': 1}. Best is trial 100 with value: 3.021395582445833.\n",
      "[I 2024-09-26 14:47:44,978] Trial 103 finished with value: 4.994819340770277 and parameters: {'P': 0.9600323807707354, 'Inh': 0.43440568383795486, 'Trest': -13.402147053549452, 'Trelative': -11.285203114891909, 'C_h': 5.921816472577673, 'Tipo_red': 1}. Best is trial 100 with value: 3.021395582445833.\n"
     ]
    }
   ],
   "source": [
    "\n",
    "reales=reales_total[\"main_Delta\"]+reales_total[\"main_Theta\"]+reales_total[\"main_Alpha\"]+reales_total[\"main_Beta\"]\n",
    "\n",
    "def objective(trial):\n",
    "    params = np.zeros(8)\n",
    "    params[0] = trial.suggest_int('L',10,60)\n",
    "    params[1] = trial.suggest_float('P', 0.0, 1.0)\n",
    "    params[2] = trial.suggest_float('Inh', 0.0, 1.0)\n",
    "    params[3] = trial.suggest_float('Trest', -15.0, 15.0)###, step=0.05 difernecia entre datos \n",
    "    params[4] = trial.suggest_float('Trelative',params[3],params[3]+10)  \n",
    "    params[5] = trial.suggest_float('C_h', 0, 10.0)\n",
    "    params[6] = 8030\n",
    "    params[7] = trial.suggest_int('Tipo_red',0,2)\n",
    "\n",
    "    \n",
    "    generated_data_total = Simulado_EGG(params)\n",
    "    if generated_data_total[\"delta\"][1]-generated_data_total[\"delta\"][1]==0:\n",
    "        generated_data = generated_data_total[\"delta\"] + generated_data_total[\"theta\"] + generated_data_total[\"alpha\"] + generated_data_total[\"beta\"]\n",
    "        difference = sum(abs(gd - rd) for gd, rd in zip(generated_data, reales))\n",
    "\n",
    "        if trial.number > 30 and np.random.rand() < 0.3:  \n",
    "            params[7] = np.random.random_integers(0, 2) \n",
    "            params[2] += np.random.uniform(-0.01,0.01)  \n",
    "            params[1] += np.random.uniform(-0.01,0.01)  \n",
    "\n",
    "        trial.report(difference, step=trial.number)\n",
    "        \n",
    "        \n",
    "        return difference\n",
    "    else:\n",
    "        return float('inf') \n",
    "    \n",
    "\n",
    "# Create and optimize the study\n",
    "study = optuna.create_study(study_name='4bandas_L100_Normal_z_score', storage='sqlite:///Estudios/4bandas_L100_Normal_z_score.db', load_if_exists=True)\n",
    "\n",
    "# Continúa con la optimización del estudio\n",
    "study.optimize(objective, n_trials=100)\n"
   ]
  },
  {
   "cell_type": "code",
   "execution_count": null,
   "metadata": {},
   "outputs": [],
   "source": []
  },
  {
   "cell_type": "code",
   "execution_count": 35,
   "metadata": {},
   "outputs": [
    {
     "name": "stderr",
     "output_type": "stream",
     "text": [
      "[I 2024-09-25 22:40:14,312] Trial 51 finished with value: 36.07248528520608 and parameters: {'L': 52, 'P': 0.3024813900299425, 'Inh': 0.3360716898827794, 'Trest': -1.4771892426796271, 'Trelative': 1.2823526847143696, 'C_h': 6.765744957354155, 'Tipo_red': 0}. Best is trial 46 with value: 2.9517714347405306.\n"
     ]
    }
   ],
   "source": [
    "study = optuna.load_study(study_name='4bandas_full_Normal_max', storage='sqlite:///Estudios/4bandas_full_Normal_max.db')\n",
    "study.optimize(objective, n_trials=1)\n"
   ]
  },
  {
   "cell_type": "code",
   "execution_count": 43,
   "metadata": {},
   "outputs": [
    {
     "name": "stdout",
     "output_type": "stream",
     "text": [
      "4bandas_full_Normal_max\n",
      "\n",
      "Trial 1:\n",
      "Params: {'L': 57, 'P': 0.4965416953500361, 'Inh': 0.1840042178063965, 'Trest': -1.3321936159428258, 'Trelative': 1.8722523128821265, 'C_h': 9.984838343562668, 'Tipo_red': 0}\n",
      "Value: 2.9517714347405306\n",
      "\n",
      "Trial 2:\n",
      "Params: {'L': 48, 'P': 0.41275786715345764, 'Inh': 0.007238683161631676, 'Trest': 0.47758296641983994, 'Trelative': 3.0359217762286224, 'C_h': 7.835237327505056, 'Tipo_red': 0}\n",
      "Value: 4.759819105781498\n",
      "\n",
      "Trial 3:\n",
      "Params: {'L': 58, 'P': 0.3149894577501925, 'Inh': 0.19133400845699558, 'Trest': -1.7162094423228702, 'Trelative': 1.2608121263643377, 'C_h': 8.107626995684006, 'Tipo_red': 0}\n",
      "Value: 4.994678405050701\n",
      "\n",
      "Trial 4:\n",
      "Params: {'L': 37, 'P': 0.5706544587027408, 'Inh': 0.22901828788209316, 'Trest': -1.0284432257837375, 'Trelative': 2.8342032944957807, 'C_h': 8.705999864286925, 'Tipo_red': 0}\n",
      "Value: 6.522936833344611\n",
      "\n",
      "Trial 5:\n",
      "Params: {'L': 56, 'P': 0.4020347579149772, 'Inh': 0.28894148056360036, 'Trest': 0.06630754023195418, 'Trelative': 1.3632773835161125, 'C_h': 6.919627929078819, 'Tipo_red': 0}\n",
      "Value: 7.25217170982908\n",
      "--------------------------------------- \n",
      "\n",
      "Best Result: 2.9517714347405306\n"
     ]
    },
    {
     "data": {
      "application/vnd.plotly.v1+json": {
       "config": {
        "plotlyServerURL": "https://plot.ly"
       },
       "data": [
        {
         "mode": "markers",
         "name": "Objective Value",
         "type": "scatter",
         "x": [
          0,
          1,
          2,
          3,
          4,
          5,
          6,
          7,
          8,
          9,
          10,
          11,
          12,
          13,
          14,
          15,
          16,
          17,
          18,
          19,
          20,
          21,
          22,
          23,
          24,
          25,
          26,
          27,
          28,
          29,
          30,
          31,
          32,
          33,
          34,
          35,
          36,
          37,
          38,
          39,
          40,
          41,
          42,
          43,
          44,
          45,
          46,
          47,
          48,
          49,
          50,
          51
         ],
         "y": [
          20.12131171668669,
          26.146446245102247,
          38.241100614868756,
          38.240917598164565,
          28.947670130158805,
          28.947670130158805,
          10.78421687733218,
          33.40370363264214,
          28.947670130158805,
          28.947670130158805,
          24.3514913807539,
          30.416195067767767,
          28.947670130158805,
          28.947670130158805,
          18.235748504206903,
          29.31946337093914,
          20.58167413032627,
          28.947670130158805,
          26.122123591365536,
          33.96448072528556,
          28.53410693501077,
          19.878049360079565,
          20.12075619210937,
          38.66875614992213,
          28.947670130158805,
          41.91182959187298,
          22.527237878197205,
          38.240917598164565,
          18.555228278765505,
          19.986804802056106,
          18.359293622732245,
          17.685700670839232,
          6.522936833344611,
          28.947670130158805,
          9.67737423312044,
          9.764424071466744,
          28.947670130158805,
          28.947670130158805,
          4.759819105781498,
          28.947670130158805,
          28.947670130158805,
          10.132632787515144,
          10.043386538792825,
          10.312809914340642,
          13.52326901035975,
          28.947670130158805,
          2.9517714347405306,
          7.25217170982908,
          28.947670130158805,
          4.994678405050701,
          13.304505709944928,
          36.07248528520608
         ]
        },
        {
         "mode": "lines",
         "name": "Best Value",
         "type": "scatter",
         "x": [
          0,
          1,
          2,
          3,
          4,
          5,
          6,
          7,
          8,
          9,
          10,
          11,
          12,
          13,
          14,
          15,
          16,
          17,
          18,
          19,
          20,
          21,
          22,
          23,
          24,
          25,
          26,
          27,
          28,
          29,
          30,
          31,
          32,
          33,
          34,
          35,
          36,
          37,
          38,
          39,
          40,
          41,
          42,
          43,
          44,
          45,
          46,
          47,
          48,
          49,
          50,
          51
         ],
         "y": [
          20.12131171668669,
          20.12131171668669,
          20.12131171668669,
          20.12131171668669,
          20.12131171668669,
          20.12131171668669,
          10.78421687733218,
          10.78421687733218,
          10.78421687733218,
          10.78421687733218,
          10.78421687733218,
          10.78421687733218,
          10.78421687733218,
          10.78421687733218,
          10.78421687733218,
          10.78421687733218,
          10.78421687733218,
          10.78421687733218,
          10.78421687733218,
          10.78421687733218,
          10.78421687733218,
          10.78421687733218,
          10.78421687733218,
          10.78421687733218,
          10.78421687733218,
          10.78421687733218,
          10.78421687733218,
          10.78421687733218,
          10.78421687733218,
          10.78421687733218,
          10.78421687733218,
          10.78421687733218,
          6.522936833344611,
          6.522936833344611,
          6.522936833344611,
          6.522936833344611,
          6.522936833344611,
          6.522936833344611,
          4.759819105781498,
          4.759819105781498,
          4.759819105781498,
          4.759819105781498,
          4.759819105781498,
          4.759819105781498,
          4.759819105781498,
          4.759819105781498,
          2.9517714347405306,
          2.9517714347405306,
          2.9517714347405306,
          2.9517714347405306,
          2.9517714347405306,
          2.9517714347405306
         ]
        },
        {
         "marker": {
          "color": "#cccccc"
         },
         "mode": "markers",
         "name": "Infeasible Trial",
         "showlegend": false,
         "type": "scatter",
         "x": [],
         "y": []
        }
       ],
       "layout": {
        "template": {
         "data": {
          "bar": [
           {
            "error_x": {
             "color": "#2a3f5f"
            },
            "error_y": {
             "color": "#2a3f5f"
            },
            "marker": {
             "line": {
              "color": "#E5ECF6",
              "width": 0.5
             },
             "pattern": {
              "fillmode": "overlay",
              "size": 10,
              "solidity": 0.2
             }
            },
            "type": "bar"
           }
          ],
          "barpolar": [
           {
            "marker": {
             "line": {
              "color": "#E5ECF6",
              "width": 0.5
             },
             "pattern": {
              "fillmode": "overlay",
              "size": 10,
              "solidity": 0.2
             }
            },
            "type": "barpolar"
           }
          ],
          "carpet": [
           {
            "aaxis": {
             "endlinecolor": "#2a3f5f",
             "gridcolor": "white",
             "linecolor": "white",
             "minorgridcolor": "white",
             "startlinecolor": "#2a3f5f"
            },
            "baxis": {
             "endlinecolor": "#2a3f5f",
             "gridcolor": "white",
             "linecolor": "white",
             "minorgridcolor": "white",
             "startlinecolor": "#2a3f5f"
            },
            "type": "carpet"
           }
          ],
          "choropleth": [
           {
            "colorbar": {
             "outlinewidth": 0,
             "ticks": ""
            },
            "type": "choropleth"
           }
          ],
          "contour": [
           {
            "colorbar": {
             "outlinewidth": 0,
             "ticks": ""
            },
            "colorscale": [
             [
              0,
              "#0d0887"
             ],
             [
              0.1111111111111111,
              "#46039f"
             ],
             [
              0.2222222222222222,
              "#7201a8"
             ],
             [
              0.3333333333333333,
              "#9c179e"
             ],
             [
              0.4444444444444444,
              "#bd3786"
             ],
             [
              0.5555555555555556,
              "#d8576b"
             ],
             [
              0.6666666666666666,
              "#ed7953"
             ],
             [
              0.7777777777777778,
              "#fb9f3a"
             ],
             [
              0.8888888888888888,
              "#fdca26"
             ],
             [
              1,
              "#f0f921"
             ]
            ],
            "type": "contour"
           }
          ],
          "contourcarpet": [
           {
            "colorbar": {
             "outlinewidth": 0,
             "ticks": ""
            },
            "type": "contourcarpet"
           }
          ],
          "heatmap": [
           {
            "colorbar": {
             "outlinewidth": 0,
             "ticks": ""
            },
            "colorscale": [
             [
              0,
              "#0d0887"
             ],
             [
              0.1111111111111111,
              "#46039f"
             ],
             [
              0.2222222222222222,
              "#7201a8"
             ],
             [
              0.3333333333333333,
              "#9c179e"
             ],
             [
              0.4444444444444444,
              "#bd3786"
             ],
             [
              0.5555555555555556,
              "#d8576b"
             ],
             [
              0.6666666666666666,
              "#ed7953"
             ],
             [
              0.7777777777777778,
              "#fb9f3a"
             ],
             [
              0.8888888888888888,
              "#fdca26"
             ],
             [
              1,
              "#f0f921"
             ]
            ],
            "type": "heatmap"
           }
          ],
          "heatmapgl": [
           {
            "colorbar": {
             "outlinewidth": 0,
             "ticks": ""
            },
            "colorscale": [
             [
              0,
              "#0d0887"
             ],
             [
              0.1111111111111111,
              "#46039f"
             ],
             [
              0.2222222222222222,
              "#7201a8"
             ],
             [
              0.3333333333333333,
              "#9c179e"
             ],
             [
              0.4444444444444444,
              "#bd3786"
             ],
             [
              0.5555555555555556,
              "#d8576b"
             ],
             [
              0.6666666666666666,
              "#ed7953"
             ],
             [
              0.7777777777777778,
              "#fb9f3a"
             ],
             [
              0.8888888888888888,
              "#fdca26"
             ],
             [
              1,
              "#f0f921"
             ]
            ],
            "type": "heatmapgl"
           }
          ],
          "histogram": [
           {
            "marker": {
             "pattern": {
              "fillmode": "overlay",
              "size": 10,
              "solidity": 0.2
             }
            },
            "type": "histogram"
           }
          ],
          "histogram2d": [
           {
            "colorbar": {
             "outlinewidth": 0,
             "ticks": ""
            },
            "colorscale": [
             [
              0,
              "#0d0887"
             ],
             [
              0.1111111111111111,
              "#46039f"
             ],
             [
              0.2222222222222222,
              "#7201a8"
             ],
             [
              0.3333333333333333,
              "#9c179e"
             ],
             [
              0.4444444444444444,
              "#bd3786"
             ],
             [
              0.5555555555555556,
              "#d8576b"
             ],
             [
              0.6666666666666666,
              "#ed7953"
             ],
             [
              0.7777777777777778,
              "#fb9f3a"
             ],
             [
              0.8888888888888888,
              "#fdca26"
             ],
             [
              1,
              "#f0f921"
             ]
            ],
            "type": "histogram2d"
           }
          ],
          "histogram2dcontour": [
           {
            "colorbar": {
             "outlinewidth": 0,
             "ticks": ""
            },
            "colorscale": [
             [
              0,
              "#0d0887"
             ],
             [
              0.1111111111111111,
              "#46039f"
             ],
             [
              0.2222222222222222,
              "#7201a8"
             ],
             [
              0.3333333333333333,
              "#9c179e"
             ],
             [
              0.4444444444444444,
              "#bd3786"
             ],
             [
              0.5555555555555556,
              "#d8576b"
             ],
             [
              0.6666666666666666,
              "#ed7953"
             ],
             [
              0.7777777777777778,
              "#fb9f3a"
             ],
             [
              0.8888888888888888,
              "#fdca26"
             ],
             [
              1,
              "#f0f921"
             ]
            ],
            "type": "histogram2dcontour"
           }
          ],
          "mesh3d": [
           {
            "colorbar": {
             "outlinewidth": 0,
             "ticks": ""
            },
            "type": "mesh3d"
           }
          ],
          "parcoords": [
           {
            "line": {
             "colorbar": {
              "outlinewidth": 0,
              "ticks": ""
             }
            },
            "type": "parcoords"
           }
          ],
          "pie": [
           {
            "automargin": true,
            "type": "pie"
           }
          ],
          "scatter": [
           {
            "fillpattern": {
             "fillmode": "overlay",
             "size": 10,
             "solidity": 0.2
            },
            "type": "scatter"
           }
          ],
          "scatter3d": [
           {
            "line": {
             "colorbar": {
              "outlinewidth": 0,
              "ticks": ""
             }
            },
            "marker": {
             "colorbar": {
              "outlinewidth": 0,
              "ticks": ""
             }
            },
            "type": "scatter3d"
           }
          ],
          "scattercarpet": [
           {
            "marker": {
             "colorbar": {
              "outlinewidth": 0,
              "ticks": ""
             }
            },
            "type": "scattercarpet"
           }
          ],
          "scattergeo": [
           {
            "marker": {
             "colorbar": {
              "outlinewidth": 0,
              "ticks": ""
             }
            },
            "type": "scattergeo"
           }
          ],
          "scattergl": [
           {
            "marker": {
             "colorbar": {
              "outlinewidth": 0,
              "ticks": ""
             }
            },
            "type": "scattergl"
           }
          ],
          "scattermapbox": [
           {
            "marker": {
             "colorbar": {
              "outlinewidth": 0,
              "ticks": ""
             }
            },
            "type": "scattermapbox"
           }
          ],
          "scatterpolar": [
           {
            "marker": {
             "colorbar": {
              "outlinewidth": 0,
              "ticks": ""
             }
            },
            "type": "scatterpolar"
           }
          ],
          "scatterpolargl": [
           {
            "marker": {
             "colorbar": {
              "outlinewidth": 0,
              "ticks": ""
             }
            },
            "type": "scatterpolargl"
           }
          ],
          "scatterternary": [
           {
            "marker": {
             "colorbar": {
              "outlinewidth": 0,
              "ticks": ""
             }
            },
            "type": "scatterternary"
           }
          ],
          "surface": [
           {
            "colorbar": {
             "outlinewidth": 0,
             "ticks": ""
            },
            "colorscale": [
             [
              0,
              "#0d0887"
             ],
             [
              0.1111111111111111,
              "#46039f"
             ],
             [
              0.2222222222222222,
              "#7201a8"
             ],
             [
              0.3333333333333333,
              "#9c179e"
             ],
             [
              0.4444444444444444,
              "#bd3786"
             ],
             [
              0.5555555555555556,
              "#d8576b"
             ],
             [
              0.6666666666666666,
              "#ed7953"
             ],
             [
              0.7777777777777778,
              "#fb9f3a"
             ],
             [
              0.8888888888888888,
              "#fdca26"
             ],
             [
              1,
              "#f0f921"
             ]
            ],
            "type": "surface"
           }
          ],
          "table": [
           {
            "cells": {
             "fill": {
              "color": "#EBF0F8"
             },
             "line": {
              "color": "white"
             }
            },
            "header": {
             "fill": {
              "color": "#C8D4E3"
             },
             "line": {
              "color": "white"
             }
            },
            "type": "table"
           }
          ]
         },
         "layout": {
          "annotationdefaults": {
           "arrowcolor": "#2a3f5f",
           "arrowhead": 0,
           "arrowwidth": 1
          },
          "autotypenumbers": "strict",
          "coloraxis": {
           "colorbar": {
            "outlinewidth": 0,
            "ticks": ""
           }
          },
          "colorscale": {
           "diverging": [
            [
             0,
             "#8e0152"
            ],
            [
             0.1,
             "#c51b7d"
            ],
            [
             0.2,
             "#de77ae"
            ],
            [
             0.3,
             "#f1b6da"
            ],
            [
             0.4,
             "#fde0ef"
            ],
            [
             0.5,
             "#f7f7f7"
            ],
            [
             0.6,
             "#e6f5d0"
            ],
            [
             0.7,
             "#b8e186"
            ],
            [
             0.8,
             "#7fbc41"
            ],
            [
             0.9,
             "#4d9221"
            ],
            [
             1,
             "#276419"
            ]
           ],
           "sequential": [
            [
             0,
             "#0d0887"
            ],
            [
             0.1111111111111111,
             "#46039f"
            ],
            [
             0.2222222222222222,
             "#7201a8"
            ],
            [
             0.3333333333333333,
             "#9c179e"
            ],
            [
             0.4444444444444444,
             "#bd3786"
            ],
            [
             0.5555555555555556,
             "#d8576b"
            ],
            [
             0.6666666666666666,
             "#ed7953"
            ],
            [
             0.7777777777777778,
             "#fb9f3a"
            ],
            [
             0.8888888888888888,
             "#fdca26"
            ],
            [
             1,
             "#f0f921"
            ]
           ],
           "sequentialminus": [
            [
             0,
             "#0d0887"
            ],
            [
             0.1111111111111111,
             "#46039f"
            ],
            [
             0.2222222222222222,
             "#7201a8"
            ],
            [
             0.3333333333333333,
             "#9c179e"
            ],
            [
             0.4444444444444444,
             "#bd3786"
            ],
            [
             0.5555555555555556,
             "#d8576b"
            ],
            [
             0.6666666666666666,
             "#ed7953"
            ],
            [
             0.7777777777777778,
             "#fb9f3a"
            ],
            [
             0.8888888888888888,
             "#fdca26"
            ],
            [
             1,
             "#f0f921"
            ]
           ]
          },
          "colorway": [
           "#636efa",
           "#EF553B",
           "#00cc96",
           "#ab63fa",
           "#FFA15A",
           "#19d3f3",
           "#FF6692",
           "#B6E880",
           "#FF97FF",
           "#FECB52"
          ],
          "font": {
           "color": "#2a3f5f"
          },
          "geo": {
           "bgcolor": "white",
           "lakecolor": "white",
           "landcolor": "#E5ECF6",
           "showlakes": true,
           "showland": true,
           "subunitcolor": "white"
          },
          "hoverlabel": {
           "align": "left"
          },
          "hovermode": "closest",
          "mapbox": {
           "style": "light"
          },
          "paper_bgcolor": "white",
          "plot_bgcolor": "#E5ECF6",
          "polar": {
           "angularaxis": {
            "gridcolor": "white",
            "linecolor": "white",
            "ticks": ""
           },
           "bgcolor": "#E5ECF6",
           "radialaxis": {
            "gridcolor": "white",
            "linecolor": "white",
            "ticks": ""
           }
          },
          "scene": {
           "xaxis": {
            "backgroundcolor": "#E5ECF6",
            "gridcolor": "white",
            "gridwidth": 2,
            "linecolor": "white",
            "showbackground": true,
            "ticks": "",
            "zerolinecolor": "white"
           },
           "yaxis": {
            "backgroundcolor": "#E5ECF6",
            "gridcolor": "white",
            "gridwidth": 2,
            "linecolor": "white",
            "showbackground": true,
            "ticks": "",
            "zerolinecolor": "white"
           },
           "zaxis": {
            "backgroundcolor": "#E5ECF6",
            "gridcolor": "white",
            "gridwidth": 2,
            "linecolor": "white",
            "showbackground": true,
            "ticks": "",
            "zerolinecolor": "white"
           }
          },
          "shapedefaults": {
           "line": {
            "color": "#2a3f5f"
           }
          },
          "ternary": {
           "aaxis": {
            "gridcolor": "white",
            "linecolor": "white",
            "ticks": ""
           },
           "baxis": {
            "gridcolor": "white",
            "linecolor": "white",
            "ticks": ""
           },
           "bgcolor": "#E5ECF6",
           "caxis": {
            "gridcolor": "white",
            "linecolor": "white",
            "ticks": ""
           }
          },
          "title": {
           "x": 0.05
          },
          "xaxis": {
           "automargin": true,
           "gridcolor": "white",
           "linecolor": "white",
           "ticks": "",
           "title": {
            "standoff": 15
           },
           "zerolinecolor": "white",
           "zerolinewidth": 2
          },
          "yaxis": {
           "automargin": true,
           "gridcolor": "white",
           "linecolor": "white",
           "ticks": "",
           "title": {
            "standoff": 15
           },
           "zerolinecolor": "white",
           "zerolinewidth": 2
          }
         }
        },
        "title": {
         "text": "Optimization History Plot"
        },
        "xaxis": {
         "title": {
          "text": "Trial"
         }
        },
        "yaxis": {
         "title": {
          "text": "Objective Value"
         }
        }
       }
      }
     },
     "metadata": {},
     "output_type": "display_data"
    }
   ],
   "source": [
    "print(study.study_name)\n",
    "valid_trials = [t for t in study.trials if t.value is not None]\n",
    "top_3_trials = sorted(valid_trials, key=lambda t: t.value)[:5]\n",
    "for i, trial in enumerate(top_3_trials):\n",
    "    print(f\"\\nTrial {i+1}:\")\n",
    "    print(\"Params:\", trial.params)\n",
    "    print(\"Value:\", trial.value)\n",
    "print(\"---------------------------------------\",\"\\n\")\n",
    "print(\"Best Result:\", study.best_value)\n",
    "\n",
    "vis.plot_optimization_history(study)\n"
   ]
  },
  {
   "cell_type": "code",
   "execution_count": 44,
   "metadata": {},
   "outputs": [
    {
     "data": {
      "application/vnd.plotly.v1+json": {
       "config": {
        "plotlyServerURL": "https://plot.ly"
       },
       "data": [
        {
         "cliponaxis": false,
         "hovertemplate": [
          "Tipo_red (IntDistribution): 0.03042837058666371<extra></extra>",
          "L (IntDistribution): 0.129410292215568<extra></extra>",
          "P (FloatDistribution): 0.16731557378031622<extra></extra>",
          "C_h (FloatDistribution): 0.18503116697565186<extra></extra>",
          "Inh (FloatDistribution): 0.2273631762263657<extra></extra>",
          "Trest (FloatDistribution): 0.2604514202154345<extra></extra>"
         ],
         "name": "Objective Value",
         "orientation": "h",
         "text": [
          "0.03",
          "0.13",
          "0.17",
          "0.19",
          "0.23",
          "0.26"
         ],
         "textposition": "outside",
         "type": "bar",
         "x": [
          0.03042837058666371,
          0.129410292215568,
          0.16731557378031622,
          0.18503116697565186,
          0.2273631762263657,
          0.2604514202154345
         ],
         "y": [
          "Tipo_red",
          "L",
          "P",
          "C_h",
          "Inh",
          "Trest"
         ]
        }
       ],
       "layout": {
        "template": {
         "data": {
          "bar": [
           {
            "error_x": {
             "color": "#2a3f5f"
            },
            "error_y": {
             "color": "#2a3f5f"
            },
            "marker": {
             "line": {
              "color": "#E5ECF6",
              "width": 0.5
             },
             "pattern": {
              "fillmode": "overlay",
              "size": 10,
              "solidity": 0.2
             }
            },
            "type": "bar"
           }
          ],
          "barpolar": [
           {
            "marker": {
             "line": {
              "color": "#E5ECF6",
              "width": 0.5
             },
             "pattern": {
              "fillmode": "overlay",
              "size": 10,
              "solidity": 0.2
             }
            },
            "type": "barpolar"
           }
          ],
          "carpet": [
           {
            "aaxis": {
             "endlinecolor": "#2a3f5f",
             "gridcolor": "white",
             "linecolor": "white",
             "minorgridcolor": "white",
             "startlinecolor": "#2a3f5f"
            },
            "baxis": {
             "endlinecolor": "#2a3f5f",
             "gridcolor": "white",
             "linecolor": "white",
             "minorgridcolor": "white",
             "startlinecolor": "#2a3f5f"
            },
            "type": "carpet"
           }
          ],
          "choropleth": [
           {
            "colorbar": {
             "outlinewidth": 0,
             "ticks": ""
            },
            "type": "choropleth"
           }
          ],
          "contour": [
           {
            "colorbar": {
             "outlinewidth": 0,
             "ticks": ""
            },
            "colorscale": [
             [
              0,
              "#0d0887"
             ],
             [
              0.1111111111111111,
              "#46039f"
             ],
             [
              0.2222222222222222,
              "#7201a8"
             ],
             [
              0.3333333333333333,
              "#9c179e"
             ],
             [
              0.4444444444444444,
              "#bd3786"
             ],
             [
              0.5555555555555556,
              "#d8576b"
             ],
             [
              0.6666666666666666,
              "#ed7953"
             ],
             [
              0.7777777777777778,
              "#fb9f3a"
             ],
             [
              0.8888888888888888,
              "#fdca26"
             ],
             [
              1,
              "#f0f921"
             ]
            ],
            "type": "contour"
           }
          ],
          "contourcarpet": [
           {
            "colorbar": {
             "outlinewidth": 0,
             "ticks": ""
            },
            "type": "contourcarpet"
           }
          ],
          "heatmap": [
           {
            "colorbar": {
             "outlinewidth": 0,
             "ticks": ""
            },
            "colorscale": [
             [
              0,
              "#0d0887"
             ],
             [
              0.1111111111111111,
              "#46039f"
             ],
             [
              0.2222222222222222,
              "#7201a8"
             ],
             [
              0.3333333333333333,
              "#9c179e"
             ],
             [
              0.4444444444444444,
              "#bd3786"
             ],
             [
              0.5555555555555556,
              "#d8576b"
             ],
             [
              0.6666666666666666,
              "#ed7953"
             ],
             [
              0.7777777777777778,
              "#fb9f3a"
             ],
             [
              0.8888888888888888,
              "#fdca26"
             ],
             [
              1,
              "#f0f921"
             ]
            ],
            "type": "heatmap"
           }
          ],
          "heatmapgl": [
           {
            "colorbar": {
             "outlinewidth": 0,
             "ticks": ""
            },
            "colorscale": [
             [
              0,
              "#0d0887"
             ],
             [
              0.1111111111111111,
              "#46039f"
             ],
             [
              0.2222222222222222,
              "#7201a8"
             ],
             [
              0.3333333333333333,
              "#9c179e"
             ],
             [
              0.4444444444444444,
              "#bd3786"
             ],
             [
              0.5555555555555556,
              "#d8576b"
             ],
             [
              0.6666666666666666,
              "#ed7953"
             ],
             [
              0.7777777777777778,
              "#fb9f3a"
             ],
             [
              0.8888888888888888,
              "#fdca26"
             ],
             [
              1,
              "#f0f921"
             ]
            ],
            "type": "heatmapgl"
           }
          ],
          "histogram": [
           {
            "marker": {
             "pattern": {
              "fillmode": "overlay",
              "size": 10,
              "solidity": 0.2
             }
            },
            "type": "histogram"
           }
          ],
          "histogram2d": [
           {
            "colorbar": {
             "outlinewidth": 0,
             "ticks": ""
            },
            "colorscale": [
             [
              0,
              "#0d0887"
             ],
             [
              0.1111111111111111,
              "#46039f"
             ],
             [
              0.2222222222222222,
              "#7201a8"
             ],
             [
              0.3333333333333333,
              "#9c179e"
             ],
             [
              0.4444444444444444,
              "#bd3786"
             ],
             [
              0.5555555555555556,
              "#d8576b"
             ],
             [
              0.6666666666666666,
              "#ed7953"
             ],
             [
              0.7777777777777778,
              "#fb9f3a"
             ],
             [
              0.8888888888888888,
              "#fdca26"
             ],
             [
              1,
              "#f0f921"
             ]
            ],
            "type": "histogram2d"
           }
          ],
          "histogram2dcontour": [
           {
            "colorbar": {
             "outlinewidth": 0,
             "ticks": ""
            },
            "colorscale": [
             [
              0,
              "#0d0887"
             ],
             [
              0.1111111111111111,
              "#46039f"
             ],
             [
              0.2222222222222222,
              "#7201a8"
             ],
             [
              0.3333333333333333,
              "#9c179e"
             ],
             [
              0.4444444444444444,
              "#bd3786"
             ],
             [
              0.5555555555555556,
              "#d8576b"
             ],
             [
              0.6666666666666666,
              "#ed7953"
             ],
             [
              0.7777777777777778,
              "#fb9f3a"
             ],
             [
              0.8888888888888888,
              "#fdca26"
             ],
             [
              1,
              "#f0f921"
             ]
            ],
            "type": "histogram2dcontour"
           }
          ],
          "mesh3d": [
           {
            "colorbar": {
             "outlinewidth": 0,
             "ticks": ""
            },
            "type": "mesh3d"
           }
          ],
          "parcoords": [
           {
            "line": {
             "colorbar": {
              "outlinewidth": 0,
              "ticks": ""
             }
            },
            "type": "parcoords"
           }
          ],
          "pie": [
           {
            "automargin": true,
            "type": "pie"
           }
          ],
          "scatter": [
           {
            "fillpattern": {
             "fillmode": "overlay",
             "size": 10,
             "solidity": 0.2
            },
            "type": "scatter"
           }
          ],
          "scatter3d": [
           {
            "line": {
             "colorbar": {
              "outlinewidth": 0,
              "ticks": ""
             }
            },
            "marker": {
             "colorbar": {
              "outlinewidth": 0,
              "ticks": ""
             }
            },
            "type": "scatter3d"
           }
          ],
          "scattercarpet": [
           {
            "marker": {
             "colorbar": {
              "outlinewidth": 0,
              "ticks": ""
             }
            },
            "type": "scattercarpet"
           }
          ],
          "scattergeo": [
           {
            "marker": {
             "colorbar": {
              "outlinewidth": 0,
              "ticks": ""
             }
            },
            "type": "scattergeo"
           }
          ],
          "scattergl": [
           {
            "marker": {
             "colorbar": {
              "outlinewidth": 0,
              "ticks": ""
             }
            },
            "type": "scattergl"
           }
          ],
          "scattermapbox": [
           {
            "marker": {
             "colorbar": {
              "outlinewidth": 0,
              "ticks": ""
             }
            },
            "type": "scattermapbox"
           }
          ],
          "scatterpolar": [
           {
            "marker": {
             "colorbar": {
              "outlinewidth": 0,
              "ticks": ""
             }
            },
            "type": "scatterpolar"
           }
          ],
          "scatterpolargl": [
           {
            "marker": {
             "colorbar": {
              "outlinewidth": 0,
              "ticks": ""
             }
            },
            "type": "scatterpolargl"
           }
          ],
          "scatterternary": [
           {
            "marker": {
             "colorbar": {
              "outlinewidth": 0,
              "ticks": ""
             }
            },
            "type": "scatterternary"
           }
          ],
          "surface": [
           {
            "colorbar": {
             "outlinewidth": 0,
             "ticks": ""
            },
            "colorscale": [
             [
              0,
              "#0d0887"
             ],
             [
              0.1111111111111111,
              "#46039f"
             ],
             [
              0.2222222222222222,
              "#7201a8"
             ],
             [
              0.3333333333333333,
              "#9c179e"
             ],
             [
              0.4444444444444444,
              "#bd3786"
             ],
             [
              0.5555555555555556,
              "#d8576b"
             ],
             [
              0.6666666666666666,
              "#ed7953"
             ],
             [
              0.7777777777777778,
              "#fb9f3a"
             ],
             [
              0.8888888888888888,
              "#fdca26"
             ],
             [
              1,
              "#f0f921"
             ]
            ],
            "type": "surface"
           }
          ],
          "table": [
           {
            "cells": {
             "fill": {
              "color": "#EBF0F8"
             },
             "line": {
              "color": "white"
             }
            },
            "header": {
             "fill": {
              "color": "#C8D4E3"
             },
             "line": {
              "color": "white"
             }
            },
            "type": "table"
           }
          ]
         },
         "layout": {
          "annotationdefaults": {
           "arrowcolor": "#2a3f5f",
           "arrowhead": 0,
           "arrowwidth": 1
          },
          "autotypenumbers": "strict",
          "coloraxis": {
           "colorbar": {
            "outlinewidth": 0,
            "ticks": ""
           }
          },
          "colorscale": {
           "diverging": [
            [
             0,
             "#8e0152"
            ],
            [
             0.1,
             "#c51b7d"
            ],
            [
             0.2,
             "#de77ae"
            ],
            [
             0.3,
             "#f1b6da"
            ],
            [
             0.4,
             "#fde0ef"
            ],
            [
             0.5,
             "#f7f7f7"
            ],
            [
             0.6,
             "#e6f5d0"
            ],
            [
             0.7,
             "#b8e186"
            ],
            [
             0.8,
             "#7fbc41"
            ],
            [
             0.9,
             "#4d9221"
            ],
            [
             1,
             "#276419"
            ]
           ],
           "sequential": [
            [
             0,
             "#0d0887"
            ],
            [
             0.1111111111111111,
             "#46039f"
            ],
            [
             0.2222222222222222,
             "#7201a8"
            ],
            [
             0.3333333333333333,
             "#9c179e"
            ],
            [
             0.4444444444444444,
             "#bd3786"
            ],
            [
             0.5555555555555556,
             "#d8576b"
            ],
            [
             0.6666666666666666,
             "#ed7953"
            ],
            [
             0.7777777777777778,
             "#fb9f3a"
            ],
            [
             0.8888888888888888,
             "#fdca26"
            ],
            [
             1,
             "#f0f921"
            ]
           ],
           "sequentialminus": [
            [
             0,
             "#0d0887"
            ],
            [
             0.1111111111111111,
             "#46039f"
            ],
            [
             0.2222222222222222,
             "#7201a8"
            ],
            [
             0.3333333333333333,
             "#9c179e"
            ],
            [
             0.4444444444444444,
             "#bd3786"
            ],
            [
             0.5555555555555556,
             "#d8576b"
            ],
            [
             0.6666666666666666,
             "#ed7953"
            ],
            [
             0.7777777777777778,
             "#fb9f3a"
            ],
            [
             0.8888888888888888,
             "#fdca26"
            ],
            [
             1,
             "#f0f921"
            ]
           ]
          },
          "colorway": [
           "#636efa",
           "#EF553B",
           "#00cc96",
           "#ab63fa",
           "#FFA15A",
           "#19d3f3",
           "#FF6692",
           "#B6E880",
           "#FF97FF",
           "#FECB52"
          ],
          "font": {
           "color": "#2a3f5f"
          },
          "geo": {
           "bgcolor": "white",
           "lakecolor": "white",
           "landcolor": "#E5ECF6",
           "showlakes": true,
           "showland": true,
           "subunitcolor": "white"
          },
          "hoverlabel": {
           "align": "left"
          },
          "hovermode": "closest",
          "mapbox": {
           "style": "light"
          },
          "paper_bgcolor": "white",
          "plot_bgcolor": "#E5ECF6",
          "polar": {
           "angularaxis": {
            "gridcolor": "white",
            "linecolor": "white",
            "ticks": ""
           },
           "bgcolor": "#E5ECF6",
           "radialaxis": {
            "gridcolor": "white",
            "linecolor": "white",
            "ticks": ""
           }
          },
          "scene": {
           "xaxis": {
            "backgroundcolor": "#E5ECF6",
            "gridcolor": "white",
            "gridwidth": 2,
            "linecolor": "white",
            "showbackground": true,
            "ticks": "",
            "zerolinecolor": "white"
           },
           "yaxis": {
            "backgroundcolor": "#E5ECF6",
            "gridcolor": "white",
            "gridwidth": 2,
            "linecolor": "white",
            "showbackground": true,
            "ticks": "",
            "zerolinecolor": "white"
           },
           "zaxis": {
            "backgroundcolor": "#E5ECF6",
            "gridcolor": "white",
            "gridwidth": 2,
            "linecolor": "white",
            "showbackground": true,
            "ticks": "",
            "zerolinecolor": "white"
           }
          },
          "shapedefaults": {
           "line": {
            "color": "#2a3f5f"
           }
          },
          "ternary": {
           "aaxis": {
            "gridcolor": "white",
            "linecolor": "white",
            "ticks": ""
           },
           "baxis": {
            "gridcolor": "white",
            "linecolor": "white",
            "ticks": ""
           },
           "bgcolor": "#E5ECF6",
           "caxis": {
            "gridcolor": "white",
            "linecolor": "white",
            "ticks": ""
           }
          },
          "title": {
           "x": 0.05
          },
          "xaxis": {
           "automargin": true,
           "gridcolor": "white",
           "linecolor": "white",
           "ticks": "",
           "title": {
            "standoff": 15
           },
           "zerolinecolor": "white",
           "zerolinewidth": 2
          },
          "yaxis": {
           "automargin": true,
           "gridcolor": "white",
           "linecolor": "white",
           "ticks": "",
           "title": {
            "standoff": 15
           },
           "zerolinecolor": "white",
           "zerolinewidth": 2
          }
         }
        },
        "title": {
         "text": "Hyperparameter Importances"
        },
        "xaxis": {
         "title": {
          "text": "Hyperparameter Importance"
         }
        },
        "yaxis": {
         "title": {
          "text": "Hyperparameter"
         }
        }
       }
      }
     },
     "metadata": {},
     "output_type": "display_data"
    }
   ],
   "source": [
    "vis.plot_param_importances(study)"
   ]
  },
  {
   "cell_type": "code",
   "execution_count": 45,
   "metadata": {},
   "outputs": [
    {
     "data": {
      "application/vnd.plotly.v1+json": {
       "config": {
        "plotlyServerURL": "https://plot.ly"
       },
       "data": [
        {
         "dimensions": [
          {
           "label": "Objective Value",
           "range": [
            2.9517714347405306,
            41.91182959187298
           ],
           "values": [
            20.12131171668669,
            26.146446245102247,
            38.241100614868756,
            38.240917598164565,
            28.947670130158805,
            28.947670130158805,
            10.78421687733218,
            33.40370363264214,
            28.947670130158805,
            28.947670130158805,
            24.3514913807539,
            30.416195067767767,
            28.947670130158805,
            28.947670130158805,
            18.235748504206903,
            29.31946337093914,
            20.58167413032627,
            28.947670130158805,
            26.122123591365536,
            33.96448072528556,
            28.53410693501077,
            19.878049360079565,
            20.12075619210937,
            38.66875614992213,
            28.947670130158805,
            41.91182959187298,
            22.527237878197205,
            38.240917598164565,
            18.555228278765505,
            19.986804802056106,
            18.359293622732245,
            17.685700670839232,
            6.522936833344611,
            28.947670130158805,
            9.67737423312044,
            9.764424071466744,
            28.947670130158805,
            28.947670130158805,
            4.759819105781498,
            28.947670130158805,
            28.947670130158805,
            10.132632787515144,
            10.043386538792825,
            10.312809914340642,
            13.52326901035975,
            28.947670130158805,
            2.9517714347405306,
            7.25217170982908,
            28.947670130158805,
            4.994678405050701,
            13.304505709944928,
            36.07248528520608
           ]
          },
          {
           "label": "C_h",
           "range": [
            0.2745973184984729,
            9.984838343562668
           ],
           "values": [
            9.310506348565106,
            3.151363343594827,
            9.107371714532611,
            1.7378844261430815,
            8.32098279452653,
            6.295947178169161,
            5.452482808269159,
            0.2745973184984729,
            4.734777746674873,
            1.3029776980426755,
            6.313114424071676,
            9.696973538884556,
            7.375560984870905,
            4.603550433807721,
            3.399690683253117,
            3.194551158417165,
            3.4171643954105386,
            5.8309472389399,
            4.047195272451004,
            1.8740525090570768,
            7.451375835613604,
            5.641030439283789,
            5.237673779732441,
            7.161943660367653,
            5.610300347482892,
            4.021737716561586,
            2.58173361897569,
            4.036941462547752,
            6.228154851402751,
            6.4436441832322116,
            8.32695742811838,
            8.539595344955252,
            8.705999864286925,
            8.593991437295806,
            9.094795746812432,
            9.937761756870723,
            9.979787902636216,
            9.235292180598618,
            7.835237327505056,
            7.766922742240403,
            9.0435553718523,
            9.423500472760836,
            9.652670975591862,
            7.942186844914785,
            8.910015782217851,
            9.692441819337224,
            9.984838343562668,
            6.919627929078819,
            7.053409877186616,
            8.107626995684006,
            7.964844903196592,
            6.765744957354155
           ]
          },
          {
           "label": "Inh",
           "range": [
            0.002147651547974922,
            0.9981466599838109
           ],
           "values": [
            0.9077433692292862,
            0.04537954954703227,
            0.6086349898381556,
            0.5154652555726227,
            0.14194603136716255,
            0.7067944220648641,
            0.16269549781659054,
            0.37772200999631733,
            0.5542976911412416,
            0.18317903971987326,
            0.30408001979752763,
            0.9262564683934461,
            0.9981466599838109,
            0.7855090808015354,
            0.3723630329140958,
            0.36436669765416374,
            0.2463997038266651,
            0.016308256085318384,
            0.41944067235943444,
            0.1934452551182324,
            0.11571031365765982,
            0.7752586957009018,
            0.6572512348470132,
            0.7794870295645242,
            0.45025199543919836,
            0.2913488133100428,
            0.4931308984554883,
            0.3247666097487253,
            0.23842785222273316,
            0.09668106769759263,
            0.23787688594534107,
            0.23040009183747323,
            0.22901828788209316,
            0.052451765167982445,
            0.14549808649908474,
            0.14414580515587438,
            0.06987204646500131,
            0.16432417701921267,
            0.007238683161631676,
            0.026430363848048977,
            0.13596678891210817,
            0.006979185892606682,
            0.002147651547974922,
            0.08777042571984586,
            0.0587922199251838,
            0.13562170890256314,
            0.1840042178063965,
            0.28894148056360036,
            0.28377989722704805,
            0.19133400845699558,
            0.2008852766571381,
            0.3360716898827794
           ]
          },
          {
           "label": "L",
           "range": [
            10,
            60
           ],
           "values": [
            16,
            43,
            26,
            39,
            25,
            51,
            52,
            22,
            51,
            50,
            58,
            17,
            15,
            34,
            32,
            33,
            59,
            44,
            30,
            40,
            10,
            17,
            23,
            29,
            10,
            46,
            38,
            18,
            31,
            30,
            37,
            37,
            37,
            42,
            55,
            55,
            55,
            54,
            48,
            49,
            56,
            53,
            47,
            48,
            46,
            60,
            57,
            56,
            57,
            58,
            60,
            52
           ]
          },
          {
           "label": "P",
           "range": [
            0.056420289836734305,
            0.9944264047603146
           ],
           "values": [
            0.8906719818025445,
            0.6256770858896528,
            0.594900446844645,
            0.4603691574911317,
            0.3413608381055634,
            0.11025703956630462,
            0.8341899007753375,
            0.056420289836734305,
            0.3490430366351449,
            0.5320788027793142,
            0.9944264047603146,
            0.9142542734745118,
            0.7967114777777948,
            0.7734721781992677,
            0.7754447058923842,
            0.7081462893126897,
            0.7180444586747569,
            0.8462655431272728,
            0.9642000474648146,
            0.6616497032323305,
            0.39198835994372605,
            0.8689076806592964,
            0.8269091932737945,
            0.7509162748983431,
            0.8869420099266179,
            0.23326354310747188,
            0.5271204280381316,
            0.9368547830707822,
            0.6769371424398023,
            0.6712107927497933,
            0.5713239629586652,
            0.6012410443892346,
            0.5706544587027408,
            0.4545639387325573,
            0.6161180476940409,
            0.607949518699383,
            0.4611061485882704,
            0.6087546871374868,
            0.41275786715345764,
            0.25909698953430127,
            0.4238493813574249,
            0.5564227251525422,
            0.5605849746663933,
            0.4982937100090457,
            0.6304837505023265,
            0.3229997012617003,
            0.4965416953500361,
            0.4020347579149772,
            0.3692626064641717,
            0.3149894577501925,
            0.2084900595203994,
            0.3024813900299425
           ]
          },
          {
           "label": "Tipo_red",
           "range": [
            0,
            2
           ],
           "values": [
            2,
            1,
            2,
            2,
            2,
            0,
            0,
            1,
            1,
            2,
            0,
            0,
            1,
            0,
            1,
            0,
            1,
            0,
            1,
            0,
            1,
            2,
            2,
            1,
            2,
            1,
            1,
            2,
            0,
            0,
            0,
            0,
            0,
            0,
            0,
            0,
            0,
            0,
            0,
            0,
            0,
            0,
            0,
            0,
            0,
            0,
            0,
            0,
            0,
            0,
            0,
            0
           ]
          },
          {
           "label": "Trelative",
           "range": [
            -13.741359450185692,
            23.146608019176462
           ],
           "values": [
            -7.715585433636003,
            -5.548006279979034,
            -11.079125387247412,
            -9.041752626651688,
            8.12373901951004,
            12.668361597252098,
            5.789949661336402,
            -2.1149432701225317,
            13.160911849233111,
            18.346912008935995,
            -0.6005907555073268,
            -4.182481256386569,
            7.7266467643803125,
            23.146608019176462,
            -5.297957250207697,
            2.8893122098948196,
            -5.0293370775464075,
            4.725660356753238,
            0.4926559245126647,
            -6.177914634751232,
            4.285936660227701,
            -7.831609684117645,
            -2.7368470917275447,
            -6.962506531028349,
            9.805594573361601,
            -2.730492485265102,
            -4.188710583975226,
            -13.741359450185692,
            -8.483585078414958,
            -9.117791533527106,
            0.9066624976580249,
            2.692779811913044,
            2.8342032944957807,
            6.077923416837452,
            2.245429274783483,
            2.7031457021384693,
            10.641076438475526,
            4.747909447983011,
            3.0359217762286224,
            2.790267084519764,
            7.737851399076705,
            2.034596983575826,
            2.0445441092353596,
            1.939059615178534,
            3.3987742018790543,
            3.664799110423486,
            1.8722523128821265,
            1.3632773835161125,
            5.650885901239482,
            1.2608121263643377,
            3.4191311388544166,
            1.2823526847143696
           ]
          },
          {
           "label": "Trest",
           "range": [
            -14.27973942714311,
            14.37291473062728
           ],
           "values": [
            -11.149371728268953,
            -13.134950141881571,
            -12.835224102572498,
            -13.144654953326672,
            1.04799289120524,
            8.770329258969294,
            -0.2651479016154994,
            -2.9400847331954196,
            4.089804460663029,
            10.291186390869356,
            -5.841745789484823,
            -7.189472300104963,
            4.52879618432717,
            14.37291473062728,
            -7.603162911912339,
            -2.2213022941160463,
            -8.530563692681826,
            1.3010999567202504,
            -4.179327670941716,
            -9.62385561721992,
            -0.6098875507107122,
            -10.32697144469088,
            -6.126271409637553,
            -9.919943543428557,
            4.945734992830058,
            -4.745040579553551,
            -7.781370120088008,
            -14.27973942714311,
            -11.17714483297671,
            -11.33497846206511,
            -2.3644903007641456,
            -0.8475029041430191,
            -1.0284432257837375,
            2.695656748402782,
            -1.21231514095127,
            -0.30983186886962194,
            6.992442514926446,
            2.8398760589326146,
            0.47758296641983994,
            1.000537570111394,
            6.49032795783512,
            -0.665935160249856,
            -3.6246950052969433,
            -3.644071675407766,
            -2.3389692157230644,
            1.7642883688297792,
            -1.3321936159428258,
            0.06630754023195418,
            3.208881864800638,
            -1.7162094423228702,
            0.9636589421710282,
            -1.4771892426796271
           ]
          }
         ],
         "labelangle": 30,
         "labelside": "bottom",
         "line": {
          "color": [
           20.12131171668669,
           26.146446245102247,
           38.241100614868756,
           38.240917598164565,
           28.947670130158805,
           28.947670130158805,
           10.78421687733218,
           33.40370363264214,
           28.947670130158805,
           28.947670130158805,
           24.3514913807539,
           30.416195067767767,
           28.947670130158805,
           28.947670130158805,
           18.235748504206903,
           29.31946337093914,
           20.58167413032627,
           28.947670130158805,
           26.122123591365536,
           33.96448072528556,
           28.53410693501077,
           19.878049360079565,
           20.12075619210937,
           38.66875614992213,
           28.947670130158805,
           41.91182959187298,
           22.527237878197205,
           38.240917598164565,
           18.555228278765505,
           19.986804802056106,
           18.359293622732245,
           17.685700670839232,
           6.522936833344611,
           28.947670130158805,
           9.67737423312044,
           9.764424071466744,
           28.947670130158805,
           28.947670130158805,
           4.759819105781498,
           28.947670130158805,
           28.947670130158805,
           10.132632787515144,
           10.043386538792825,
           10.312809914340642,
           13.52326901035975,
           28.947670130158805,
           2.9517714347405306,
           7.25217170982908,
           28.947670130158805,
           4.994678405050701,
           13.304505709944928,
           36.07248528520608
          ],
          "colorbar": {
           "title": {
            "text": "Objective Value"
           }
          },
          "colorscale": [
           [
            0,
            "rgb(247,251,255)"
           ],
           [
            0.125,
            "rgb(222,235,247)"
           ],
           [
            0.25,
            "rgb(198,219,239)"
           ],
           [
            0.375,
            "rgb(158,202,225)"
           ],
           [
            0.5,
            "rgb(107,174,214)"
           ],
           [
            0.625,
            "rgb(66,146,198)"
           ],
           [
            0.75,
            "rgb(33,113,181)"
           ],
           [
            0.875,
            "rgb(8,81,156)"
           ],
           [
            1,
            "rgb(8,48,107)"
           ]
          ],
          "reversescale": true,
          "showscale": true
         },
         "type": "parcoords"
        }
       ],
       "layout": {
        "template": {
         "data": {
          "bar": [
           {
            "error_x": {
             "color": "#2a3f5f"
            },
            "error_y": {
             "color": "#2a3f5f"
            },
            "marker": {
             "line": {
              "color": "#E5ECF6",
              "width": 0.5
             },
             "pattern": {
              "fillmode": "overlay",
              "size": 10,
              "solidity": 0.2
             }
            },
            "type": "bar"
           }
          ],
          "barpolar": [
           {
            "marker": {
             "line": {
              "color": "#E5ECF6",
              "width": 0.5
             },
             "pattern": {
              "fillmode": "overlay",
              "size": 10,
              "solidity": 0.2
             }
            },
            "type": "barpolar"
           }
          ],
          "carpet": [
           {
            "aaxis": {
             "endlinecolor": "#2a3f5f",
             "gridcolor": "white",
             "linecolor": "white",
             "minorgridcolor": "white",
             "startlinecolor": "#2a3f5f"
            },
            "baxis": {
             "endlinecolor": "#2a3f5f",
             "gridcolor": "white",
             "linecolor": "white",
             "minorgridcolor": "white",
             "startlinecolor": "#2a3f5f"
            },
            "type": "carpet"
           }
          ],
          "choropleth": [
           {
            "colorbar": {
             "outlinewidth": 0,
             "ticks": ""
            },
            "type": "choropleth"
           }
          ],
          "contour": [
           {
            "colorbar": {
             "outlinewidth": 0,
             "ticks": ""
            },
            "colorscale": [
             [
              0,
              "#0d0887"
             ],
             [
              0.1111111111111111,
              "#46039f"
             ],
             [
              0.2222222222222222,
              "#7201a8"
             ],
             [
              0.3333333333333333,
              "#9c179e"
             ],
             [
              0.4444444444444444,
              "#bd3786"
             ],
             [
              0.5555555555555556,
              "#d8576b"
             ],
             [
              0.6666666666666666,
              "#ed7953"
             ],
             [
              0.7777777777777778,
              "#fb9f3a"
             ],
             [
              0.8888888888888888,
              "#fdca26"
             ],
             [
              1,
              "#f0f921"
             ]
            ],
            "type": "contour"
           }
          ],
          "contourcarpet": [
           {
            "colorbar": {
             "outlinewidth": 0,
             "ticks": ""
            },
            "type": "contourcarpet"
           }
          ],
          "heatmap": [
           {
            "colorbar": {
             "outlinewidth": 0,
             "ticks": ""
            },
            "colorscale": [
             [
              0,
              "#0d0887"
             ],
             [
              0.1111111111111111,
              "#46039f"
             ],
             [
              0.2222222222222222,
              "#7201a8"
             ],
             [
              0.3333333333333333,
              "#9c179e"
             ],
             [
              0.4444444444444444,
              "#bd3786"
             ],
             [
              0.5555555555555556,
              "#d8576b"
             ],
             [
              0.6666666666666666,
              "#ed7953"
             ],
             [
              0.7777777777777778,
              "#fb9f3a"
             ],
             [
              0.8888888888888888,
              "#fdca26"
             ],
             [
              1,
              "#f0f921"
             ]
            ],
            "type": "heatmap"
           }
          ],
          "heatmapgl": [
           {
            "colorbar": {
             "outlinewidth": 0,
             "ticks": ""
            },
            "colorscale": [
             [
              0,
              "#0d0887"
             ],
             [
              0.1111111111111111,
              "#46039f"
             ],
             [
              0.2222222222222222,
              "#7201a8"
             ],
             [
              0.3333333333333333,
              "#9c179e"
             ],
             [
              0.4444444444444444,
              "#bd3786"
             ],
             [
              0.5555555555555556,
              "#d8576b"
             ],
             [
              0.6666666666666666,
              "#ed7953"
             ],
             [
              0.7777777777777778,
              "#fb9f3a"
             ],
             [
              0.8888888888888888,
              "#fdca26"
             ],
             [
              1,
              "#f0f921"
             ]
            ],
            "type": "heatmapgl"
           }
          ],
          "histogram": [
           {
            "marker": {
             "pattern": {
              "fillmode": "overlay",
              "size": 10,
              "solidity": 0.2
             }
            },
            "type": "histogram"
           }
          ],
          "histogram2d": [
           {
            "colorbar": {
             "outlinewidth": 0,
             "ticks": ""
            },
            "colorscale": [
             [
              0,
              "#0d0887"
             ],
             [
              0.1111111111111111,
              "#46039f"
             ],
             [
              0.2222222222222222,
              "#7201a8"
             ],
             [
              0.3333333333333333,
              "#9c179e"
             ],
             [
              0.4444444444444444,
              "#bd3786"
             ],
             [
              0.5555555555555556,
              "#d8576b"
             ],
             [
              0.6666666666666666,
              "#ed7953"
             ],
             [
              0.7777777777777778,
              "#fb9f3a"
             ],
             [
              0.8888888888888888,
              "#fdca26"
             ],
             [
              1,
              "#f0f921"
             ]
            ],
            "type": "histogram2d"
           }
          ],
          "histogram2dcontour": [
           {
            "colorbar": {
             "outlinewidth": 0,
             "ticks": ""
            },
            "colorscale": [
             [
              0,
              "#0d0887"
             ],
             [
              0.1111111111111111,
              "#46039f"
             ],
             [
              0.2222222222222222,
              "#7201a8"
             ],
             [
              0.3333333333333333,
              "#9c179e"
             ],
             [
              0.4444444444444444,
              "#bd3786"
             ],
             [
              0.5555555555555556,
              "#d8576b"
             ],
             [
              0.6666666666666666,
              "#ed7953"
             ],
             [
              0.7777777777777778,
              "#fb9f3a"
             ],
             [
              0.8888888888888888,
              "#fdca26"
             ],
             [
              1,
              "#f0f921"
             ]
            ],
            "type": "histogram2dcontour"
           }
          ],
          "mesh3d": [
           {
            "colorbar": {
             "outlinewidth": 0,
             "ticks": ""
            },
            "type": "mesh3d"
           }
          ],
          "parcoords": [
           {
            "line": {
             "colorbar": {
              "outlinewidth": 0,
              "ticks": ""
             }
            },
            "type": "parcoords"
           }
          ],
          "pie": [
           {
            "automargin": true,
            "type": "pie"
           }
          ],
          "scatter": [
           {
            "fillpattern": {
             "fillmode": "overlay",
             "size": 10,
             "solidity": 0.2
            },
            "type": "scatter"
           }
          ],
          "scatter3d": [
           {
            "line": {
             "colorbar": {
              "outlinewidth": 0,
              "ticks": ""
             }
            },
            "marker": {
             "colorbar": {
              "outlinewidth": 0,
              "ticks": ""
             }
            },
            "type": "scatter3d"
           }
          ],
          "scattercarpet": [
           {
            "marker": {
             "colorbar": {
              "outlinewidth": 0,
              "ticks": ""
             }
            },
            "type": "scattercarpet"
           }
          ],
          "scattergeo": [
           {
            "marker": {
             "colorbar": {
              "outlinewidth": 0,
              "ticks": ""
             }
            },
            "type": "scattergeo"
           }
          ],
          "scattergl": [
           {
            "marker": {
             "colorbar": {
              "outlinewidth": 0,
              "ticks": ""
             }
            },
            "type": "scattergl"
           }
          ],
          "scattermapbox": [
           {
            "marker": {
             "colorbar": {
              "outlinewidth": 0,
              "ticks": ""
             }
            },
            "type": "scattermapbox"
           }
          ],
          "scatterpolar": [
           {
            "marker": {
             "colorbar": {
              "outlinewidth": 0,
              "ticks": ""
             }
            },
            "type": "scatterpolar"
           }
          ],
          "scatterpolargl": [
           {
            "marker": {
             "colorbar": {
              "outlinewidth": 0,
              "ticks": ""
             }
            },
            "type": "scatterpolargl"
           }
          ],
          "scatterternary": [
           {
            "marker": {
             "colorbar": {
              "outlinewidth": 0,
              "ticks": ""
             }
            },
            "type": "scatterternary"
           }
          ],
          "surface": [
           {
            "colorbar": {
             "outlinewidth": 0,
             "ticks": ""
            },
            "colorscale": [
             [
              0,
              "#0d0887"
             ],
             [
              0.1111111111111111,
              "#46039f"
             ],
             [
              0.2222222222222222,
              "#7201a8"
             ],
             [
              0.3333333333333333,
              "#9c179e"
             ],
             [
              0.4444444444444444,
              "#bd3786"
             ],
             [
              0.5555555555555556,
              "#d8576b"
             ],
             [
              0.6666666666666666,
              "#ed7953"
             ],
             [
              0.7777777777777778,
              "#fb9f3a"
             ],
             [
              0.8888888888888888,
              "#fdca26"
             ],
             [
              1,
              "#f0f921"
             ]
            ],
            "type": "surface"
           }
          ],
          "table": [
           {
            "cells": {
             "fill": {
              "color": "#EBF0F8"
             },
             "line": {
              "color": "white"
             }
            },
            "header": {
             "fill": {
              "color": "#C8D4E3"
             },
             "line": {
              "color": "white"
             }
            },
            "type": "table"
           }
          ]
         },
         "layout": {
          "annotationdefaults": {
           "arrowcolor": "#2a3f5f",
           "arrowhead": 0,
           "arrowwidth": 1
          },
          "autotypenumbers": "strict",
          "coloraxis": {
           "colorbar": {
            "outlinewidth": 0,
            "ticks": ""
           }
          },
          "colorscale": {
           "diverging": [
            [
             0,
             "#8e0152"
            ],
            [
             0.1,
             "#c51b7d"
            ],
            [
             0.2,
             "#de77ae"
            ],
            [
             0.3,
             "#f1b6da"
            ],
            [
             0.4,
             "#fde0ef"
            ],
            [
             0.5,
             "#f7f7f7"
            ],
            [
             0.6,
             "#e6f5d0"
            ],
            [
             0.7,
             "#b8e186"
            ],
            [
             0.8,
             "#7fbc41"
            ],
            [
             0.9,
             "#4d9221"
            ],
            [
             1,
             "#276419"
            ]
           ],
           "sequential": [
            [
             0,
             "#0d0887"
            ],
            [
             0.1111111111111111,
             "#46039f"
            ],
            [
             0.2222222222222222,
             "#7201a8"
            ],
            [
             0.3333333333333333,
             "#9c179e"
            ],
            [
             0.4444444444444444,
             "#bd3786"
            ],
            [
             0.5555555555555556,
             "#d8576b"
            ],
            [
             0.6666666666666666,
             "#ed7953"
            ],
            [
             0.7777777777777778,
             "#fb9f3a"
            ],
            [
             0.8888888888888888,
             "#fdca26"
            ],
            [
             1,
             "#f0f921"
            ]
           ],
           "sequentialminus": [
            [
             0,
             "#0d0887"
            ],
            [
             0.1111111111111111,
             "#46039f"
            ],
            [
             0.2222222222222222,
             "#7201a8"
            ],
            [
             0.3333333333333333,
             "#9c179e"
            ],
            [
             0.4444444444444444,
             "#bd3786"
            ],
            [
             0.5555555555555556,
             "#d8576b"
            ],
            [
             0.6666666666666666,
             "#ed7953"
            ],
            [
             0.7777777777777778,
             "#fb9f3a"
            ],
            [
             0.8888888888888888,
             "#fdca26"
            ],
            [
             1,
             "#f0f921"
            ]
           ]
          },
          "colorway": [
           "#636efa",
           "#EF553B",
           "#00cc96",
           "#ab63fa",
           "#FFA15A",
           "#19d3f3",
           "#FF6692",
           "#B6E880",
           "#FF97FF",
           "#FECB52"
          ],
          "font": {
           "color": "#2a3f5f"
          },
          "geo": {
           "bgcolor": "white",
           "lakecolor": "white",
           "landcolor": "#E5ECF6",
           "showlakes": true,
           "showland": true,
           "subunitcolor": "white"
          },
          "hoverlabel": {
           "align": "left"
          },
          "hovermode": "closest",
          "mapbox": {
           "style": "light"
          },
          "paper_bgcolor": "white",
          "plot_bgcolor": "#E5ECF6",
          "polar": {
           "angularaxis": {
            "gridcolor": "white",
            "linecolor": "white",
            "ticks": ""
           },
           "bgcolor": "#E5ECF6",
           "radialaxis": {
            "gridcolor": "white",
            "linecolor": "white",
            "ticks": ""
           }
          },
          "scene": {
           "xaxis": {
            "backgroundcolor": "#E5ECF6",
            "gridcolor": "white",
            "gridwidth": 2,
            "linecolor": "white",
            "showbackground": true,
            "ticks": "",
            "zerolinecolor": "white"
           },
           "yaxis": {
            "backgroundcolor": "#E5ECF6",
            "gridcolor": "white",
            "gridwidth": 2,
            "linecolor": "white",
            "showbackground": true,
            "ticks": "",
            "zerolinecolor": "white"
           },
           "zaxis": {
            "backgroundcolor": "#E5ECF6",
            "gridcolor": "white",
            "gridwidth": 2,
            "linecolor": "white",
            "showbackground": true,
            "ticks": "",
            "zerolinecolor": "white"
           }
          },
          "shapedefaults": {
           "line": {
            "color": "#2a3f5f"
           }
          },
          "ternary": {
           "aaxis": {
            "gridcolor": "white",
            "linecolor": "white",
            "ticks": ""
           },
           "baxis": {
            "gridcolor": "white",
            "linecolor": "white",
            "ticks": ""
           },
           "bgcolor": "#E5ECF6",
           "caxis": {
            "gridcolor": "white",
            "linecolor": "white",
            "ticks": ""
           }
          },
          "title": {
           "x": 0.05
          },
          "xaxis": {
           "automargin": true,
           "gridcolor": "white",
           "linecolor": "white",
           "ticks": "",
           "title": {
            "standoff": 15
           },
           "zerolinecolor": "white",
           "zerolinewidth": 2
          },
          "yaxis": {
           "automargin": true,
           "gridcolor": "white",
           "linecolor": "white",
           "ticks": "",
           "title": {
            "standoff": 15
           },
           "zerolinecolor": "white",
           "zerolinewidth": 2
          }
         }
        },
        "title": {
         "text": "Parallel Coordinate Plot"
        }
       }
      }
     },
     "metadata": {},
     "output_type": "display_data"
    }
   ],
   "source": [
    "vis.plot_parallel_coordinate(study)"
   ]
  },
  {
   "cell_type": "code",
   "execution_count": 46,
   "metadata": {},
   "outputs": [
    {
     "data": {
      "application/vnd.plotly.v1+json": {
       "config": {
        "plotlyServerURL": "https://plot.ly"
       },
       "data": [
        {
         "marker": {
          "color": [
           0,
           1,
           2,
           3,
           4,
           5,
           6,
           7,
           8,
           9,
           10,
           11,
           12,
           13,
           14,
           15,
           16,
           17,
           18,
           19,
           20,
           21,
           22,
           23,
           24,
           25,
           26,
           27,
           28,
           29,
           30,
           31,
           32,
           33,
           34,
           35,
           36,
           37,
           38,
           39,
           40,
           41,
           42,
           43,
           44,
           45,
           46,
           47,
           48,
           49,
           50,
           51
          ],
          "colorbar": {
           "title": {
            "text": "Trial"
           },
           "x": 1,
           "xpad": 40
          },
          "colorscale": [
           [
            0,
            "rgb(247,251,255)"
           ],
           [
            0.125,
            "rgb(222,235,247)"
           ],
           [
            0.25,
            "rgb(198,219,239)"
           ],
           [
            0.375,
            "rgb(158,202,225)"
           ],
           [
            0.5,
            "rgb(107,174,214)"
           ],
           [
            0.625,
            "rgb(66,146,198)"
           ],
           [
            0.75,
            "rgb(33,113,181)"
           ],
           [
            0.875,
            "rgb(8,81,156)"
           ],
           [
            1,
            "rgb(8,48,107)"
           ]
          ],
          "line": {
           "color": "Grey",
           "width": 0.5
          },
          "showscale": true
         },
         "mode": "markers",
         "name": "Feasible Trial",
         "showlegend": false,
         "type": "scatter",
         "x": [
          9.310506348565106,
          3.151363343594827,
          9.107371714532611,
          1.7378844261430815,
          8.32098279452653,
          6.295947178169161,
          5.452482808269159,
          0.2745973184984729,
          4.734777746674873,
          1.3029776980426755,
          6.313114424071676,
          9.696973538884556,
          7.375560984870905,
          4.603550433807721,
          3.399690683253117,
          3.194551158417165,
          3.4171643954105386,
          5.8309472389399,
          4.047195272451004,
          1.8740525090570768,
          7.451375835613604,
          5.641030439283789,
          5.237673779732441,
          7.161943660367653,
          5.610300347482892,
          4.021737716561586,
          2.58173361897569,
          4.036941462547752,
          6.228154851402751,
          6.4436441832322116,
          8.32695742811838,
          8.539595344955252,
          8.705999864286925,
          8.593991437295806,
          9.094795746812432,
          9.937761756870723,
          9.979787902636216,
          9.235292180598618,
          7.835237327505056,
          7.766922742240403,
          9.0435553718523,
          9.423500472760836,
          9.652670975591862,
          7.942186844914785,
          8.910015782217851,
          9.692441819337224,
          9.984838343562668,
          6.919627929078819,
          7.053409877186616,
          8.107626995684006,
          7.964844903196592,
          6.765744957354155
         ],
         "xaxis": "x",
         "y": [
          20.12131171668669,
          26.146446245102247,
          38.241100614868756,
          38.240917598164565,
          28.947670130158805,
          28.947670130158805,
          10.78421687733218,
          33.40370363264214,
          28.947670130158805,
          28.947670130158805,
          24.3514913807539,
          30.416195067767767,
          28.947670130158805,
          28.947670130158805,
          18.235748504206903,
          29.31946337093914,
          20.58167413032627,
          28.947670130158805,
          26.122123591365536,
          33.96448072528556,
          28.53410693501077,
          19.878049360079565,
          20.12075619210937,
          38.66875614992213,
          28.947670130158805,
          41.91182959187298,
          22.527237878197205,
          38.240917598164565,
          18.555228278765505,
          19.986804802056106,
          18.359293622732245,
          17.685700670839232,
          6.522936833344611,
          28.947670130158805,
          9.67737423312044,
          9.764424071466744,
          28.947670130158805,
          28.947670130158805,
          4.759819105781498,
          28.947670130158805,
          28.947670130158805,
          10.132632787515144,
          10.043386538792825,
          10.312809914340642,
          13.52326901035975,
          28.947670130158805,
          2.9517714347405306,
          7.25217170982908,
          28.947670130158805,
          4.994678405050701,
          13.304505709944928,
          36.07248528520608
         ],
         "yaxis": "y"
        },
        {
         "marker": {
          "color": [
           0,
           1,
           2,
           3,
           4,
           5,
           6,
           7,
           8,
           9,
           10,
           11,
           12,
           13,
           14,
           15,
           16,
           17,
           18,
           19,
           20,
           21,
           22,
           23,
           24,
           25,
           26,
           27,
           28,
           29,
           30,
           31,
           32,
           33,
           34,
           35,
           36,
           37,
           38,
           39,
           40,
           41,
           42,
           43,
           44,
           45,
           46,
           47,
           48,
           49,
           50,
           51
          ],
          "colorbar": {
           "title": {
            "text": "Trial"
           },
           "x": 1,
           "xpad": 40
          },
          "colorscale": [
           [
            0,
            "rgb(247,251,255)"
           ],
           [
            0.125,
            "rgb(222,235,247)"
           ],
           [
            0.25,
            "rgb(198,219,239)"
           ],
           [
            0.375,
            "rgb(158,202,225)"
           ],
           [
            0.5,
            "rgb(107,174,214)"
           ],
           [
            0.625,
            "rgb(66,146,198)"
           ],
           [
            0.75,
            "rgb(33,113,181)"
           ],
           [
            0.875,
            "rgb(8,81,156)"
           ],
           [
            1,
            "rgb(8,48,107)"
           ]
          ],
          "line": {
           "color": "Grey",
           "width": 0.5
          },
          "showscale": false
         },
         "mode": "markers",
         "name": "Feasible Trial",
         "showlegend": false,
         "type": "scatter",
         "x": [
          0.9077433692292862,
          0.04537954954703227,
          0.6086349898381556,
          0.5154652555726227,
          0.14194603136716255,
          0.7067944220648641,
          0.16269549781659054,
          0.37772200999631733,
          0.5542976911412416,
          0.18317903971987326,
          0.30408001979752763,
          0.9262564683934461,
          0.9981466599838109,
          0.7855090808015354,
          0.3723630329140958,
          0.36436669765416374,
          0.2463997038266651,
          0.016308256085318384,
          0.41944067235943444,
          0.1934452551182324,
          0.11571031365765982,
          0.7752586957009018,
          0.6572512348470132,
          0.7794870295645242,
          0.45025199543919836,
          0.2913488133100428,
          0.4931308984554883,
          0.3247666097487253,
          0.23842785222273316,
          0.09668106769759263,
          0.23787688594534107,
          0.23040009183747323,
          0.22901828788209316,
          0.052451765167982445,
          0.14549808649908474,
          0.14414580515587438,
          0.06987204646500131,
          0.16432417701921267,
          0.007238683161631676,
          0.026430363848048977,
          0.13596678891210817,
          0.006979185892606682,
          0.002147651547974922,
          0.08777042571984586,
          0.0587922199251838,
          0.13562170890256314,
          0.1840042178063965,
          0.28894148056360036,
          0.28377989722704805,
          0.19133400845699558,
          0.2008852766571381,
          0.3360716898827794
         ],
         "xaxis": "x2",
         "y": [
          20.12131171668669,
          26.146446245102247,
          38.241100614868756,
          38.240917598164565,
          28.947670130158805,
          28.947670130158805,
          10.78421687733218,
          33.40370363264214,
          28.947670130158805,
          28.947670130158805,
          24.3514913807539,
          30.416195067767767,
          28.947670130158805,
          28.947670130158805,
          18.235748504206903,
          29.31946337093914,
          20.58167413032627,
          28.947670130158805,
          26.122123591365536,
          33.96448072528556,
          28.53410693501077,
          19.878049360079565,
          20.12075619210937,
          38.66875614992213,
          28.947670130158805,
          41.91182959187298,
          22.527237878197205,
          38.240917598164565,
          18.555228278765505,
          19.986804802056106,
          18.359293622732245,
          17.685700670839232,
          6.522936833344611,
          28.947670130158805,
          9.67737423312044,
          9.764424071466744,
          28.947670130158805,
          28.947670130158805,
          4.759819105781498,
          28.947670130158805,
          28.947670130158805,
          10.132632787515144,
          10.043386538792825,
          10.312809914340642,
          13.52326901035975,
          28.947670130158805,
          2.9517714347405306,
          7.25217170982908,
          28.947670130158805,
          4.994678405050701,
          13.304505709944928,
          36.07248528520608
         ],
         "yaxis": "y2"
        },
        {
         "marker": {
          "color": [
           0,
           1,
           2,
           3,
           4,
           5,
           6,
           7,
           8,
           9,
           10,
           11,
           12,
           13,
           14,
           15,
           16,
           17,
           18,
           19,
           20,
           21,
           22,
           23,
           24,
           25,
           26,
           27,
           28,
           29,
           30,
           31,
           32,
           33,
           34,
           35,
           36,
           37,
           38,
           39,
           40,
           41,
           42,
           43,
           44,
           45,
           46,
           47,
           48,
           49,
           50,
           51
          ],
          "colorbar": {
           "title": {
            "text": "Trial"
           },
           "x": 1,
           "xpad": 40
          },
          "colorscale": [
           [
            0,
            "rgb(247,251,255)"
           ],
           [
            0.125,
            "rgb(222,235,247)"
           ],
           [
            0.25,
            "rgb(198,219,239)"
           ],
           [
            0.375,
            "rgb(158,202,225)"
           ],
           [
            0.5,
            "rgb(107,174,214)"
           ],
           [
            0.625,
            "rgb(66,146,198)"
           ],
           [
            0.75,
            "rgb(33,113,181)"
           ],
           [
            0.875,
            "rgb(8,81,156)"
           ],
           [
            1,
            "rgb(8,48,107)"
           ]
          ],
          "line": {
           "color": "Grey",
           "width": 0.5
          },
          "showscale": false
         },
         "mode": "markers",
         "name": "Feasible Trial",
         "showlegend": false,
         "type": "scatter",
         "x": [
          16,
          43,
          26,
          39,
          25,
          51,
          52,
          22,
          51,
          50,
          58,
          17,
          15,
          34,
          32,
          33,
          59,
          44,
          30,
          40,
          10,
          17,
          23,
          29,
          10,
          46,
          38,
          18,
          31,
          30,
          37,
          37,
          37,
          42,
          55,
          55,
          55,
          54,
          48,
          49,
          56,
          53,
          47,
          48,
          46,
          60,
          57,
          56,
          57,
          58,
          60,
          52
         ],
         "xaxis": "x3",
         "y": [
          20.12131171668669,
          26.146446245102247,
          38.241100614868756,
          38.240917598164565,
          28.947670130158805,
          28.947670130158805,
          10.78421687733218,
          33.40370363264214,
          28.947670130158805,
          28.947670130158805,
          24.3514913807539,
          30.416195067767767,
          28.947670130158805,
          28.947670130158805,
          18.235748504206903,
          29.31946337093914,
          20.58167413032627,
          28.947670130158805,
          26.122123591365536,
          33.96448072528556,
          28.53410693501077,
          19.878049360079565,
          20.12075619210937,
          38.66875614992213,
          28.947670130158805,
          41.91182959187298,
          22.527237878197205,
          38.240917598164565,
          18.555228278765505,
          19.986804802056106,
          18.359293622732245,
          17.685700670839232,
          6.522936833344611,
          28.947670130158805,
          9.67737423312044,
          9.764424071466744,
          28.947670130158805,
          28.947670130158805,
          4.759819105781498,
          28.947670130158805,
          28.947670130158805,
          10.132632787515144,
          10.043386538792825,
          10.312809914340642,
          13.52326901035975,
          28.947670130158805,
          2.9517714347405306,
          7.25217170982908,
          28.947670130158805,
          4.994678405050701,
          13.304505709944928,
          36.07248528520608
         ],
         "yaxis": "y3"
        },
        {
         "marker": {
          "color": [
           0,
           1,
           2,
           3,
           4,
           5,
           6,
           7,
           8,
           9,
           10,
           11,
           12,
           13,
           14,
           15,
           16,
           17,
           18,
           19,
           20,
           21,
           22,
           23,
           24,
           25,
           26,
           27,
           28,
           29,
           30,
           31,
           32,
           33,
           34,
           35,
           36,
           37,
           38,
           39,
           40,
           41,
           42,
           43,
           44,
           45,
           46,
           47,
           48,
           49,
           50,
           51
          ],
          "colorbar": {
           "title": {
            "text": "Trial"
           },
           "x": 1,
           "xpad": 40
          },
          "colorscale": [
           [
            0,
            "rgb(247,251,255)"
           ],
           [
            0.125,
            "rgb(222,235,247)"
           ],
           [
            0.25,
            "rgb(198,219,239)"
           ],
           [
            0.375,
            "rgb(158,202,225)"
           ],
           [
            0.5,
            "rgb(107,174,214)"
           ],
           [
            0.625,
            "rgb(66,146,198)"
           ],
           [
            0.75,
            "rgb(33,113,181)"
           ],
           [
            0.875,
            "rgb(8,81,156)"
           ],
           [
            1,
            "rgb(8,48,107)"
           ]
          ],
          "line": {
           "color": "Grey",
           "width": 0.5
          },
          "showscale": false
         },
         "mode": "markers",
         "name": "Feasible Trial",
         "showlegend": false,
         "type": "scatter",
         "x": [
          0.8906719818025445,
          0.6256770858896528,
          0.594900446844645,
          0.4603691574911317,
          0.3413608381055634,
          0.11025703956630462,
          0.8341899007753375,
          0.056420289836734305,
          0.3490430366351449,
          0.5320788027793142,
          0.9944264047603146,
          0.9142542734745118,
          0.7967114777777948,
          0.7734721781992677,
          0.7754447058923842,
          0.7081462893126897,
          0.7180444586747569,
          0.8462655431272728,
          0.9642000474648146,
          0.6616497032323305,
          0.39198835994372605,
          0.8689076806592964,
          0.8269091932737945,
          0.7509162748983431,
          0.8869420099266179,
          0.23326354310747188,
          0.5271204280381316,
          0.9368547830707822,
          0.6769371424398023,
          0.6712107927497933,
          0.5713239629586652,
          0.6012410443892346,
          0.5706544587027408,
          0.4545639387325573,
          0.6161180476940409,
          0.607949518699383,
          0.4611061485882704,
          0.6087546871374868,
          0.41275786715345764,
          0.25909698953430127,
          0.4238493813574249,
          0.5564227251525422,
          0.5605849746663933,
          0.4982937100090457,
          0.6304837505023265,
          0.3229997012617003,
          0.4965416953500361,
          0.4020347579149772,
          0.3692626064641717,
          0.3149894577501925,
          0.2084900595203994,
          0.3024813900299425
         ],
         "xaxis": "x4",
         "y": [
          20.12131171668669,
          26.146446245102247,
          38.241100614868756,
          38.240917598164565,
          28.947670130158805,
          28.947670130158805,
          10.78421687733218,
          33.40370363264214,
          28.947670130158805,
          28.947670130158805,
          24.3514913807539,
          30.416195067767767,
          28.947670130158805,
          28.947670130158805,
          18.235748504206903,
          29.31946337093914,
          20.58167413032627,
          28.947670130158805,
          26.122123591365536,
          33.96448072528556,
          28.53410693501077,
          19.878049360079565,
          20.12075619210937,
          38.66875614992213,
          28.947670130158805,
          41.91182959187298,
          22.527237878197205,
          38.240917598164565,
          18.555228278765505,
          19.986804802056106,
          18.359293622732245,
          17.685700670839232,
          6.522936833344611,
          28.947670130158805,
          9.67737423312044,
          9.764424071466744,
          28.947670130158805,
          28.947670130158805,
          4.759819105781498,
          28.947670130158805,
          28.947670130158805,
          10.132632787515144,
          10.043386538792825,
          10.312809914340642,
          13.52326901035975,
          28.947670130158805,
          2.9517714347405306,
          7.25217170982908,
          28.947670130158805,
          4.994678405050701,
          13.304505709944928,
          36.07248528520608
         ],
         "yaxis": "y4"
        },
        {
         "marker": {
          "color": [
           0,
           1,
           2,
           3,
           4,
           5,
           6,
           7,
           8,
           9,
           10,
           11,
           12,
           13,
           14,
           15,
           16,
           17,
           18,
           19,
           20,
           21,
           22,
           23,
           24,
           25,
           26,
           27,
           28,
           29,
           30,
           31,
           32,
           33,
           34,
           35,
           36,
           37,
           38,
           39,
           40,
           41,
           42,
           43,
           44,
           45,
           46,
           47,
           48,
           49,
           50,
           51
          ],
          "colorbar": {
           "title": {
            "text": "Trial"
           },
           "x": 1,
           "xpad": 40
          },
          "colorscale": [
           [
            0,
            "rgb(247,251,255)"
           ],
           [
            0.125,
            "rgb(222,235,247)"
           ],
           [
            0.25,
            "rgb(198,219,239)"
           ],
           [
            0.375,
            "rgb(158,202,225)"
           ],
           [
            0.5,
            "rgb(107,174,214)"
           ],
           [
            0.625,
            "rgb(66,146,198)"
           ],
           [
            0.75,
            "rgb(33,113,181)"
           ],
           [
            0.875,
            "rgb(8,81,156)"
           ],
           [
            1,
            "rgb(8,48,107)"
           ]
          ],
          "line": {
           "color": "Grey",
           "width": 0.5
          },
          "showscale": false
         },
         "mode": "markers",
         "name": "Feasible Trial",
         "showlegend": false,
         "type": "scatter",
         "x": [
          2,
          1,
          2,
          2,
          2,
          0,
          0,
          1,
          1,
          2,
          0,
          0,
          1,
          0,
          1,
          0,
          1,
          0,
          1,
          0,
          1,
          2,
          2,
          1,
          2,
          1,
          1,
          2,
          0,
          0,
          0,
          0,
          0,
          0,
          0,
          0,
          0,
          0,
          0,
          0,
          0,
          0,
          0,
          0,
          0,
          0,
          0,
          0,
          0,
          0,
          0,
          0
         ],
         "xaxis": "x5",
         "y": [
          20.12131171668669,
          26.146446245102247,
          38.241100614868756,
          38.240917598164565,
          28.947670130158805,
          28.947670130158805,
          10.78421687733218,
          33.40370363264214,
          28.947670130158805,
          28.947670130158805,
          24.3514913807539,
          30.416195067767767,
          28.947670130158805,
          28.947670130158805,
          18.235748504206903,
          29.31946337093914,
          20.58167413032627,
          28.947670130158805,
          26.122123591365536,
          33.96448072528556,
          28.53410693501077,
          19.878049360079565,
          20.12075619210937,
          38.66875614992213,
          28.947670130158805,
          41.91182959187298,
          22.527237878197205,
          38.240917598164565,
          18.555228278765505,
          19.986804802056106,
          18.359293622732245,
          17.685700670839232,
          6.522936833344611,
          28.947670130158805,
          9.67737423312044,
          9.764424071466744,
          28.947670130158805,
          28.947670130158805,
          4.759819105781498,
          28.947670130158805,
          28.947670130158805,
          10.132632787515144,
          10.043386538792825,
          10.312809914340642,
          13.52326901035975,
          28.947670130158805,
          2.9517714347405306,
          7.25217170982908,
          28.947670130158805,
          4.994678405050701,
          13.304505709944928,
          36.07248528520608
         ],
         "yaxis": "y5"
        },
        {
         "marker": {
          "color": [
           0,
           1,
           2,
           3,
           4,
           5,
           6,
           7,
           8,
           9,
           10,
           11,
           12,
           13,
           14,
           15,
           16,
           17,
           18,
           19,
           20,
           21,
           22,
           23,
           24,
           25,
           26,
           27,
           28,
           29,
           30,
           31,
           32,
           33,
           34,
           35,
           36,
           37,
           38,
           39,
           40,
           41,
           42,
           43,
           44,
           45,
           46,
           47,
           48,
           49,
           50,
           51
          ],
          "colorbar": {
           "title": {
            "text": "Trial"
           },
           "x": 1,
           "xpad": 40
          },
          "colorscale": [
           [
            0,
            "rgb(247,251,255)"
           ],
           [
            0.125,
            "rgb(222,235,247)"
           ],
           [
            0.25,
            "rgb(198,219,239)"
           ],
           [
            0.375,
            "rgb(158,202,225)"
           ],
           [
            0.5,
            "rgb(107,174,214)"
           ],
           [
            0.625,
            "rgb(66,146,198)"
           ],
           [
            0.75,
            "rgb(33,113,181)"
           ],
           [
            0.875,
            "rgb(8,81,156)"
           ],
           [
            1,
            "rgb(8,48,107)"
           ]
          ],
          "line": {
           "color": "Grey",
           "width": 0.5
          },
          "showscale": false
         },
         "mode": "markers",
         "name": "Feasible Trial",
         "showlegend": false,
         "type": "scatter",
         "x": [
          -7.715585433636003,
          -5.548006279979034,
          -11.079125387247412,
          -9.041752626651688,
          8.12373901951004,
          12.668361597252098,
          5.789949661336402,
          -2.1149432701225317,
          13.160911849233111,
          18.346912008935995,
          -0.6005907555073268,
          -4.182481256386569,
          7.7266467643803125,
          23.146608019176462,
          -5.297957250207697,
          2.8893122098948196,
          -5.0293370775464075,
          4.725660356753238,
          0.4926559245126647,
          -6.177914634751232,
          4.285936660227701,
          -7.831609684117645,
          -2.7368470917275447,
          -6.962506531028349,
          9.805594573361601,
          -2.730492485265102,
          -4.188710583975226,
          -13.741359450185692,
          -8.483585078414958,
          -9.117791533527106,
          0.9066624976580249,
          2.692779811913044,
          2.8342032944957807,
          6.077923416837452,
          2.245429274783483,
          2.7031457021384693,
          10.641076438475526,
          4.747909447983011,
          3.0359217762286224,
          2.790267084519764,
          7.737851399076705,
          2.034596983575826,
          2.0445441092353596,
          1.939059615178534,
          3.3987742018790543,
          3.664799110423486,
          1.8722523128821265,
          1.3632773835161125,
          5.650885901239482,
          1.2608121263643377,
          3.4191311388544166,
          1.2823526847143696
         ],
         "xaxis": "x6",
         "y": [
          20.12131171668669,
          26.146446245102247,
          38.241100614868756,
          38.240917598164565,
          28.947670130158805,
          28.947670130158805,
          10.78421687733218,
          33.40370363264214,
          28.947670130158805,
          28.947670130158805,
          24.3514913807539,
          30.416195067767767,
          28.947670130158805,
          28.947670130158805,
          18.235748504206903,
          29.31946337093914,
          20.58167413032627,
          28.947670130158805,
          26.122123591365536,
          33.96448072528556,
          28.53410693501077,
          19.878049360079565,
          20.12075619210937,
          38.66875614992213,
          28.947670130158805,
          41.91182959187298,
          22.527237878197205,
          38.240917598164565,
          18.555228278765505,
          19.986804802056106,
          18.359293622732245,
          17.685700670839232,
          6.522936833344611,
          28.947670130158805,
          9.67737423312044,
          9.764424071466744,
          28.947670130158805,
          28.947670130158805,
          4.759819105781498,
          28.947670130158805,
          28.947670130158805,
          10.132632787515144,
          10.043386538792825,
          10.312809914340642,
          13.52326901035975,
          28.947670130158805,
          2.9517714347405306,
          7.25217170982908,
          28.947670130158805,
          4.994678405050701,
          13.304505709944928,
          36.07248528520608
         ],
         "yaxis": "y6"
        },
        {
         "marker": {
          "color": [
           0,
           1,
           2,
           3,
           4,
           5,
           6,
           7,
           8,
           9,
           10,
           11,
           12,
           13,
           14,
           15,
           16,
           17,
           18,
           19,
           20,
           21,
           22,
           23,
           24,
           25,
           26,
           27,
           28,
           29,
           30,
           31,
           32,
           33,
           34,
           35,
           36,
           37,
           38,
           39,
           40,
           41,
           42,
           43,
           44,
           45,
           46,
           47,
           48,
           49,
           50,
           51
          ],
          "colorbar": {
           "title": {
            "text": "Trial"
           },
           "x": 1,
           "xpad": 40
          },
          "colorscale": [
           [
            0,
            "rgb(247,251,255)"
           ],
           [
            0.125,
            "rgb(222,235,247)"
           ],
           [
            0.25,
            "rgb(198,219,239)"
           ],
           [
            0.375,
            "rgb(158,202,225)"
           ],
           [
            0.5,
            "rgb(107,174,214)"
           ],
           [
            0.625,
            "rgb(66,146,198)"
           ],
           [
            0.75,
            "rgb(33,113,181)"
           ],
           [
            0.875,
            "rgb(8,81,156)"
           ],
           [
            1,
            "rgb(8,48,107)"
           ]
          ],
          "line": {
           "color": "Grey",
           "width": 0.5
          },
          "showscale": false
         },
         "mode": "markers",
         "name": "Feasible Trial",
         "showlegend": false,
         "type": "scatter",
         "x": [
          -11.149371728268953,
          -13.134950141881571,
          -12.835224102572498,
          -13.144654953326672,
          1.04799289120524,
          8.770329258969294,
          -0.2651479016154994,
          -2.9400847331954196,
          4.089804460663029,
          10.291186390869356,
          -5.841745789484823,
          -7.189472300104963,
          4.52879618432717,
          14.37291473062728,
          -7.603162911912339,
          -2.2213022941160463,
          -8.530563692681826,
          1.3010999567202504,
          -4.179327670941716,
          -9.62385561721992,
          -0.6098875507107122,
          -10.32697144469088,
          -6.126271409637553,
          -9.919943543428557,
          4.945734992830058,
          -4.745040579553551,
          -7.781370120088008,
          -14.27973942714311,
          -11.17714483297671,
          -11.33497846206511,
          -2.3644903007641456,
          -0.8475029041430191,
          -1.0284432257837375,
          2.695656748402782,
          -1.21231514095127,
          -0.30983186886962194,
          6.992442514926446,
          2.8398760589326146,
          0.47758296641983994,
          1.000537570111394,
          6.49032795783512,
          -0.665935160249856,
          -3.6246950052969433,
          -3.644071675407766,
          -2.3389692157230644,
          1.7642883688297792,
          -1.3321936159428258,
          0.06630754023195418,
          3.208881864800638,
          -1.7162094423228702,
          0.9636589421710282,
          -1.4771892426796271
         ],
         "xaxis": "x7",
         "y": [
          20.12131171668669,
          26.146446245102247,
          38.241100614868756,
          38.240917598164565,
          28.947670130158805,
          28.947670130158805,
          10.78421687733218,
          33.40370363264214,
          28.947670130158805,
          28.947670130158805,
          24.3514913807539,
          30.416195067767767,
          28.947670130158805,
          28.947670130158805,
          18.235748504206903,
          29.31946337093914,
          20.58167413032627,
          28.947670130158805,
          26.122123591365536,
          33.96448072528556,
          28.53410693501077,
          19.878049360079565,
          20.12075619210937,
          38.66875614992213,
          28.947670130158805,
          41.91182959187298,
          22.527237878197205,
          38.240917598164565,
          18.555228278765505,
          19.986804802056106,
          18.359293622732245,
          17.685700670839232,
          6.522936833344611,
          28.947670130158805,
          9.67737423312044,
          9.764424071466744,
          28.947670130158805,
          28.947670130158805,
          4.759819105781498,
          28.947670130158805,
          28.947670130158805,
          10.132632787515144,
          10.043386538792825,
          10.312809914340642,
          13.52326901035975,
          28.947670130158805,
          2.9517714347405306,
          7.25217170982908,
          28.947670130158805,
          4.994678405050701,
          13.304505709944928,
          36.07248528520608
         ],
         "yaxis": "y7"
        }
       ],
       "layout": {
        "template": {
         "data": {
          "bar": [
           {
            "error_x": {
             "color": "#2a3f5f"
            },
            "error_y": {
             "color": "#2a3f5f"
            },
            "marker": {
             "line": {
              "color": "#E5ECF6",
              "width": 0.5
             },
             "pattern": {
              "fillmode": "overlay",
              "size": 10,
              "solidity": 0.2
             }
            },
            "type": "bar"
           }
          ],
          "barpolar": [
           {
            "marker": {
             "line": {
              "color": "#E5ECF6",
              "width": 0.5
             },
             "pattern": {
              "fillmode": "overlay",
              "size": 10,
              "solidity": 0.2
             }
            },
            "type": "barpolar"
           }
          ],
          "carpet": [
           {
            "aaxis": {
             "endlinecolor": "#2a3f5f",
             "gridcolor": "white",
             "linecolor": "white",
             "minorgridcolor": "white",
             "startlinecolor": "#2a3f5f"
            },
            "baxis": {
             "endlinecolor": "#2a3f5f",
             "gridcolor": "white",
             "linecolor": "white",
             "minorgridcolor": "white",
             "startlinecolor": "#2a3f5f"
            },
            "type": "carpet"
           }
          ],
          "choropleth": [
           {
            "colorbar": {
             "outlinewidth": 0,
             "ticks": ""
            },
            "type": "choropleth"
           }
          ],
          "contour": [
           {
            "colorbar": {
             "outlinewidth": 0,
             "ticks": ""
            },
            "colorscale": [
             [
              0,
              "#0d0887"
             ],
             [
              0.1111111111111111,
              "#46039f"
             ],
             [
              0.2222222222222222,
              "#7201a8"
             ],
             [
              0.3333333333333333,
              "#9c179e"
             ],
             [
              0.4444444444444444,
              "#bd3786"
             ],
             [
              0.5555555555555556,
              "#d8576b"
             ],
             [
              0.6666666666666666,
              "#ed7953"
             ],
             [
              0.7777777777777778,
              "#fb9f3a"
             ],
             [
              0.8888888888888888,
              "#fdca26"
             ],
             [
              1,
              "#f0f921"
             ]
            ],
            "type": "contour"
           }
          ],
          "contourcarpet": [
           {
            "colorbar": {
             "outlinewidth": 0,
             "ticks": ""
            },
            "type": "contourcarpet"
           }
          ],
          "heatmap": [
           {
            "colorbar": {
             "outlinewidth": 0,
             "ticks": ""
            },
            "colorscale": [
             [
              0,
              "#0d0887"
             ],
             [
              0.1111111111111111,
              "#46039f"
             ],
             [
              0.2222222222222222,
              "#7201a8"
             ],
             [
              0.3333333333333333,
              "#9c179e"
             ],
             [
              0.4444444444444444,
              "#bd3786"
             ],
             [
              0.5555555555555556,
              "#d8576b"
             ],
             [
              0.6666666666666666,
              "#ed7953"
             ],
             [
              0.7777777777777778,
              "#fb9f3a"
             ],
             [
              0.8888888888888888,
              "#fdca26"
             ],
             [
              1,
              "#f0f921"
             ]
            ],
            "type": "heatmap"
           }
          ],
          "heatmapgl": [
           {
            "colorbar": {
             "outlinewidth": 0,
             "ticks": ""
            },
            "colorscale": [
             [
              0,
              "#0d0887"
             ],
             [
              0.1111111111111111,
              "#46039f"
             ],
             [
              0.2222222222222222,
              "#7201a8"
             ],
             [
              0.3333333333333333,
              "#9c179e"
             ],
             [
              0.4444444444444444,
              "#bd3786"
             ],
             [
              0.5555555555555556,
              "#d8576b"
             ],
             [
              0.6666666666666666,
              "#ed7953"
             ],
             [
              0.7777777777777778,
              "#fb9f3a"
             ],
             [
              0.8888888888888888,
              "#fdca26"
             ],
             [
              1,
              "#f0f921"
             ]
            ],
            "type": "heatmapgl"
           }
          ],
          "histogram": [
           {
            "marker": {
             "pattern": {
              "fillmode": "overlay",
              "size": 10,
              "solidity": 0.2
             }
            },
            "type": "histogram"
           }
          ],
          "histogram2d": [
           {
            "colorbar": {
             "outlinewidth": 0,
             "ticks": ""
            },
            "colorscale": [
             [
              0,
              "#0d0887"
             ],
             [
              0.1111111111111111,
              "#46039f"
             ],
             [
              0.2222222222222222,
              "#7201a8"
             ],
             [
              0.3333333333333333,
              "#9c179e"
             ],
             [
              0.4444444444444444,
              "#bd3786"
             ],
             [
              0.5555555555555556,
              "#d8576b"
             ],
             [
              0.6666666666666666,
              "#ed7953"
             ],
             [
              0.7777777777777778,
              "#fb9f3a"
             ],
             [
              0.8888888888888888,
              "#fdca26"
             ],
             [
              1,
              "#f0f921"
             ]
            ],
            "type": "histogram2d"
           }
          ],
          "histogram2dcontour": [
           {
            "colorbar": {
             "outlinewidth": 0,
             "ticks": ""
            },
            "colorscale": [
             [
              0,
              "#0d0887"
             ],
             [
              0.1111111111111111,
              "#46039f"
             ],
             [
              0.2222222222222222,
              "#7201a8"
             ],
             [
              0.3333333333333333,
              "#9c179e"
             ],
             [
              0.4444444444444444,
              "#bd3786"
             ],
             [
              0.5555555555555556,
              "#d8576b"
             ],
             [
              0.6666666666666666,
              "#ed7953"
             ],
             [
              0.7777777777777778,
              "#fb9f3a"
             ],
             [
              0.8888888888888888,
              "#fdca26"
             ],
             [
              1,
              "#f0f921"
             ]
            ],
            "type": "histogram2dcontour"
           }
          ],
          "mesh3d": [
           {
            "colorbar": {
             "outlinewidth": 0,
             "ticks": ""
            },
            "type": "mesh3d"
           }
          ],
          "parcoords": [
           {
            "line": {
             "colorbar": {
              "outlinewidth": 0,
              "ticks": ""
             }
            },
            "type": "parcoords"
           }
          ],
          "pie": [
           {
            "automargin": true,
            "type": "pie"
           }
          ],
          "scatter": [
           {
            "fillpattern": {
             "fillmode": "overlay",
             "size": 10,
             "solidity": 0.2
            },
            "type": "scatter"
           }
          ],
          "scatter3d": [
           {
            "line": {
             "colorbar": {
              "outlinewidth": 0,
              "ticks": ""
             }
            },
            "marker": {
             "colorbar": {
              "outlinewidth": 0,
              "ticks": ""
             }
            },
            "type": "scatter3d"
           }
          ],
          "scattercarpet": [
           {
            "marker": {
             "colorbar": {
              "outlinewidth": 0,
              "ticks": ""
             }
            },
            "type": "scattercarpet"
           }
          ],
          "scattergeo": [
           {
            "marker": {
             "colorbar": {
              "outlinewidth": 0,
              "ticks": ""
             }
            },
            "type": "scattergeo"
           }
          ],
          "scattergl": [
           {
            "marker": {
             "colorbar": {
              "outlinewidth": 0,
              "ticks": ""
             }
            },
            "type": "scattergl"
           }
          ],
          "scattermapbox": [
           {
            "marker": {
             "colorbar": {
              "outlinewidth": 0,
              "ticks": ""
             }
            },
            "type": "scattermapbox"
           }
          ],
          "scatterpolar": [
           {
            "marker": {
             "colorbar": {
              "outlinewidth": 0,
              "ticks": ""
             }
            },
            "type": "scatterpolar"
           }
          ],
          "scatterpolargl": [
           {
            "marker": {
             "colorbar": {
              "outlinewidth": 0,
              "ticks": ""
             }
            },
            "type": "scatterpolargl"
           }
          ],
          "scatterternary": [
           {
            "marker": {
             "colorbar": {
              "outlinewidth": 0,
              "ticks": ""
             }
            },
            "type": "scatterternary"
           }
          ],
          "surface": [
           {
            "colorbar": {
             "outlinewidth": 0,
             "ticks": ""
            },
            "colorscale": [
             [
              0,
              "#0d0887"
             ],
             [
              0.1111111111111111,
              "#46039f"
             ],
             [
              0.2222222222222222,
              "#7201a8"
             ],
             [
              0.3333333333333333,
              "#9c179e"
             ],
             [
              0.4444444444444444,
              "#bd3786"
             ],
             [
              0.5555555555555556,
              "#d8576b"
             ],
             [
              0.6666666666666666,
              "#ed7953"
             ],
             [
              0.7777777777777778,
              "#fb9f3a"
             ],
             [
              0.8888888888888888,
              "#fdca26"
             ],
             [
              1,
              "#f0f921"
             ]
            ],
            "type": "surface"
           }
          ],
          "table": [
           {
            "cells": {
             "fill": {
              "color": "#EBF0F8"
             },
             "line": {
              "color": "white"
             }
            },
            "header": {
             "fill": {
              "color": "#C8D4E3"
             },
             "line": {
              "color": "white"
             }
            },
            "type": "table"
           }
          ]
         },
         "layout": {
          "annotationdefaults": {
           "arrowcolor": "#2a3f5f",
           "arrowhead": 0,
           "arrowwidth": 1
          },
          "autotypenumbers": "strict",
          "coloraxis": {
           "colorbar": {
            "outlinewidth": 0,
            "ticks": ""
           }
          },
          "colorscale": {
           "diverging": [
            [
             0,
             "#8e0152"
            ],
            [
             0.1,
             "#c51b7d"
            ],
            [
             0.2,
             "#de77ae"
            ],
            [
             0.3,
             "#f1b6da"
            ],
            [
             0.4,
             "#fde0ef"
            ],
            [
             0.5,
             "#f7f7f7"
            ],
            [
             0.6,
             "#e6f5d0"
            ],
            [
             0.7,
             "#b8e186"
            ],
            [
             0.8,
             "#7fbc41"
            ],
            [
             0.9,
             "#4d9221"
            ],
            [
             1,
             "#276419"
            ]
           ],
           "sequential": [
            [
             0,
             "#0d0887"
            ],
            [
             0.1111111111111111,
             "#46039f"
            ],
            [
             0.2222222222222222,
             "#7201a8"
            ],
            [
             0.3333333333333333,
             "#9c179e"
            ],
            [
             0.4444444444444444,
             "#bd3786"
            ],
            [
             0.5555555555555556,
             "#d8576b"
            ],
            [
             0.6666666666666666,
             "#ed7953"
            ],
            [
             0.7777777777777778,
             "#fb9f3a"
            ],
            [
             0.8888888888888888,
             "#fdca26"
            ],
            [
             1,
             "#f0f921"
            ]
           ],
           "sequentialminus": [
            [
             0,
             "#0d0887"
            ],
            [
             0.1111111111111111,
             "#46039f"
            ],
            [
             0.2222222222222222,
             "#7201a8"
            ],
            [
             0.3333333333333333,
             "#9c179e"
            ],
            [
             0.4444444444444444,
             "#bd3786"
            ],
            [
             0.5555555555555556,
             "#d8576b"
            ],
            [
             0.6666666666666666,
             "#ed7953"
            ],
            [
             0.7777777777777778,
             "#fb9f3a"
            ],
            [
             0.8888888888888888,
             "#fdca26"
            ],
            [
             1,
             "#f0f921"
            ]
           ]
          },
          "colorway": [
           "#636efa",
           "#EF553B",
           "#00cc96",
           "#ab63fa",
           "#FFA15A",
           "#19d3f3",
           "#FF6692",
           "#B6E880",
           "#FF97FF",
           "#FECB52"
          ],
          "font": {
           "color": "#2a3f5f"
          },
          "geo": {
           "bgcolor": "white",
           "lakecolor": "white",
           "landcolor": "#E5ECF6",
           "showlakes": true,
           "showland": true,
           "subunitcolor": "white"
          },
          "hoverlabel": {
           "align": "left"
          },
          "hovermode": "closest",
          "mapbox": {
           "style": "light"
          },
          "paper_bgcolor": "white",
          "plot_bgcolor": "#E5ECF6",
          "polar": {
           "angularaxis": {
            "gridcolor": "white",
            "linecolor": "white",
            "ticks": ""
           },
           "bgcolor": "#E5ECF6",
           "radialaxis": {
            "gridcolor": "white",
            "linecolor": "white",
            "ticks": ""
           }
          },
          "scene": {
           "xaxis": {
            "backgroundcolor": "#E5ECF6",
            "gridcolor": "white",
            "gridwidth": 2,
            "linecolor": "white",
            "showbackground": true,
            "ticks": "",
            "zerolinecolor": "white"
           },
           "yaxis": {
            "backgroundcolor": "#E5ECF6",
            "gridcolor": "white",
            "gridwidth": 2,
            "linecolor": "white",
            "showbackground": true,
            "ticks": "",
            "zerolinecolor": "white"
           },
           "zaxis": {
            "backgroundcolor": "#E5ECF6",
            "gridcolor": "white",
            "gridwidth": 2,
            "linecolor": "white",
            "showbackground": true,
            "ticks": "",
            "zerolinecolor": "white"
           }
          },
          "shapedefaults": {
           "line": {
            "color": "#2a3f5f"
           }
          },
          "ternary": {
           "aaxis": {
            "gridcolor": "white",
            "linecolor": "white",
            "ticks": ""
           },
           "baxis": {
            "gridcolor": "white",
            "linecolor": "white",
            "ticks": ""
           },
           "bgcolor": "#E5ECF6",
           "caxis": {
            "gridcolor": "white",
            "linecolor": "white",
            "ticks": ""
           }
          },
          "title": {
           "x": 0.05
          },
          "xaxis": {
           "automargin": true,
           "gridcolor": "white",
           "linecolor": "white",
           "ticks": "",
           "title": {
            "standoff": 15
           },
           "zerolinecolor": "white",
           "zerolinewidth": 2
          },
          "yaxis": {
           "automargin": true,
           "gridcolor": "white",
           "linecolor": "white",
           "ticks": "",
           "title": {
            "standoff": 15
           },
           "zerolinecolor": "white",
           "zerolinewidth": 2
          }
         }
        },
        "title": {
         "text": "Slice Plot"
        },
        "width": 2100,
        "xaxis": {
         "anchor": "y",
         "domain": [
          0,
          0.1183673469387755
         ],
         "title": {
          "text": "C_h"
         }
        },
        "xaxis2": {
         "anchor": "y2",
         "domain": [
          0.14693877551020407,
          0.26530612244897955
         ],
         "title": {
          "text": "Inh"
         }
        },
        "xaxis3": {
         "anchor": "y3",
         "domain": [
          0.29387755102040813,
          0.4122448979591836
         ],
         "title": {
          "text": "L"
         }
        },
        "xaxis4": {
         "anchor": "y4",
         "domain": [
          0.4408163265306122,
          0.5591836734693877
         ],
         "title": {
          "text": "P"
         }
        },
        "xaxis5": {
         "anchor": "y5",
         "domain": [
          0.5877551020408163,
          0.7061224489795918
         ],
         "title": {
          "text": "Tipo_red"
         }
        },
        "xaxis6": {
         "anchor": "y6",
         "domain": [
          0.7346938775510204,
          0.8530612244897959
         ],
         "title": {
          "text": "Trelative"
         }
        },
        "xaxis7": {
         "anchor": "y7",
         "domain": [
          0.8816326530612244,
          0.9999999999999999
         ],
         "title": {
          "text": "Trest"
         }
        },
        "yaxis": {
         "anchor": "x",
         "domain": [
          0,
          1
         ],
         "title": {
          "text": "Objective Value"
         }
        },
        "yaxis2": {
         "anchor": "x2",
         "domain": [
          0,
          1
         ],
         "matches": "y",
         "showticklabels": false
        },
        "yaxis3": {
         "anchor": "x3",
         "domain": [
          0,
          1
         ],
         "matches": "y",
         "showticklabels": false
        },
        "yaxis4": {
         "anchor": "x4",
         "domain": [
          0,
          1
         ],
         "matches": "y",
         "showticklabels": false
        },
        "yaxis5": {
         "anchor": "x5",
         "domain": [
          0,
          1
         ],
         "matches": "y",
         "showticklabels": false
        },
        "yaxis6": {
         "anchor": "x6",
         "domain": [
          0,
          1
         ],
         "matches": "y",
         "showticklabels": false
        },
        "yaxis7": {
         "anchor": "x7",
         "domain": [
          0,
          1
         ],
         "matches": "y",
         "showticklabels": false
        }
       }
      }
     },
     "metadata": {},
     "output_type": "display_data"
    }
   ],
   "source": [
    "optuna.visualization.plot_slice(study)"
   ]
  },
  {
   "cell_type": "code",
   "execution_count": null,
   "metadata": {},
   "outputs": [],
   "source": []
  }
 ],
 "metadata": {
  "kernelspec": {
   "display_name": "Python 3",
   "language": "python",
   "name": "python3"
  },
  "language_info": {
   "codemirror_mode": {
    "name": "ipython",
    "version": 3
   },
   "file_extension": ".py",
   "mimetype": "text/x-python",
   "name": "python",
   "nbconvert_exporter": "python",
   "pygments_lexer": "ipython3",
   "version": "3.12.3"
  }
 },
 "nbformat": 4,
 "nbformat_minor": 2
}
