{
 "cells": [
  {
   "cell_type": "code",
   "execution_count": 1,
   "metadata": {},
   "outputs": [],
   "source": [
    "import optuna\n",
    "import numpy as np  \n",
    "import optuna.visualization as vis\n",
    "import plotly"
   ]
  },
  {
   "cell_type": "code",
   "execution_count": 5,
   "metadata": {},
   "outputs": [
    {
     "name": "stdout",
     "output_type": "stream",
     "text": [
      "\n",
      "Trial 1:\n",
      "Params: {'L': 43, 'P': 0.769830529589125, 'Inh': 0.9693590595133347, 'Trest': -2.4012720203517492, 'Trelative': 0.7385811530464463, 'C_h': 0.6010634646376586}\n",
      "Value: 9.677573760016138\n",
      "\n",
      "Trial 2:\n",
      "Params: {'L': 45, 'P': 0.8535926004619042, 'Inh': 0.937064773816438, 'Trest': -3.2018894210132505, 'Trelative': 0.848582991808109, 'C_h': 0.5626414877021139}\n",
      "Value: 10.530713183278236\n",
      "\n",
      "Trial 3:\n",
      "Params: {'L': 44, 'P': 0.8060692001619801, 'Inh': 0.8810841459501473, 'Trest': -1.7990809038783993, 'Trelative': 0.9374573052092094, 'C_h': 0.5959730957863734}\n",
      "Value: 11.186252065791264\n",
      "\n",
      "Trial 4:\n",
      "Params: {'L': 45, 'P': 0.8712537707090189, 'Inh': 0.9872562155053678, 'Trest': -2.247542246817354, 'Trelative': 0.6157567561062365, 'C_h': 0.508458262299081}\n",
      "Value: 11.577992691784313\n",
      "\n",
      "Trial 5:\n",
      "Params: {'L': 44, 'P': 0.8914716769362043, 'Inh': 0.8539197492012676, 'Trest': -1.5450776810259095, 'Trelative': 0.4757964635448188, 'C_h': 0.6373747727342958}\n",
      "Value: 12.08618265712743\n",
      "--------------------------------------- \n",
      "\n",
      "Best Result: 9.677573760016138\n",
      "Best parametros: {'L': 43, 'P': 0.769830529589125, 'Inh': 0.9693590595133347, 'Trest': -2.4012720203517492, 'Trelative': 0.7385811530464463, 'C_h': 0.6010634646376586}\n"
     ]
    }
   ],
   "source": [
    "A = optuna.load_study(study_name=\"4bandas_SW_400\",storage='sqlite:///Estudios/4bandas_SW_400.db')\n",
    "\n",
    "valid_trials = [t for t in A.trials if t.value is not None]\n",
    "top_3_trials = sorted(valid_trials, key=lambda t: t.value)[:5]\n",
    "for i, trial in enumerate(top_3_trials):\n",
    "    print(f\"\\nTrial {i+1}:\")\n",
    "    print(\"Params:\", trial.params)\n",
    "    print(\"Value:\", trial.value)\n",
    "print(\"---------------------------------------\",\"\\n\")\n",
    "print(\"Best Result:\", A.best_value)\n",
    "print(\"Best parametros:\", A.best_params)\n"
   ]
  },
  {
   "cell_type": "code",
   "execution_count": null,
   "metadata": {},
   "outputs": [],
   "source": []
  }
 ],
 "metadata": {
  "kernelspec": {
   "display_name": "Python 3",
   "language": "python",
   "name": "python3"
  },
  "language_info": {
   "codemirror_mode": {
    "name": "ipython",
    "version": 3
   },
   "file_extension": ".py",
   "mimetype": "text/x-python",
   "name": "python",
   "nbconvert_exporter": "python",
   "pygments_lexer": "ipython3",
   "version": "3.10.12"
  }
 },
 "nbformat": 4,
 "nbformat_minor": 2
}
