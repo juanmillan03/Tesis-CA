{
 "cells": [
  {
   "cell_type": "code",
   "execution_count": 56,
   "metadata": {},
   "outputs": [],
   "source": [
    "import optuna\n",
    "import numpy as np  \n",
    "import optuna.visualization as vis\n",
    "import os\n",
    "import plotly\n",
    "from collections import defaultdict\n",
    "import matplotlib.pyplot as plt\n",
    "import matplotlib.pyplot as plt\n",
    "import subprocess\n",
    "import pandas as pd\n",
    "import numpy as np\n",
    "import seaborn as sns\n",
    "from scipy.signal import butter,filtfilt,welch\n",
    "from scipy import signal\n",
    "import seaborn as sns\n",
    "\n"
   ]
  },
  {
   "cell_type": "code",
   "execution_count": 57,
   "metadata": {},
   "outputs": [],
   "source": [
    "low_cutoff = 0.01  # Low cut-off frequency (Hz)\n",
    "high_cutoff = 70.0  # High cut-off frequency (Hz)\n",
    "order = 4  # Order of the filter\n",
    "sampling_rate_equipo= 500 \n",
    "b, a = signal.butter(order, [low_cutoff / (0.5 * sampling_rate_equipo), high_cutoff / (0.5 * sampling_rate_equipo)], btype='band')\n",
    "fs = 500  # Sampling rate\n",
    "nperseg = 256  # Segment length\n",
    "noverlap = 128 # Overlap between segments\n",
    "sampling_rate = 2000 ### simulacion \n",
    "\n",
    "resultado_compilacion = subprocess.run(\"g++ -fopenmp -O3 main.cpp Matrix_conect.cpp -o main\", shell=True, stdout=subprocess.PIPE, stderr=subprocess.PIPE, text=True)\n",
    "if resultado_compilacion.returncode != 0:\n",
    "    print(\"Error durante la compilación:\")\n",
    "    print(resultado_compilacion.stderr)\n",
    "\n",
    "def Simulado_EGG(params,Normalizacion):\n",
    "    L, P, inhibidoras, trest, trelative, alpha, tmax, type_matrix = params\n",
    "\n",
    "    # Ejecución del programa\n",
    "    resultado_ejecucion = subprocess.run(f\"./main {L} {P} {inhibidoras} {trest} {trelative} {alpha} {tmax} {type_matrix}\", shell=True, stdout=subprocess.PIPE, stderr=subprocess.PIPE, text=True)\n",
    "    if resultado_ejecucion.returncode != 0:\n",
    "        print(\"Error durante la ejecución:\")\n",
    "        print(resultado_ejecucion.stderr)\n",
    "        return None\n",
    "    \n",
    "    # Procesamiento de los datos\n",
    "    lines = resultado_ejecucion.stdout.strip().split('\\n')\n",
    "    data_list = [[float(num) for num in line.split()] for line in lines]\n",
    "    data = np.array(data_list)[50:, 1]  \n",
    "     \n",
    "    if(Normalizacion==\"max_global\"):    \n",
    "        data=data / max(data)\n",
    "    elif(Normalizacion==\"max_global_abs\"):\n",
    "        data=data / max(abs(data))\n",
    "    elif(Normalizacion==\"zscore\"):\n",
    "        data=(data - np.mean(data)) / np.std(data)\n",
    "\n",
    "    n_samples_resampled = int(len(data)*(fs/sampling_rate))\n",
    "    data_resampled = signal.resample(data, n_samples_resampled)\n",
    "\n",
    "    butter = signal.filtfilt(b, a,data_resampled)\n",
    "\n",
    "    psd,frequencies = psd_array_multitaper(butter, fs, fmin=0, fmax=120, adaptive=True, normalization='full')\n",
    "    frequencies=np.array(frequencies)\n",
    "\n",
    "    welch_data = np.array([10 * np.log10(psd[i]) for i in range(len(frequencies))])\n",
    "    \n",
    "    delta = welch_data[np.logical_and(frequencies >= 0, frequencies <= 3)]\n",
    "    theta = welch_data[np.logical_and(frequencies >= 3, frequencies <= 7)]\n",
    "    alpha = welch_data[np.logical_and(frequencies >= 7, frequencies <= 14)]\n",
    "    beta = welch_data[np.logical_and(frequencies >= 14, frequencies <= 30)]\n",
    "\n",
    "    return {\n",
    "        'data': data,\"data_resample\":data_resampled,\"butter\": butter,\n",
    "        \"frequencies\": frequencies,\"welch_data\":welch_data,\n",
    "        'delta':[delta.mean(),delta.std()],\n",
    "        'theta':[theta.mean(), theta.std()],\n",
    "        'alpha':[ alpha.mean(),alpha.std()],\n",
    "        'beta': [beta.mean(), beta.std()]\n",
    "    }\n",
    "\n",
    "\n",
    "\n",
    "def Datos_reales(nombres,Normalizacion):\n",
    "    Datos = np.empty(len(nombres), dtype=object)\n",
    "    Butter = np.empty(len(nombres), dtype=object)\n",
    "    welch_datos = np.empty(len(nombres), dtype=object)\n",
    "    Frequencies = np.empty(len(nombres), dtype=object)\n",
    "    Delta = np.empty(len(nombres), dtype=object)\n",
    "    Theta = np.empty(len(nombres), dtype=object)\n",
    "    Alpha = np.empty(len(nombres), dtype=object)\n",
    "    Beta = np.empty(len(nombres), dtype=object)\n",
    "    Nombres=np.empty(len(nombres), dtype=\"U100\")\n",
    "\n",
    "    mean_welch=np.zeros(481)\n",
    "    mean_Delta = np.zeros(2)\n",
    "    mean_Theta = np.zeros(2)\n",
    "    mean_Alpha = np.zeros(2)\n",
    "    mean_Beta = np.zeros(2)\n",
    "\n",
    "    all_signals=np.empty_like(Datos)\n",
    "    for i, nombre in enumerate(nombres): \n",
    "        all_signals[i]=np.loadtxt(nombre)\n",
    "\n",
    "    all_values = np.concatenate(all_signals)  # Combinar todos los datos\n",
    "    global_max = np.max(all_values)\n",
    "    global_max_abs = np.max(abs(all_values))\n",
    "    global_mean = np.mean(all_values)\n",
    "    global_std = np.std(all_values)\n",
    "\n",
    "    for i, nombre in enumerate(nombres):  \n",
    "        Nombres[i]=nombre \n",
    "        data = np.loadtxt(nombre)\n",
    "\n",
    "        if(Normalizacion==\"max_global\"):    \n",
    "            data=data / global_max\n",
    "        elif(Normalizacion==\"max_global_abs\"):\n",
    "            data=data /global_max_abs\n",
    "        elif(Normalizacion==\"zscore\"):\n",
    "            data=(data -global_mean) / global_std\n",
    "\n",
    "        Datos[i]=data\n",
    "        Butter[i]=butter= signal.filtfilt(b, a,data)\n",
    "\n",
    "        psd,frequencies = psd_array_multitaper(butter, fs, fmin=0, fmax=120, adaptive=True, normalization='full')\n",
    "        Frequencies[i]=frequencies=np.array(frequencies)\n",
    "\n",
    "        welch_data = np.array([10 * np.log10(psd[i]) for i in range(len(frequencies))])\n",
    "        welch_datos[i]=welch_data\n",
    "        mean_welch+=welch_data/len(nombres)\n",
    "\n",
    "        delta = welch_data[np.logical_and(frequencies >= 1, frequencies <= 3)]\n",
    "        theta = welch_data[np.logical_and(frequencies >= 4, frequencies <= 7)]\n",
    "        alpha = welch_data[np.logical_and(frequencies >= 7, frequencies <= 13)]\n",
    "        beta = welch_data[np.logical_and(frequencies >= 14, frequencies <= 30)]\n",
    "\n",
    "        Delta[i]=[delta.mean(),delta.std()]\n",
    "        Theta[i]=[theta.mean(),theta.std()]\n",
    "        Alpha[i]=[alpha.mean(),alpha.std()]\n",
    "        Beta[i]=[beta.mean(),beta.std()]\n",
    "\n",
    "        mean_Delta += np.array([delta.mean(), delta.std()]) / len(nombres)\n",
    "        mean_Theta += np.array([theta.mean(), theta.std()]) / len(nombres)\n",
    "        mean_Alpha += np.array([alpha.mean(), alpha.std()]) / len(nombres)\n",
    "        mean_Beta += np.array([beta.mean(), beta.std()]) / len(nombres)\n",
    "\n",
    "    return {\n",
    "        \"Nombres\":Nombres,\n",
    "        'datos': Datos, \"frequencies\": Frequencies,  \"welch_data\":welch_datos,\"mean_welch\":mean_welch,\n",
    "        'delta':Delta,'theta':Theta,'alpha':Alpha,'beta':Beta,\n",
    "        'mean_Delta': mean_Delta,'mean_Theta':mean_Theta,\"mean_Alpha\":mean_Alpha,\"mean_Beta\":mean_Beta\n",
    "    }\n"
   ]
  },
  {
   "cell_type": "code",
   "execution_count": 58,
   "metadata": {},
   "outputs": [],
   "source": [
    "number_top=100\n",
    "\n"
   ]
  },
  {
   "cell_type": "code",
   "execution_count": 59,
   "metadata": {},
   "outputs": [
    {
     "name": "stdout",
     "output_type": "stream",
     "text": [
      "Global Trial 1:\n",
      "Study: Chi30_zscore_L30\n",
      "Params: {'L': 33, 'P': 0.0, 'Inh': 0.4195764245464131, 'Trest': 0.1752565664342692, 'Trelative': 0.3455898288526041, 'C_h': 0.9156068469884433, 'Tipo_red': 0}\n",
      "Sum of Values: 17.88105646034255\n",
      "---------------------------------------\n",
      "Global Trial 2:\n",
      "Study: Chi30_zscore_L50\n",
      "Params: {'L': 55, 'P': 0.08617550212213025, 'Inh': 0.21715762590290558, 'Trest': 0.574009252052433, 'Trelative': 0.8462212845729309, 'C_h': 0.24214033604542753, 'Tipo_red': 2}\n",
      "Sum of Values: 18.46890454987675\n",
      "---------------------------------------\n",
      "Global Trial 3:\n",
      "Study: Chi30_zscore_L50\n",
      "Params: {'L': 55, 'P': 0.08617550212213025, 'Inh': 0.21715762590290558, 'Trest': 0.574009252052433, 'Trelative': 0.8462212845729309, 'C_h': 0.24214033604542753, 'Tipo_red': 2}\n",
      "Sum of Values: 18.46890454987675\n",
      "---------------------------------------\n",
      "Frecuencia de aparición de cada estudio en los mejores 150 ensayos:\n",
      "Estudio Chi30_zscore_L30: 56 veces\n",
      "Estudio Chi30_zscore_L50: 16 veces\n",
      "Estudio Chi30_zscore_L70: 30 veces\n",
      "Estudio Chi30_zscore_L60: 12 veces\n",
      "Estudio Chi30_zscore_L20: 32 veces\n",
      "Estudio Chi30_zscore_L40: 4 veces\n",
      "Frecuencia de cada tipo de red en los mejores 150 ensayos:\n",
      "Tipo de red 0: 82 veces\n",
      "Tipo de red 2: 38 veces\n",
      "Tipo de red 1: 30 veces\n",
      "\n",
      "Media del tamaño L en los mejores 150 ensayos: 46.21333333333333\n"
     ]
    },
    {
     "data": {
      "image/png": "[encoded data removed]",
      "text/plain": [
       "<Figure size 700x300 with 1 Axes>"
      ]
     },
     "metadata": {},
     "output_type": "display_data"
    }
   ],
   "source": [
    "# Lista de directorios donde están almacenados los estudios\n",
    "study_directories = [\"Estudios/Small_world\", \"Estudios/Regular\", \"Estudios/Small_world\"]  # Reemplaza con tus directorios\n",
    "\n",
    "# Ruta completa para la base de datos (asume que todas están en formato SQLite)\n",
    "storage_prefix = \"sqlite:///\"\n",
    "\n",
    "# Lista para almacenar los mejores ensayos de todos los estudios\n",
    "all_trials_global = []\n",
    "\n",
    "# Recorrer todos los directorios\n",
    "for study_directory in study_directories:\n",
    "    # Listar todos los archivos en el directorio de estudios que tengan la extensión .db\n",
    "    for file_name in os.listdir(study_directory):\n",
    "        if file_name.endswith(\".db\"):  # Filtrar solo los archivos .db\n",
    "            study_name = file_name.replace(\".db\", \"\")  # Obtener el nombre del estudio sin la extensión .db\n",
    "\n",
    "            # Cargar el estudio\n",
    "            study = optuna.load_study(study_name=study_name, storage=storage_prefix + os.path.join(study_directory, file_name))\n",
    "\n",
    "            # Filtrar los ensayos válidos\n",
    "            valid_trials = [t for t in study.trials if t.values is not None]\n",
    "\n",
    "            # Agregar los ensayos válidos a la lista global\n",
    "            for trial in valid_trials:\n",
    "                trial.study_name = study_name  # Asignar el nombre del estudio al ensayo\n",
    "                all_trials_global.append(trial)\n",
    "\n",
    "# Ordenar todos los ensayos válidos de todos los estudios por la suma de los valores de los objetivos\n",
    "number_top = 150  # Ajusta el número de ensayos mejores que deseas analizar\n",
    "best_trials_global = sorted(all_trials_global, key=lambda t: sum(t.values))[:number_top]\n",
    "\n",
    "# Mostrar los mejores 3 ensayos globales\n",
    "for i, trial in enumerate(best_trials_global[:3]):\n",
    "    print(f\"Global Trial {i + 1}:\")\n",
    "    print(\"Study:\", trial.study_name)\n",
    "    print(\"Params:\", trial.params)\n",
    "    print(\"Sum of Values:\", sum(trial.values))\n",
    "    print(\"---------------------------------------\")\n",
    "\n",
    "# Análisis de frecuencias\n",
    "study_names = [trial.study_name for trial in best_trials_global]\n",
    "network_types = [trial.params['Tipo_red'] for trial in best_trials_global]\n",
    "sizes = [trial.params['L'] for trial in best_trials_global]  # Recopilar tamaños L\n",
    "\n",
    "# Contar las frecuencias\n",
    "study_frequency_count = defaultdict(int)\n",
    "network_type_frequency_count = defaultdict(int)\n",
    "size_frequency_count = defaultdict(int)\n",
    "\n",
    "for study in study_names:\n",
    "    study_frequency_count[study] += 1\n",
    "\n",
    "for network_type in network_types:\n",
    "    network_type_frequency_count[network_type] += 1\n",
    "\n",
    "for size in sizes:\n",
    "    size_frequency_count[size] += 1  # Contar la frecuencia de cada tamaño L\n",
    "\n",
    "print(f\"Frecuencia de aparición de cada estudio en los mejores {number_top} ensayos:\")\n",
    "for study_name, count in study_frequency_count.items():\n",
    "    print(f\"Estudio {study_name}: {count} veces\")\n",
    "\n",
    "# Mostrar la frecuencia de cada tipo de red en los mejores ensayos\n",
    "print(f\"Frecuencia de cada tipo de red en los mejores {number_top} ensayos:\")\n",
    "for network_type, count in network_type_frequency_count.items():\n",
    "    print(f\"Tipo de red {network_type}: {count} veces\")\n",
    "\n",
    "# Calcular y mostrar la media del tamaño L\n",
    "mean_size = np.mean(sizes)\n",
    "print(f\"\\nMedia del tamaño L en los mejores {number_top} ensayos: {mean_size}\")\n",
    "\n",
    "# Graficar la distribución de los tamaños L\n",
    "plt.figure(figsize=(7, 3))\n",
    "plt.hist(sizes, bins=range(min(sizes), max(sizes) + 1), alpha=0.7, color='blue', edgecolor='black')\n",
    "plt.title(f'Distribución de Tamaños L en los Mejores {number_top} Ensayos (Múltiples Directorios)')\n",
    "plt.xlabel('Tamaño L')\n",
    "plt.ylabel('Frecuencia')\n",
    "plt.grid(axis='y', alpha=0.75)\n",
    "plt.show()"
   ]
  },
  {
   "cell_type": "code",
   "execution_count": 60,
   "metadata": {},
   "outputs": [
    {
     "name": "stdout",
     "output_type": "stream",
     "text": [
      "\n",
      "Media del L: 46.21333333333333\n",
      "Desviación estándar del L: 20.52529712871953\n",
      "Mediana del L: 34.0\n",
      "Primer cuartil (Q1) del L: 33.0\n",
      "Tercer cuartil (Q3) del L: 69.75\n",
      "\n",
      "Media del Trest: 0.34751459473349444\n",
      "Desviación estándar del Trest: 0.17531463643924247\n",
      "Mediana del Trest: 0.3563757163458665\n",
      "Primer cuartil (Q1) del Trest: 0.19213301149257936\n",
      "Tercer cuartil (Q3) del Trest: 0.4822699196571104\n",
      "\n",
      "Media del Trela: 1.2367715350983772\n",
      "Desviación estándar del Trela: 2.244166651273974\n",
      "Mediana del Trela: 0.6420380693425257\n",
      "Primer cuartil (Q1) del Trela: 0.48886445368681575\n",
      "Tercer cuartil (Q3) del Trela: 0.8074744745684754\n",
      "\n",
      "Media del P: 0.17730951165064696\n",
      "Desviación estándar del P: 0.24955491274664718\n",
      "Mediana del P: 0.0\n",
      "Primer cuartil (Q1) del P: 0.0\n",
      "Tercer cuartil (Q3) del P: 0.47648872140840876\n",
      "\n",
      "Media del Inh: 0.4215739085115568\n",
      "Desviación estándar del Inh: 0.07746255819426408\n",
      "Mediana del Inh: 0.4423633062346215\n",
      "Primer cuartil (Q1) del Inh: 0.38396117664607743\n",
      "Tercer cuartil (Q3) del Inh: 0.46378311571424463\n",
      "\n",
      "Media del C hiper: 0.6805191389359005\n",
      "Desviación estándar del C hiper: 0.3391295633426962\n",
      "Mediana del C hiper: 0.4423633062346215\n",
      "Primer cuartil (Q1) del C hiper: 0.5230948233286796\n",
      "Tercer cuartil (Q3) del C hiperh: 0.9362587839636434\n"
     ]
    }
   ],
   "source": [
    "study_names = [trial.study_name for trial in best_trials_global]\n",
    "network_types = [trial.params['Tipo_red'] for trial in best_trials_global]\n",
    "sizes = [trial.params['L'] for trial in best_trials_global]  # Recopilar tamaños L\n",
    "trest_values = [trial.params['Trest'] for trial in best_trials_global]  # Recopilar Trest\n",
    "trela_values = [trial.params['Trelative'] for trial in best_trials_global]  # Recopilar Trest\n",
    "Chiper=[trial.params['C_h'] for trial in best_trials_global]  # Recopilar Trest\n",
    "\n",
    "P_values = [trial.params['P'] for trial in best_trials_global]  # Recopilar P\n",
    "Inh_values = [trial.params['Inh'] for trial in best_trials_global]  # Recopilar P\n",
    "# Contar las frecuencias\n",
    "study_frequency_count = defaultdict(int)\n",
    "network_type_frequency_count = defaultdict(int)\n",
    "\n",
    "for study in study_names:\n",
    "    study_frequency_count[study] += 1\n",
    "\n",
    "for network_type in network_types:\n",
    "    network_type_frequency_count[network_type] += 1\n",
    "print(f\"\\nMedia del L: {np.mean(sizes)}\")\n",
    "print(f\"Desviación estándar del L: {np.std(sizes)}\")\n",
    "print(f\"Mediana del L: { np.median(sizes)}\")\n",
    "print(f\"Primer cuartil (Q1) del L: {np.percentile(sizes, 25)}\")\n",
    "print(f\"Tercer cuartil (Q3) del L: {np.percentile(sizes, 75)}\")\n",
    "\n",
    "\n",
    "print(f\"\\nMedia del Trest: {np.mean(trest_values)}\")\n",
    "print(f\"Desviación estándar del Trest: {np.std(trest_values)}\")\n",
    "print(f\"Mediana del Trest: {np.median(trest_values)}\")\n",
    "print(f\"Primer cuartil (Q1) del Trest: {np.percentile(trest_values, 25)}\")\n",
    "print(f\"Tercer cuartil (Q3) del Trest: {np.percentile(trest_values, 75)}\")\n",
    "\n",
    "print(f\"\\nMedia del Trela: {np.mean(trela_values)}\")\n",
    "print(f\"Desviación estándar del Trela: {np.std(trela_values)}\")\n",
    "print(f\"Mediana del Trela: {np.median(trela_values)}\")\n",
    "print(f\"Primer cuartil (Q1) del Trela: {np.percentile(trela_values, 25)}\")\n",
    "print(f\"Tercer cuartil (Q3) del Trela: {np.percentile(trela_values, 75)}\")\n",
    "\n",
    "print(f\"\\nMedia del P: {np.mean(P_values)}\")\n",
    "print(f\"Desviación estándar del P: {np.std(P_values)}\")\n",
    "print(f\"Mediana del P: { np.median(P_values)}\")\n",
    "print(f\"Primer cuartil (Q1) del P: {np.percentile(P_values, 25)}\")\n",
    "print(f\"Tercer cuartil (Q3) del P: {np.percentile(P_values, 75)}\")\n",
    "\n",
    "print(f\"\\nMedia del Inh: {np.mean(Inh_values)}\")\n",
    "print(f\"Desviación estándar del Inh: {np.std(Inh_values)}\")\n",
    "print(f\"Mediana del Inh: { np.median(Inh_values)}\")\n",
    "print(f\"Primer cuartil (Q1) del Inh: {np.percentile(Inh_values, 25)}\")\n",
    "print(f\"Tercer cuartil (Q3) del Inh: {np.percentile(Inh_values, 75)}\")\n",
    "\n",
    "print(f\"\\nMedia del C hiper: {np.mean(Chiper)}\")\n",
    "print(f\"Desviación estándar del C hiper: {np.std(Chiper)}\")\n",
    "print(f\"Mediana del C hiper: { np.median(Inh_values)}\")\n",
    "print(f\"Primer cuartil (Q1) del C hiper: {np.percentile(Chiper, 25)}\")\n",
    "print(f\"Tercer cuartil (Q3) del C hiperh: {np.percentile(Chiper, 75)}\")"
   ]
  },
  {
   "cell_type": "code",
   "execution_count": 61,
   "metadata": {},
   "outputs": [
    {
     "data": {
      "image/png": "[encoded data removed]",
      "text/plain": [
       "<Figure size 1800x800 with 7 Axes>"
      ]
     },
     "metadata": {},
     "output_type": "display_data"
    }
   ],
   "source": [
    "plt.figure(figsize=(18, 8))\n",
    "\n",
    "# Boxplot de Tamaño L\n",
    "plt.subplot(2, 4, 1)\n",
    "plt.boxplot(sizes, patch_artist=True, boxprops=dict(facecolor='lightblue'))\n",
    "plt.title('Boxplot de Tamaño L')\n",
    "plt.ylabel('Tamaño L')\n",
    "plt.grid(axis='y', alpha=0.75)\n",
    "\n",
    "# Boxplot de Trest\n",
    "plt.subplot(2, 4, 2)\n",
    "plt.boxplot(trest_values, patch_artist=True, boxprops=dict(facecolor='lightgreen'),labels=[\"Trest\"])\n",
    "plt.boxplot(trela_values, patch_artist=True, boxprops=dict(facecolor='lightyellow'),positions=[2],labels=['T relativo'])\n",
    "plt.title('Boxplot de Trest')\n",
    "plt.ylabel('Trest')\n",
    "plt.grid(axis='y', alpha=0.75)\n",
    "\n",
    "# Boxplot de P\n",
    "plt.subplot(2, 4, 3)\n",
    "plt.boxplot(P_values, patch_artist=True, boxprops=dict(facecolor='lightcoral', alpha=0.6), labels=['P'])  # Asignar etiqueta para P\n",
    "plt.boxplot(Inh_values, patch_artist=True, boxprops=dict(facecolor='purple', alpha=0.6), positions=[2])  # Asignar etiqueta para Inh, en posición 2\n",
    "plt.title('Boxplot de P e Inh')\n",
    "plt.ylabel('Valores')\n",
    "plt.xticks([1, 2], ['P', 'Inh'])  # Asignar etiquetas a los ticks del eje x\n",
    "plt.grid(axis='y', alpha=0.75)\n",
    "\n",
    "plt.subplot(2, 4, 4)\n",
    "plt.boxplot(Chiper, patch_artist=True, boxprops=dict(facecolor='lightgrey', alpha=0.6), labels=['C'])  # Asignar etiqueta para P\n",
    "plt.title('Boxplot de C')\n",
    "plt.ylabel('Valores')\n",
    "plt.xticks([1], ['C'])  # Asignar etiquetas a los ticks del eje x\n",
    "plt.grid(axis='y', alpha=0.75)\n",
    "\n",
    "\n",
    "plt.subplot(2, 4, 5)\n",
    "sns.kdeplot(sizes, fill=True, color='blue', alpha=0.5)\n",
    "plt.title('Densidad de Tamaño L')\n",
    "plt.xlabel('Tamaño L')\n",
    "plt.xlim(0,100)\n",
    "plt.ylabel('Densidad')\n",
    "plt.grid()\n",
    "\n",
    "# Gráfico de densidad para Trest\n",
    "plt.subplot(2, 4, 6)\n",
    "sns.kdeplot(trest_values, fill=True, color='green', alpha=0.5)\n",
    "sns.kdeplot(trela_values, fill=True, color='yellow', alpha=0.5)\n",
    "plt.title('Densidad de Trest')\n",
    "plt.xlabel('Trest')\n",
    "plt.ylabel('Densidad')\n",
    "plt.grid()\n",
    "\n",
    "# Gráfico de densidad para P\n",
    "plt.subplot(2, 4, 7)\n",
    "sns.kdeplot(P_values, fill=True, color='orange', alpha=0.5)\n",
    "sns.kdeplot(Inh_values, fill=True, color='purple', alpha=0.5)\n",
    "plt.title('Densidad de P')\n",
    "plt.xlabel('P')\n",
    "plt.xlim(0,1)\n",
    "plt.ylabel('Densidad')\n",
    "plt.grid()\n",
    "\n",
    "plt.tight_layout()\n",
    "plt.suptitle(study_directory, fontsize=16)\n",
    "plt.tight_layout(rect=[0, 0, 1, 0.99])  # Ajustar para evitar superposición con el título\n",
    "plt.show()\n"
   ]
  },
  {
   "cell_type": "code",
   "execution_count": 62,
   "metadata": {},
   "outputs": [
    {
     "data": {
      "image/png": "[encoded data removed]",
      "text/plain": [
       "<Figure size 1600x400 with 4 Axes>"
      ]
     },
     "metadata": {},
     "output_type": "display_data"
    }
   ],
   "source": [
    "plt.figure(figsize=(16, 4))\n",
    "\n",
    "# Boxplot de Tamaño L\n",
    "plt.subplot(1, 4, 1)\n",
    "plt.boxplot(sizes, patch_artist=True, boxprops=dict(facecolor='lightblue'))\n",
    "plt.title('Boxplot de Tamaño L')\n",
    "plt.ylabel('Tamaño L')\n",
    "plt.grid(axis='y', alpha=0.75)\n",
    "\n",
    "# Boxplot de Trest\n",
    "plt.subplot(1, 4, 2)\n",
    "plt.boxplot(trest_values, patch_artist=True, boxprops=dict(facecolor='lightgreen'),labels=[\"Trest\"])\n",
    "plt.boxplot(trela_values, patch_artist=True, boxprops=dict(facecolor='lightyellow'),positions=[2],labels=['T relativo'])\n",
    "plt.title('Boxplot de Trest')\n",
    "plt.ylabel('Trest')\n",
    "plt.grid(axis='y', alpha=0.75)\n",
    "\n",
    "# Boxplot de P\n",
    "plt.subplot(1, 4, 3)\n",
    "plt.boxplot(P_values, patch_artist=True, boxprops=dict(facecolor='lightcoral', alpha=0.6), labels=['P'])  # Asignar etiqueta para P\n",
    "plt.boxplot(Inh_values, patch_artist=True, boxprops=dict(facecolor='purple', alpha=0.6), positions=[2])  # Asignar etiqueta para Inh, en posición 2\n",
    "plt.title('Boxplot de P e Inh')\n",
    "plt.ylabel('Valores')\n",
    "plt.xticks([1, 2], ['P', 'Inh'])  # Asignar etiquetas a los ticks del eje x\n",
    "plt.grid(axis='y', alpha=0.75)\n",
    "\n",
    "plt.subplot(1, 4, 4)\n",
    "plt.boxplot(Chiper, patch_artist=True, boxprops=dict(facecolor='lightgrey', alpha=0.6), labels=['C'])  # Asignar etiqueta para P\n",
    "plt.title('Boxplot de C')\n",
    "plt.ylabel('Valores')\n",
    "plt.xticks([1], ['C'])  # Asignar etiquetas a los ticks del eje x\n",
    "plt.grid(axis='y', alpha=0.75)\n",
    "\n",
    "\n",
    "# plt.subplot(2, 4, 5)\n",
    "# sns.kdeplot(sizes, fill=True, color='blue', alpha=0.5)\n",
    "# plt.title('Densidad de Tamaño L')\n",
    "# plt.xlabel('Tamaño L')\n",
    "# plt.xlim(0,100)\n",
    "# plt.ylabel('Densidad')\n",
    "# plt.grid()\n",
    "\n",
    "# # Gráfico de densidad para Trest\n",
    "# plt.subplot(2, 4, 6)\n",
    "# sns.kdeplot(trest_values, fill=True, color='green', alpha=0.5)\n",
    "# sns.kdeplot(trela_values, fill=True, color='yellow', alpha=0.5)\n",
    "# plt.title('Densidad de Trest')\n",
    "# plt.xlabel('Trest')\n",
    "# plt.ylabel('Densidad')\n",
    "# plt.grid()\n",
    "\n",
    "# # Gráfico de densidad para P\n",
    "# plt.subplot(2, 4, 7)\n",
    "# sns.kdeplot(P_values, fill=True, color='orange', alpha=0.5)\n",
    "# sns.kdeplot(Inh_values, fill=True, color='purple', alpha=0.5)\n",
    "# plt.title('Densidad de P')\n",
    "# plt.xlabel('P')\n",
    "# plt.xlim(0,1)\n",
    "# plt.ylabel('Densidad')\n",
    "# plt.grid()\n",
    "\n",
    "plt.tight_layout()\n",
    "plt.suptitle(study_directory, fontsize=16)\n",
    "plt.tight_layout(rect=[0, 0, 1, 0.99])  # Ajustar para evitar superposición con el título\n",
    "plt.show()"
   ]
  },
  {
   "cell_type": "code",
   "execution_count": 63,
   "metadata": {},
   "outputs": [
    {
     "name": "stdout",
     "output_type": "stream",
     "text": [
      "Resultados guardados en resultados_estudios.txt\n"
     ]
    }
   ],
   "source": [
    "# Lista de carpetas donde están almacenados los estudios\n",
    "carpetas_estudios = [\"Estudios/Small_world\", \"Estudios/Random\", \"Estudios/Random\"]\n",
    "output_file = \"resultados_estudios.txt\"\n",
    "\n",
    "# Inicializar los nombres de parámetros\n",
    "param_names = []\n",
    "\n",
    "# Buscar un archivo de ejemplo en las carpetas para extraer los nombres de parámetros\n",
    "sample_study_path = None\n",
    "for carpeta in carpetas_estudios:\n",
    "    for archivo in os.listdir(carpeta):\n",
    "        if archivo.endswith(\".db\"):\n",
    "            sample_study_path = os.path.join(carpeta, archivo)\n",
    "            break\n",
    "    if sample_study_path:\n",
    "        break\n",
    "\n",
    "if sample_study_path is None:\n",
    "    raise FileNotFoundError(\"No se encontró ningún archivo de estudio en las carpetas especificadas.\")\n",
    "\n",
    "# Cargar un estudio de ejemplo para obtener los nombres de los parámetros\n",
    "sample_study_name = os.path.basename(sample_study_path).replace(\".db\", \"\")\n",
    "sample_study = optuna.load_study(study_name=sample_study_name, storage=f\"sqlite:///{sample_study_path}\")\n",
    "param_names = list(sample_study.trials[0].params.keys())\n",
    "\n",
    "# Crear o abrir el archivo de salida\n",
    "with open(output_file, \"w\") as f:\n",
    "    # Escribir encabezado con nombres de parámetros\n",
    "    header = [\"Estudio\", \"Ensayo\", \"chi2\"] + param_names\n",
    "    f.write(\"\\t\".join(header) + \"\\n\")\n",
    "\n",
    "    # Iterar sobre cada carpeta\n",
    "    for carpeta_estudios in carpetas_estudios:\n",
    "        # Iterar sobre cada archivo en la carpeta\n",
    "        for archivo in os.listdir(carpeta_estudios):\n",
    "            # Verificar que el archivo sea una base de datos SQLite\n",
    "            if archivo.endswith(\".db\"):\n",
    "                # Obtener el nombre completo del archivo\n",
    "                db_path = os.path.join(carpeta_estudios, archivo)\n",
    "                study_name = archivo.replace(\".db\", \"\")  # Asumimos que el nombre del archivo es el nombre del estudio\n",
    "\n",
    "                # Cargar el estudio\n",
    "                try:\n",
    "                    study = optuna.load_study(study_name=study_name, storage=f\"sqlite:///{db_path}\")\n",
    "\n",
    "                    # Iterar sobre los ensayos del estudio\n",
    "                    for trial in study.trials:\n",
    "                        # Filtrar ensayos con valores de chi2 no finitos\n",
    "                        chi2_value = trial.value\n",
    "                        if chi2_value is not None and not (chi2_value == float(\"inf\") or chi2_value == float(\"-inf\")):\n",
    "                            # Extraer valores de parámetros en el orden de param_names\n",
    "                            param_values = [trial.params.get(name, \"N/A\") for name in param_names]\n",
    "\n",
    "                            # Escribir el resultado en el archivo con el nombre del estudio\n",
    "                            f.write(f\"{study_name}\\t{trial.number}\\t{chi2_value:.4f}\\t\" + \"\\t\".join(map(str, param_values)) + \"\\n\")\n",
    "\n",
    "                except Exception as e:\n",
    "                    print(f\"Error al cargar el estudio {study_name} en {carpeta_estudios}: {e}\")\n",
    "\n",
    "print(f\"Resultados guardados en {output_file}\")"
   ]
  },
  {
   "cell_type": "code",
   "execution_count": null,
   "metadata": {},
   "outputs": [],
   "source": []
  },
  {
   "cell_type": "markdown",
   "metadata": {},
   "source": [
    "# Comparaciones "
   ]
  },
  {
   "cell_type": "code",
   "execution_count": 198,
   "metadata": {},
   "outputs": [
    {
     "name": "stdout",
     "output_type": "stream",
     "text": [
      "Número de pruebas en el estudio 'Chi30_zscore_L70': 634\n"
     ]
    }
   ],
   "source": [
    "\n",
    "# Directorio donde están almacenados los estudios\n",
    "study_directory = \"Estudios/Full/\"  # Ajusta según sea necesario\n",
    "study_name = \"Chi30_zscore_L70\"  # Cambia al nombre de tu estudio\n",
    "# Cargar el estudio\n",
    "study = optuna.load_study(study_name=study_name, storage=f\"sqlite:///{study_directory}{study_name}.db\")\n",
    "# Obtener el número de pruebas\n",
    "num_trials = len(study.trials)\n",
    "\n",
    "# Imprimir el número de pruebas\n",
    "print(f\"Número de pruebas en el estudio '{study_name}': {num_trials}\")\n",
    "\n",
    "\n"
   ]
  },
  {
   "cell_type": "code",
   "execution_count": 157,
   "metadata": {},
   "outputs": [
    {
     "name": "stderr",
     "output_type": "stream",
     "text": [
      "[W 2024-11-12 16:17:48,941] Trial 6 is omitted in visualization because its objective value is inf or nan.\n",
      "[W 2024-11-12 16:17:48,942] Trial 8 is omitted in visualization because its objective value is inf or nan.\n",
      "[W 2024-11-12 16:17:48,943] Trial 11 is omitted in visualization because its objective value is inf or nan.\n",
      "[W 2024-11-12 16:17:48,944] Trial 14 is omitted in visualization because its objective value is inf or nan.\n",
      "[W 2024-11-12 16:17:48,944] Trial 17 is omitted in visualization because its objective value is inf or nan.\n",
      "[W 2024-11-12 16:17:48,944] Trial 21 is omitted in visualization because its objective value is inf or nan.\n",
      "[W 2024-11-12 16:17:48,945] Trial 22 is omitted in visualization because its objective value is inf or nan.\n",
      "[W 2024-11-12 16:17:48,945] Trial 26 is omitted in visualization because its objective value is inf or nan.\n",
      "[W 2024-11-12 16:17:48,946] Trial 33 is omitted in visualization because its objective value is inf or nan.\n",
      "[W 2024-11-12 16:17:48,947] Trial 35 is omitted in visualization because its objective value is inf or nan.\n",
      "[W 2024-11-12 16:17:48,947] Trial 39 is omitted in visualization because its objective value is inf or nan.\n",
      "[W 2024-11-12 16:17:48,947] Trial 43 is omitted in visualization because its objective value is inf or nan.\n",
      "[W 2024-11-12 16:17:48,948] Trial 50 is omitted in visualization because its objective value is inf or nan.\n",
      "[W 2024-11-12 16:17:48,948] Trial 52 is omitted in visualization because its objective value is inf or nan.\n",
      "[W 2024-11-12 16:17:48,949] Trial 62 is omitted in visualization because its objective value is inf or nan.\n",
      "[W 2024-11-12 16:17:48,950] Trial 63 is omitted in visualization because its objective value is inf or nan.\n",
      "[W 2024-11-12 16:17:48,950] Trial 68 is omitted in visualization because its objective value is inf or nan.\n",
      "[W 2024-11-12 16:17:48,951] Trial 70 is omitted in visualization because its objective value is inf or nan.\n",
      "[W 2024-11-12 16:17:48,951] Trial 75 is omitted in visualization because its objective value is inf or nan.\n",
      "[W 2024-11-12 16:17:48,952] Trial 76 is omitted in visualization because its objective value is inf or nan.\n",
      "[W 2024-11-12 16:17:48,952] Trial 83 is omitted in visualization because its objective value is inf or nan.\n",
      "[W 2024-11-12 16:17:48,953] Trial 85 is omitted in visualization because its objective value is inf or nan.\n",
      "[W 2024-11-12 16:17:48,953] Trial 88 is omitted in visualization because its objective value is inf or nan.\n",
      "[W 2024-11-12 16:17:48,953] Trial 89 is omitted in visualization because its objective value is inf or nan.\n",
      "[W 2024-11-12 16:17:48,954] Trial 93 is omitted in visualization because its objective value is inf or nan.\n",
      "[W 2024-11-12 16:17:48,957] Trial 96 is omitted in visualization because its objective value is inf or nan.\n",
      "[W 2024-11-12 16:17:48,959] Trial 100 is omitted in visualization because its objective value is inf or nan.\n",
      "[W 2024-11-12 16:17:48,959] Trial 120 is omitted in visualization because its objective value is inf or nan.\n",
      "[W 2024-11-12 16:17:48,960] Trial 126 is omitted in visualization because its objective value is inf or nan.\n",
      "[W 2024-11-12 16:17:48,961] Trial 158 is omitted in visualization because its objective value is inf or nan.\n",
      "[W 2024-11-12 16:17:48,961] Trial 162 is omitted in visualization because its objective value is inf or nan.\n",
      "[W 2024-11-12 16:17:48,962] Trial 167 is omitted in visualization because its objective value is inf or nan.\n",
      "[W 2024-11-12 16:17:48,962] Trial 282 is omitted in visualization because its objective value is inf or nan.\n",
      "[W 2024-11-12 16:17:48,964] Trial 348 is omitted in visualization because its objective value is inf or nan.\n",
      "[W 2024-11-12 16:17:48,965] Trial 352 is omitted in visualization because its objective value is inf or nan.\n",
      "[W 2024-11-12 16:17:48,966] Trial 357 is omitted in visualization because its objective value is inf or nan.\n",
      "[W 2024-11-12 16:17:48,967] Trial 367 is omitted in visualization because its objective value is inf or nan.\n",
      "[W 2024-11-12 16:17:48,967] Trial 371 is omitted in visualization because its objective value is inf or nan.\n",
      "[W 2024-11-12 16:17:48,968] Trial 375 is omitted in visualization because its objective value is inf or nan.\n",
      "[W 2024-11-12 16:17:48,968] Trial 382 is omitted in visualization because its objective value is inf or nan.\n",
      "[W 2024-11-12 16:17:48,969] Trial 462 is omitted in visualization because its objective value is inf or nan.\n",
      "[W 2024-11-12 16:17:48,970] Trial 509 is omitted in visualization because its objective value is inf or nan.\n"
     ]
    },
    {
     "data": {
      "application/vnd.plotly.v1+json": {
       "config": {
        "plotlyServerURL": "https://plot.ly"
       },
       "data": [
        {
         "cliponaxis": false,
         "hovertemplate": [
          "C_h (FloatDistribution): 0.004408392123912435<extra></extra>",
          "P (FloatDistribution): 0.0075126361542545775<extra></extra>",
          "L (IntDistribution): 0.09954975556607064<extra></extra>",
          "Tipo_red (IntDistribution): 0.15980290283981877<extra></extra>",
          "Inh (FloatDistribution): 0.18389396309397466<extra></extra>",
          "Trest (FloatDistribution): 0.5448323502219691<extra></extra>"
         ],
         "name": "Objective Value",
         "orientation": "h",
         "text": [
          "<0.01",
          "<0.01",
          "0.10",
          "0.16",
          "0.18",
          "0.54"
         ],
         "textposition": "outside",
         "type": "bar",
         "x": [
          0.004408392123912435,
          0.0075126361542545775,
          0.09954975556607064,
          0.15980290283981877,
          0.18389396309397466,
          0.5448323502219691
         ],
         "y": [
          "C_h",
          "P",
          "L",
          "Tipo_red",
          "Inh",
          "Trest"
         ]
        }
       ],
       "layout": {
        "template": {
         "data": {
          "bar": [
           {
            "error_x": {
             "color": "#2a3f5f"
            },
            "error_y": {
             "color": "#2a3f5f"
            },
            "marker": {
             "line": {
              "color": "#E5ECF6",
              "width": 0.5
             },
             "pattern": {
              "fillmode": "overlay",
              "size": 10,
              "solidity": 0.2
             }
            },
            "type": "bar"
           }
          ],
          "barpolar": [
           {
            "marker": {
             "line": {
              "color": "#E5ECF6",
              "width": 0.5
             },
             "pattern": {
              "fillmode": "overlay",
              "size": 10,
              "solidity": 0.2
             }
            },
            "type": "barpolar"
           }
          ],
          "carpet": [
           {
            "aaxis": {
             "endlinecolor": "#2a3f5f",
             "gridcolor": "white",
             "linecolor": "white",
             "minorgridcolor": "white",
             "startlinecolor": "#2a3f5f"
            },
            "baxis": {
             "endlinecolor": "#2a3f5f",
             "gridcolor": "white",
             "linecolor": "white",
             "minorgridcolor": "white",
             "startlinecolor": "#2a3f5f"
            },
            "type": "carpet"
           }
          ],
          "choropleth": [
           {
            "colorbar": {
             "outlinewidth": 0,
             "ticks": ""
            },
            "type": "choropleth"
           }
          ],
          "contour": [
           {
            "colorbar": {
             "outlinewidth": 0,
             "ticks": ""
            },
            "colorscale": [
             [
              0,
              "#0d0887"
             ],
             [
              0.1111111111111111,
              "#46039f"
             ],
             [
              0.2222222222222222,
              "#7201a8"
             ],
             [
              0.3333333333333333,
              "#9c179e"
             ],
             [
              0.4444444444444444,
              "#bd3786"
             ],
             [
              0.5555555555555556,
              "#d8576b"
             ],
             [
              0.6666666666666666,
              "#ed7953"
             ],
             [
              0.7777777777777778,
              "#fb9f3a"
             ],
             [
              0.8888888888888888,
              "#fdca26"
             ],
             [
              1,
              "#f0f921"
             ]
            ],
            "type": "contour"
           }
          ],
          "contourcarpet": [
           {
            "colorbar": {
             "outlinewidth": 0,
             "ticks": ""
            },
            "type": "contourcarpet"
           }
          ],
          "heatmap": [
           {
            "colorbar": {
             "outlinewidth": 0,
             "ticks": ""
            },
            "colorscale": [
             [
              0,
              "#0d0887"
             ],
             [
              0.1111111111111111,
              "#46039f"
             ],
             [
              0.2222222222222222,
              "#7201a8"
             ],
             [
              0.3333333333333333,
              "#9c179e"
             ],
             [
              0.4444444444444444,
              "#bd3786"
             ],
             [
              0.5555555555555556,
              "#d8576b"
             ],
             [
              0.6666666666666666,
              "#ed7953"
             ],
             [
              0.7777777777777778,
              "#fb9f3a"
             ],
             [
              0.8888888888888888,
              "#fdca26"
             ],
             [
              1,
              "#f0f921"
             ]
            ],
            "type": "heatmap"
           }
          ],
          "heatmapgl": [
           {
            "colorbar": {
             "outlinewidth": 0,
             "ticks": ""
            },
            "colorscale": [
             [
              0,
              "#0d0887"
             ],
             [
              0.1111111111111111,
              "#46039f"
             ],
             [
              0.2222222222222222,
              "#7201a8"
             ],
             [
              0.3333333333333333,
              "#9c179e"
             ],
             [
              0.4444444444444444,
              "#bd3786"
             ],
             [
              0.5555555555555556,
              "#d8576b"
             ],
             [
              0.6666666666666666,
              "#ed7953"
             ],
             [
              0.7777777777777778,
              "#fb9f3a"
             ],
             [
              0.8888888888888888,
              "#fdca26"
             ],
             [
              1,
              "#f0f921"
             ]
            ],
            "type": "heatmapgl"
           }
          ],
          "histogram": [
           {
            "marker": {
             "pattern": {
              "fillmode": "overlay",
              "size": 10,
              "solidity": 0.2
             }
            },
            "type": "histogram"
           }
          ],
          "histogram2d": [
           {
            "colorbar": {
             "outlinewidth": 0,
             "ticks": ""
            },
            "colorscale": [
             [
              0,
              "#0d0887"
             ],
             [
              0.1111111111111111,
              "#46039f"
             ],
             [
              0.2222222222222222,
              "#7201a8"
             ],
             [
              0.3333333333333333,
              "#9c179e"
             ],
             [
              0.4444444444444444,
              "#bd3786"
             ],
             [
              0.5555555555555556,
              "#d8576b"
             ],
             [
              0.6666666666666666,
              "#ed7953"
             ],
             [
              0.7777777777777778,
              "#fb9f3a"
             ],
             [
              0.8888888888888888,
              "#fdca26"
             ],
             [
              1,
              "#f0f921"
             ]
            ],
            "type": "histogram2d"
           }
          ],
          "histogram2dcontour": [
           {
            "colorbar": {
             "outlinewidth": 0,
             "ticks": ""
            },
            "colorscale": [
             [
              0,
              "#0d0887"
             ],
             [
              0.1111111111111111,
              "#46039f"
             ],
             [
              0.2222222222222222,
              "#7201a8"
             ],
             [
              0.3333333333333333,
              "#9c179e"
             ],
             [
              0.4444444444444444,
              "#bd3786"
             ],
             [
              0.5555555555555556,
              "#d8576b"
             ],
             [
              0.6666666666666666,
              "#ed7953"
             ],
             [
              0.7777777777777778,
              "#fb9f3a"
             ],
             [
              0.8888888888888888,
              "#fdca26"
             ],
             [
              1,
              "#f0f921"
             ]
            ],
            "type": "histogram2dcontour"
           }
          ],
          "mesh3d": [
           {
            "colorbar": {
             "outlinewidth": 0,
             "ticks": ""
            },
            "type": "mesh3d"
           }
          ],
          "parcoords": [
           {
            "line": {
             "colorbar": {
              "outlinewidth": 0,
              "ticks": ""
             }
            },
            "type": "parcoords"
           }
          ],
          "pie": [
           {
            "automargin": true,
            "type": "pie"
           }
          ],
          "scatter": [
           {
            "fillpattern": {
             "fillmode": "overlay",
             "size": 10,
             "solidity": 0.2
            },
            "type": "scatter"
           }
          ],
          "scatter3d": [
           {
            "line": {
             "colorbar": {
              "outlinewidth": 0,
              "ticks": ""
             }
            },
            "marker": {
             "colorbar": {
              "outlinewidth": 0,
              "ticks": ""
             }
            },
            "type": "scatter3d"
           }
          ],
          "scattercarpet": [
           {
            "marker": {
             "colorbar": {
              "outlinewidth": 0,
              "ticks": ""
             }
            },
            "type": "scattercarpet"
           }
          ],
          "scattergeo": [
           {
            "marker": {
             "colorbar": {
              "outlinewidth": 0,
              "ticks": ""
             }
            },
            "type": "scattergeo"
           }
          ],
          "scattergl": [
           {
            "marker": {
             "colorbar": {
              "outlinewidth": 0,
              "ticks": ""
             }
            },
            "type": "scattergl"
           }
          ],
          "scattermapbox": [
           {
            "marker": {
             "colorbar": {
              "outlinewidth": 0,
              "ticks": ""
             }
            },
            "type": "scattermapbox"
           }
          ],
          "scatterpolar": [
           {
            "marker": {
             "colorbar": {
              "outlinewidth": 0,
              "ticks": ""
             }
            },
            "type": "scatterpolar"
           }
          ],
          "scatterpolargl": [
           {
            "marker": {
             "colorbar": {
              "outlinewidth": 0,
              "ticks": ""
             }
            },
            "type": "scatterpolargl"
           }
          ],
          "scatterternary": [
           {
            "marker": {
             "colorbar": {
              "outlinewidth": 0,
              "ticks": ""
             }
            },
            "type": "scatterternary"
           }
          ],
          "surface": [
           {
            "colorbar": {
             "outlinewidth": 0,
             "ticks": ""
            },
            "colorscale": [
             [
              0,
              "#0d0887"
             ],
             [
              0.1111111111111111,
              "#46039f"
             ],
             [
              0.2222222222222222,
              "#7201a8"
             ],
             [
              0.3333333333333333,
              "#9c179e"
             ],
             [
              0.4444444444444444,
              "#bd3786"
             ],
             [
              0.5555555555555556,
              "#d8576b"
             ],
             [
              0.6666666666666666,
              "#ed7953"
             ],
             [
              0.7777777777777778,
              "#fb9f3a"
             ],
             [
              0.8888888888888888,
              "#fdca26"
             ],
             [
              1,
              "#f0f921"
             ]
            ],
            "type": "surface"
           }
          ],
          "table": [
           {
            "cells": {
             "fill": {
              "color": "#EBF0F8"
             },
             "line": {
              "color": "white"
             }
            },
            "header": {
             "fill": {
              "color": "#C8D4E3"
             },
             "line": {
              "color": "white"
             }
            },
            "type": "table"
           }
          ]
         },
         "layout": {
          "annotationdefaults": {
           "arrowcolor": "#2a3f5f",
           "arrowhead": 0,
           "arrowwidth": 1
          },
          "autotypenumbers": "strict",
          "coloraxis": {
           "colorbar": {
            "outlinewidth": 0,
            "ticks": ""
           }
          },
          "colorscale": {
           "diverging": [
            [
             0,
             "#8e0152"
            ],
            [
             0.1,
             "#c51b7d"
            ],
            [
             0.2,
             "#de77ae"
            ],
            [
             0.3,
             "#f1b6da"
            ],
            [
             0.4,
             "#fde0ef"
            ],
            [
             0.5,
             "#f7f7f7"
            ],
            [
             0.6,
             "#e6f5d0"
            ],
            [
             0.7,
             "#b8e186"
            ],
            [
             0.8,
             "#7fbc41"
            ],
            [
             0.9,
             "#4d9221"
            ],
            [
             1,
             "#276419"
            ]
           ],
           "sequential": [
            [
             0,
             "#0d0887"
            ],
            [
             0.1111111111111111,
             "#46039f"
            ],
            [
             0.2222222222222222,
             "#7201a8"
            ],
            [
             0.3333333333333333,
             "#9c179e"
            ],
            [
             0.4444444444444444,
             "#bd3786"
            ],
            [
             0.5555555555555556,
             "#d8576b"
            ],
            [
             0.6666666666666666,
             "#ed7953"
            ],
            [
             0.7777777777777778,
             "#fb9f3a"
            ],
            [
             0.8888888888888888,
             "#fdca26"
            ],
            [
             1,
             "#f0f921"
            ]
           ],
           "sequentialminus": [
            [
             0,
             "#0d0887"
            ],
            [
             0.1111111111111111,
             "#46039f"
            ],
            [
             0.2222222222222222,
             "#7201a8"
            ],
            [
             0.3333333333333333,
             "#9c179e"
            ],
            [
             0.4444444444444444,
             "#bd3786"
            ],
            [
             0.5555555555555556,
             "#d8576b"
            ],
            [
             0.6666666666666666,
             "#ed7953"
            ],
            [
             0.7777777777777778,
             "#fb9f3a"
            ],
            [
             0.8888888888888888,
             "#fdca26"
            ],
            [
             1,
             "#f0f921"
            ]
           ]
          },
          "colorway": [
           "#636efa",
           "#EF553B",
           "#00cc96",
           "#ab63fa",
           "#FFA15A",
           "#19d3f3",
           "#FF6692",
           "#B6E880",
           "#FF97FF",
           "#FECB52"
          ],
          "font": {
           "color": "#2a3f5f"
          },
          "geo": {
           "bgcolor": "white",
           "lakecolor": "white",
           "landcolor": "#E5ECF6",
           "showlakes": true,
           "showland": true,
           "subunitcolor": "white"
          },
          "hoverlabel": {
           "align": "left"
          },
          "hovermode": "closest",
          "mapbox": {
           "style": "light"
          },
          "paper_bgcolor": "white",
          "plot_bgcolor": "#E5ECF6",
          "polar": {
           "angularaxis": {
            "gridcolor": "white",
            "linecolor": "white",
            "ticks": ""
           },
           "bgcolor": "#E5ECF6",
           "radialaxis": {
            "gridcolor": "white",
            "linecolor": "white",
            "ticks": ""
           }
          },
          "scene": {
           "xaxis": {
            "backgroundcolor": "#E5ECF6",
            "gridcolor": "white",
            "gridwidth": 2,
            "linecolor": "white",
            "showbackground": true,
            "ticks": "",
            "zerolinecolor": "white"
           },
           "yaxis": {
            "backgroundcolor": "#E5ECF6",
            "gridcolor": "white",
            "gridwidth": 2,
            "linecolor": "white",
            "showbackground": true,
            "ticks": "",
            "zerolinecolor": "white"
           },
           "zaxis": {
            "backgroundcolor": "#E5ECF6",
            "gridcolor": "white",
            "gridwidth": 2,
            "linecolor": "white",
            "showbackground": true,
            "ticks": "",
            "zerolinecolor": "white"
           }
          },
          "shapedefaults": {
           "line": {
            "color": "#2a3f5f"
           }
          },
          "ternary": {
           "aaxis": {
            "gridcolor": "white",
            "linecolor": "white",
            "ticks": ""
           },
           "baxis": {
            "gridcolor": "white",
            "linecolor": "white",
            "ticks": ""
           },
           "bgcolor": "#E5ECF6",
           "caxis": {
            "gridcolor": "white",
            "linecolor": "white",
            "ticks": ""
           }
          },
          "title": {
           "x": 0.05
          },
          "xaxis": {
           "automargin": true,
           "gridcolor": "white",
           "linecolor": "white",
           "ticks": "",
           "title": {
            "standoff": 15
           },
           "zerolinecolor": "white",
           "zerolinewidth": 2
          },
          "yaxis": {
           "automargin": true,
           "gridcolor": "white",
           "linecolor": "white",
           "ticks": "",
           "title": {
            "standoff": 15
           },
           "zerolinecolor": "white",
           "zerolinewidth": 2
          }
         }
        },
        "title": {
         "text": "Hyperparameter Importances"
        },
        "xaxis": {
         "title": {
          "text": "Hyperparameter Importance"
         }
        },
        "yaxis": {
         "title": {
          "text": "Hyperparameter"
         }
        }
       }
      }
     },
     "metadata": {},
     "output_type": "display_data"
    }
   ],
   "source": [
    "# Gráfico de correlación entre los parámetros y los objetivos\n",
    "vis.plot_param_importances(study)\n"
   ]
  },
  {
   "cell_type": "code",
   "execution_count": null,
   "metadata": {},
   "outputs": [],
   "source": [
    "# Gráfico de slice para explorar la relación entre los parámetros y los objetivos\n",
    "%matplotlib inline\n",
    "vis.plot_slice(study)\n"
   ]
  },
  {
   "cell_type": "code",
   "execution_count": null,
   "metadata": {},
   "outputs": [],
   "source": [
    "# Gráfico de coordenadas paralelas para visualizar múltiples objetivos\n",
    "%matplotlib inline\n",
    "vis.plot_parallel_coordinate(study)\n"
   ]
  }
 ],
 "metadata": {
  "kernelspec": {
   "display_name": "Python 3",
   "language": "python",
   "name": "python3"
  },
  "language_info": {
   "codemirror_mode": {
    "name": "ipython",
    "version": 3
   },
   "file_extension": ".py",
   "mimetype": "text/x-python",
   "name": "python",
   "nbconvert_exporter": "python",
   "pygments_lexer": "ipython3",
   "version": "3.12.3"
  }
 },
 "nbformat": 4,
 "nbformat_minor": 2
}
